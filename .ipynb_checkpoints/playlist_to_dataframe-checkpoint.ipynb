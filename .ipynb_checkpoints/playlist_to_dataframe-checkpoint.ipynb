{
 "cells": [
  {
   "cell_type": "markdown",
   "metadata": {},
   "source": [
    "# Obtaining Playlist Information"
   ]
  },
  {
   "cell_type": "markdown",
   "metadata": {},
   "source": [
    "Using our Spotify client ID and secret, install and initialize Spotipy."
   ]
  },
  {
   "cell_type": "code",
   "execution_count": 1,
   "metadata": {},
   "outputs": [
    {
     "name": "stdout",
     "output_type": "stream",
     "text": [
      "WARNING: pip is being invoked by an old script wrapper. This will fail in a future version of pip.\n",
      "Please see https://github.com/pypa/pip/issues/5599 for advice on fixing the underlying issue.\n",
      "To avoid this problem you can invoke Python with '-m pip' instead of running pip directly.\n",
      "Requirement already satisfied: spotipy in /opt/anaconda3/envs/learn-env/lib/python3.6/site-packages (2.19.0)\n",
      "Requirement already satisfied: requests>=2.25.0 in /opt/anaconda3/envs/learn-env/lib/python3.6/site-packages (from spotipy) (2.26.0)\n",
      "Requirement already satisfied: urllib3>=1.26.0 in /opt/anaconda3/envs/learn-env/lib/python3.6/site-packages (from spotipy) (1.26.6)\n",
      "Requirement already satisfied: six>=1.15.0 in /opt/anaconda3/envs/learn-env/lib/python3.6/site-packages (from spotipy) (1.15.0)\n",
      "Requirement already satisfied: certifi>=2017.4.17 in /opt/anaconda3/envs/learn-env/lib/python3.6/site-packages (from requests>=2.25.0->spotipy) (2020.12.5)\n",
      "Requirement already satisfied: charset-normalizer~=2.0.0 in /opt/anaconda3/envs/learn-env/lib/python3.6/site-packages (from requests>=2.25.0->spotipy) (2.0.4)\n",
      "Requirement already satisfied: idna<4,>=2.5 in /opt/anaconda3/envs/learn-env/lib/python3.6/site-packages (from requests>=2.25.0->spotipy) (2.8)\n"
     ]
    }
   ],
   "source": [
    "!pip install spotipy\n",
    "import spotipy\n",
    "from spotipy.oauth2 import SpotifyClientCredentials\n",
    "import pandas as pd\n",
    "cid = '41ef3d43ab644b70b02c5cd59c863774'\n",
    "secret = 'e6dc9a5208a04977991022b24a1bb6fe'\n",
    "client_credentials_manager = SpotifyClientCredentials(client_id=cid, client_secret=secret)\n",
    "sp = spotipy.Spotify(client_credentials_manager\n",
    "=\n",
    "client_credentials_manager)"
   ]
  },
  {
   "cell_type": "markdown",
   "metadata": {},
   "source": [
    "We apply the below function to extract track data and store track ID."
   ]
  },
  {
   "cell_type": "code",
   "execution_count": 2,
   "metadata": {},
   "outputs": [
    {
     "data": {
      "text/plain": [
       "1749"
      ]
     },
     "execution_count": 2,
     "metadata": {},
     "output_type": "execute_result"
    }
   ],
   "source": [
    "def get_playlist_tracks(username,playlist_id):\n",
    "    \n",
    "    # Takes in a Spotify user name and playlist ID (URI) and returns list of dictionaries of track data\n",
    "    \n",
    "    results = sp.user_playlist_tracks(username,playlist_id)\n",
    "    tracks = results['items']\n",
    "    \n",
    "    # Extending pagination results limit\n",
    "    \n",
    "    while results['next']:\n",
    "        results = sp.next(results)\n",
    "        tracks.extend(results['items'])\n",
    "    return tracks\n",
    "\n",
    "all_tracks = get_playlist_tracks('Four Tet', '2uzbATYxs9V8YQi5lf89WG')\n",
    "\n",
    "# Create list of track IDs\n",
    "all_track_ids = []\n",
    "for i in all_tracks:\n",
    "    all_track_ids.append(i['track']['id'])\n",
    "len(all_track_ids)"
   ]
  },
  {
   "cell_type": "markdown",
   "metadata": {},
   "source": [
    "Now that we have our IDs, we use Spotipy to extract additional data; in this case we will build a DataFrame with descriptive metadata and audio features. Our playlist for modeling will be DJ and producer Four Tet's popular 1700+ song playlist."
   ]
  },
  {
   "cell_type": "code",
   "execution_count": 3,
   "metadata": {},
   "outputs": [],
   "source": [
    "def getTrackFeatures(id_list):\n",
    "    \n",
    "    # Create list of features to be used in conjuction with ID list\n",
    "    meta = sp.track(id_list)\n",
    "    features = sp.audio_features(id_list)\n",
    "\n",
    "    # metadata\n",
    "    track_name = meta['name']\n",
    "    album = meta['album']['name']\n",
    "    artist_name = meta['album']['artists'][0]['name']\n",
    "    release_date = meta['album']['release_date']\n",
    "    popularity = meta['popularity']\n",
    "\n",
    "    # audio features\n",
    "    acousticness = features[0]['acousticness']\n",
    "    danceability = features[0]['danceability']\n",
    "    duration_ms = meta['duration_ms']\n",
    "    energy = features[0]['energy']\n",
    "    instrumentalness = features[0]['instrumentalness']\n",
    "    liveness = features[0]['liveness']\n",
    "    loudness = features[0]['loudness']\n",
    "    speechiness = features[0]['speechiness']\n",
    "    tempo = features[0]['tempo']\n",
    "    valence = features[0]['valence']\n",
    "\n",
    "    track = [track_name, album, artist_name, release_date, duration_ms, popularity, danceability, acousticness, energy, instrumentalness, liveness, loudness, speechiness, tempo, valence]\n",
    "    return track"
   ]
  },
  {
   "cell_type": "code",
   "execution_count": 6,
   "metadata": {},
   "outputs": [],
   "source": [
    "# Iterating through ID list and getting feature columns\n",
    "# Note - This cell takes several minutes to run\n",
    "tracks = []\n",
    "for i in range(len(all_track_ids)):\n",
    "    track = getTrackFeatures(all_track_ids[i])\n",
    "    tracks.append(track)\n",
    "\n",
    "# Creating the DataFrame and saving as csv file\n",
    "df = pd.DataFrame(tracks, columns = ['track_name', 'album', 'artist_name', 'release_date', 'duration_ms', 'popularity', 'danceability', 'acousticness', 'energy', 'instrumentalness', 'liveness', 'loudness', 'speechiness', 'tempo', 'valence'])\n",
    "df.to_csv(\"fourtet.csv\", sep = ',')"
   ]
  },
  {
   "cell_type": "markdown",
   "metadata": {},
   "source": [
    "Let's build DataFrames for two additional playlists of different sizes and musical type to further test our model."
   ]
  },
  {
   "cell_type": "code",
   "execution_count": 16,
   "metadata": {},
   "outputs": [
    {
     "data": {
      "text/plain": [
       "200"
      ]
     },
     "execution_count": 16,
     "metadata": {},
     "output_type": "execute_result"
    }
   ],
   "source": [
    "all_tracks_2 = get_playlist_tracks('Spotify', '37i9dQZF1DWSqmBTGDYngZ')\n",
    "\n",
    "# Create list of track IDs\n",
    "all_track_ids_2 = []\n",
    "for i in all_tracks_2:\n",
    "    all_track_ids_2.append(i['track']['id'])\n",
    "len(all_track_ids_2)"
   ]
  },
  {
   "cell_type": "code",
   "execution_count": 17,
   "metadata": {},
   "outputs": [],
   "source": [
    "tracks_2 = []\n",
    "for i in range(len(all_track_ids_2)):\n",
    "    track_2 = getTrackFeatures(all_track_ids_2[i])\n",
    "    tracks_2.append(track_2)\n",
    "\n",
    "# Creating the DataFrame and saving as csv file\n",
    "df_2 = pd.DataFrame(tracks_2, columns = ['track_name', 'album', 'artist_name', 'release_date', 'duration_ms', 'popularity', 'danceability', 'acousticness', 'energy', 'instrumentalness', 'liveness', 'loudness', 'speechiness', 'tempo', 'valence'])\n",
    "df_2.to_csv(\"showersongs.csv\", sep = ',')"
   ]
  },
  {
   "cell_type": "code",
   "execution_count": 24,
   "metadata": {},
   "outputs": [
    {
     "data": {
      "text/plain": [
       "78"
      ]
     },
     "execution_count": 24,
     "metadata": {},
     "output_type": "execute_result"
    }
   ],
   "source": [
    "all_tracks_3 = get_playlist_tracks('Max Richter', '1KwEaM2Vvz7oVjnn1Phabf')\n",
    "\n",
    "# Create list of track IDs\n",
    "all_track_ids_3 = []\n",
    "for i in all_tracks_3:\n",
    "    all_track_ids_3.append(i['track']['id'])\n",
    "len(all_track_ids_3)"
   ]
  },
  {
   "cell_type": "code",
   "execution_count": 25,
   "metadata": {},
   "outputs": [],
   "source": [
    "tracks_3 = []\n",
    "for i in range(len(all_track_ids_3)):\n",
    "    track_3 = getTrackFeatures(all_track_ids_3[i])\n",
    "    tracks_3.append(track_3)\n",
    "\n",
    "# Creating the DataFrame and saving as csv file\n",
    "df_3 = pd.DataFrame(tracks_3, columns = ['track_name', 'album', 'artist_name', 'release_date', 'duration_ms', 'popularity', 'danceability', 'acousticness', 'energy', 'instrumentalness', 'liveness', 'loudness', 'speechiness', 'tempo', 'valence'])\n",
    "df_3.to_csv(\"maxrichter.csv\", sep = ',')"
   ]
  }
 ],
 "metadata": {
  "kernelspec": {
   "display_name": "Python 3",
   "language": "python",
   "name": "python3"
  },
  "language_info": {
   "codemirror_mode": {
    "name": "ipython",
    "version": 3
   },
   "file_extension": ".py",
   "mimetype": "text/x-python",
   "name": "python",
   "nbconvert_exporter": "python",
   "pygments_lexer": "ipython3",
   "version": "3.6.9"
  }
 },
 "nbformat": 4,
 "nbformat_minor": 2
}
