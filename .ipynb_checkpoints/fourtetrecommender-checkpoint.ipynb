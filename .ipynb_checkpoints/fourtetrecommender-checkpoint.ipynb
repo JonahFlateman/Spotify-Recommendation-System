{
 "cells": [
  {
   "cell_type": "code",
   "execution_count": 1,
   "metadata": {},
   "outputs": [
    {
     "name": "stdout",
     "output_type": "stream",
     "text": [
      "Requirement already satisfied: spotipy in /opt/anaconda3/envs/learn-env/lib/python3.6/site-packages (2.19.0)\r\n",
      "Requirement already satisfied: requests>=2.25.0 in /opt/anaconda3/envs/learn-env/lib/python3.6/site-packages (from spotipy) (2.26.0)\r\n",
      "Requirement already satisfied: six>=1.15.0 in /opt/anaconda3/envs/learn-env/lib/python3.6/site-packages (from spotipy) (1.15.0)\r\n",
      "Requirement already satisfied: urllib3>=1.26.0 in /opt/anaconda3/envs/learn-env/lib/python3.6/site-packages (from spotipy) (1.26.6)\r\n",
      "Requirement already satisfied: idna<4,>=2.5; python_version >= \"3\" in /opt/anaconda3/envs/learn-env/lib/python3.6/site-packages (from requests>=2.25.0->spotipy) (2.8)\r\n",
      "Requirement already satisfied: certifi>=2017.4.17 in /opt/anaconda3/envs/learn-env/lib/python3.6/site-packages (from requests>=2.25.0->spotipy) (2021.5.30)\r\n",
      "Requirement already satisfied: charset-normalizer~=2.0.0; python_version >= \"3\" in /opt/anaconda3/envs/learn-env/lib/python3.6/site-packages (from requests>=2.25.0->spotipy) (2.0.4)\r\n"
     ]
    }
   ],
   "source": [
    "!pip install spotipy\n",
    "import spotipy\n",
    "from spotipy.oauth2 import SpotifyClientCredentials\n",
    "import streamlit as st\n",
    "import pandas as pd\n",
    "from sklearn.preprocessing import StandardScaler\n",
    "from sklearn.pipeline import Pipeline\n",
    "import numpy as np\n",
    "from sklearn.cluster import KMeans\n",
    "from sklearn.decomposition import PCA\n",
    "import plotly.express as px\n",
    "from collections import defaultdict\n",
    "from scipy.spatial.distance import cdist\n",
    "import time\n",
    "cid = 'YOUR CLIENT ID'\n",
    "secret = 'YOUR CLIENT SECRET'\n",
    "client_credentials_manager = SpotifyClientCredentials(client_id=cid, client_secret=secret)\n",
    "sp = spotipy.Spotify(client_credentials_manager\n",
    "=\n",
    "client_credentials_manager)"
   ]
  },
  {
   "cell_type": "code",
   "execution_count": 2,
   "metadata": {},
   "outputs": [],
   "source": [
    "df = pd.read_csv('fourtet.csv')"
   ]
  },
  {
   "cell_type": "code",
   "execution_count": 3,
   "metadata": {},
   "outputs": [],
   "source": [
    "def find_song(name, artist):\n",
    "  \n",
    "    \"\"\"\n",
    "    This function returns a dataframe with data for a song given the name and artist.\n",
    "    The function uses Spotipy to fetch audio features and metadata for the specified song.\n",
    "    \n",
    "    \"\"\"\n",
    "    \n",
    "    song_data = defaultdict()\n",
    "    results = sp.search(q= 'track: {} artist: {}'.format(name,\n",
    "                                                       artist), limit=1)\n",
    "    if results['tracks']['items'] == []:\n",
    "        return None\n",
    "    \n",
    "    results = results['tracks']['items'][0]\n",
    "\n",
    "    track_id = results['id']\n",
    "    audio_features = sp.audio_features(track_id)[0]\n",
    "    \n",
    "    song_data['name'] = [name]\n",
    "    song_data['artist'] = [artist]\n",
    "    song_data['explicit'] = [int(results['explicit'])]\n",
    "    song_data['duration_ms'] = [results['duration_ms']]\n",
    "    song_data['popularity'] = [results['popularity']]\n",
    "    \n",
    "    for key, value in audio_features.items():\n",
    "        song_data[key] = value\n",
    "    \n",
    "    return pd.DataFrame(song_data)"
   ]
  },
  {
   "cell_type": "code",
   "execution_count": 4,
   "metadata": {},
   "outputs": [],
   "source": [
    "def get_song_data(song, spotify_data):\n",
    "    \n",
    "    \"\"\"\n",
    "    Gets the song data for a specific song. The song argument takes the form of a dictionary with \n",
    "    key-value pairs for the name and release year of the song.\n",
    "    \"\"\"\n",
    "    \n",
    "    try:\n",
    "        song_data = spotify_data[(spotify_data['track_name'] == song['name']) \n",
    "                                & (spotify_data['artist_name'] == song['artist'])].iloc[0]\n",
    "        return song_data\n",
    "    \n",
    "    except IndexError:\n",
    "        return find_song(song['name'], song['artist'])"
   ]
  },
  {
   "cell_type": "code",
   "execution_count": 5,
   "metadata": {},
   "outputs": [],
   "source": [
    "def get_mean_vector(song_list, spotify_data):\n",
    "  \n",
    "    \"\"\"\n",
    "    Gets the mean vector for a list of songs.\n",
    "    \"\"\"\n",
    "    \n",
    "    song_vectors = []\n",
    "    number_cols = ['valence', 'acousticness', 'danceability', 'duration_ms', 'energy', 'instrumentalness', 'liveness', 'loudness', 'speechiness', 'tempo']\n",
    "    for song in song_list:\n",
    "        song_data = get_song_data(song, spotify_data)\n",
    "        if song_data is None:\n",
    "            print('Warning: {} does not exist in Spotify or in database'.format(song['name']))\n",
    "            continue\n",
    "        song_vector = song_data[number_cols].values\n",
    "        song_vectors.append(song_vector)  \n",
    "    \n",
    "    song_matrix = np.array(list(song_vectors))\n",
    "    return np.mean(song_matrix, axis=0)"
   ]
  },
  {
   "cell_type": "code",
   "execution_count": 6,
   "metadata": {},
   "outputs": [],
   "source": [
    "def flatten_dict_list(dict_list):\n",
    "   \n",
    "    \"\"\"\n",
    "    Utility function for flattening a list of dictionaries.\n",
    "    \"\"\"\n",
    "    \n",
    "    flattened_dict = defaultdict()\n",
    "    for key in dict_list[0].keys():\n",
    "        flattened_dict[key] = []\n",
    "    \n",
    "    for dictionary in dict_list:\n",
    "        for key, value in dictionary.items():\n",
    "            flattened_dict[key].append(value)\n",
    "            \n",
    "    return flattened_dict"
   ]
  },
  {
   "cell_type": "code",
   "execution_count": 7,
   "metadata": {},
   "outputs": [],
   "source": [
    "def recommend_songs(song_list, spotify_data, n_songs=10):\n",
    "  \n",
    "    \"\"\"\n",
    "    Recommends songs based on a list of previous songs that a user has listened to.\n",
    "    \"\"\"\n",
    "    \n",
    "    metadata_cols = ['track_name', 'artist_name']\n",
    "    number_cols = ['valence', 'acousticness', 'danceability', 'duration_ms', 'energy', 'instrumentalness', 'liveness', 'loudness', 'speechiness', 'tempo']\n",
    "    song_dict = flatten_dict_list(song_list)\n",
    "    \n",
    "    song_center = get_mean_vector(song_list, spotify_data)\n",
    "    spotify_data = spotify_data.drop(['popularity', 'Unnamed: 0'], axis=1)\n",
    "    X = spotify_data.select_dtypes(np.number)\n",
    "    cluster_pipeline = Pipeline([('scaler', StandardScaler()), ('kmeans', KMeans(n_clusters=5))])\n",
    "    cluster_pipeline.fit(X)\n",
    "    cluster_labels = cluster_pipeline.predict(X)\n",
    "    spotify_data['cluster'] = cluster_labels\n",
    "    scaler = cluster_pipeline.steps[0][1]\n",
    "    scaled_data = scaler.transform(spotify_data[number_cols])\n",
    "    scaled_song_center = scaler.transform(song_center.reshape(1, -1))\n",
    "    distances = cdist(scaled_song_center, scaled_data, 'cosine')\n",
    "    index = list(np.argsort(distances)[:, :n_songs][0])\n",
    "    \n",
    "    rec_songs = spotify_data.iloc[index]\n",
    "    rec_songs = rec_songs[~rec_songs['track_name'].isin(song_dict['name'])]\n",
    "    df_recs = pd.DataFrame(rec_songs[metadata_cols])\n",
    "    return df_recs"
   ]
  },
  {
   "cell_type": "code",
   "execution_count": 74,
   "metadata": {},
   "outputs": [
    {
     "data": {
      "text/html": [
       "<div>\n",
       "<style scoped>\n",
       "    .dataframe tbody tr th:only-of-type {\n",
       "        vertical-align: middle;\n",
       "    }\n",
       "\n",
       "    .dataframe tbody tr th {\n",
       "        vertical-align: top;\n",
       "    }\n",
       "\n",
       "    .dataframe thead th {\n",
       "        text-align: right;\n",
       "    }\n",
       "</style>\n",
       "<table border=\"1\" class=\"dataframe\">\n",
       "  <thead>\n",
       "    <tr style=\"text-align: right;\">\n",
       "      <th></th>\n",
       "      <th>track_name</th>\n",
       "      <th>artist_name</th>\n",
       "    </tr>\n",
       "  </thead>\n",
       "  <tbody>\n",
       "    <tr>\n",
       "      <th>1149</th>\n",
       "      <td>Deep Summer - Burial Remix</td>\n",
       "      <td>Mønic</td>\n",
       "    </tr>\n",
       "    <tr>\n",
       "      <th>613</th>\n",
       "      <td>Circular Time</td>\n",
       "      <td>Don't DJ</td>\n",
       "    </tr>\n",
       "    <tr>\n",
       "      <th>1552</th>\n",
       "      <td>A Love Supreme</td>\n",
       "      <td>Alice Coltrane</td>\n",
       "    </tr>\n",
       "    <tr>\n",
       "      <th>1367</th>\n",
       "      <td>Taqsīm Maqām Ājam</td>\n",
       "      <td>Rahim AlHaj</td>\n",
       "    </tr>\n",
       "    <tr>\n",
       "      <th>206</th>\n",
       "      <td>Now Jazz Ramwong</td>\n",
       "      <td>Albert Mangelsdorff Quintet</td>\n",
       "    </tr>\n",
       "    <tr>\n",
       "      <th>1366</th>\n",
       "      <td>Peace for Earth</td>\n",
       "      <td>Four Tet</td>\n",
       "    </tr>\n",
       "    <tr>\n",
       "      <th>94</th>\n",
       "      <td>Movement 6</td>\n",
       "      <td>Floating Points</td>\n",
       "    </tr>\n",
       "    <tr>\n",
       "      <th>1313</th>\n",
       "      <td>And the Darkest Hour is Just Before Dawn</td>\n",
       "      <td>Daniel Schmidt</td>\n",
       "    </tr>\n",
       "    <tr>\n",
       "      <th>887</th>\n",
       "      <td>Autumn Signal</td>\n",
       "      <td>Joan La Barbara</td>\n",
       "    </tr>\n",
       "    <tr>\n",
       "      <th>854</th>\n",
       "      <td>Never Saw Him Again</td>\n",
       "      <td>Mary Lattimore</td>\n",
       "    </tr>\n",
       "  </tbody>\n",
       "</table>\n",
       "</div>"
      ],
      "text/plain": [
       "                                    track_name                  artist_name\n",
       "1149                Deep Summer - Burial Remix                        Mønic\n",
       "613                              Circular Time                     Don't DJ\n",
       "1552                            A Love Supreme               Alice Coltrane\n",
       "1367                         Taqsīm Maqām Ājam                  Rahim AlHaj\n",
       "206                           Now Jazz Ramwong  Albert Mangelsdorff Quintet\n",
       "1366                           Peace for Earth                     Four Tet\n",
       "94                                  Movement 6              Floating Points\n",
       "1313  And the Darkest Hour is Just Before Dawn               Daniel Schmidt\n",
       "887                              Autumn Signal              Joan La Barbara\n",
       "854                        Never Saw Him Again               Mary Lattimore"
      ]
     },
     "execution_count": 74,
     "metadata": {},
     "output_type": "execute_result"
    }
   ],
   "source": [
    "song_list = [{'name': 'Stairway to Heaven', 'artist': 'Led Zeppelin'}]\n",
    "rec_df = recommend_songs(song_list, df, 10)\n",
    "rec_df"
   ]
  },
  {
   "cell_type": "code",
   "execution_count": 35,
   "metadata": {},
   "outputs": [
    {
     "data": {
      "text/plain": [
       "['https://open.spotify.com/track/6brl7bwOHmGFkNw3MBqssT']"
      ]
     },
     "execution_count": 35,
     "metadata": {},
     "output_type": "execute_result"
    }
   ],
   "source": [
    "'''results_list = []\n",
    "results = sp.search(q='track: {} artist: {}'.format('So Sick', 'Ne-Yo'), limit=1)\n",
    "results_list.append(results['tracks']['items'][0]['external_urls']['spotify'])\n",
    "results_list'''"
   ]
  },
  {
   "cell_type": "code",
   "execution_count": 92,
   "metadata": {},
   "outputs": [
    {
     "data": {
      "text/plain": [
       "['https://open.spotify.com/track/78QUWHmZOv0lv5OKSoqAPN']"
      ]
     },
     "execution_count": 92,
     "metadata": {},
     "output_type": "execute_result"
    }
   ],
   "source": [
    "results_list = []\n",
    "try:\n",
    "    results = sp.search(q=\"track: {} artist: {}\".format('Peace For Earth', 'Four Tet'), limit=1)\n",
    "    results_list.append(results['tracks']['items'][0]['external_urls']['spotify'])\n",
    "except IndexError:\n",
    "    pass\n",
    "results_list"
   ]
  },
  {
   "cell_type": "code",
   "execution_count": 93,
   "metadata": {},
   "outputs": [
    {
     "data": {
      "text/plain": [
       "['https://open.spotify.com/track/1NgPFhN5fvx7Z3EgWckRQ8',\n",
       " 'https://open.spotify.com/track/1VT4hCdbHrn87tfXXGyOOp',\n",
       " 'https://open.spotify.com/track/4PQcpuXtjA1OGO9tcnbDSH',\n",
       " 'https://open.spotify.com/track/09PnZqSJcxRh71NBZMLftN',\n",
       " 'https://open.spotify.com/track/78QUWHmZOv0lv5OKSoqAPN',\n",
       " 'https://open.spotify.com/track/5i0EqAX50KcKNgMDMHZndM',\n",
       " 'https://open.spotify.com/track/4jIsolrxzAUdBu5x5ExGPJ',\n",
       " 'https://open.spotify.com/track/08ExsbBLAWHCxhhWofC98J',\n",
       " 'https://open.spotify.com/track/45dAAA2dnaEe8HZj2lVf6D']"
      ]
     },
     "execution_count": 93,
     "metadata": {},
     "output_type": "execute_result"
    }
   ],
   "source": [
    "results_list = []\n",
    "for i, j in rec_df.itertuples(index=False):\n",
    "    try:\n",
    "        results = sp.search(q='track: {} artist: {}'.format(i, j), limit=1)\n",
    "        results_list.append(results['tracks']['items'][0]['external_urls']['spotify'])\n",
    "    except IndexError:\n",
    "        pass\n",
    "results_list"
   ]
  },
  {
   "cell_type": "code",
   "execution_count": null,
   "metadata": {},
   "outputs": [],
   "source": []
  }
 ],
 "metadata": {
  "kernelspec": {
   "display_name": "Python 3",
   "language": "python",
   "name": "python3"
  },
  "language_info": {
   "codemirror_mode": {
    "name": "ipython",
    "version": 3
   },
   "file_extension": ".py",
   "mimetype": "text/x-python",
   "name": "python",
   "nbconvert_exporter": "python",
   "pygments_lexer": "ipython3",
   "version": "3.6.9"
  }
 },
 "nbformat": 4,
 "nbformat_minor": 2
}
