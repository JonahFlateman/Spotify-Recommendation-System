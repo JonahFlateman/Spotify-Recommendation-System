{
 "cells": [
  {
   "cell_type": "code",
   "execution_count": 1,
   "metadata": {},
   "outputs": [
    {
     "name": "stdout",
     "output_type": "stream",
     "text": [
      "Requirement already satisfied: spotipy in /opt/anaconda3/envs/learn-env/lib/python3.6/site-packages (2.19.0)\n",
      "Requirement already satisfied: requests>=2.25.0 in /opt/anaconda3/envs/learn-env/lib/python3.6/site-packages (from spotipy) (2.26.0)\n",
      "Requirement already satisfied: six>=1.15.0 in /opt/anaconda3/envs/learn-env/lib/python3.6/site-packages (from spotipy) (1.15.0)\n",
      "Requirement already satisfied: urllib3>=1.26.0 in /opt/anaconda3/envs/learn-env/lib/python3.6/site-packages (from spotipy) (1.26.6)\n",
      "Requirement already satisfied: charset-normalizer~=2.0.0; python_version >= \"3\" in /opt/anaconda3/envs/learn-env/lib/python3.6/site-packages (from requests>=2.25.0->spotipy) (2.0.4)\n",
      "Requirement already satisfied: idna<4,>=2.5; python_version >= \"3\" in /opt/anaconda3/envs/learn-env/lib/python3.6/site-packages (from requests>=2.25.0->spotipy) (2.8)\n",
      "Requirement already satisfied: certifi>=2017.4.17 in /opt/anaconda3/envs/learn-env/lib/python3.6/site-packages (from requests>=2.25.0->spotipy) (2021.5.30)\n"
     ]
    }
   ],
   "source": [
    "!pip install spotipy\n",
    "import spotipy\n",
    "from spotipy.oauth2 import SpotifyClientCredentials\n",
    "import streamlit as st\n",
    "import pandas as pd\n",
    "from sklearn.preprocessing import StandardScaler\n",
    "from sklearn.pipeline import Pipeline\n",
    "import numpy as np\n",
    "from sklearn.cluster import KMeans\n",
    "from sklearn.decomposition import PCA\n",
    "import plotly.express as px\n",
    "from collections import defaultdict\n",
    "from scipy.spatial.distance import cdist\n",
    "import time\n",
    "cid = 'YOUR CLIENT ID'\n",
    "secret = 'YOUR CLIENT SECRET'\n",
    "client_credentials_manager = SpotifyClientCredentials(client_id=cid, client_secret=secret)\n",
    "sp = spotipy.Spotify(client_credentials_manager\n",
    "=\n",
    "client_credentials_manager)"
   ]
  },
  {
   "cell_type": "code",
   "execution_count": 6,
   "metadata": {},
   "outputs": [
    {
     "data": {
      "text/html": [
       "<div>\n",
       "<style scoped>\n",
       "    .dataframe tbody tr th:only-of-type {\n",
       "        vertical-align: middle;\n",
       "    }\n",
       "\n",
       "    .dataframe tbody tr th {\n",
       "        vertical-align: top;\n",
       "    }\n",
       "\n",
       "    .dataframe thead th {\n",
       "        text-align: right;\n",
       "    }\n",
       "</style>\n",
       "<table border=\"1\" class=\"dataframe\">\n",
       "  <thead>\n",
       "    <tr style=\"text-align: right;\">\n",
       "      <th></th>\n",
       "      <th>Unnamed: 0</th>\n",
       "      <th>track_name</th>\n",
       "      <th>album</th>\n",
       "      <th>artist_name</th>\n",
       "      <th>release_date</th>\n",
       "      <th>duration_ms</th>\n",
       "      <th>popularity</th>\n",
       "      <th>danceability</th>\n",
       "      <th>acousticness</th>\n",
       "      <th>energy</th>\n",
       "      <th>instrumentalness</th>\n",
       "      <th>liveness</th>\n",
       "      <th>loudness</th>\n",
       "      <th>speechiness</th>\n",
       "      <th>tempo</th>\n",
       "      <th>valence</th>\n",
       "    </tr>\n",
       "  </thead>\n",
       "  <tbody>\n",
       "    <tr>\n",
       "      <th>0</th>\n",
       "      <td>0</td>\n",
       "      <td>Se Rompen</td>\n",
       "      <td>Se Rompen</td>\n",
       "      <td>Waleed</td>\n",
       "      <td>2021-08-06</td>\n",
       "      <td>322418</td>\n",
       "      <td>28</td>\n",
       "      <td>0.808</td>\n",
       "      <td>0.1800</td>\n",
       "      <td>0.719</td>\n",
       "      <td>0.691000</td>\n",
       "      <td>0.1070</td>\n",
       "      <td>-9.671</td>\n",
       "      <td>0.1620</td>\n",
       "      <td>130.997</td>\n",
       "      <td>0.359</td>\n",
       "    </tr>\n",
       "    <tr>\n",
       "      <th>1</th>\n",
       "      <td>1</td>\n",
       "      <td>Chameleon</td>\n",
       "      <td>Chameleon</td>\n",
       "      <td>Anthony Naples</td>\n",
       "      <td>2021-09-03</td>\n",
       "      <td>299821</td>\n",
       "      <td>33</td>\n",
       "      <td>0.617</td>\n",
       "      <td>0.0047</td>\n",
       "      <td>0.618</td>\n",
       "      <td>0.675000</td>\n",
       "      <td>0.2810</td>\n",
       "      <td>-11.498</td>\n",
       "      <td>0.0516</td>\n",
       "      <td>149.974</td>\n",
       "      <td>0.301</td>\n",
       "    </tr>\n",
       "    <tr>\n",
       "      <th>2</th>\n",
       "      <td>2</td>\n",
       "      <td>Echoes - Radio Edit 1</td>\n",
       "      <td>Echoes (Anniversary Edition)</td>\n",
       "      <td>Directions</td>\n",
       "      <td>2021-09-03</td>\n",
       "      <td>278622</td>\n",
       "      <td>20</td>\n",
       "      <td>0.676</td>\n",
       "      <td>0.3780</td>\n",
       "      <td>0.609</td>\n",
       "      <td>0.933000</td>\n",
       "      <td>0.1020</td>\n",
       "      <td>-9.195</td>\n",
       "      <td>0.0320</td>\n",
       "      <td>92.542</td>\n",
       "      <td>0.784</td>\n",
       "    </tr>\n",
       "    <tr>\n",
       "      <th>3</th>\n",
       "      <td>3</td>\n",
       "      <td>Breathe Me - Four Tet Remix</td>\n",
       "      <td>Colour The Small One (Deluxe Edition)</td>\n",
       "      <td>Sia</td>\n",
       "      <td>2004-01-01</td>\n",
       "      <td>301106</td>\n",
       "      <td>29</td>\n",
       "      <td>0.836</td>\n",
       "      <td>0.0694</td>\n",
       "      <td>0.478</td>\n",
       "      <td>0.031800</td>\n",
       "      <td>0.0823</td>\n",
       "      <td>-9.978</td>\n",
       "      <td>0.0789</td>\n",
       "      <td>120.005</td>\n",
       "      <td>0.633</td>\n",
       "    </tr>\n",
       "    <tr>\n",
       "      <th>4</th>\n",
       "      <td>4</td>\n",
       "      <td>Main Akeli Raat Jawan</td>\n",
       "      <td>Purana Mandir (Original Motion Picture Soundtr...</td>\n",
       "      <td>Ajit Singh</td>\n",
       "      <td>1984-01-01</td>\n",
       "      <td>327000</td>\n",
       "      <td>22</td>\n",
       "      <td>0.694</td>\n",
       "      <td>0.4230</td>\n",
       "      <td>0.721</td>\n",
       "      <td>0.000066</td>\n",
       "      <td>0.1460</td>\n",
       "      <td>-5.836</td>\n",
       "      <td>0.0595</td>\n",
       "      <td>111.381</td>\n",
       "      <td>0.853</td>\n",
       "    </tr>\n",
       "  </tbody>\n",
       "</table>\n",
       "</div>"
      ],
      "text/plain": [
       "   Unnamed: 0                   track_name  \\\n",
       "0           0                    Se Rompen   \n",
       "1           1                    Chameleon   \n",
       "2           2        Echoes - Radio Edit 1   \n",
       "3           3  Breathe Me - Four Tet Remix   \n",
       "4           4        Main Akeli Raat Jawan   \n",
       "\n",
       "                                               album     artist_name  \\\n",
       "0                                          Se Rompen          Waleed   \n",
       "1                                          Chameleon  Anthony Naples   \n",
       "2                       Echoes (Anniversary Edition)      Directions   \n",
       "3              Colour The Small One (Deluxe Edition)             Sia   \n",
       "4  Purana Mandir (Original Motion Picture Soundtr...      Ajit Singh   \n",
       "\n",
       "  release_date  duration_ms  popularity  danceability  acousticness  energy  \\\n",
       "0   2021-08-06       322418          28         0.808        0.1800   0.719   \n",
       "1   2021-09-03       299821          33         0.617        0.0047   0.618   \n",
       "2   2021-09-03       278622          20         0.676        0.3780   0.609   \n",
       "3   2004-01-01       301106          29         0.836        0.0694   0.478   \n",
       "4   1984-01-01       327000          22         0.694        0.4230   0.721   \n",
       "\n",
       "   instrumentalness  liveness  loudness  speechiness    tempo  valence  \n",
       "0          0.691000    0.1070    -9.671       0.1620  130.997    0.359  \n",
       "1          0.675000    0.2810   -11.498       0.0516  149.974    0.301  \n",
       "2          0.933000    0.1020    -9.195       0.0320   92.542    0.784  \n",
       "3          0.031800    0.0823    -9.978       0.0789  120.005    0.633  \n",
       "4          0.000066    0.1460    -5.836       0.0595  111.381    0.853  "
      ]
     },
     "execution_count": 6,
     "metadata": {},
     "output_type": "execute_result"
    }
   ],
   "source": [
    "df = pd.read_csv('fourtet.csv')\n",
    "df.head()"
   ]
  },
  {
   "cell_type": "code",
   "execution_count": 7,
   "metadata": {},
   "outputs": [
    {
     "data": {
      "text/plain": [
       "Unnamed: 0          0\n",
       "track_name          0\n",
       "album               0\n",
       "artist_name         0\n",
       "release_date        0\n",
       "duration_ms         0\n",
       "popularity          0\n",
       "danceability        0\n",
       "acousticness        0\n",
       "energy              0\n",
       "instrumentalness    0\n",
       "liveness            0\n",
       "loudness            0\n",
       "speechiness         0\n",
       "tempo               0\n",
       "valence             0\n",
       "dtype: int64"
      ]
     },
     "execution_count": 7,
     "metadata": {},
     "output_type": "execute_result"
    }
   ],
   "source": [
    "df.isna().sum()"
   ]
  },
  {
   "cell_type": "code",
   "execution_count": 8,
   "metadata": {},
   "outputs": [
    {
     "data": {
      "text/html": [
       "<div>\n",
       "<style scoped>\n",
       "    .dataframe tbody tr th:only-of-type {\n",
       "        vertical-align: middle;\n",
       "    }\n",
       "\n",
       "    .dataframe tbody tr th {\n",
       "        vertical-align: top;\n",
       "    }\n",
       "\n",
       "    .dataframe thead th {\n",
       "        text-align: right;\n",
       "    }\n",
       "</style>\n",
       "<table border=\"1\" class=\"dataframe\">\n",
       "  <thead>\n",
       "    <tr style=\"text-align: right;\">\n",
       "      <th></th>\n",
       "      <th>Unnamed: 0</th>\n",
       "      <th>duration_ms</th>\n",
       "      <th>popularity</th>\n",
       "      <th>danceability</th>\n",
       "      <th>acousticness</th>\n",
       "      <th>energy</th>\n",
       "      <th>instrumentalness</th>\n",
       "      <th>liveness</th>\n",
       "      <th>loudness</th>\n",
       "      <th>speechiness</th>\n",
       "      <th>tempo</th>\n",
       "      <th>valence</th>\n",
       "    </tr>\n",
       "  </thead>\n",
       "  <tbody>\n",
       "    <tr>\n",
       "      <th>count</th>\n",
       "      <td>1723.000000</td>\n",
       "      <td>1.723000e+03</td>\n",
       "      <td>1723.000000</td>\n",
       "      <td>1723.000000</td>\n",
       "      <td>1723.000000</td>\n",
       "      <td>1723.000000</td>\n",
       "      <td>1723.000000</td>\n",
       "      <td>1723.000000</td>\n",
       "      <td>1723.000000</td>\n",
       "      <td>1723.000000</td>\n",
       "      <td>1723.000000</td>\n",
       "      <td>1723.000000</td>\n",
       "    </tr>\n",
       "    <tr>\n",
       "      <th>mean</th>\n",
       "      <td>861.000000</td>\n",
       "      <td>3.032167e+05</td>\n",
       "      <td>13.202554</td>\n",
       "      <td>0.572201</td>\n",
       "      <td>0.422339</td>\n",
       "      <td>0.536662</td>\n",
       "      <td>0.503677</td>\n",
       "      <td>0.163398</td>\n",
       "      <td>-12.553478</td>\n",
       "      <td>0.097519</td>\n",
       "      <td>119.266135</td>\n",
       "      <td>0.427589</td>\n",
       "    </tr>\n",
       "    <tr>\n",
       "      <th>std</th>\n",
       "      <td>497.531574</td>\n",
       "      <td>1.794707e+05</td>\n",
       "      <td>14.628388</td>\n",
       "      <td>0.202897</td>\n",
       "      <td>0.368885</td>\n",
       "      <td>0.256796</td>\n",
       "      <td>0.389506</td>\n",
       "      <td>0.137327</td>\n",
       "      <td>5.642311</td>\n",
       "      <td>0.109484</td>\n",
       "      <td>27.455510</td>\n",
       "      <td>0.274762</td>\n",
       "    </tr>\n",
       "    <tr>\n",
       "      <th>min</th>\n",
       "      <td>0.000000</td>\n",
       "      <td>1.895700e+04</td>\n",
       "      <td>0.000000</td>\n",
       "      <td>0.000000</td>\n",
       "      <td>0.000002</td>\n",
       "      <td>0.000281</td>\n",
       "      <td>0.000000</td>\n",
       "      <td>0.020600</td>\n",
       "      <td>-37.114000</td>\n",
       "      <td>0.000000</td>\n",
       "      <td>0.000000</td>\n",
       "      <td>0.000000</td>\n",
       "    </tr>\n",
       "    <tr>\n",
       "      <th>25%</th>\n",
       "      <td>430.500000</td>\n",
       "      <td>1.925490e+05</td>\n",
       "      <td>0.000000</td>\n",
       "      <td>0.425000</td>\n",
       "      <td>0.047300</td>\n",
       "      <td>0.344500</td>\n",
       "      <td>0.018750</td>\n",
       "      <td>0.090150</td>\n",
       "      <td>-15.278500</td>\n",
       "      <td>0.040200</td>\n",
       "      <td>99.931500</td>\n",
       "      <td>0.180000</td>\n",
       "    </tr>\n",
       "    <tr>\n",
       "      <th>50%</th>\n",
       "      <td>861.000000</td>\n",
       "      <td>2.713340e+05</td>\n",
       "      <td>8.000000</td>\n",
       "      <td>0.594000</td>\n",
       "      <td>0.334000</td>\n",
       "      <td>0.562000</td>\n",
       "      <td>0.656000</td>\n",
       "      <td>0.111000</td>\n",
       "      <td>-11.326000</td>\n",
       "      <td>0.056200</td>\n",
       "      <td>121.008000</td>\n",
       "      <td>0.398000</td>\n",
       "    </tr>\n",
       "    <tr>\n",
       "      <th>75%</th>\n",
       "      <td>1291.500000</td>\n",
       "      <td>3.691595e+05</td>\n",
       "      <td>22.000000</td>\n",
       "      <td>0.743000</td>\n",
       "      <td>0.805000</td>\n",
       "      <td>0.747000</td>\n",
       "      <td>0.880000</td>\n",
       "      <td>0.172000</td>\n",
       "      <td>-8.508500</td>\n",
       "      <td>0.099950</td>\n",
       "      <td>133.994500</td>\n",
       "      <td>0.662000</td>\n",
       "    </tr>\n",
       "    <tr>\n",
       "      <th>max</th>\n",
       "      <td>1722.000000</td>\n",
       "      <td>2.241200e+06</td>\n",
       "      <td>69.000000</td>\n",
       "      <td>0.980000</td>\n",
       "      <td>0.996000</td>\n",
       "      <td>0.999000</td>\n",
       "      <td>0.984000</td>\n",
       "      <td>0.993000</td>\n",
       "      <td>-1.987000</td>\n",
       "      <td>0.947000</td>\n",
       "      <td>210.029000</td>\n",
       "      <td>0.996000</td>\n",
       "    </tr>\n",
       "  </tbody>\n",
       "</table>\n",
       "</div>"
      ],
      "text/plain": [
       "        Unnamed: 0   duration_ms   popularity  danceability  acousticness  \\\n",
       "count  1723.000000  1.723000e+03  1723.000000   1723.000000   1723.000000   \n",
       "mean    861.000000  3.032167e+05    13.202554      0.572201      0.422339   \n",
       "std     497.531574  1.794707e+05    14.628388      0.202897      0.368885   \n",
       "min       0.000000  1.895700e+04     0.000000      0.000000      0.000002   \n",
       "25%     430.500000  1.925490e+05     0.000000      0.425000      0.047300   \n",
       "50%     861.000000  2.713340e+05     8.000000      0.594000      0.334000   \n",
       "75%    1291.500000  3.691595e+05    22.000000      0.743000      0.805000   \n",
       "max    1722.000000  2.241200e+06    69.000000      0.980000      0.996000   \n",
       "\n",
       "            energy  instrumentalness     liveness     loudness  speechiness  \\\n",
       "count  1723.000000       1723.000000  1723.000000  1723.000000  1723.000000   \n",
       "mean      0.536662          0.503677     0.163398   -12.553478     0.097519   \n",
       "std       0.256796          0.389506     0.137327     5.642311     0.109484   \n",
       "min       0.000281          0.000000     0.020600   -37.114000     0.000000   \n",
       "25%       0.344500          0.018750     0.090150   -15.278500     0.040200   \n",
       "50%       0.562000          0.656000     0.111000   -11.326000     0.056200   \n",
       "75%       0.747000          0.880000     0.172000    -8.508500     0.099950   \n",
       "max       0.999000          0.984000     0.993000    -1.987000     0.947000   \n",
       "\n",
       "             tempo      valence  \n",
       "count  1723.000000  1723.000000  \n",
       "mean    119.266135     0.427589  \n",
       "std      27.455510     0.274762  \n",
       "min       0.000000     0.000000  \n",
       "25%      99.931500     0.180000  \n",
       "50%     121.008000     0.398000  \n",
       "75%     133.994500     0.662000  \n",
       "max     210.029000     0.996000  "
      ]
     },
     "execution_count": 8,
     "metadata": {},
     "output_type": "execute_result"
    }
   ],
   "source": [
    "df.describe()"
   ]
  },
  {
   "cell_type": "code",
   "execution_count": 9,
   "metadata": {},
   "outputs": [
    {
     "name": "stdout",
     "output_type": "stream",
     "text": [
      "<class 'pandas.core.frame.DataFrame'>\n",
      "RangeIndex: 1723 entries, 0 to 1722\n",
      "Data columns (total 16 columns):\n",
      " #   Column            Non-Null Count  Dtype  \n",
      "---  ------            --------------  -----  \n",
      " 0   Unnamed: 0        1723 non-null   int64  \n",
      " 1   track_name        1723 non-null   object \n",
      " 2   album             1723 non-null   object \n",
      " 3   artist_name       1723 non-null   object \n",
      " 4   release_date      1723 non-null   object \n",
      " 5   duration_ms       1723 non-null   int64  \n",
      " 6   popularity        1723 non-null   int64  \n",
      " 7   danceability      1723 non-null   float64\n",
      " 8   acousticness      1723 non-null   float64\n",
      " 9   energy            1723 non-null   float64\n",
      " 10  instrumentalness  1723 non-null   float64\n",
      " 11  liveness          1723 non-null   float64\n",
      " 12  loudness          1723 non-null   float64\n",
      " 13  speechiness       1723 non-null   float64\n",
      " 14  tempo             1723 non-null   float64\n",
      " 15  valence           1723 non-null   float64\n",
      "dtypes: float64(9), int64(3), object(4)\n",
      "memory usage: 215.5+ KB\n"
     ]
    }
   ],
   "source": [
    "df.info()"
   ]
  },
  {
   "cell_type": "code",
   "execution_count": 11,
   "metadata": {},
   "outputs": [
    {
     "data": {
      "text/html": [
       "<div>\n",
       "<style scoped>\n",
       "    .dataframe tbody tr th:only-of-type {\n",
       "        vertical-align: middle;\n",
       "    }\n",
       "\n",
       "    .dataframe tbody tr th {\n",
       "        vertical-align: top;\n",
       "    }\n",
       "\n",
       "    .dataframe thead th {\n",
       "        text-align: right;\n",
       "    }\n",
       "</style>\n",
       "<table border=\"1\" class=\"dataframe\">\n",
       "  <thead>\n",
       "    <tr style=\"text-align: right;\">\n",
       "      <th></th>\n",
       "      <th>track_name</th>\n",
       "      <th>album</th>\n",
       "      <th>artist_name</th>\n",
       "      <th>release_date</th>\n",
       "      <th>duration_ms</th>\n",
       "      <th>danceability</th>\n",
       "      <th>acousticness</th>\n",
       "      <th>energy</th>\n",
       "      <th>instrumentalness</th>\n",
       "      <th>liveness</th>\n",
       "      <th>loudness</th>\n",
       "      <th>speechiness</th>\n",
       "      <th>tempo</th>\n",
       "      <th>valence</th>\n",
       "    </tr>\n",
       "  </thead>\n",
       "  <tbody>\n",
       "    <tr>\n",
       "      <th>0</th>\n",
       "      <td>Se Rompen</td>\n",
       "      <td>Se Rompen</td>\n",
       "      <td>Waleed</td>\n",
       "      <td>2021-08-06</td>\n",
       "      <td>322418</td>\n",
       "      <td>0.808</td>\n",
       "      <td>0.18000</td>\n",
       "      <td>0.71900</td>\n",
       "      <td>0.691000</td>\n",
       "      <td>0.1070</td>\n",
       "      <td>-9.671</td>\n",
       "      <td>0.1620</td>\n",
       "      <td>130.997</td>\n",
       "      <td>0.359</td>\n",
       "    </tr>\n",
       "    <tr>\n",
       "      <th>1</th>\n",
       "      <td>Chameleon</td>\n",
       "      <td>Chameleon</td>\n",
       "      <td>Anthony Naples</td>\n",
       "      <td>2021-09-03</td>\n",
       "      <td>299821</td>\n",
       "      <td>0.617</td>\n",
       "      <td>0.00470</td>\n",
       "      <td>0.61800</td>\n",
       "      <td>0.675000</td>\n",
       "      <td>0.2810</td>\n",
       "      <td>-11.498</td>\n",
       "      <td>0.0516</td>\n",
       "      <td>149.974</td>\n",
       "      <td>0.301</td>\n",
       "    </tr>\n",
       "    <tr>\n",
       "      <th>2</th>\n",
       "      <td>Echoes - Radio Edit 1</td>\n",
       "      <td>Echoes (Anniversary Edition)</td>\n",
       "      <td>Directions</td>\n",
       "      <td>2021-09-03</td>\n",
       "      <td>278622</td>\n",
       "      <td>0.676</td>\n",
       "      <td>0.37800</td>\n",
       "      <td>0.60900</td>\n",
       "      <td>0.933000</td>\n",
       "      <td>0.1020</td>\n",
       "      <td>-9.195</td>\n",
       "      <td>0.0320</td>\n",
       "      <td>92.542</td>\n",
       "      <td>0.784</td>\n",
       "    </tr>\n",
       "    <tr>\n",
       "      <th>3</th>\n",
       "      <td>Breathe Me - Four Tet Remix</td>\n",
       "      <td>Colour The Small One (Deluxe Edition)</td>\n",
       "      <td>Sia</td>\n",
       "      <td>2004-01-01</td>\n",
       "      <td>301106</td>\n",
       "      <td>0.836</td>\n",
       "      <td>0.06940</td>\n",
       "      <td>0.47800</td>\n",
       "      <td>0.031800</td>\n",
       "      <td>0.0823</td>\n",
       "      <td>-9.978</td>\n",
       "      <td>0.0789</td>\n",
       "      <td>120.005</td>\n",
       "      <td>0.633</td>\n",
       "    </tr>\n",
       "    <tr>\n",
       "      <th>4</th>\n",
       "      <td>Main Akeli Raat Jawan</td>\n",
       "      <td>Purana Mandir (Original Motion Picture Soundtr...</td>\n",
       "      <td>Ajit Singh</td>\n",
       "      <td>1984-01-01</td>\n",
       "      <td>327000</td>\n",
       "      <td>0.694</td>\n",
       "      <td>0.42300</td>\n",
       "      <td>0.72100</td>\n",
       "      <td>0.000066</td>\n",
       "      <td>0.1460</td>\n",
       "      <td>-5.836</td>\n",
       "      <td>0.0595</td>\n",
       "      <td>111.381</td>\n",
       "      <td>0.853</td>\n",
       "    </tr>\n",
       "    <tr>\n",
       "      <th>...</th>\n",
       "      <td>...</td>\n",
       "      <td>...</td>\n",
       "      <td>...</td>\n",
       "      <td>...</td>\n",
       "      <td>...</td>\n",
       "      <td>...</td>\n",
       "      <td>...</td>\n",
       "      <td>...</td>\n",
       "      <td>...</td>\n",
       "      <td>...</td>\n",
       "      <td>...</td>\n",
       "      <td>...</td>\n",
       "      <td>...</td>\n",
       "      <td>...</td>\n",
       "    </tr>\n",
       "    <tr>\n",
       "      <th>1718</th>\n",
       "      <td>Es war einmal</td>\n",
       "      <td>Sowiesoso</td>\n",
       "      <td>Cluster</td>\n",
       "      <td>1976</td>\n",
       "      <td>325400</td>\n",
       "      <td>0.643</td>\n",
       "      <td>0.75800</td>\n",
       "      <td>0.15600</td>\n",
       "      <td>0.976000</td>\n",
       "      <td>0.1040</td>\n",
       "      <td>-20.074</td>\n",
       "      <td>0.0419</td>\n",
       "      <td>117.372</td>\n",
       "      <td>0.314</td>\n",
       "    </tr>\n",
       "    <tr>\n",
       "      <th>1719</th>\n",
       "      <td>Kinoshita</td>\n",
       "      <td>Eph Reissue</td>\n",
       "      <td>Fridge</td>\n",
       "      <td>2002-05-07</td>\n",
       "      <td>302693</td>\n",
       "      <td>0.623</td>\n",
       "      <td>0.13200</td>\n",
       "      <td>0.94500</td>\n",
       "      <td>0.895000</td>\n",
       "      <td>0.3020</td>\n",
       "      <td>-5.775</td>\n",
       "      <td>0.0984</td>\n",
       "      <td>139.971</td>\n",
       "      <td>0.611</td>\n",
       "    </tr>\n",
       "    <tr>\n",
       "      <th>1720</th>\n",
       "      <td>Promises Of Fertility</td>\n",
       "      <td>For Those Of You Who Have Never (And Also Thos...</td>\n",
       "      <td>Huerco S.</td>\n",
       "      <td>2016-06-10</td>\n",
       "      <td>415933</td>\n",
       "      <td>0.260</td>\n",
       "      <td>0.82100</td>\n",
       "      <td>0.28400</td>\n",
       "      <td>0.841000</td>\n",
       "      <td>0.1100</td>\n",
       "      <td>-19.656</td>\n",
       "      <td>0.0367</td>\n",
       "      <td>61.829</td>\n",
       "      <td>0.425</td>\n",
       "    </tr>\n",
       "    <tr>\n",
       "      <th>1721</th>\n",
       "      <td>3</td>\n",
       "      <td>Get Out</td>\n",
       "      <td>Pita</td>\n",
       "      <td>2008-05-12</td>\n",
       "      <td>678080</td>\n",
       "      <td>0.228</td>\n",
       "      <td>0.00869</td>\n",
       "      <td>0.61900</td>\n",
       "      <td>0.928000</td>\n",
       "      <td>0.1540</td>\n",
       "      <td>-7.414</td>\n",
       "      <td>0.0483</td>\n",
       "      <td>105.538</td>\n",
       "      <td>0.207</td>\n",
       "    </tr>\n",
       "    <tr>\n",
       "      <th>1722</th>\n",
       "      <td>Earth's Magnetic Field</td>\n",
       "      <td>Columbia-Princeton Electronic Music Center 196...</td>\n",
       "      <td>Various Artists</td>\n",
       "      <td>1998-01-01</td>\n",
       "      <td>848266</td>\n",
       "      <td>0.282</td>\n",
       "      <td>0.97400</td>\n",
       "      <td>0.00385</td>\n",
       "      <td>0.002300</td>\n",
       "      <td>0.0798</td>\n",
       "      <td>-19.061</td>\n",
       "      <td>0.0575</td>\n",
       "      <td>60.470</td>\n",
       "      <td>0.349</td>\n",
       "    </tr>\n",
       "  </tbody>\n",
       "</table>\n",
       "<p>1723 rows × 14 columns</p>\n",
       "</div>"
      ],
      "text/plain": [
       "                       track_name  \\\n",
       "0                       Se Rompen   \n",
       "1                       Chameleon   \n",
       "2           Echoes - Radio Edit 1   \n",
       "3     Breathe Me - Four Tet Remix   \n",
       "4           Main Akeli Raat Jawan   \n",
       "...                           ...   \n",
       "1718                Es war einmal   \n",
       "1719                    Kinoshita   \n",
       "1720        Promises Of Fertility   \n",
       "1721                            3   \n",
       "1722       Earth's Magnetic Field   \n",
       "\n",
       "                                                  album      artist_name  \\\n",
       "0                                             Se Rompen           Waleed   \n",
       "1                                             Chameleon   Anthony Naples   \n",
       "2                          Echoes (Anniversary Edition)       Directions   \n",
       "3                 Colour The Small One (Deluxe Edition)              Sia   \n",
       "4     Purana Mandir (Original Motion Picture Soundtr...       Ajit Singh   \n",
       "...                                                 ...              ...   \n",
       "1718                                          Sowiesoso          Cluster   \n",
       "1719                                        Eph Reissue           Fridge   \n",
       "1720  For Those Of You Who Have Never (And Also Thos...        Huerco S.   \n",
       "1721                                            Get Out             Pita   \n",
       "1722  Columbia-Princeton Electronic Music Center 196...  Various Artists   \n",
       "\n",
       "     release_date  duration_ms  danceability  acousticness   energy  \\\n",
       "0      2021-08-06       322418         0.808       0.18000  0.71900   \n",
       "1      2021-09-03       299821         0.617       0.00470  0.61800   \n",
       "2      2021-09-03       278622         0.676       0.37800  0.60900   \n",
       "3      2004-01-01       301106         0.836       0.06940  0.47800   \n",
       "4      1984-01-01       327000         0.694       0.42300  0.72100   \n",
       "...           ...          ...           ...           ...      ...   \n",
       "1718         1976       325400         0.643       0.75800  0.15600   \n",
       "1719   2002-05-07       302693         0.623       0.13200  0.94500   \n",
       "1720   2016-06-10       415933         0.260       0.82100  0.28400   \n",
       "1721   2008-05-12       678080         0.228       0.00869  0.61900   \n",
       "1722   1998-01-01       848266         0.282       0.97400  0.00385   \n",
       "\n",
       "      instrumentalness  liveness  loudness  speechiness    tempo  valence  \n",
       "0             0.691000    0.1070    -9.671       0.1620  130.997    0.359  \n",
       "1             0.675000    0.2810   -11.498       0.0516  149.974    0.301  \n",
       "2             0.933000    0.1020    -9.195       0.0320   92.542    0.784  \n",
       "3             0.031800    0.0823    -9.978       0.0789  120.005    0.633  \n",
       "4             0.000066    0.1460    -5.836       0.0595  111.381    0.853  \n",
       "...                ...       ...       ...          ...      ...      ...  \n",
       "1718          0.976000    0.1040   -20.074       0.0419  117.372    0.314  \n",
       "1719          0.895000    0.3020    -5.775       0.0984  139.971    0.611  \n",
       "1720          0.841000    0.1100   -19.656       0.0367   61.829    0.425  \n",
       "1721          0.928000    0.1540    -7.414       0.0483  105.538    0.207  \n",
       "1722          0.002300    0.0798   -19.061       0.0575   60.470    0.349  \n",
       "\n",
       "[1723 rows x 14 columns]"
      ]
     },
     "execution_count": 11,
     "metadata": {},
     "output_type": "execute_result"
    }
   ],
   "source": [
    "df = df.drop(['popularity', 'Unnamed: 0'], axis=1)\n",
    "df"
   ]
  },
  {
   "cell_type": "code",
   "execution_count": 12,
   "metadata": {},
   "outputs": [
    {
     "data": {
      "text/html": [
       "<div>\n",
       "<style scoped>\n",
       "    .dataframe tbody tr th:only-of-type {\n",
       "        vertical-align: middle;\n",
       "    }\n",
       "\n",
       "    .dataframe tbody tr th {\n",
       "        vertical-align: top;\n",
       "    }\n",
       "\n",
       "    .dataframe thead th {\n",
       "        text-align: right;\n",
       "    }\n",
       "</style>\n",
       "<table border=\"1\" class=\"dataframe\">\n",
       "  <thead>\n",
       "    <tr style=\"text-align: right;\">\n",
       "      <th></th>\n",
       "      <th>duration_ms</th>\n",
       "      <th>danceability</th>\n",
       "      <th>acousticness</th>\n",
       "      <th>energy</th>\n",
       "      <th>instrumentalness</th>\n",
       "      <th>liveness</th>\n",
       "      <th>loudness</th>\n",
       "      <th>speechiness</th>\n",
       "      <th>tempo</th>\n",
       "      <th>valence</th>\n",
       "    </tr>\n",
       "  </thead>\n",
       "  <tbody>\n",
       "    <tr>\n",
       "      <th>0</th>\n",
       "      <td>322418</td>\n",
       "      <td>0.808</td>\n",
       "      <td>0.18000</td>\n",
       "      <td>0.71900</td>\n",
       "      <td>0.691000</td>\n",
       "      <td>0.1070</td>\n",
       "      <td>-9.671</td>\n",
       "      <td>0.1620</td>\n",
       "      <td>130.997</td>\n",
       "      <td>0.359</td>\n",
       "    </tr>\n",
       "    <tr>\n",
       "      <th>1</th>\n",
       "      <td>299821</td>\n",
       "      <td>0.617</td>\n",
       "      <td>0.00470</td>\n",
       "      <td>0.61800</td>\n",
       "      <td>0.675000</td>\n",
       "      <td>0.2810</td>\n",
       "      <td>-11.498</td>\n",
       "      <td>0.0516</td>\n",
       "      <td>149.974</td>\n",
       "      <td>0.301</td>\n",
       "    </tr>\n",
       "    <tr>\n",
       "      <th>2</th>\n",
       "      <td>278622</td>\n",
       "      <td>0.676</td>\n",
       "      <td>0.37800</td>\n",
       "      <td>0.60900</td>\n",
       "      <td>0.933000</td>\n",
       "      <td>0.1020</td>\n",
       "      <td>-9.195</td>\n",
       "      <td>0.0320</td>\n",
       "      <td>92.542</td>\n",
       "      <td>0.784</td>\n",
       "    </tr>\n",
       "    <tr>\n",
       "      <th>3</th>\n",
       "      <td>301106</td>\n",
       "      <td>0.836</td>\n",
       "      <td>0.06940</td>\n",
       "      <td>0.47800</td>\n",
       "      <td>0.031800</td>\n",
       "      <td>0.0823</td>\n",
       "      <td>-9.978</td>\n",
       "      <td>0.0789</td>\n",
       "      <td>120.005</td>\n",
       "      <td>0.633</td>\n",
       "    </tr>\n",
       "    <tr>\n",
       "      <th>4</th>\n",
       "      <td>327000</td>\n",
       "      <td>0.694</td>\n",
       "      <td>0.42300</td>\n",
       "      <td>0.72100</td>\n",
       "      <td>0.000066</td>\n",
       "      <td>0.1460</td>\n",
       "      <td>-5.836</td>\n",
       "      <td>0.0595</td>\n",
       "      <td>111.381</td>\n",
       "      <td>0.853</td>\n",
       "    </tr>\n",
       "    <tr>\n",
       "      <th>...</th>\n",
       "      <td>...</td>\n",
       "      <td>...</td>\n",
       "      <td>...</td>\n",
       "      <td>...</td>\n",
       "      <td>...</td>\n",
       "      <td>...</td>\n",
       "      <td>...</td>\n",
       "      <td>...</td>\n",
       "      <td>...</td>\n",
       "      <td>...</td>\n",
       "    </tr>\n",
       "    <tr>\n",
       "      <th>1718</th>\n",
       "      <td>325400</td>\n",
       "      <td>0.643</td>\n",
       "      <td>0.75800</td>\n",
       "      <td>0.15600</td>\n",
       "      <td>0.976000</td>\n",
       "      <td>0.1040</td>\n",
       "      <td>-20.074</td>\n",
       "      <td>0.0419</td>\n",
       "      <td>117.372</td>\n",
       "      <td>0.314</td>\n",
       "    </tr>\n",
       "    <tr>\n",
       "      <th>1719</th>\n",
       "      <td>302693</td>\n",
       "      <td>0.623</td>\n",
       "      <td>0.13200</td>\n",
       "      <td>0.94500</td>\n",
       "      <td>0.895000</td>\n",
       "      <td>0.3020</td>\n",
       "      <td>-5.775</td>\n",
       "      <td>0.0984</td>\n",
       "      <td>139.971</td>\n",
       "      <td>0.611</td>\n",
       "    </tr>\n",
       "    <tr>\n",
       "      <th>1720</th>\n",
       "      <td>415933</td>\n",
       "      <td>0.260</td>\n",
       "      <td>0.82100</td>\n",
       "      <td>0.28400</td>\n",
       "      <td>0.841000</td>\n",
       "      <td>0.1100</td>\n",
       "      <td>-19.656</td>\n",
       "      <td>0.0367</td>\n",
       "      <td>61.829</td>\n",
       "      <td>0.425</td>\n",
       "    </tr>\n",
       "    <tr>\n",
       "      <th>1721</th>\n",
       "      <td>678080</td>\n",
       "      <td>0.228</td>\n",
       "      <td>0.00869</td>\n",
       "      <td>0.61900</td>\n",
       "      <td>0.928000</td>\n",
       "      <td>0.1540</td>\n",
       "      <td>-7.414</td>\n",
       "      <td>0.0483</td>\n",
       "      <td>105.538</td>\n",
       "      <td>0.207</td>\n",
       "    </tr>\n",
       "    <tr>\n",
       "      <th>1722</th>\n",
       "      <td>848266</td>\n",
       "      <td>0.282</td>\n",
       "      <td>0.97400</td>\n",
       "      <td>0.00385</td>\n",
       "      <td>0.002300</td>\n",
       "      <td>0.0798</td>\n",
       "      <td>-19.061</td>\n",
       "      <td>0.0575</td>\n",
       "      <td>60.470</td>\n",
       "      <td>0.349</td>\n",
       "    </tr>\n",
       "  </tbody>\n",
       "</table>\n",
       "<p>1723 rows × 10 columns</p>\n",
       "</div>"
      ],
      "text/plain": [
       "      duration_ms  danceability  acousticness   energy  instrumentalness  \\\n",
       "0          322418         0.808       0.18000  0.71900          0.691000   \n",
       "1          299821         0.617       0.00470  0.61800          0.675000   \n",
       "2          278622         0.676       0.37800  0.60900          0.933000   \n",
       "3          301106         0.836       0.06940  0.47800          0.031800   \n",
       "4          327000         0.694       0.42300  0.72100          0.000066   \n",
       "...           ...           ...           ...      ...               ...   \n",
       "1718       325400         0.643       0.75800  0.15600          0.976000   \n",
       "1719       302693         0.623       0.13200  0.94500          0.895000   \n",
       "1720       415933         0.260       0.82100  0.28400          0.841000   \n",
       "1721       678080         0.228       0.00869  0.61900          0.928000   \n",
       "1722       848266         0.282       0.97400  0.00385          0.002300   \n",
       "\n",
       "      liveness  loudness  speechiness    tempo  valence  \n",
       "0       0.1070    -9.671       0.1620  130.997    0.359  \n",
       "1       0.2810   -11.498       0.0516  149.974    0.301  \n",
       "2       0.1020    -9.195       0.0320   92.542    0.784  \n",
       "3       0.0823    -9.978       0.0789  120.005    0.633  \n",
       "4       0.1460    -5.836       0.0595  111.381    0.853  \n",
       "...        ...       ...          ...      ...      ...  \n",
       "1718    0.1040   -20.074       0.0419  117.372    0.314  \n",
       "1719    0.3020    -5.775       0.0984  139.971    0.611  \n",
       "1720    0.1100   -19.656       0.0367   61.829    0.425  \n",
       "1721    0.1540    -7.414       0.0483  105.538    0.207  \n",
       "1722    0.0798   -19.061       0.0575   60.470    0.349  \n",
       "\n",
       "[1723 rows x 10 columns]"
      ]
     },
     "execution_count": 12,
     "metadata": {},
     "output_type": "execute_result"
    }
   ],
   "source": [
    "X = df.select_dtypes(np.number)\n",
    "X"
   ]
  },
  {
   "cell_type": "code",
   "execution_count": 17,
   "metadata": {},
   "outputs": [
    {
     "name": "stdout",
     "output_type": "stream",
     "text": [
      "Initialization complete\n",
      "Iteration 0, inertia 14910.623112987589\n",
      "Iteration 1, inertia 11074.426346062053\n",
      "Iteration 2, inertia 10981.598807000095\n",
      "Iteration 3, inertia 10935.874233929911\n",
      "Iteration 4, inertia 10894.241182799975\n",
      "Iteration 5, inertia 10834.485175077107\n",
      "Iteration 6, inertia 10775.991173183742\n",
      "Iteration 7, inertia 10721.87017032047\n",
      "Iteration 8, inertia 10662.221918681742\n",
      "Iteration 9, inertia 10611.828630659675\n",
      "Iteration 10, inertia 10569.027421107521\n",
      "Iteration 11, inertia 10533.264768476723\n",
      "Iteration 12, inertia 10511.778014809965\n",
      "Iteration 13, inertia 10487.949038732808\n",
      "Iteration 14, inertia 10474.607892242706\n",
      "Iteration 15, inertia 10459.751005134174\n",
      "Iteration 16, inertia 10449.29482693587\n",
      "Iteration 17, inertia 10440.987775836447\n",
      "Iteration 18, inertia 10436.251008983247\n",
      "Iteration 19, inertia 10433.096819606926\n",
      "Iteration 20, inertia 10431.596328463203\n",
      "Iteration 21, inertia 10430.804548346192\n",
      "Iteration 22, inertia 10430.615457915266\n",
      "Iteration 23, inertia 10430.524953992875\n",
      "Iteration 24, inertia 10430.376782691164\n",
      "Iteration 25, inertia 10430.240052011117\n",
      "Converged at iteration 25: center shift 6.687300718096728e-05 within tolerance 0.00010000000000000005.\n",
      "Initialization complete\n",
      "Iteration 0, inertia 15130.67005246395\n",
      "Iteration 1, inertia 11462.140120542832\n",
      "Iteration 2, inertia 11160.081806157757\n",
      "Iteration 3, inertia 11037.08197991049\n",
      "Iteration 4, inertia 10962.71254841533\n",
      "Iteration 5, inertia 10895.790404537529\n",
      "Iteration 6, inertia 10808.92312290693\n",
      "Iteration 7, inertia 10747.522549165195\n",
      "Iteration 8, inertia 10711.269966626662\n",
      "Iteration 9, inertia 10686.953102406127\n",
      "Iteration 10, inertia 10675.576035410462\n",
      "Iteration 11, inertia 10668.188044096816\n",
      "Iteration 12, inertia 10661.583661501723\n",
      "Iteration 13, inertia 10657.25691251333\n",
      "Iteration 14, inertia 10654.602771479083\n",
      "Iteration 15, inertia 10653.400029633702\n",
      "Iteration 16, inertia 10651.321906976154\n",
      "Iteration 17, inertia 10648.945911035624\n",
      "Iteration 18, inertia 10647.732340496934\n",
      "Iteration 19, inertia 10645.340523889976\n",
      "Iteration 20, inertia 10642.610372453893\n",
      "Iteration 21, inertia 10640.819564184361\n",
      "Iteration 22, inertia 10640.62996401202\n",
      "Converged at iteration 22: strict convergence.\n",
      "Initialization complete\n",
      "Iteration 0, inertia 15760.123567878863\n",
      "Iteration 1, inertia 11151.24174681292\n",
      "Iteration 2, inertia 10924.878451461138\n",
      "Iteration 3, inertia 10854.982125899665\n",
      "Iteration 4, inertia 10830.712258070249\n",
      "Iteration 5, inertia 10821.223541725258\n",
      "Iteration 6, inertia 10814.392132286592\n",
      "Iteration 7, inertia 10808.821091696951\n",
      "Iteration 8, inertia 10802.112472226769\n",
      "Iteration 9, inertia 10794.914056039497\n",
      "Iteration 10, inertia 10788.30795088875\n",
      "Iteration 11, inertia 10784.660943489207\n",
      "Iteration 12, inertia 10780.618291885148\n",
      "Iteration 13, inertia 10777.717338696883\n",
      "Iteration 14, inertia 10773.47483692818\n",
      "Iteration 15, inertia 10766.762807459392\n",
      "Iteration 16, inertia 10756.453645141442\n",
      "Iteration 17, inertia 10745.617048821681\n",
      "Iteration 18, inertia 10728.994307475697\n",
      "Iteration 19, inertia 10696.027545140827\n",
      "Iteration 20, inertia 10647.845846381051\n",
      "Iteration 21, inertia 10587.906728013111\n",
      "Iteration 22, inertia 10529.755539373295\n",
      "Iteration 23, inertia 10494.408830661805\n",
      "Iteration 24, inertia 10473.78150011542\n",
      "Iteration 25, inertia 10455.256009895493\n",
      "Iteration 26, inertia 10448.17595358388\n",
      "Iteration 27, inertia 10441.05789558693\n",
      "Iteration 28, inertia 10436.251435640133\n",
      "Iteration 29, inertia 10433.877448851688\n",
      "Iteration 30, inertia 10432.644572412033\n",
      "Iteration 31, inertia 10431.570625020147\n",
      "Iteration 32, inertia 10430.878623589362\n",
      "Converged at iteration 32: center shift 6.019637802735731e-05 within tolerance 0.00010000000000000005.\n",
      "Initialization complete\n",
      "Iteration 0, inertia 15471.453011423286\n",
      "Iteration 1, inertia 11599.60196569312\n",
      "Iteration 2, inertia 11277.492055851077\n",
      "Iteration 3, inertia 10971.21529017649\n",
      "Iteration 4, inertia 10741.996506696085\n",
      "Iteration 5, inertia 10600.746817951676\n",
      "Iteration 6, inertia 10520.577340317739\n",
      "Iteration 7, inertia 10484.007796812233\n",
      "Iteration 8, inertia 10459.421990591649\n",
      "Iteration 9, inertia 10448.74614426538\n",
      "Iteration 10, inertia 10440.803381322836\n",
      "Iteration 11, inertia 10436.450886938712\n",
      "Iteration 12, inertia 10433.526456455118\n",
      "Iteration 13, inertia 10432.455677226497\n",
      "Iteration 14, inertia 10431.637582529918\n",
      "Iteration 15, inertia 10431.257575575868\n",
      "Iteration 16, inertia 10431.209209643375\n",
      "Converged at iteration 16: strict convergence.\n",
      "Initialization complete\n",
      "Iteration 0, inertia 14297.317173110192\n",
      "Iteration 1, inertia 11406.289708398395\n",
      "Iteration 2, inertia 11186.60789360362\n",
      "Iteration 3, inertia 11099.131236872297\n",
      "Iteration 4, inertia 11032.539652913376\n",
      "Iteration 5, inertia 10939.317140843688\n",
      "Iteration 6, inertia 10820.456068886466\n",
      "Iteration 7, inertia 10755.920370697404\n",
      "Iteration 8, inertia 10729.59887631314\n",
      "Iteration 9, inertia 10716.724571186456\n",
      "Iteration 10, inertia 10711.024786520398\n",
      "Iteration 11, inertia 10704.726290333643\n",
      "Iteration 12, inertia 10699.362755594724\n",
      "Iteration 13, inertia 10696.545891822256\n",
      "Iteration 14, inertia 10693.740001985561\n",
      "Iteration 15, inertia 10689.88901474799\n",
      "Iteration 16, inertia 10685.079782118624\n",
      "Iteration 17, inertia 10676.214427189587\n",
      "Iteration 18, inertia 10671.380456772644\n",
      "Iteration 19, inertia 10665.827010179599\n",
      "Iteration 20, inertia 10658.86970983791\n",
      "Iteration 21, inertia 10653.390325282977\n",
      "Iteration 22, inertia 10650.723255051362\n",
      "Iteration 23, inertia 10648.255373434045\n",
      "Iteration 24, inertia 10645.958786951187\n",
      "Iteration 25, inertia 10644.595549760199\n",
      "Iteration 26, inertia 10643.859316385604\n",
      "Iteration 27, inertia 10642.25774870768\n",
      "Iteration 28, inertia 10639.98530212537\n",
      "Iteration 29, inertia 10638.94669353419\n",
      "Iteration 30, inertia 10638.683676563607\n",
      "Iteration 31, inertia 10638.523937680508\n",
      "Converged at iteration 31: center shift 5.238307987750575e-05 within tolerance 0.00010000000000000005.\n",
      "Initialization complete\n",
      "Iteration 0, inertia 14054.783786051574\n",
      "Iteration 1, inertia 11645.463422782715\n",
      "Iteration 2, inertia 11201.49271902127\n",
      "Iteration 3, inertia 10903.25801004641\n",
      "Iteration 4, inertia 10788.69001941978\n",
      "Iteration 5, inertia 10759.889634721903\n",
      "Iteration 6, inertia 10734.561494392532\n",
      "Iteration 7, inertia 10726.139489745756\n",
      "Iteration 8, inertia 10722.864651631688\n",
      "Iteration 9, inertia 10719.714338745087\n",
      "Iteration 10, inertia 10715.97450525782\n",
      "Iteration 11, inertia 10712.9228902369\n",
      "Iteration 12, inertia 10709.877200799057\n",
      "Iteration 13, inertia 10706.656102804542\n",
      "Iteration 14, inertia 10705.00271882188\n",
      "Iteration 15, inertia 10704.222036496285\n",
      "Iteration 16, inertia 10704.067668304075\n",
      "Iteration 17, inertia 10704.012716731842\n",
      "Iteration 18, inertia 10703.880161367557\n",
      "Iteration 19, inertia 10703.682723877539\n",
      "Iteration 20, inertia 10703.357320253754\n",
      "Iteration 21, inertia 10703.035424845653\n",
      "Iteration 22, inertia 10701.074812588075\n",
      "Iteration 23, inertia 10698.122019310431\n",
      "Iteration 24, inertia 10694.325591502868\n",
      "Iteration 25, inertia 10686.72938367006\n",
      "Iteration 26, inertia 10682.824243644776\n",
      "Iteration 27, inertia 10680.665092778205\n",
      "Iteration 28, inertia 10679.27137283432\n",
      "Iteration 29, inertia 10678.542195593298\n",
      "Iteration 30, inertia 10676.484531535209\n",
      "Iteration 31, inertia 10675.238027558866\n",
      "Iteration 32, inertia 10674.638601476818\n",
      "Iteration 33, inertia 10673.805943899357\n",
      "Iteration 34, inertia 10672.986215601859\n",
      "Iteration 35, inertia 10672.303987316116\n",
      "Iteration 36, inertia 10670.74516371116\n",
      "Iteration 37, inertia 10668.844132749871\n",
      "Iteration 38, inertia 10665.752097567824\n",
      "Iteration 39, inertia 10664.333392610963\n",
      "Iteration 40, inertia 10663.869673139332\n",
      "Iteration 41, inertia 10663.719843123998\n",
      "Iteration 42, inertia 10663.567455572696\n",
      "Iteration 43, inertia 10663.317519004662\n",
      "Iteration 44, inertia 10663.278556437162\n",
      "Converged at iteration 44: center shift 5.0405635162049295e-05 within tolerance 0.00010000000000000005.\n",
      "Initialization complete\n",
      "Iteration 0, inertia 15983.074813313762\n",
      "Iteration 1, inertia 11754.359266763779\n",
      "Iteration 2, inertia 10981.035418119276\n",
      "Iteration 3, inertia 10711.496656786298\n",
      "Iteration 4, inertia 10586.491645048674\n",
      "Iteration 5, inertia 10509.276323283071\n",
      "Iteration 6, inertia 10473.351495299848\n",
      "Iteration 7, inertia 10458.299959755856\n",
      "Iteration 8, inertia 10449.900890925768\n",
      "Iteration 9, inertia 10445.447400175155\n",
      "Iteration 10, inertia 10443.4735079677\n",
      "Iteration 11, inertia 10440.753241896133\n",
      "Iteration 12, inertia 10439.039101772905\n",
      "Iteration 13, inertia 10437.713201720608\n",
      "Iteration 14, inertia 10436.300993531688\n",
      "Iteration 15, inertia 10435.10430640164\n",
      "Iteration 16, inertia 10434.187183522728\n",
      "Iteration 17, inertia 10433.819842788\n",
      "Iteration 18, inertia 10433.752828402663\n",
      "Iteration 19, inertia 10433.59696877828\n",
      "Iteration 20, inertia 10433.4262959825\n",
      "Iteration 21, inertia 10433.350807545885\n",
      "Converged at iteration 21: strict convergence.\n",
      "Initialization complete\n",
      "Iteration 0, inertia 14948.892030711071\n",
      "Iteration 1, inertia 11347.195512228422\n",
      "Iteration 2, inertia 11147.344261430962\n",
      "Iteration 3, inertia 11072.312157103981\n",
      "Iteration 4, inertia 11038.701067008511\n",
      "Iteration 5, inertia 11022.203028698028\n",
      "Iteration 6, inertia 11002.778267300328\n",
      "Iteration 7, inertia 10949.1261706253\n",
      "Iteration 8, inertia 10842.73991268101\n",
      "Iteration 9, inertia 10764.162541963826\n",
      "Iteration 10, inertia 10726.97683474734\n",
      "Iteration 11, inertia 10705.896697291932\n",
      "Iteration 12, inertia 10691.479872983722\n",
      "Iteration 13, inertia 10681.888711688896\n",
      "Iteration 14, inertia 10672.856467021104\n",
      "Iteration 15, inertia 10667.736958086078\n",
      "Iteration 16, inertia 10663.480460093291\n",
      "Iteration 17, inertia 10657.404937549805\n",
      "Iteration 18, inertia 10653.274636564613\n",
      "Iteration 19, inertia 10652.156983361136\n",
      "Iteration 20, inertia 10652.031486662243\n",
      "Iteration 21, inertia 10651.928389318216\n",
      "Iteration 22, inertia 10651.870256097789\n",
      "Converged at iteration 22: center shift 9.660815586766209e-05 within tolerance 0.00010000000000000005.\n",
      "Initialization complete\n",
      "Iteration 0, inertia 15221.562077695688\n",
      "Iteration 1, inertia 11241.381788832441\n",
      "Iteration 2, inertia 10946.856681736434\n",
      "Iteration 3, inertia 10873.495784327328\n",
      "Iteration 4, inertia 10847.913909250763\n",
      "Iteration 5, inertia 10827.123549216603\n",
      "Iteration 6, inertia 10817.425811312081\n",
      "Iteration 7, inertia 10810.481689521039\n",
      "Iteration 8, inertia 10807.70555650126\n",
      "Iteration 9, inertia 10799.386307278606\n",
      "Iteration 10, inertia 10789.711444031913\n",
      "Iteration 11, inertia 10773.647079674562\n",
      "Iteration 12, inertia 10751.420056199031\n",
      "Iteration 13, inertia 10718.24694049192\n",
      "Iteration 14, inertia 10683.871015502313\n",
      "Iteration 15, inertia 10653.609633897775\n",
      "Iteration 16, inertia 10628.832972200706\n",
      "Iteration 17, inertia 10615.058312536974\n",
      "Iteration 18, inertia 10611.779746606398\n",
      "Iteration 19, inertia 10611.077642088108\n",
      "Iteration 20, inertia 10610.789418071226\n",
      "Iteration 21, inertia 10610.542540153878\n",
      "Iteration 22, inertia 10610.129436813502\n",
      "Iteration 23, inertia 10609.96954038083\n",
      "Iteration 24, inertia 10609.535676431766\n",
      "Iteration 25, inertia 10609.345179309325\n",
      "Converged at iteration 25: strict convergence.\n",
      "Initialization complete\n",
      "Iteration 0, inertia 13331.147166498793\n",
      "Iteration 1, inertia 10866.36467364634\n",
      "Iteration 2, inertia 10768.504226054343\n",
      "Iteration 3, inertia 10746.45642446507\n",
      "Iteration 4, inertia 10737.613070900275\n",
      "Iteration 5, inertia 10732.848203687327\n",
      "Iteration 6, inertia 10731.05616876915\n",
      "Iteration 7, inertia 10730.24537545887\n",
      "Iteration 8, inertia 10729.971079793755\n",
      "Iteration 9, inertia 10729.819695451068\n",
      "Converged at iteration 9: strict convergence.\n"
     ]
    },
    {
     "data": {
      "text/plain": [
       "Pipeline(steps=[('scaler', StandardScaler()),\n",
       "                ('kmeans', KMeans(n_clusters=5, verbose=2))])"
      ]
     },
     "execution_count": 17,
     "metadata": {},
     "output_type": "execute_result"
    }
   ],
   "source": [
    "cluster_pipeline = Pipeline([('scaler', StandardScaler()), ('kmeans', KMeans(n_clusters=5, verbose=2))])\n",
    "cluster_pipeline.fit(X)"
   ]
  },
  {
   "cell_type": "code",
   "execution_count": 18,
   "metadata": {},
   "outputs": [
    {
     "data": {
      "text/plain": [
       "4    567\n",
       "2    486\n",
       "0    419\n",
       "1    133\n",
       "3    118\n",
       "Name: cluster, dtype: int64"
      ]
     },
     "execution_count": 18,
     "metadata": {},
     "output_type": "execute_result"
    }
   ],
   "source": [
    "cluster_labels = cluster_pipeline.predict(X)\n",
    "df['cluster'] = cluster_labels\n",
    "df['cluster'].value_counts()"
   ]
  },
  {
   "cell_type": "code",
   "execution_count": 19,
   "metadata": {},
   "outputs": [
    {
     "data": {
      "text/html": [
       "<div>\n",
       "<style scoped>\n",
       "    .dataframe tbody tr th:only-of-type {\n",
       "        vertical-align: middle;\n",
       "    }\n",
       "\n",
       "    .dataframe tbody tr th {\n",
       "        vertical-align: top;\n",
       "    }\n",
       "\n",
       "    .dataframe thead th {\n",
       "        text-align: right;\n",
       "    }\n",
       "</style>\n",
       "<table border=\"1\" class=\"dataframe\">\n",
       "  <thead>\n",
       "    <tr style=\"text-align: right;\">\n",
       "      <th></th>\n",
       "      <th>x</th>\n",
       "      <th>y</th>\n",
       "      <th>title</th>\n",
       "      <th>cluster</th>\n",
       "    </tr>\n",
       "  </thead>\n",
       "  <tbody>\n",
       "    <tr>\n",
       "      <th>0</th>\n",
       "      <td>-1.380372</td>\n",
       "      <td>0.650095</td>\n",
       "      <td>Se Rompen</td>\n",
       "      <td>4</td>\n",
       "    </tr>\n",
       "    <tr>\n",
       "      <th>1</th>\n",
       "      <td>-0.843733</td>\n",
       "      <td>0.855701</td>\n",
       "      <td>Chameleon</td>\n",
       "      <td>4</td>\n",
       "    </tr>\n",
       "    <tr>\n",
       "      <th>2</th>\n",
       "      <td>-0.659132</td>\n",
       "      <td>0.375345</td>\n",
       "      <td>Echoes - Radio Edit 1</td>\n",
       "      <td>4</td>\n",
       "    </tr>\n",
       "    <tr>\n",
       "      <th>3</th>\n",
       "      <td>-1.371654</td>\n",
       "      <td>-0.527855</td>\n",
       "      <td>Breathe Me - Four Tet Remix</td>\n",
       "      <td>0</td>\n",
       "    </tr>\n",
       "    <tr>\n",
       "      <th>4</th>\n",
       "      <td>-1.671719</td>\n",
       "      <td>-0.999178</td>\n",
       "      <td>Main Akeli Raat Jawan</td>\n",
       "      <td>0</td>\n",
       "    </tr>\n",
       "    <tr>\n",
       "      <th>...</th>\n",
       "      <td>...</td>\n",
       "      <td>...</td>\n",
       "      <td>...</td>\n",
       "      <td>...</td>\n",
       "    </tr>\n",
       "    <tr>\n",
       "      <th>1718</th>\n",
       "      <td>2.008769</td>\n",
       "      <td>0.846330</td>\n",
       "      <td>Es war einmal</td>\n",
       "      <td>2</td>\n",
       "    </tr>\n",
       "    <tr>\n",
       "      <th>1719</th>\n",
       "      <td>-2.089659</td>\n",
       "      <td>0.632492</td>\n",
       "      <td>Kinoshita</td>\n",
       "      <td>4</td>\n",
       "    </tr>\n",
       "    <tr>\n",
       "      <th>1720</th>\n",
       "      <td>2.737391</td>\n",
       "      <td>0.173636</td>\n",
       "      <td>Promises Of Fertility</td>\n",
       "      <td>2</td>\n",
       "    </tr>\n",
       "    <tr>\n",
       "      <th>1721</th>\n",
       "      <td>-0.025665</td>\n",
       "      <td>2.015595</td>\n",
       "      <td>3</td>\n",
       "      <td>4</td>\n",
       "    </tr>\n",
       "    <tr>\n",
       "      <th>1722</th>\n",
       "      <td>3.085023</td>\n",
       "      <td>-0.340679</td>\n",
       "      <td>Earth's Magnetic Field</td>\n",
       "      <td>2</td>\n",
       "    </tr>\n",
       "  </tbody>\n",
       "</table>\n",
       "<p>1723 rows × 4 columns</p>\n",
       "</div>"
      ],
      "text/plain": [
       "             x         y                        title  cluster\n",
       "0    -1.380372  0.650095                    Se Rompen        4\n",
       "1    -0.843733  0.855701                    Chameleon        4\n",
       "2    -0.659132  0.375345        Echoes - Radio Edit 1        4\n",
       "3    -1.371654 -0.527855  Breathe Me - Four Tet Remix        0\n",
       "4    -1.671719 -0.999178        Main Akeli Raat Jawan        0\n",
       "...        ...       ...                          ...      ...\n",
       "1718  2.008769  0.846330                Es war einmal        2\n",
       "1719 -2.089659  0.632492                    Kinoshita        4\n",
       "1720  2.737391  0.173636        Promises Of Fertility        2\n",
       "1721 -0.025665  2.015595                            3        4\n",
       "1722  3.085023 -0.340679       Earth's Magnetic Field        2\n",
       "\n",
       "[1723 rows x 4 columns]"
      ]
     },
     "execution_count": 19,
     "metadata": {},
     "output_type": "execute_result"
    }
   ],
   "source": [
    "pca_pipeline = Pipeline([('scaler', StandardScaler()), ('PCA', PCA(n_components=2))])\n",
    "song_embedding = pca_pipeline.fit_transform(X)\n",
    "projection = pd.DataFrame(columns=['x', 'y'], data=song_embedding)\n",
    "projection['title'] = df['track_name']\n",
    "projection['cluster'] = df['cluster']\n",
    "projection"
   ]
  },
  {
   "cell_type": "code",
   "execution_count": 20,
   "metadata": {},
   "outputs": [
    {
     "data": {
      "application/vnd.plotly.v1+json": {
       "config": {
        "plotlyServerURL": "https://plot.ly"
       },
       "data": [
        {
         "customdata": [
          [
           -1.3803722427113227,
           0.6500948248966208,
           "Se Rompen"
          ],
          [
           -0.8437325254821526,
           0.8557009898378297,
           "Chameleon"
          ],
          [
           -0.6591322335898179,
           0.37534514247012357,
           "Echoes - Radio Edit 1"
          ],
          [
           -1.3716539302399968,
           -0.5278554133338462,
           "Breathe Me - Four Tet Remix"
          ],
          [
           -1.6717187824420547,
           -0.9991775495801632,
           "Main Akeli Raat Jawan"
          ],
          [
           0.3118657596953631,
           -0.07762160784238395,
           "Echoes - Radio Edit 2"
          ],
          [
           -1.642812932459673,
           0.09280864704508279,
           "I Don't Know If That's Just Dreaming"
          ],
          [
           -1.6093293664076864,
           -1.6493535950096376,
           "Mam Pe'ela Su'ure"
          ],
          [
           -0.5185425340368923,
           -0.826870527286759,
           "Fang Jai Viangjan"
          ],
          [
           2.416148880059473,
           0.7160054825705934,
           "Dance Of The Inhabitants Of The Invisible City Of Bladensburg"
          ],
          [
           -0.2635642227980164,
           -2.43147292320583,
           "GREEN SPORE VALLEY"
          ],
          [
           -1.5347521809660845,
           0.7555500465113744,
           "It Goes"
          ],
          [
           -1.0673166207453402,
           0.21037315576404322,
           "swag w/ kav"
          ],
          [
           -1.74456950827147,
           0.8066483489419214,
           "The Wrong Wolf"
          ],
          [
           3.1678351816771047,
           -2.203760107090278,
           "Hi"
          ],
          [
           -1.4068744710338803,
           0.7755028778756187,
           "Good Vybe"
          ],
          [
           -3.2542718048316157,
           -1.30045901462642,
           "You Get Me Everytime - A1"
          ],
          [
           -0.241896563808411,
           0.5741277987153628,
           "in drink"
          ],
          [
           -0.4709049714456855,
           1.0301626637875048,
           "Echoes - Continental Drift Version"
          ],
          [
           -0.07602105786747004,
           1.8393904876714502,
           "Drum Story"
          ],
          [
           -1.5155929220311775,
           -2.7288686437401934,
           "One String Boogie"
          ],
          [
           0.8211881438030605,
           0.6394752109988499,
           "Little Umbrellas - 1969 Rhythm Track Mix"
          ],
          [
           -0.09755770141652613,
           -1.063467933272376,
           "Send In The Clowns"
          ],
          [
           0.9896264910230035,
           -1.5637572989608277,
           "Pata Das Ni"
          ],
          [
           1.1468638117389354,
           0.16323295967525744,
           "Moto centripeto"
          ],
          [
           3.077341944818782,
           -0.15215468071373284,
           "Cuídese de los ángeles que caen"
          ],
          [
           0.1448585661641789,
           1.974528401067257,
           "First Stage"
          ],
          [
           -2.518646311291299,
           1.2199493634798684,
           "Crab Ride"
          ],
          [
           -2.046797485345348,
           1.5387218706241035,
           "LOST IN ABYSS"
          ],
          [
           0.6837487061535901,
           0.08454908151305175,
           "Strangers"
          ],
          [
           1.8099315357240697,
           -0.7250436381534873,
           "Anthropology"
          ],
          [
           0.7640465288217225,
           -1.5095443154348906,
           "Swapnaman Aavi Mane"
          ],
          [
           -2.648377411100191,
           0.0774452757464064,
           "BMW Track"
          ],
          [
           -1.5554409913446243,
           1.3823979852904265,
           "Pattern 11"
          ],
          [
           -1.5684542150112588,
           0.8513247426038014,
           "Safe In My Arms"
          ],
          [
           -0.626875462141682,
           1.101871283455825,
           "Victor and Carolyn"
          ],
          [
           -1.0999133616448686,
           1.7871393228666363,
           "Teenage Birdsong"
          ],
          [
           2.9685844785770845,
           -3.2078599689806198,
           "Ever Never"
          ],
          [
           2.1789636700703077,
           0.2206348546471369,
           "Angels - Four Tet Remix"
          ],
          [
           3.4674715360422828,
           -0.4989809027987789,
           "Parallel 3"
          ],
          [
           -1.0738734399633132,
           1.0222701948730808,
           "Channel 1 Suite - Four Tet remix"
          ],
          [
           2.5376057351032393,
           -0.30201133330304186,
           "0000 871 0011"
          ],
          [
           -0.9552755073559446,
           0.6759877641495063,
           "October 2011"
          ],
          [
           -1.4399580072718912,
           -0.1472775783612644,
           "The First Big Weekend - Four Tet Mix"
          ],
          [
           -1.5502042795270055,
           0.31056097996883436,
           "So U Kno"
          ],
          [
           -1.3179278889707025,
           -0.14803328770172963,
           "Supersonic (My Existence) [with Noisia, josh pan & Dylan Brady]"
          ],
          [
           -1.8357790673191827,
           -3.2079109274681428,
           "Cichli"
          ],
          [
           2.4952964928155246,
           1.2802203314251195,
           "Slow Bicycle"
          ],
          [
           -0.5514201817261352,
           -1.583159409432315,
           "Apple Tree"
          ],
          [
           -1.237231271754979,
           -0.23620328710963756,
           "Empty Glasses - Kim's Basement 4 track Version"
          ],
          [
           -1.9480210884483924,
           0.2585633155109358,
           "Hand Grenade"
          ],
          [
           -1.304206317391268,
           -0.9511726328863884,
           "Yedin Beni"
          ],
          [
           -0.0674509464590999,
           -1.7825567527974358,
           "Baby Let's Dance Together - Shalimar / Soundtrack Version"
          ],
          [
           -1.6194472970142577,
           -1.0332726675660102,
           "Love Ritual (Bwana Mix)"
          ],
          [
           -1.5341100090195963,
           -1.4049094214046964,
           "Eu E Maria"
          ],
          [
           0.5395194848049739,
           0.42693424358829085,
           "My Sound"
          ],
          [
           1.1590062389554336,
           0.23577632790036718,
           "8th Chance"
          ],
          [
           -2.7807162644636825,
           -0.13916959984383284,
           "Darkness Calling"
          ],
          [
           -1.7746508646117454,
           -0.4055212671181193,
           "PHONKY TOWN"
          ],
          [
           -1.7796752935650535,
           -0.29890189521716715,
           "Pockets"
          ],
          [
           -1.5455878546678952,
           -0.7951951938213357,
           "Long Gawacha"
          ],
          [
           0.46097104281591356,
           0.9557384236450542,
           "Joy Squad"
          ],
          [
           -2.678651317595133,
           1.0664549451630432,
           "Are You There - Instrumental Version"
          ],
          [
           -1.2059415477046191,
           -0.05112738388389576,
           "Pockets - Minimal"
          ],
          [
           -1.2945709527748885,
           0.6437357626648,
           "De I Comahlee Ah (extended)"
          ],
          [
           -1.7540518979961444,
           0.024272286935787687,
           "MRA"
          ],
          [
           -0.3188327966231377,
           1.9037032857668943,
           "Lady Burning Sky"
          ],
          [
           -0.11661473683007285,
           1.3701758252101555,
           "Black Rainbow"
          ],
          [
           -2.1138426229101106,
           -1.0335649425296094,
           "Butterflies (with Starrah & Four Tet)"
          ],
          [
           -0.8503699403563152,
           0.8522108604359513,
           "Love No More"
          ],
          [
           -1.60754527148742,
           -0.7888566241272656,
           "Palace Of The Peacock"
          ],
          [
           -1.5868403558876067,
           1.583331167269224,
           "Valley"
          ],
          [
           0.28399488416922253,
           -1.0982654838548687,
           "Chemicals"
          ],
          [
           1.29588719658041,
           -1.0277004595148522,
           "Do What You Gotta Do"
          ],
          [
           0.11898328775619009,
           -0.7189057676777934,
           "Twin Stars of Thence - Alternate Mix"
          ],
          [
           -0.3697552283368303,
           -0.7922556321824685,
           "I Can't Lie"
          ],
          [
           0.9249455914027106,
           -0.31607437164340474,
           "Salamaleikoum"
          ],
          [
           0.9367486314767071,
           -0.3914928613097202,
           "Pedro Don't Fail Me Now"
          ],
          [
           -0.807781116289154,
           -0.636419777687933,
           "Pisces Problems"
          ],
          [
           0.4810705339940668,
           -0.08405422928724386,
           "Bartleby 2"
          ],
          [
           -0.9026925741596579,
           -1.9029693450286536,
           "Cala Boca Menino"
          ],
          [
           -0.1331046085924401,
           0.9456390869778774,
           "Jerry Garcia's Finger"
          ],
          [
           -2.5267787879645405,
           -1.0192877319435065,
           "Kanyon"
          ],
          [
           -1.9641788705408196,
           1.0405343291790132,
           "Rolled Into"
          ],
          [
           -2.427018762521671,
           -1.0005437353463742,
           "Taboo (feat. Shola Ama) - MJ Cole Full Vocal Mix"
          ],
          [
           -1.5413791932972538,
           -0.4401320726419607,
           "Tuesday"
          ],
          [
           -0.9049605724738933,
           0.15263929592998338,
           "Acid Track"
          ],
          [
           0.44517245110508313,
           0.9894913865479295,
           "Idioma"
          ],
          [
           2.03478249317431,
           -0.546050133249146,
           "C Tactile Afferent"
          ],
          [
           3.252361769150604,
           -1.0721298297455886,
           "Movement 1"
          ],
          [
           3.333891002881641,
           0.6547997667729786,
           "Movement 2"
          ],
          [
           4.08394696038651,
           0.41967739428793116,
           "Movement 3"
          ],
          [
           3.4460512257970466,
           -0.12969523731400256,
           "Movement 4"
          ],
          [
           2.4148472086980366,
           -0.1493107643952781,
           "Movement 5"
          ],
          [
           2.734391710977885,
           0.9287429211587943,
           "Movement 6"
          ],
          [
           3.377807514480965,
           0.17417467163011577,
           "Movement 7"
          ],
          [
           3.717171797870245,
           0.8421872063382437,
           "Movement 8"
          ],
          [
           3.9887361730111714,
           1.0132842452632753,
           "Movement 9"
          ],
          [
           1.542426480142375,
           -0.3688263397418061,
           "White Dress"
          ],
          [
           2.0918708371534485,
           0.05982698416166854,
           "Il letargo"
          ],
          [
           -0.025243314680727755,
           -1.1882515033020058,
           "Mere Jeevan Saathi"
          ],
          [
           -2.470526795667177,
           -0.9465434752122022,
           "Iya Me Dji Ki Bi Ni"
          ],
          [
           0.18789009839087908,
           1.9031571925506072,
           "Pick a Day to Die"
          ],
          [
           -1.4538617942524106,
           0.4370872342363494,
           "Dr. Buck's Letter"
          ],
          [
           -1.8828374552191667,
           -0.16553161681968206,
           "All Very Hush Hush"
          ],
          [
           -1.187246171844902,
           1.5295331221889605,
           "Groove Therapy - Photek Remix"
          ],
          [
           -0.38099491167514254,
           0.19817114979327924,
           "Ride Or Die (feat. Chilly Gonzales)"
          ],
          [
           -2.2117642569353673,
           2.049221502546463,
           "Danfo Mellow"
          ],
          [
           1.174152491842541,
           -0.6409793800200051,
           "Afro Blue"
          ],
          [
           2.8427642321534763,
           0.24568780200031512,
           "Afro Blue"
          ],
          [
           1.2763910291980152,
           -0.9835673996436861,
           "Afro Blue - Remastered"
          ],
          [
           -0.28767440737465494,
           -0.8039317325830491,
           "The Three Great Stimulants"
          ],
          [
           -1.1318075069154925,
           -0.013004619378901643,
           "In the Hills"
          ],
          [
           0.42851829416403825,
           -0.3947537990348097,
           "Baby, You're My Kind (Work Lead)"
          ],
          [
           -2.2419113405081896,
           -1.8117689669719441,
           "The Format"
          ],
          [
           -1.1497017039344248,
           -0.8880289323779145,
           "Whole Lotta Wickery"
          ],
          [
           2.6165187777851555,
           0.542043566864953,
           "SK-1"
          ],
          [
           1.4851491563680943,
           0.6802233367139068,
           "Djatasoun"
          ],
          [
           0.9698638483736677,
           0.48777929189470504,
           "Veering North"
          ],
          [
           2.3940532505193475,
           -1.8629484368840072,
           "Two-Part \"Secret-Songs\""
          ],
          [
           -1.1432187214768628,
           -0.01950437852353746,
           "Never Come Back - Koreless Remix"
          ],
          [
           3.6459364804196324,
           -0.07699621957674825,
           "Children's Song"
          ],
          [
           -0.4261537753257849,
           -0.865411062819396,
           "Red Handed"
          ],
          [
           1.8057471750567091,
           1.2895300852134068,
           "Sustain"
          ],
          [
           1.1676272905316207,
           -0.7122556400417024,
           "Maadi Taarun Kanku Kharyun"
          ],
          [
           0.023716826755633306,
           -0.3815069334581738,
           "Tale of My Lost Love"
          ],
          [
           2.294152704877457,
           -0.4674800842924852,
           "Thou Art With Me"
          ],
          [
           0.49653459121172044,
           -1.378790006073782,
           "Don't Want to Be Hurt (with The Fugitives)"
          ],
          [
           -0.5432558005700154,
           -0.21259680255068863,
           "Ma Kwacha No.2"
          ],
          [
           -2.171576330686092,
           -0.48081294383975437,
           "Why Can't There Be Love"
          ],
          [
           -1.9522057247613522,
           -0.4982923746529353,
           "Torture Chamber"
          ],
          [
           -1.1141793144983199,
           -0.154490804358917,
           "Going Down"
          ],
          [
           -0.6897014682475768,
           -0.9619377335922021,
           "African Sweets"
          ],
          [
           -2.9544328911523916,
           -0.5860333612503208,
           "I Need Dub"
          ],
          [
           -1.1201062624766325,
           0.937046276749767,
           "Like My Way"
          ],
          [
           -1.2136638778116156,
           -0.8150072505084351,
           "I've Been Thinkin'"
          ],
          [
           -0.5621867427190838,
           -0.20055954822973926,
           "Flower Bed"
          ],
          [
           -2.0131809847018802,
           1.0252176143334224,
           "The New Normal"
          ],
          [
           -2.510292776280318,
           -2.781549768947786,
           "Loose Goose"
          ],
          [
           -1.2360608918548153,
           -0.355381857951564,
           "Dirtknock"
          ],
          [
           0.4396038843006118,
           -1.9250144951679775,
           "Sound Ancestors"
          ],
          [
           0.03867687203581932,
           -2.878637077525571,
           "One For Quartabê / Right Now"
          ],
          [
           -0.07542803628071704,
           -0.6445483271522723,
           "Open Your Eyes, You Can Fly"
          ],
          [
           -0.9752036618957101,
           -0.41513983577680835,
           "Conquistadores"
          ],
          [
           -0.858425467485013,
           -1.5591855275022872,
           "Sunday Morning"
          ],
          [
           -2.035997376227612,
           -1.496500688992186,
           "Mia Askisi Fysikis Alyti"
          ],
          [
           -0.7485993089432649,
           -0.17211894195614819,
           "Catastrophe and the Cure (Four Tet Mix)"
          ],
          [
           -0.8203195382849492,
           -0.6548542821841394,
           "BIPP - Autechre Mx"
          ],
          [
           -1.3080461015189193,
           -0.601946366909568,
           "Drek"
          ],
          [
           -0.36768614523902426,
           0.6306065152933888,
           "Dead Cat Chaos Magician"
          ],
          [
           -0.7675034626827902,
           1.92369896474682,
           "Sentence"
          ],
          [
           -0.9850342787934437,
           0.5244443954249673,
           "On the Road South"
          ],
          [
           1.7860453459225643,
           0.5793097723747506,
           "Lento"
          ],
          [
           -1.2488746342526342,
           -0.07755282562003328,
           "Put That Shit On"
          ],
          [
           -1.2643840139648599,
           0.12080089995116672,
           "Hopprock"
          ],
          [
           0.9768914656448595,
           -0.06363889171480501,
           "0000 871 0020"
          ],
          [
           3.4674715360422828,
           -0.4989809027987789,
           "Parallel 3"
          ],
          [
           1.7849277190240365,
           -0.33318693465520755,
           "0000 871 0006"
          ],
          [
           0.8659073088775823,
           -0.5940197524511165,
           "Too Long At The Fair - Live"
          ],
          [
           2.032148275468468,
           -0.8297085583972181,
           "Willow's Song"
          ],
          [
           0.6560132511857806,
           1.3833905823535229,
           "Road to Madrid"
          ],
          [
           -0.7893164120270212,
           -0.46453192583187863,
           "Sai do Sereno"
          ],
          [
           -0.0711975230214135,
           -0.7474107211798923,
           "Sete Cachorros"
          ],
          [
           0.22457113765836295,
           -0.4144643661246476,
           "Equipoise"
          ],
          [
           0.7137199888631773,
           0.301984542029093,
           "Sorti"
          ],
          [
           3.626301758129785,
           0.7184515324705679,
           "Dedicated To You"
          ],
          [
           1.2728220838109536,
           0.04286636328412847,
           "Parallel 7"
          ],
          [
           -2.249947869290746,
           -1.214863664500537,
           "Beno!"
          ],
          [
           -1.42760544059864,
           -2.0820404766350484,
           "Rhymes Like Dimes"
          ],
          [
           -1.6819379099465637,
           -2.5807844496819294,
           "Rae Dawn"
          ],
          [
           -0.8890672623392117,
           -1.6138884147653512,
           "I Hear Voices Pt. 1 - 12\" Version"
          ],
          [
           -1.8521419639893435,
           -0.922401002323639,
           "Krazy World"
          ],
          [
           -1.2759328917057322,
           -2.3642606787877614,
           "All Caps"
          ],
          [
           -0.011524216276053772,
           -1.5764981124781452,
           "Great Day (Four Tet Remix)"
          ],
          [
           2.3314867367871828,
           3.7962820490434424,
           "Parallel 1"
          ],
          [
           1.9330284187613145,
           -0.3036104969093894,
           "Parallel 9"
          ],
          [
           1.9976990653574294,
           0.7608957087685345,
           "0000 871 0003"
          ],
          [
           -1.6915518568400776,
           -0.5437853446497046,
           "I Like Cars"
          ],
          [
           -1.7155041980519035,
           -2.9912064748179845,
           "see me"
          ],
          [
           -1.1263894433498212,
           0.5046054420610785,
           "Webs"
          ],
          [
           -1.4524544796239829,
           -0.04466998352898844,
           "Blue Is Dope"
          ],
          [
           -0.9885536268727246,
           1.4363834938987365,
           "No Rest (Stealing Voice)"
          ],
          [
           3.4067462312441648,
           0.863440022776952,
           "nosummer"
          ],
          [
           0.7806290414064806,
           -0.019083250234786974,
           "Road Of The Lonely Ones"
          ],
          [
           -1.5807019700771519,
           -1.5508895706673143,
           "Kacey Talk"
          ],
          [
           1.399509248878885,
           0.6337010932545564,
           "Her Revolution"
          ],
          [
           0.5450522342136986,
           -0.2648304789104275,
           "His Rope"
          ],
          [
           -0.07719659381066354,
           0.21928415512213184,
           "Mirosbass"
          ],
          [
           -0.5954188983536499,
           -0.3132798727077233,
           "Jandira"
          ],
          [
           0.40082249504744577,
           -1.161513008422828,
           "Rio Corrente"
          ],
          [
           3.5890427291994955,
           0.8369979837226057,
           "Lullaby"
          ],
          [
           4.34359561604346,
           -0.7270066879839244,
           "Starless and Bible Black"
          ],
          [
           3.517320788564146,
           0.7531268880133524,
           "A New Kind Of Quiet"
          ],
          [
           -0.745818350648577,
           -1.0081101381639432,
           "Disrupt #4 - Original"
          ],
          [
           -0.6535238326350457,
           2.666959560775866,
           "Detrant - Original Mix"
          ],
          [
           -2.6839480124106108,
           0.932785109609192,
           "Together - Bailey Ibbs Remix"
          ],
          [
           -2.7026707560967576,
           -1.0128990171831718,
           "Power Tool"
          ],
          [
           -0.9096555912881239,
           1.0311202969338278,
           "Antigravity Love feat. Larry Powell - KenLou Dubb Instrumental"
          ],
          [
           -1.6170453930550375,
           0.9890963454590725,
           "Text - Totally Enormous Extinct Dinosaurs Remix"
          ],
          [
           -1.0328076450664612,
           3.3797052071057725,
           "Time Warps"
          ],
          [
           -1.0170386197455303,
           2.1187198727339016,
           "Negative Returns - Four Tet Remix"
          ],
          [
           -1.9540068145732579,
           -0.9607879273378297,
           "I Dnt Care"
          ],
          [
           -1.0156237707512612,
           0.025015348906501846,
           "Our Scene"
          ],
          [
           2.3342437885006255,
           -0.8472127775491131,
           "Glass Story"
          ],
          [
           4.2918396035274045,
           0.3050958260113985,
           "Tear Vial"
          ],
          [
           -1.583661942608482,
           -2.1622492195038814,
           "Povo da Raça Brasil"
          ],
          [
           0.5718566950039151,
           -0.137539227316374,
           "Now Jazz Ramwong"
          ],
          [
           -0.4181735032533208,
           -1.3026827894385031,
           "De l'Orient à l'Orion"
          ],
          [
           -0.9272503862446747,
           -1.375858051695677,
           "My One And Only"
          ],
          [
           -2.4200584742364772,
           -1.4214861455603398,
           "Above The Clouds"
          ],
          [
           -2.0691176030005387,
           -1.5751999189912846,
           "Shake Ya Bum Bum (feat. Lil' Shanice)"
          ],
          [
           -2.091204088552367,
           -2.708767435853881,
           "1nce Again (feat. Tammy Lucas) - Radio Version"
          ],
          [
           -0.41081236501834295,
           0.3975229975870748,
           "Mawethu"
          ],
          [
           -0.5160673582223797,
           -1.2517287518969842,
           "Running 2"
          ],
          [
           -1.3277359677097174,
           1.0867189421523071,
           "Clipper - Another 5 Years"
          ],
          [
           -1.2322176915504124,
           1.1553448370272896,
           "Bounce 2"
          ],
          [
           -1.6472078859360115,
           -1.9078087755375046,
           "M to the B"
          ],
          [
           1.042106328481504,
           -0.8037546250891009,
           "Bow Ecco"
          ],
          [
           -1.4324404139509588,
           2.1814477564434798,
           "AsloHop - Original Mix"
          ],
          [
           -1.7621205185835385,
           1.1351842539009935,
           "Ravi - Shanti Celeste Remix"
          ],
          [
           -2.0506085212471885,
           0.7105304129968425,
           "Rainbo Locals - Four Tet Remix"
          ],
          [
           -1.46040114508278,
           1.019342602355628,
           "Tron - Kieran Hebden Version"
          ],
          [
           -0.600314577603429,
           1.7340350596478993,
           "Everything U Need"
          ],
          [
           -2.0137450590584853,
           -0.05565538007131739,
           "The Relic"
          ],
          [
           -1.8417721349335263,
           1.214640288388218,
           "Disco Manila"
          ],
          [
           -1.6332641618159947,
           1.1858893950755598,
           "Balloons - Kieran Hebden Version"
          ],
          [
           1.5513528341413059,
           -0.5079063540179116,
           "Conditions (Kieran Hebden mix)"
          ],
          [
           1.1722963958262276,
           0.13707808975293095,
           "The Spell - Burial Mix"
          ],
          [
           -1.0753372520551412,
           0.9496307276417103,
           "Ordinary Boy - Floating Points Remix"
          ],
          [
           1.5709592429094104,
           0.7050961615376654,
           "My Night, My Day"
          ],
          [
           2.935925170163138,
           0.21875758477003376,
           "Colors - 2020 Remaster"
          ],
          [
           3.548844849457885,
           0.4261401054892485,
           "Beco"
          ],
          [
           3.3095793434232594,
           -0.7697222918422036,
           "Nevaeh Ni Ecalp A - 2020 Remaster"
          ],
          [
           -1.756745517600937,
           1.3839240291678372,
           "Blossom"
          ],
          [
           3.413200735659525,
           0.7280966784575413,
           "Hospital Harpist"
          ],
          [
           2.8289286704550562,
           0.23633352261228882,
           "0181 000 0011"
          ],
          [
           -0.49666949702513613,
           -1.1208198068876525,
           "Lam Seung Bang Fai - Original Version"
          ],
          [
           0.010314399062793592,
           -0.1073397927841237,
           "La chanson des granges brûlées / Song of the Burnt Barns"
          ],
          [
           1.5049102021499365,
           1.6064887913873385,
           "Zé e Paraná"
          ],
          [
           1.1179547772786962,
           1.1031741419859975,
           "Mars Detection"
          ],
          [
           -1.544313778703717,
           0.10399494688919232,
           "Welcome To Love"
          ],
          [
           -0.6485002728907187,
           -1.1174251074913228,
           "Lady Orange Peel"
          ],
          [
           -1.5187833270057483,
           0.3949343805118642,
           "How Does It Feel to Feel (Us Version)"
          ],
          [
           -0.045074517675713736,
           -0.3353633329504684,
           "Dreamworld"
          ],
          [
           -0.3089309514749766,
           0.5868419222673823,
           "Scientist - Cultured Dub"
          ],
          [
           -1.5498596615316378,
           -2.609924856092801,
           "Ma Aarfeen Nagool Shino! (We Don’t Know What to Say!)"
          ],
          [
           -0.301974659407784,
           -1.8917757507680169,
           "Gidhian Di Raniye Ne Gidhe Wich Aa"
          ],
          [
           -1.8790795601822112,
           0.5478526444015364,
           "A New Day (is Here at Last)"
          ],
          [
           -1.3427863822742594,
           0.37096705908462285,
           "Gray Area - Instrumental"
          ],
          [
           -0.013598459799472442,
           0.11776621131727114,
           "Abstract"
          ],
          [
           -1.1274109149586928,
           0.8427276443291187,
           "Ender"
          ],
          [
           -1.2341382136471784,
           1.9696077308566609,
           "Mr. Law Man"
          ],
          [
           0.1506568303742106,
           1.7466032837686878,
           "Exaptation"
          ],
          [
           -1.3645110335277668,
           0.28864468706315866,
           "Karlaplan"
          ],
          [
           -0.4864474784848661,
           -0.7403117842113082,
           "Unknown, Forever Unknown - Alt.v5"
          ],
          [
           -2.232389794158366,
           -1.472744492160894,
           "Night Echoes"
          ],
          [
           -0.3167580816857564,
           1.7261410893536797,
           "Touchpad"
          ],
          [
           0.5681466051350752,
           -0.20865880666119366,
           "Gamelan"
          ],
          [
           -0.37586899330356827,
           0.2811095164014,
           "Is It True - Four Tet Remix"
          ],
          [
           -1.500682918589602,
           1.3666020138967139,
           "I Love You So Much (Mirror, Mirror Flip)"
          ],
          [
           0.2789632574899131,
           -0.12123195893423538,
           "Like"
          ],
          [
           0.6573211706620157,
           0.8754630310754518,
           "Kagen Sound"
          ],
          [
           -0.6554636506174044,
           1.1684871836164283,
           "La vita nuova - Logic1000 Remix"
          ],
          [
           -2.2821468621775765,
           -2.2285201572890703,
           "Mi Cuerpo"
          ],
          [
           0.5633131732423531,
           0.5528172588090461,
           "Rain 3"
          ],
          [
           -0.1861895204603012,
           -0.36297235116977267,
           "Human Race"
          ],
          [
           -0.311388500738342,
           -0.6000776735392495,
           "Love Grows a Flower"
          ],
          [
           3.353379214756333,
           0.43267902127048746,
           "At Last...The Beginning - Demo"
          ],
          [
           -2.176977813668808,
           0.1665757714045205,
           "Rainbo Locals"
          ],
          [
           2.250768676612134,
           -0.12807235835526418,
           "Vulnerable in Bihag"
          ],
          [
           -0.21243346787515607,
           -2.335364392301844,
           "Unconditional Oceans"
          ],
          [
           -1.8928750218756694,
           1.4796263840664208,
           "Venus"
          ],
          [
           -2.5788417287354077,
           -0.6967197421995579,
           "Pree Me"
          ],
          [
           -1.322322904463983,
           0.13016710782778376,
           "KEYGEN 2 MI H34RT"
          ],
          [
           -1.7352849299272823,
           -2.151115382544144,
           "B1llionz"
          ],
          [
           2.340376658678726,
           0.5814112552387432,
           "Moss Garden - 2017 Remaster"
          ],
          [
           -0.7037605317577235,
           -2.0962397097017598,
           "You Can Give But You Can't Take"
          ],
          [
           -0.7586737666021831,
           -0.5523376077429886,
           "This Time Tomorrow"
          ],
          [
           -0.7831167519097396,
           0.7000389238248107,
           "Fluid"
          ],
          [
           -0.933770900958928,
           -0.17711133369564888,
           "Confession"
          ],
          [
           0.9772359124453173,
           -0.8514332346972288,
           "We Love You Malcolm X"
          ],
          [
           0.9795130858092769,
           -1.6319841414995588,
           "Descripción"
          ],
          [
           0.00891445212602962,
           -1.3642351313554193,
           "Zvichapera"
          ],
          [
           -2.257065056335792,
           1.436926404504417,
           "Alien Mode"
          ],
          [
           -2.0665786663662873,
           0.8298351612565579,
           "Love Minus Zero"
          ],
          [
           -1.0629834318531797,
           1.3162180882990138,
           "Calamine - Radio Mix"
          ],
          [
           -1.3558427745660737,
           1.6537977056225184,
           "I. Miss. Raving."
          ],
          [
           -2.025923641624905,
           0.8100868657460848,
           "Operation"
          ],
          [
           -1.5695956705910556,
           1.386251330966496,
           "Emotional Melodical"
          ],
          [
           -1.489286366463904,
           -0.6685152365711251,
           "Prospect (ft. Lil Baby)"
          ],
          [
           -1.9890869601812509,
           -2.3743453401211765,
           "This One"
          ],
          [
           0.05105848080740106,
           1.5581954762772279,
           "Sister - Floating Points Remix"
          ],
          [
           -1.8256882270908692,
           1.5549628811069478,
           "Damn Skippy!"
          ],
          [
           -1.592199169827436,
           0.20973184046694512,
           "Womxn - Logic1000 Remix"
          ],
          [
           0.6352620948169655,
           1.0257890706068709,
           "Welcome Rain In Banana Grove"
          ],
          [
           -0.7393084308260752,
           -0.7921938374590506,
           "Misnomer - Long Version"
          ],
          [
           2.9979260881737493,
           -0.2771927513306881,
           "Charm"
          ],
          [
           -0.4876107004504628,
           0.9215537514127629,
           "The Space of Two Weeks"
          ],
          [
           -0.6476881807061181,
           1.4302274607918837,
           "Chiron"
          ],
          [
           -0.9389306720791682,
           5.083556094210727,
           "Thirtysixtwentyfive"
          ],
          [
           1.3581146027325826,
           1.5413840791713747,
           "An Argument"
          ],
          [
           -2.5693757832401682,
           -2.7460409719328034,
           "Yoga"
          ],
          [
           -2.042655634744824,
           0.8005957956364953,
           "Green Street"
          ],
          [
           -2.2883948517099664,
           -2.056588433232266,
           "Pricks"
          ],
          [
           -2.097704991792986,
           0.6516127958570279,
           "last days of the Montreal's summer you spoke softly 183"
          ],
          [
           -1.8911175106586362,
           1.1317282911266564,
           "Arable"
          ],
          [
           -1.5253448744265101,
           1.746140980001906,
           "Back2Black"
          ],
          [
           -1.1405239051221931,
           0.7060787510668431,
           "West Abyssinia"
          ],
          [
           -1.0359413892436564,
           1.2498314558696513,
           "High Times"
          ],
          [
           -1.6522953003240601,
           -0.8658181486680053,
           "Trials And Crosses"
          ],
          [
           -0.9075152768123079,
           0.24655525507342335,
           "Axe"
          ],
          [
           0.3057911799004352,
           -0.3658441200778107,
           "アフロ・ブルー"
          ],
          [
           -0.6560441222612137,
           0.22820935119608274,
           "Things Have Got To Change"
          ],
          [
           1.6088411278402328,
           0.2765116919699182,
           "Triptych: Prayer/Protest/Peace"
          ],
          [
           -0.2752305004368357,
           -0.09526797695289266,
           "Domiabra"
          ],
          [
           -0.6527797597054138,
           -0.8782648444462842,
           "Black Rhythm Happening - Remastered"
          ],
          [
           2.1424284053224616,
           -1.4854531348551627,
           "After Birmingham"
          ],
          [
           0.16001200549158784,
           1.2232065763922202,
           "Long Time Black"
          ],
          [
           -0.032326722808990176,
           0.051516693858876125,
           "Black Woman"
          ],
          [
           -0.38262246779855036,
           0.1951595755542317,
           "Universal Consciousness"
          ],
          [
           0.24003498637317938,
           -0.8444471313963983,
           "Fanfare for the Warriors"
          ],
          [
           -0.12260860759506834,
           0.17913838824270556,
           "Legacy - Rudy Van Gelder Edition/2006 Digital Remaster"
          ],
          [
           -0.8604728845759874,
           2.675525086512062,
           "Black Unity"
          ],
          [
           -0.16808644716402554,
           1.2371572746689126,
           "̟̞̝̜̙̘̗̖҉̵̴̨̧̢̡̼̻̺̹̳̲̱̰̯̮̭̬̫̪̩̦̥̤̣̠҈͈͇͉͍͎͓͔͕͖͙͚͜͢͢͢͢͢͢͢͢͢͢͢͢͢͢ͅ ఠీੂ೧ູ࿃ूੂ✧ළʅ͡͡͡͡͡͡͡͡͡͡͡(ƪ❍⊁◞..◟⊀ ̟̞̝̜̙̘̗̖҉̵̴̨̧̢̡̼̻̺̹̳̲̱̰̯̮̭̬̫̪̩̦̥̤̣̠҈͈͇͉͍͎͓͔͕͖͙͚͜͢͢͢͢͢͢͢͢͢͢͢͢͢͢ͅ"
          ],
          [
           2.9598167489949057,
           -0.3140590625639837,
           "Islas Canarias"
          ],
          [
           -1.6167883493114232,
           -0.6546269441572302,
           "SKYBOX"
          ],
          [
           -0.7703581147099756,
           -0.48430507843170123,
           "Drawing a Blank"
          ],
          [
           0.8319421261502489,
           0.6243106442324838,
           "Acid Skittles"
          ],
          [
           0.1542022592116687,
           1.7151605549074411,
           "Lookin Glass"
          ],
          [
           -0.10764937985545961,
           0.4898292922510887,
           "࿃ूੂ࿃ूੂੂ࿃ूੂOOOOOOOOOOOO ̟̞̝̜̙̘̗̖҉̵̴̨̧̢̡̼̻̺̹̳̲̱̰̯̮̭̬̫̪̩̦̥̤̣̠҈͈͇͉͍͎͓͔͕͖͙͚͜͢͢͢͢͢͢͢͢͢͢͢͢͢͢ͅ ooooooooo"
          ],
          [
           -1.1993579727910366,
           1.4156914021007438,
           "Never Come Back - Four Tet Remix"
          ],
          [
           -1.744822695959767,
           -3.140235483834453,
           "Trench Town Rock"
          ],
          [
           -0.6040968570323169,
           -3.487861125142044,
           "Trenchtown Rock - Live At The Lyceum, London/1975"
          ],
          [
           -1.6410355560361556,
           -3.2287537799817403,
           "Trenchtown Rock - Live At The Roxy Theatre"
          ],
          [
           -0.6491975583129808,
           1.5656559848192821,
           "I'm God"
          ],
          [
           -1.719088106258377,
           -0.47889981446416624,
           "@ MEH"
          ],
          [
           -1.1940106466283757,
           0.32014495500692763,
           "Idontknow"
          ],
          [
           -2.1651163235562194,
           0.17493024214437755,
           "Layle - Boys Noize Remix"
          ],
          [
           -1.7959094519221266,
           -0.8575172837889926,
           "Anything with You"
          ],
          [
           -2.632344052448245,
           -0.39988863145525483,
           "SaintLaurentYSL - The Martinez Brothers Re-Edit"
          ],
          [
           2.3439369841290425,
           -0.37863923600147725,
           "Technology Corridor"
          ],
          [
           -0.6507000199524539,
           0.8692919245338805,
           "XI"
          ],
          [
           -0.6856898923860967,
           1.490285162715442,
           "Track 4"
          ],
          [
           1.9783289830939879,
           0.8308232579859947,
           "Little Harp"
          ],
          [
           3.275762875562831,
           0.26126227889660475,
           "Roping 1"
          ],
          [
           1.1592226974369315,
           -1.560374879330999,
           "Thank You - 2008 Remaster"
          ],
          [
           -0.20424280527769814,
           -1.548866803045146,
           "Gurbet"
          ],
          [
           1.5373554968349867,
           -0.4331786359090833,
           "It Never Entered My Mind"
          ],
          [
           4.6005574355392165,
           -0.21514853217745714,
           "The Green Country (New England Mood)"
          ],
          [
           1.8016347085960733,
           0.6131571220855118,
           "Green"
          ],
          [
           -1.372939260397948,
           0.22228680103349882,
           "Eris & Dysnomia"
          ],
          [
           -1.9681218587985936,
           0.4387318000838539,
           "Smoke (feat. Jamie xx)"
          ],
          [
           -1.5342502822397408,
           2.1889497156128686,
           "Bias - Mayfield Depot Mix"
          ],
          [
           -0.5483706808592307,
           0.6471982541909865,
           "Fidelity"
          ],
          [
           -2.9314341209615096,
           -1.7909308546324485,
           "Queen Bitch Pt. 2 (feat. Puff Daddy)"
          ],
          [
           -1.5777810437422153,
           -1.124798696384953,
           "Don't You Care"
          ],
          [
           -0.5776271705369775,
           -0.8925046998087417,
           "I Done Told You Baby"
          ],
          [
           -1.3389638586317674,
           -1.4192574547116663,
           "Save Me"
          ],
          [
           -0.048980715602474176,
           -0.0935205224630586,
           "El Cumbanchero"
          ],
          [
           3.508025037059787,
           0.6683829851653837,
           "The Ice Cream Man"
          ],
          [
           2.633082687629291,
           -0.5302317854927551,
           "Deep Purple"
          ],
          [
           -1.6938940636221425,
           0.5139236477963056,
           "School"
          ],
          [
           -1.3760274036732083,
           0.08951415268495728,
           "Salad Days"
          ],
          [
           0.957407315405343,
           -0.00020564230688221012,
           "Fusion Swirl"
          ],
          [
           -1.5759770394314743,
           -1.93426916219291,
           "New Generation"
          ],
          [
           -0.5111173923863408,
           -1.3177400074362446,
           "Lembur Kuring"
          ],
          [
           0.3724977430499946,
           -0.06731862318864873,
           "You're Slipping Away"
          ],
          [
           -0.6013452057302102,
           1.5143933498721855,
           "Fields - Claro Intelecto Remix"
          ],
          [
           -1.1883347666358215,
           1.6061125896874735,
           "Insect Near Piha Beach"
          ],
          [
           3.6580075191273993,
           0.9164556868828977,
           "Mama Teaches Sanskrit"
          ],
          [
           -2.515208892726868,
           -0.6896052565511288,
           "Scuzzy"
          ],
          [
           -1.1469933843821958,
           1.0841024538072581,
           "Gymnase Chaos"
          ],
          [
           0.6909325649208622,
           -0.6115626533827349,
           "Julia"
          ],
          [
           1.4877846233697316,
           0.9675233597835073,
           "A Closing"
          ],
          [
           0.8551352600711255,
           0.6233235811077062,
           "Ballerina 12/24"
          ],
          [
           0.9272584833382839,
           0.5398376766362135,
           "Cloud Song"
          ],
          [
           4.406229996063465,
           0.03468521619842219,
           "Filtered Grand Piano"
          ],
          [
           3.7447784205253005,
           0.028668918214626103,
           "Gomkail"
          ],
          [
           -0.1211669440193923,
           1.6008157382950479,
           "Yellow Cone - Solo"
          ],
          [
           -0.8720682798666334,
           0.02592435797990554,
           "Like I Loved You"
          ],
          [
           1.660181677026556,
           -0.8763330284883178,
           "Castles Made of Sand"
          ],
          [
           2.2078576697877907,
           -0.2480539127124107,
           "Polly Come Home"
          ],
          [
           0.4305394873180748,
           0.12693148374492708,
           "Gary's Step"
          ],
          [
           -0.8891422276212458,
           -1.1090100882166272,
           "Where Did He Come from? - Radio Mix"
          ],
          [
           0.743158099359481,
           0.9261967049275973,
           "Untitled [SAW2 CD1 Track1] (Four Tet Mix)"
          ],
          [
           -2.0797398963855986,
           1.2617337150656305,
           "Basement Structure"
          ],
          [
           -1.5076404891719448,
           1.4708582578286036,
           "Tbilisi"
          ],
          [
           0.02764029107363975,
           0.9853203980513296,
           "You Are Here - Four Tet Remix"
          ],
          [
           -0.6041795348715772,
           -0.7511802668303291,
           "Baby"
          ],
          [
           -1.4465893683294253,
           1.3735746948641316,
           "Rez - Skee Mask Remix"
          ],
          [
           -2.361946164878356,
           -1.0904128321815174,
           "No I Won't"
          ],
          [
           -1.234195362976526,
           -1.4999443895526583,
           "Madame voyagé"
          ],
          [
           -1.4237751728524304,
           -0.37060029920300197,
           "Open Up The Gate - Original Black Ark Mix"
          ],
          [
           1.59091543352395,
           -0.34623173986734995,
           "Marimba Dance"
          ],
          [
           1.757946035188075,
           1.5711972416584765,
           "Arrival"
          ],
          [
           -1.3198988576672956,
           0.7730476983955394,
           "nuevo roquero estéreo"
          ],
          [
           2.467583111956277,
           -0.24515141766179646,
           "Angarakam - Instrumental"
          ],
          [
           1.4337473243709105,
           0.18532466755284285,
           "Call Me When I'm Breathing Again"
          ],
          [
           1.8084086611077423,
           0.9923418248379425,
           "Bron-Yr-Aur - 1993 Remaster"
          ],
          [
           -0.6041795348715772,
           -0.7511802668303291,
           "Baby"
          ],
          [
           2.882851972739996,
           -0.6650668066129583,
           "Rooted"
          ],
          [
           1.2749390266763017,
           0.8361635838652138,
           "Vaporware 01"
          ],
          [
           2.9687641426458877,
           0.6184623642905016,
           "Love in Outer Space"
          ],
          [
           2.3483057895246993,
           0.7567432436269039,
           "Melodious Wind Song"
          ],
          [
           0.992227433897707,
           -0.36969056015328955,
           "Prism Mirrors Lens"
          ],
          [
           -1.5602540733137302,
           -0.8593221249546817,
           "Rare"
          ],
          [
           -1.7367589898688038,
           1.4825815504685536,
           "Dizzy New Heights - Shanti Celeste Remix"
          ],
          [
           -1.0315201231811022,
           -0.16460131283689006,
           "Tin King"
          ],
          [
           1.9310357836705756,
           0.5937317155619126,
           "Wings Unfolding"
          ],
          [
           -0.31378002046883674,
           1.93297094029803,
           "She Can Break Walls"
          ],
          [
           -1.0972185141733848,
           0.5556768267436027,
           "Return To Cascada"
          ],
          [
           1.506656431713303,
           -3.2974200990764815,
           "Embrace"
          ],
          [
           0.259005417632778,
           0.1402856382233362,
           "Jala-Tarang"
          ],
          [
           -0.4721658671332641,
           -0.17040064793256293,
           "Percussion sur jal taranga, coupes à eau"
          ],
          [
           1.4851089200065914,
           0.7658656627808759,
           "Stove"
          ],
          [
           -0.5287297773457911,
           -1.1229249199861102,
           "The Windfall (Everything For Nothing)"
          ],
          [
           1.3462537411287594,
           0.10512610914834401,
           "Theme From King Heroin"
          ],
          [
           -2.4018927560617436,
           0.7593832881940926,
           "\"T\" Plays It Cool - Unedited Version"
          ],
          [
           -2.184297104308762,
           -2.1418731817462,
           "1 Mintue"
          ],
          [
           -2.321823656110947,
           -0.030604456972104517,
           "Pow Wow"
          ],
          [
           -0.7553662223249379,
           1.257587796671794,
           "Jardinez"
          ],
          [
           -0.27248502521272144,
           0.5280303918446414,
           "Jaco's Ladder"
          ],
          [
           -1.0133681228314295,
           1.1417121536061088,
           "HT Conundrum"
          ],
          [
           0.21894936516489957,
           -0.2835207153272369,
           "Pixel Dreams"
          ],
          [
           -1.5403560118897515,
           0.07402783486047908,
           "Midnight Hour with Boys Noize & Ty Dolla $ign - Four Tet Remix"
          ],
          [
           -2.047430434922208,
           1.7464149061017382,
           "Teenage Birdsong - Overmono Remix"
          ],
          [
           2.7380283633867117,
           -1.2290695313479345,
           "Crystal Coral"
          ],
          [
           -2.4005975034578895,
           -0.721270367291294,
           "DJ Logic Please Forgive Me"
          ],
          [
           -0.9560351843110083,
           1.9197810901897414,
           "Sample Devon"
          ],
          [
           -1.5686468581730058,
           1.9933796823529184,
           "Dolorous Dick'ead"
          ],
          [
           5.139186779173553,
           0.5462878529056125,
           "Composition No. 7 With Converging and Diverging Sound Levels"
          ],
          [
           -1.5015579898780806,
           1.2152341942723157,
           "New Lover"
          ],
          [
           -0.8203015915997504,
           1.3732331676212541,
           "Baddie Part Two"
          ],
          [
           -1.2424423590696227,
           0.8632296304458936,
           "Teenage Birdsong - Avalon Emerson Scrub Jay Remix"
          ],
          [
           -1.0195473195755502,
           -0.32338118950319217,
           "You and I"
          ],
          [
           -0.23901455667023047,
           -0.301538490589613,
           "Ana Damir El Motakallim"
          ],
          [
           -1.2839603744817158,
           0.21743314312437684,
           "Space Jungle"
          ],
          [
           1.826931244035752,
           -1.779011300438312,
           "Hosting"
          ],
          [
           -0.9090549408437709,
           1.4543951776050852,
           "A Kind Robin"
          ],
          [
           -0.06077290834496985,
           -0.3158973257979537,
           "Old Tape"
          ],
          [
           -1.0595367076321547,
           1.0785486219906808,
           "Only You"
          ],
          [
           -1.467707322739728,
           0.5678924165342316,
           "Mariah"
          ],
          [
           -0.9118657098266743,
           1.3485523299644266,
           "Bromley"
          ],
          [
           -1.542054983303844,
           1.2225308083538018,
           "Want"
          ],
          [
           0.6127267107019492,
           0.3079136718674102,
           "Onglon"
          ],
          [
           -0.2739550007667955,
           0.2911268229480238,
           "Track 2"
          ],
          [
           -0.3794332846913306,
           -0.049795988244646344,
           "Sieben"
          ],
          [
           -0.0885309095628056,
           -1.6168566556803183,
           "One Minute Please"
          ],
          [
           0.030793476051202324,
           1.0797477037478014,
           "Pauke Tanz"
          ],
          [
           3.456386963571022,
           0.4775038537145314,
           "Soiree"
          ],
          [
           3.4507009499726515,
           -0.07484598809713573,
           "Center of Time"
          ],
          [
           -0.3728677864124184,
           -1.0563452070907553,
           "Pull Up"
          ],
          [
           -2.171930407555661,
           -1.0390872143649101,
           "Joan"
          ],
          [
           -1.2730323669184904,
           -0.6867570668386321,
           "Flatline"
          ],
          [
           -1.5740772509411043,
           0.12697640013032993,
           "Frühlingslicht"
          ],
          [
           -0.702233416883447,
           0.9319704269828653,
           "Our Backyard"
          ],
          [
           1.8156328417402816,
           -0.6372802798762505,
           "Typing on Mechanical Keyboard"
          ],
          [
           -0.6984347099564365,
           -0.7808519032303823,
           "You Owe Me"
          ],
          [
           2.5903339554229134,
           -0.2937656939438447,
           "Stars"
          ],
          [
           -0.7834690561594476,
           1.1599034930745908,
           "Frequency FM"
          ],
          [
           -1.868878955669195,
           0.6159314971622589,
           "Peel Me Easy"
          ],
          [
           -0.12842770125283579,
           1.2344015061253473,
           "Agos"
          ],
          [
           0.09387767295587106,
           -2.1556181902937888,
           "Hockets for Two Voices: IV. —"
          ],
          [
           -1.264295155816387,
           0.9289770660042029,
           "ʅ͡͡͡͡͡͡͡͡͡͡͡(ƟӨ)ʃ͡͡͡͡͡͡͡͡͡͡ ꐑ(ཀ ඊູ ఠీੂ೧ູ࿃ूੂ✧✧✧✧✧✧ළඕั࿃ूੂ࿃ूੂ"
          ],
          [
           -0.6001713654699367,
           0.4100819041685274,
           "ੂ࿃ूੂළඕั✧✧ı̴̴̡ ̡̡͡|̲̲̲͡ ̲̲̲͡͡π̲̲͡͡ ɵੂ≢࿃ूੂ೧ູఠీੂ ඊູཀ ꐑ(ʅ͡͡͡͡͡͡͡͡͡͡͡(ƟӨ)ʃ͡͡͡͡͡͡͡͡͡͡"
          ],
          [
           1.1908594662650285,
           -1.2130132436451542,
           "Hockets for Two Voices: II. —"
          ],
          [
           -0.23386700761820126,
           -0.34501646621139676,
           "Tilim M'dohm"
          ],
          [
           -1.56825480440866,
           1.727312675662622,
           "Le Tigre"
          ],
          [
           3.6920542928667417,
           0.6857568854446147,
           "Requiem for CS70 and Strings"
          ],
          [
           -0.12662648108049265,
           1.0767327441523087,
           "Yl She's Away"
          ],
          [
           -1.087692764653274,
           0.6650170712603595,
           "Crush the Mushrooms"
          ],
          [
           1.041564959323564,
           -0.93360927854087,
           "Now You Sit Alone"
          ],
          [
           -0.29222912388042044,
           0.5382897350298602,
           "It's Nice to Be Alive"
          ],
          [
           -1.8846418833315532,
           0.17812563554423677,
           "Paprika Pony"
          ],
          [
           -0.9142875232015371,
           0.9062656185091638,
           "Drop Location"
          ],
          [
           1.619037447158188,
           -1.4638144798969817,
           "August Haze"
          ],
          [
           2.1741954599945252,
           -0.06562895084054843,
           "Come And Play In The Milky Night (Demo)"
          ],
          [
           -0.054884175660216125,
           -0.3144621582994949,
           "Just Wish You Were Here"
          ],
          [
           -0.18746687644315896,
           1.4942809410939915,
           "Bias"
          ],
          [
           -1.50922572461843,
           1.8851551841873808,
           "Many Many Pings"
          ],
          [
           -1.5863583505542318,
           -1.2571963873734777,
           "Al Elnim"
          ],
          [
           -0.1614253749896887,
           -0.6886069396426716,
           "Ada"
          ],
          [
           -1.503045790221177,
           -1.404151290986721,
           "Home"
          ],
          [
           -1.0363330564003306,
           -1.7490702225072863,
           "God Will Dry My Weeping Eyes"
          ],
          [
           0.41871943302089776,
           -1.0800585249583237,
           "Congo Call"
          ],
          [
           2.2084169671349203,
           1.337530947499277,
           "Sajanwa Kab Aaoge - Dadra in Raga Pahadi - Raga - Pahadi - Taal - Dadra (Live)"
          ],
          [
           -1.3647956353114452,
           1.0063161883675997,
           "DKD"
          ],
          [
           -0.6195103692883612,
           1.2751067412169004,
           "Anasickmodular"
          ],
          [
           0.890493005349316,
           -1.083940980559668,
           "Desktop Speaker 003 (130 BPM)"
          ],
          [
           -1.5847476006095087,
           1.3838190839259534,
           "Bappi - Edit"
          ],
          [
           -2.032426798640532,
           1.3402779026319867,
           "Walworth Window"
          ],
          [
           -0.6305457775315062,
           0.8717568480275139,
           "Chiseler's Rush"
          ],
          [
           0.7395180186038696,
           0.16218324880593238,
           "Dance Four"
          ],
          [
           2.3363533563592456,
           -1.5534253607711717,
           "In Between Love"
          ],
          [
           0.7421934086347556,
           -0.8041288309150585,
           "Naima - Take 2"
          ],
          [
           -0.005191887467596554,
           -1.3525366729180566,
           "It's Hard to Live in This Old World"
          ],
          [
           -1.191858731057672,
           0.8265647218162299,
           "Posmean"
          ],
          [
           2.0058272299531237,
           -0.8754765335575515,
           "Rab Rab Kaho"
          ],
          [
           0.7324243118199427,
           -1.8018797878102046,
           "He Nandlala"
          ],
          [
           -1.8090085240965692,
           0.631595362510327,
           "La Mezcla (feat. Totó La Momposina) - Long Edit"
          ],
          [
           -1.2966564358684054,
           -4.141782196593409,
           "Indian Flute"
          ],
          [
           -0.7003710672867955,
           0.545422068473604,
           "TBC"
          ],
          [
           -1.8945354813074373,
           -0.22687368825402898,
           "Ellipsis"
          ],
          [
           -1.1856606361509765,
           1.543344405896474,
           "金606 B"
          ],
          [
           -0.6593951001454612,
           2.155137460776864,
           "A New Day"
          ],
          [
           0.43978636205760135,
           2.1495917036513985,
           "XYZ - Peel Session"
          ],
          [
           -0.6661391103779495,
           1.4656774039920026,
           "Utility"
          ],
          [
           -0.35426367317122875,
           0.039588211966294085,
           "Ochen"
          ],
          [
           1.4491284121984473,
           -0.4240139838601388,
           "F-Wake"
          ],
          [
           -1.1791973877796753,
           0.35876690585783466,
           "Biblical Violence"
          ],
          [
           -1.3364907581849765,
           -0.182807563607907,
           "The Way - Single Version"
          ],
          [
           3.3840176029245073,
           -0.30923587050637685,
           "Our Prayer - Remastered 2001"
          ],
          [
           -2.1723336896940144,
           -0.045770964800634945,
           "WAY2"
          ],
          [
           -1.905149352533666,
           1.5138464820197295,
           "Get Centred"
          ],
          [
           -2.163644304602707,
           1.6347613132285912,
           "Liquify"
          ],
          [
           3.7753123164759694,
           0.4472447640908863,
           "Wireheading"
          ],
          [
           0.5037540779463983,
           -0.9225534142445698,
           "Chehre Pe Khushi Chha Jati Hai"
          ],
          [
           -0.9055451895074312,
           1.9264373142572067,
           "Anna Painting"
          ],
          [
           -0.4566798397485363,
           1.6965316534651915,
           "Last Bloom"
          ],
          [
           0.20063139531897142,
           -2.075061578174846,
           "Brazing the high sky full"
          ],
          [
           -2.400987979337742,
           -0.3909297240801359,
           "Midnight Hour with Boys Noize & Ty Dolla $ign"
          ],
          [
           -1.509324659437957,
           1.1149404262559972,
           "Lahaina Noon"
          ],
          [
           -0.9716230933107877,
           1.6246844234751374,
           "Bulbocavernosa"
          ],
          [
           3.664805075931586,
           0.541263618061138,
           "Breath"
          ],
          [
           1.9717387746918036,
           -0.26783477736862127,
           "Gut pluriarc with 3 Men's Voices"
          ],
          [
           1.9544239769149128,
           -0.31041155505950824,
           "Le piroguier"
          ],
          [
           -0.5351430570468015,
           0.31036772978952204,
           "Action Figure"
          ],
          [
           -1.5667139241646006,
           1.5368556284686865,
           "Total Confusion - Heavenly Mix"
          ],
          [
           -1.7047460990821226,
           -1.2548805954086184,
           "Wedding Dress - RTBF TV - 1973"
          ],
          [
           -0.6430931589969646,
           0.01326047684952239,
           "UFOF"
          ],
          [
           1.9727427752778293,
           -1.1928318027552511,
           "So Freely"
          ],
          [
           1.2480555131366615,
           0.08030545437623533,
           "Fly"
          ],
          [
           0.01362234373216718,
           0.13881334254383743,
           "Get Thy Bearings - 2005 Remastered Version"
          ],
          [
           -1.6911876569409223,
           -0.30997319918333477,
           "Light It Up"
          ],
          [
           0.5265470965566439,
           0.4827183105262295,
           "Fold4, Wrap5"
          ],
          [
           -2.360567603955905,
           -0.3428916243973235,
           "Back to Basics (feat. Skepta) (Floating Points Remix)"
          ],
          [
           -2.0218808011619553,
           1.1409120633510696,
           "Private Caller Remix (Instrumental)"
          ],
          [
           -1.5143012723667875,
           -1.0563299164765074,
           "Ringtone"
          ],
          [
           -1.64910643991872,
           -0.0425544539696923,
           "Gas Clubber"
          ],
          [
           -0.22856938772915553,
           1.2104542964915208,
           "Starry Nite Life"
          ],
          [
           2.0470025182323943,
           0.2725365943016647,
           "Chouchin"
          ],
          [
           -0.8264866283746432,
           0.8008560158859219,
           "Dreamer"
          ],
          [
           0.7501461465909492,
           1.0289819952951091,
           "Changes - James Blake Harmonimix"
          ],
          [
           -1.6103598150624172,
           0.7641200345029002,
           "Disaffection"
          ],
          [
           2.069336407714716,
           0.6199843079363822,
           "Anfa Dásachtach"
          ],
          [
           -1.3526210281941198,
           -2.6459953227177415,
           "Moulate Salef"
          ],
          [
           0.7963193933305197,
           -1.0012281044872144,
           "Simply Beautiful"
          ],
          [
           -0.14354024182473865,
           -1.5649931513691597,
           "John The Baptist"
          ],
          [
           0.11055580025904328,
           -2.085948429755212,
           "Abdul Malek"
          ],
          [
           1.0871572913533765,
           0.4047609030613978,
           "Bird Tribe"
          ],
          [
           -2.9861291678217112,
           0.018200906666515016,
           "Odds Against Us"
          ],
          [
           -2.334014348805095,
           0.18929353718253022,
           "Resolute"
          ],
          [
           2.828012728122188,
           0.0043962710485355065,
           "Part 2"
          ],
          [
           -0.38553383776655664,
           0.07851113837055618,
           "Part 2 - Live at Alexandra Palace, London 8th and 9th May 2019"
          ],
          [
           -0.8264866283746432,
           0.8008560158859219,
           "Dreamer"
          ],
          [
           -0.387882694548601,
           -1.2220684621281215,
           "Mildly Skeeming"
          ],
          [
           -1.5790237183496458,
           1.5356746215961559,
           "Coorabell"
          ],
          [
           -0.43556574264101566,
           1.8474454375413532,
           "Cotton"
          ],
          [
           -1.216424589352174,
           0.15381760638692438,
           "No Idol"
          ],
          [
           -1.879566615089987,
           0.9829182541005352,
           "Stress Test"
          ],
          [
           1.0703220335868462,
           0.656897224876411,
           "Muscovite Parricide Song"
          ],
          [
           1.5053436620107794,
           -0.7982108881533492,
           "What Color Is the Sky in the World You Live In?"
          ],
          [
           -0.5119929201859812,
           0.9966831642051864,
           "Scubaplus"
          ],
          [
           -1.454159551263669,
           1.547932657794522,
           "Rest - Pearson Sound Remix"
          ],
          [
           2.6271523184747263,
           1.0726057422563362,
           "Dawn Chorus"
          ],
          [
           0.462042313451196,
           0.9814723019044594,
           "Lampara"
          ],
          [
           2.996747638587738,
           -1.0442770082678747,
           "Glora - Instrumental"
          ],
          [
           2.2257850322239516,
           -1.0833264645854288,
           "Bonnie Boy"
          ],
          [
           2.745591857300005,
           0.7550159858057177,
           "A Raga Called Pat - Part IV"
          ],
          [
           -0.7456929277122563,
           2.0479407585903284,
           "Oxytocin"
          ],
          [
           0.04366691657955467,
           -0.17243123679108244,
           "NTU"
          ],
          [
           -0.28642100207417015,
           1.1903087847719342,
           "Xingó - Version 1"
          ],
          [
           -0.8623768388347142,
           1.4939971814865727,
           "LesAlpx"
          ],
          [
           -2.4453990143059143,
           0.2799712769437809,
           "Since You Been Gone"
          ],
          [
           -2.0638234455450597,
           1.2285833180634593,
           "If"
          ],
          [
           -1.6728556800265768,
           1.9104318028930207,
           "Feel My Butterfly - Ghetto Acid Mix"
          ],
          [
           -0.2635083940385311,
           -0.08052201937818639,
           "Paul's Ark"
          ],
          [
           1.653870829228147,
           -0.37772146451427147,
           "I Am Consumed"
          ],
          [
           -1.8910042685470685,
           1.416797676089859,
           "Lucys"
          ],
          [
           -1.1594509525468528,
           1.4834562824208057,
           "Missing Something"
          ],
          [
           4.055570846151581,
           0.36680993972882475,
           "State Forest"
          ],
          [
           -1.9585815510358306,
           0.7757134703326497,
           "Be Alone"
          ],
          [
           -1.5215807401410317,
           -2.206378156807792,
           "Million Dollar Mansion (feat. Young Thug)"
          ],
          [
           -2.0167066990050593,
           1.1702378398669588,
           "Faces on Ankles - Radio Edit"
          ],
          [
           -1.6455669330178286,
           1.5058618717117649,
           "Unhygenix"
          ],
          [
           -0.38462300164191665,
           2.6113269998221162,
           "Rated X"
          ],
          [
           -0.6869681529632874,
           1.1150176736480943,
           "Elephant Kiosk"
          ],
          [
           0.15844592192207713,
           -1.0227230237466134,
           "Chant"
          ],
          [
           -0.3249845245617893,
           -0.6187523450172412,
           "Ruthey Naina"
          ],
          [
           -1.9196768633443928,
           -0.08830027680737253,
           "Be Ya Girl"
          ],
          [
           -2.20290518751902,
           0.01938264842283616,
           "It Ain't Fair, But It's Fun"
          ],
          [
           2.888807825741484,
           1.03614237755475,
           "Interim I"
          ],
          [
           -0.9819093430182492,
           1.4937182171630508,
           "Amygdala"
          ],
          [
           3.4131481179609433,
           -1.162779880960404,
           "The Little Dancer"
          ],
          [
           -1.5017986956556701,
           0.7631603525881294,
           "U&ME"
          ],
          [
           -1.6581454774140691,
           -2.2432369187359464,
           "Pull Up (feat. Lil Uzi Vert & YNW Melly)"
          ],
          [
           0.6084060338313548,
           -0.7577370285385533,
           "Why Are You Sitting Here?"
          ],
          [
           -2.336737886096056,
           -0.3171170725097059,
           "Love - Marcel Dettmann's Black Gloves Remix"
          ],
          [
           3.497946986047241,
           0.755105805220239,
           "Atoll Song"
          ],
          [
           -1.2516681348943781,
           1.682576695904431,
           "A Gargantuan Melting Face Floating Effortlessly Through The Stratosphere"
          ],
          [
           1.9166143699727465,
           0.47240348229181955,
           "Track 10"
          ],
          [
           -0.7625288763380348,
           1.4121805256905975,
           "Rain On Tin"
          ],
          [
           -0.6342158031024033,
           1.469275056856842,
           "Back To Nature - Lobos On Wax House Mix"
          ],
          [
           -1.5671569426567886,
           -0.19839108441591272,
           "Money Power Respect"
          ],
          [
           -2.24768634250925,
           1.1345496555382992,
           "Fog FM"
          ],
          [
           2.485275887887895,
           -1.4733878271993803,
           "Fear, Uncertainty, Doubt"
          ],
          [
           0.37793683344827955,
           1.925767205581947,
           "Regional"
          ],
          [
           -1.1631717452998882,
           0.9874156300469094,
           "Didn't Take Long"
          ],
          [
           1.5223738982527149,
           -0.5200205145392859,
           "Folding"
          ],
          [
           -1.5577724077741304,
           1.2843968594419508,
           "Au-Pair"
          ],
          [
           -0.8944190188447468,
           -0.010108721933508799,
           "Drip"
          ],
          [
           -0.0172109499071014,
           -2.7416621449814875,
           "Whitewater"
          ],
          [
           1.8969560389995495,
           -0.7521185158298691,
           "Everytime"
          ],
          [
           0.2672486042973682,
           1.8924619857534026,
           "Circular Time"
          ],
          [
           2.522005920973511,
           0.22252251360890338,
           "Here I Am, Two Warships"
          ],
          [
           3.0098973392978885,
           -1.1255770087626118,
           "Down2ridE"
          ],
          [
           -1.8874282022078357,
           1.031781559736242,
           "D Flaw"
          ],
          [
           -1.5105054204345363,
           1.8498474519807553,
           "The Start Of Nothing"
          ],
          [
           -1.4363327186698631,
           1.734636595288258,
           "Beast"
          ],
          [
           2.1125925075949743,
           -4.0374610196469645,
           "Let Nature Sing"
          ],
          [
           -1.0999133616448686,
           1.7871393228666363,
           "Teenage Birdsong"
          ],
          [
           1.0648463773531547,
           -1.0084243203252519,
           "Male Capercallie Display"
          ],
          [
           1.4553078427956474,
           -1.7741231088703013,
           "Parc National de Corcovado, Le Soir à la Tombée de la Nuit - Corcovado National Park, Nightfall"
          ],
          [
           3.7647468157898385,
           0.6566021700821608,
           "Rossignol Philomèle (Nightingale)"
          ],
          [
           -1.0999133616448686,
           1.7871393228666363,
           "Teenage Birdsong"
          ],
          [
           1.7479703760790608,
           -2.5057118504114144,
           "Lemon Rumped Tinkerbird"
          ],
          [
           -1.1682056380392027,
           0.7539232965161313,
           "Time For You - DJ Sports Dub Mix"
          ],
          [
           -2.116898051349671,
           -0.8569979712603318,
           "Kasema Kihindi Bit"
          ],
          [
           0.4180586805259859,
           -1.1803567557139076,
           "Klangbau Jailbreak"
          ],
          [
           4.65016443928896,
           0.6403851494986068,
           "Atelier"
          ],
          [
           -0.11615576696817453,
           -1.2079691642162456,
           "CALL ME"
          ],
          [
           -1.5448652262074074,
           -0.9323519375496176,
           "Saat Alfarah"
          ],
          [
           -1.361044675119568,
           -0.33088293515326656,
           "Such Is Life"
          ],
          [
           0.6977742873057509,
           0.329585765404552,
           "Jfai"
          ],
          [
           0.3861232970975381,
           -0.5191257887573325,
           "Eruption - 2015 Remaster"
          ],
          [
           1.6310197449330934,
           2.758179544406102,
           "In My Room"
          ],
          [
           -1.0878239836752168,
           0.554504358565598,
           "Belter - Joy O Belly Mix"
          ],
          [
           -2.5308148084523703,
           0.8537858171356876,
           "Mute"
          ],
          [
           -0.26254912989055856,
           0.2539213766778527,
           "Ready Again"
          ],
          [
           3.609825835647044,
           -0.1940399757944382,
           "The Sweet Time Suite, Part I - Opening"
          ],
          [
           0.3641241535500309,
           -1.401580076645791,
           "°。 * ̧.·*  ́ ̈・*・ . °。· ́ ̈ ́ ゚ * ́ ̈・ 。・ ゚.  ́ ̈ ゚. .· ・*.。 * ̈°. ・*。 ̧.·*  ́.·* ̈.· ・ ゚. 。 * ́ ̈* ́ ̈ .·.·* ́ ̈.·*:・✧(๑ඕัළඕั๑)✧*:・s░ƪ."
          ],
          [
           0.5258576510410293,
           -0.4018177030681218,
           "؞ৢ؞ؖ؞ৢ؞ؖ؞ৢ؞ؖ؞ৢ؞ؖ؞ৢ؞ؖ؞ৢ؞ؖ؞ৢ؞ؖ؞ৢ؞ؖ؞ৢ؞ؖ؞ৢ؞ؖ؞ৢ؞ؖ؞ৢ؞ؖ؞ৢ؞ؖ"
          ],
          [
           -1.4915604478308175,
           -1.292609572657098,
           "ᐛᢰXᒣ ᐂ Mᒷᢳᐉ"
          ],
          [
           1.2077176883894223,
           0.6397744098468529,
           "╜φ°⌂▌╫§╜φ°⌂▌╫§╜φ°⌂▌╫§╜φ°⌂▌╫§╜φ°⌂▌╫§╜φ°⌂▌╫§╜φ°⌂▌╫§╜φ°⌂▌╫§╜φ°⌂▌╫§╜φ°⌂▌╫§╜φ°⌂▌╫§╜φ°⌂▌╫§╜φ°⌂▌╫§╜φ°⌂▌╫§╜φ°⌂▌╫§╜φ°⌂▌╫§╜φ°⌂▌╫§╜φ°⌂▌"
          ],
          [
           -0.3745566374520168,
           0.23886823749145514,
           "҉.·.·* ́ ̈.·*:・✧๑ඕั ҉"
          ],
          [
           -0.7447111237188561,
           1.7647712783804295,
           "̸ ̡ ҉ ҉.·๑ඕั ҉ ̸ ̡ ҉ ҉.·๑ඕั ҉ ̸ ̡ ҉ ҉.·๑ඕั ҉ ̸ ̡ ҉ ҉.·๑ඕั ҉ ̸ ̡ ҉ ҉.·๑ඕั ҉ ̸ ̡ ҉ ҉.·๑ඕั ҉ ̸ ̡ ҉ ҉.·๑ඕั ҉"
          ],
          [
           -1.2840861625733662,
           1.0875820705139496,
           "0181 000 0002"
          ],
          [
           1.3724397896307723,
           -3.7137324711023183,
           "Rancho Grande"
          ],
          [
           1.630056058679672,
           -0.31342281542640826,
           "Essence of Sapphire"
          ],
          [
           -0.34376378805344915,
           0.277430228231489,
           "Rinky-Dink O.S. Type Rip"
          ],
          [
           1.079446512665686,
           -0.8641419589811773,
           "Tempo de Amor (Samba do Veloso)"
          ],
          [
           -0.6509316470331543,
           -0.791304934994579,
           "Cavalo-Ferro"
          ],
          [
           0.3780727980383929,
           0.4413229815282909,
           "Skyla"
          ],
          [
           -1.8837753458951987,
           1.748671948476036,
           "Max De Fool"
          ],
          [
           -2.2784819509792347,
           -1.9755771735307393,
           "Afraid"
          ],
          [
           -1.375375956084276,
           0.7361377387558359,
           "Only Human"
          ],
          [
           -1.1472663522688977,
           0.4951788522896517,
           "Baharat"
          ],
          [
           -1.1069036766602331,
           0.6711908329461869,
           "Tour"
          ],
          [
           1.7408739993366633,
           -0.23204279182840215,
           "Released"
          ],
          [
           -1.5457132552987831,
           0.14019348536944656,
           "Vacuum Boogie"
          ],
          [
           -1.40368743967578,
           1.1453558694471624,
           "Orient Acd"
          ],
          [
           -1.2400441568484222,
           0.8533868878582063,
           "Untitled B2"
          ],
          [
           3.17630613856676,
           -0.23029525495232847,
           "Sea Slug"
          ],
          [
           -0.9905049581224163,
           -0.24018370391819466,
           "Lions of Juda"
          ],
          [
           2.685087252540116,
           -1.8526856133184193,
           "Still Space"
          ],
          [
           -1.0896065489385403,
           -0.5891923713262025,
           "18HUNNA (feat. Dave) - Four Tet Remix"
          ],
          [
           -1.2499266865096819,
           0.2723283277061815,
           "Dubber Funk"
          ],
          [
           -1.8516007565835269,
           1.3632370617115894,
           "Topological Errors"
          ],
          [
           -1.8829288295031248,
           -0.2884868324322428,
           "Speed It Up"
          ],
          [
           -2.400827256962082,
           -1.3716831316797458,
           "Poke It Out (with Nicki Minaj)"
          ],
          [
           3.248494064676069,
           0.38224309691656194,
           "Barcarolle"
          ],
          [
           -1.7380453010572254,
           -1.1985136528351537,
           "make up"
          ],
          [
           0.5903773217600614,
           -3.2751521661444554,
           "Okajouki"
          ],
          [
           -1.5308829401310744,
           -0.7788769060697501,
           "Pulp"
          ],
          [
           -1.1539383946509605,
           0.26132238052025647,
           "Can't You See?"
          ],
          [
           -2.3010041332424187,
           0.9799657460345835,
           "Escape Club 99"
          ],
          [
           1.4184612954069022,
           1.053246553777419,
           "Galapagos - Instrumental/Sadlands Demo"
          ],
          [
           4.254104105679292,
           -0.005665269227067583,
           "Monk's Theme, Pt. I"
          ],
          [
           -2.110826621856375,
           1.047512197147928,
           "Tickle Me Pink"
          ],
          [
           1.023825997760945,
           0.22448064528487408,
           "The Sound Of A Finished Kiss"
          ],
          [
           -1.7453785766999863,
           0.5305881325903764,
           "All Is Full of Love (Secondotted)"
          ],
          [
           1.123977683908199,
           -1.2294294641763903,
           "Camden Town Rain"
          ],
          [
           -0.1494910269448057,
           1.1069338092428767,
           "Tics - Four Tet Remix"
          ],
          [
           -2.3960042166615336,
           -0.7000289300911133,
           "Unicorn Purp (feat. Young Thug & Gunna)"
          ],
          [
           -1.5155127274994742,
           1.3377488343148314,
           "Jhe"
          ],
          [
           4.698334381741984,
           -0.0017828493980958729,
           "Tsuru no Sugomori"
          ],
          [
           -0.3836329798044387,
           -1.6056663883579916,
           "Aonde Voce Vai"
          ],
          [
           3.2666514352239076,
           -0.8671350041023248,
           "Plains"
          ],
          [
           5.55096576498262,
           1.0851211604285975,
           "I Will Surround You"
          ],
          [
           4.453590680319883,
           0.24803541645085184,
           "The Unquestioned Answer"
          ],
          [
           0.10922881246811096,
           0.9969650052952805,
           "K4"
          ],
          [
           -1.335386494184611,
           1.5130293000051642,
           "Invisible"
          ],
          [
           -1.5181973229804206,
           -0.3375317391943333,
           "FFS Why Though - Instrumental"
          ],
          [
           1.2174894734277246,
           -0.35223085893828665,
           "Lurk"
          ],
          [
           1.3357509707053934,
           -4.223002899410915,
           "John Coltrane Interview - (by Carl-Erik Lindgren)"
          ],
          [
           -1.1420411124528536,
           -2.0060299131477586,
           "Sweet Soul Music"
          ],
          [
           -0.9566530181039203,
           0.6073301377692784,
           "Goron Sound"
          ],
          [
           -0.9066911614217605,
           1.3911245448975655,
           "50005b"
          ],
          [
           3.52547889696268,
           0.035413259495961226,
           "Fragments D"
          ],
          [
           2.3976710220389585,
           -0.5276881164065235,
           "Washed Away Comedown"
          ],
          [
           -0.4277898973542898,
           1.0609046136129865,
           "Pearly-Dewdrops' Drops (12\" Version)"
          ],
          [
           -1.4790265519675367,
           1.9749735436483504,
           "Hundred Flowers Groove"
          ],
          [
           0.5911348027483588,
           1.4857817729740155,
           "Quadraluv"
          ],
          [
           -1.165367785554691,
           0.2692404912921038,
           "Barbarossa"
          ],
          [
           -2.254620178491269,
           -1.1843377002643365,
           "Godmother"
          ],
          [
           2.4976849206176346,
           0.9535565527335264,
           "Things Will Never B Tha Same"
          ],
          [
           0.4300012404315242,
           1.2473137018774976,
           "Bagpipes Drone - Sadlands Demo"
          ],
          [
           3.2654890211067773,
           0.8903309545104379,
           "Hanging Glass Structure"
          ],
          [
           3.055262931707167,
           -0.9745683714033294,
           "Love Yourself"
          ],
          [
           -1.6112443307305828,
           0.9210161655138942,
           "Earwig"
          ],
          [
           -1.7658667854235357,
           -2.0464108763170854,
           "Nowhere2go"
          ],
          [
           -0.984392047813118,
           -1.9473260303328734,
           "Ain't Got the Love (Of One Girl On My Mind)"
          ],
          [
           -0.8699799248705893,
           -1.6544151054912757,
           "Maracatú Atômico"
          ],
          [
           -0.8735502337397482,
           -1.0269113668716854,
           "Foundations"
          ],
          [
           -1.6814209135113407,
           1.9084342084493666,
           "iii's Front"
          ],
          [
           -1.5001614233892213,
           0.9207393007896202,
           "A Parade"
          ],
          [
           -0.9496348079481899,
           2.1094048748978347,
           "Leụ̄"
          ],
          [
           1.7349177135743634,
           0.5920719812399142,
           "America - Terrence Dixon Minimal Detroit Mix"
          ],
          [
           3.881758475296776,
           0.5884564921814812,
           "The Jumps"
          ],
          [
           1.2184435808903027,
           -0.44229884355506544,
           "Les dunes d'ostende (Original Motion Picture Soundtrack)"
          ],
          [
           -1.968790479138643,
           -1.411227217272338,
           "A No No"
          ],
          [
           3.672680561260908,
           1.2359806532753823,
           "Hyperborean / Patch Of Light"
          ],
          [
           -0.8282142709612318,
           0.8615232534192586,
           "Field Preaching"
          ],
          [
           0.4750207194329403,
           1.0817795486068544,
           "Symbian - Christopher Rau Remix"
          ],
          [
           1.603508483328102,
           0.8293205183100552,
           "All Alone"
          ],
          [
           -0.49478962608793525,
           -0.9348710157354156,
           "Fallen Leaves"
          ],
          [
           2.266842839622931,
           -2.7380822933146955,
           "Poem Daddy"
          ],
          [
           -0.8726226361806697,
           0.7218791528910702,
           "Sucker Punch - Four Tet Remix"
          ],
          [
           -1.815162064005012,
           0.3618571599506494,
           "Aardvark"
          ],
          [
           2.5057347710420492,
           -2.643320894322807,
           "Cheap Breakfast Special"
          ],
          [
           0.45934662567819035,
           -1.5500915039939278,
           "Deep Vein Thrombosis"
          ],
          [
           -2.580165332342904,
           0.7766092480652804,
           "Misunderstanding - Mj Cole Dubb Remix"
          ],
          [
           -1.4354814707327404,
           1.6103521469544495,
           "Stressed"
          ],
          [
           3.1356611964308976,
           -0.04689920698601701,
           "(Two Bonangs, Coated Spheres, Piano, Two Synthesizers, Natural Objects)"
          ],
          [
           2.457725844710841,
           -1.0492077252997805,
           "Sun in My Mouth - Recomposed By Ensemble"
          ],
          [
           0.6159954249669608,
           1.3299333118782282,
           "Glass Abattoir - End"
          ],
          [
           -0.3024638227583036,
           -0.653798873061242,
           "Climax"
          ],
          [
           -2.4458898641292413,
           0.37442354759797697,
           "What The-?"
          ],
          [
           2.963146084138259,
           -0.356110412460089,
           "Trance Mutation"
          ],
          [
           2.993777954833374,
           1.2127697736348042,
           "First Distance"
          ],
          [
           -1.2353142477492791,
           -1.1000531734433476,
           "Make Love to Me - 7\" Promotional Version"
          ],
          [
           2.1907614896399803,
           1.19872775980786,
           "Keyed out"
          ],
          [
           0.12028695450107003,
           1.3008373364938428,
           "Æon"
          ],
          [
           0.604078240138956,
           1.4955680360177783,
           "GBBVT1337152 - Len Faki Hardspace Mix"
          ],
          [
           3.962149615914003,
           0.7431376977144004,
           "Deep Sea (mysterious, lost, sunken ship)"
          ],
          [
           -1.8497657249581803,
           -0.3277236655548032,
           "Forssa Saeeda"
          ],
          [
           0.7601385114204424,
           -0.7680541631631345,
           "Sojourn"
          ],
          [
           1.8441296751563219,
           -0.050346199089791425,
           "Venice Bitch"
          ],
          [
           0.30887098099891724,
           0.9821155876190607,
           "My Angel Rocks Back and Forth - Live at Hultsfred Festival, 18th June 2004"
          ],
          [
           -1.020928472646217,
           1.4756585782642653,
           "Sound Control - Remix"
          ],
          [
           -1.792357108676047,
           1.7927225352587621,
           "Volume 2A"
          ],
          [
           0.6434226545001127,
           -0.8903088589509222,
           "Untitled A2"
          ],
          [
           0.711651132852699,
           -0.8386833073472423,
           "Shabaaz Qalandar"
          ],
          [
           -0.8115152624177089,
           0.3552931489509809,
           "Shahbaz Qalandar"
          ],
          [
           -1.682241142246642,
           -0.4338792533254343,
           "Lady - Just Tha Beat Mix"
          ],
          [
           -0.7825544201444731,
           0.027605933503043776,
           "128 Harps - Live in Tokyo, 1st December 2013"
          ],
          [
           0.030683639455342027,
           0.3210957644648529,
           "Our Navigation - Live in Tokyo, 1st December 2013"
          ],
          [
           1.7956482625232428,
           0.55619088908386,
           "Suspirium"
          ],
          [
           2.1150141647519134,
           0.14130819113341334,
           "Rag Des"
          ],
          [
           0.41112019381841725,
           -0.7816126122789377,
           "Two Thousand and Seventeen - Live at Funkhaus Berlin, 10th May 2018"
          ],
          [
           -2.054391320472128,
           -2.127465551864779,
           "Shot Gun Shack"
          ],
          [
           -0.005963375610982438,
           -1.5063549462680865,
           "carefree counter dronal"
          ],
          [
           -1.6243613813881839,
           1.209714798774602,
           "Body Move - Edit"
          ],
          [
           -1.2224564422168003,
           -0.21782598493769526,
           "Warm It Up (With Love)"
          ],
          [
           -0.9047108088359503,
           1.3666680683959755,
           "Blue Eyes"
          ],
          [
           -0.7232639058537692,
           -0.6766968559034816,
           "Wear Me Down"
          ],
          [
           3.264810369772408,
           0.1361565580942399,
           "The Great Yawn"
          ],
          [
           -0.8666609913359472,
           -3.7287743415061825,
           "Daughter - Live at Funkhaus Berlin, 10th May 2018"
          ],
          [
           -0.5628300399983294,
           1.3971509148848253,
           "LA Trance - Live at Funkhaus Berlin, 10th May 2018"
          ],
          [
           -2.0475077884745305,
           0.9164823198140718,
           "Baby (You're so Sexy) - Sexy Dark Dub"
          ],
          [
           -2.53295579497452,
           -0.059869813551457936,
           "The Club"
          ],
          [
           0.19351183929192803,
           -1.1201035882651735,
           "pete davidson"
          ],
          [
           2.0549925709294907,
           -1.246730967481705,
           "Desert"
          ],
          [
           3.8973424709336584,
           1.2658153706582693,
           "Danse du rossignol"
          ],
          [
           1.6262732883023991,
           1.1524655030644544,
           "Outside In - BBC Radio One 'Sounds Of The Seventies' Session"
          ],
          [
           1.5466789137993602,
           -0.872849664208788,
           "Waterfall"
          ],
          [
           1.9520736825951717,
           -1.4466295144642571,
           "Say When"
          ],
          [
           2.9152270063301073,
           0.010445773203843156,
           "Love Is For Always"
          ],
          [
           2.0215206612032217,
           -1.167259998150666,
           "Om"
          ],
          [
           -1.297409053500502,
           -1.0156907733869969,
           "Agricultural Revolution"
          ],
          [
           -1.5167552385480374,
           1.2886283535630383,
           "Unglued"
          ],
          [
           -1.3878859408537043,
           0.9361766165287366,
           "Action Break"
          ],
          [
           -1.664524842423047,
           0.6053985127714004,
           "De Siegalizer"
          ],
          [
           -1.2748084716532635,
           -1.6682957437860808,
           "Noumou Foli"
          ],
          [
           0.5510505231456153,
           -0.986003826320227,
           "Do You Know"
          ],
          [
           3.6373199298669787,
           -1.2674943606485403,
           "Syn-anthesia"
          ],
          [
           -1.1390535130007917,
           -0.7619892013502242,
           "Kong"
          ],
          [
           -1.2204325832478857,
           -1.2638746581506362,
           "Next Up 47"
          ],
          [
           3.607117206473731,
           1.7100294661894435,
           "Banteay Srey"
          ],
          [
           -1.2155709345269505,
           0.18634523541667738,
           "Always Ascending - Nina Kraviz House Remix"
          ],
          [
           3.033951720316828,
           0.6405559742698574,
           "Pith"
          ],
          [
           -0.5801732907498176,
           0.6450429976457986,
           "Why We Fight"
          ],
          [
           3.35881765687067,
           0.8095544031813586,
           "Envelop"
          ],
          [
           2.62061557567604,
           -1.7376431373898875,
           "Alley Flowers"
          ],
          [
           1.3333494880708034,
           1.7224237577356423,
           "Butterfly Effect"
          ],
          [
           -0.5242378173857494,
           -0.4219089558834737,
           "Rainbow Warriors"
          ],
          [
           -1.6653482854688628,
           0.8324510761741349,
           "Long Division"
          ],
          [
           -0.6070029350672225,
           -1.6206612403472576,
           "Jupiter Variation"
          ],
          [
           -0.7214733057262533,
           -1.6203285920190122,
           "Bubbles"
          ],
          [
           -0.8263964436115718,
           -1.0115869572315097,
           "Lazy Bones"
          ],
          [
           -1.8068517859371174,
           -0.7230047052294188,
           "Is It Because I'm Black? - Ja Mix"
          ],
          [
           -0.017891681054805944,
           -0.25043528510103147,
           "Paul's Ark"
          ],
          [
           -0.4755181248651077,
           -1.6335462804676388,
           "Pastoral Symphony"
          ],
          [
           -0.10958106646267514,
           -1.830348120704075,
           "Misharank (Finale) - Instrumental (Live)"
          ],
          [
           -2.1367172203824754,
           -0.45569655777030926,
           "Quick Eternity - Four Tet Remix"
          ],
          [
           -0.273436479586015,
           0.12572036714097837,
           "Arriving"
          ],
          [
           0.2388976456454543,
           1.1050922170942024,
           "Seneca Falls"
          ],
          [
           -0.6146843297222788,
           -0.6143163309424461,
           "Boy You Should Listen"
          ],
          [
           -2.5870102934972583,
           -1.0796306538033058,
           "There's A Break In The Road"
          ],
          [
           0.3031428486880154,
           -0.16814783111955806,
           "Untitled Original 11386 - Take 5"
          ],
          [
           3.4280841792151775,
           0.46267961675841934,
           "INTRA-8"
          ],
          [
           1.1548945588184887,
           1.3809589096392334,
           "Goodnight Morton"
          ],
          [
           -1.7724075301797462,
           1.9112124995825392,
           "Kosovo Hardcore"
          ],
          [
           -0.2555463417891502,
           -0.854262284408826,
           "The River’s Tale"
          ],
          [
           -0.4350869811052985,
           1.7126115905852006,
           "Nims"
          ],
          [
           2.9157480569049294,
           -0.23925488498318026,
           "Black Narcissus"
          ],
          [
           1.1099829238881505,
           -0.07082482913499505,
           "Limerence"
          ],
          [
           -1.6553676269008664,
           -0.5969455076991449,
           "Aldeia De Ogum"
          ],
          [
           -2.0821504256871677,
           -2.346196007984008,
           "What About Us?"
          ],
          [
           1.4791284007300063,
           -0.566599267558,
           "Yugoslavia"
          ],
          [
           -2.3673301612018465,
           0.7510221364399468,
           "Manchester"
          ],
          [
           -1.3919590802489237,
           0.9851627968093029,
           "Minute's To Midnight For This Planet"
          ],
          [
           1.9694032094377187,
           0.5305351740486818,
           "Sonnengeflecht"
          ],
          [
           -0.6560441222612137,
           0.22820935119608274,
           "Things Have Got To Change (Part 1 & 2)"
          ],
          [
           -2.752875960305858,
           -1.539580376681993,
           "Reunited"
          ],
          [
           -1.714017009249628,
           1.0188909445260252,
           "GRIT"
          ],
          [
           -1.994626512443771,
           1.1965035088231641,
           "Scubbu Babe - Original Mix"
          ],
          [
           -1.2121897290520283,
           -1.2136844550105403,
           "Can I Have It Like That"
          ],
          [
           1.818254171227288,
           0.88499248257574,
           "Immersion"
          ],
          [
           2.4659119517582355,
           0.6025757951079915,
           "Escape Music from City to Paradise"
          ],
          [
           -0.4564583641628849,
           -0.9208606971515674,
           "You Can Have Him"
          ],
          [
           -2.0591909534459996,
           -0.8580041238844791,
           "Can't Let Go"
          ],
          [
           -1.5108667765220314,
           -0.0894036665713273,
           "Rhythm Dance - Extended Version"
          ],
          [
           -2.8303736984398267,
           -3.1779802586305888,
           "Cops Shot The Kid"
          ],
          [
           -2.262033570860759,
           0.408843086706015,
           "Boxed In"
          ],
          [
           1.2946038906388881,
           -0.5692112131851463,
           "Toys 2"
          ],
          [
           0.7656454694359113,
           -1.3258431304595313,
           "Untitled Original 11383"
          ],
          [
           -1.4270092641751566,
           0.9375168222744285,
           "Flyby Vfr"
          ],
          [
           -1.7316241232790173,
           1.9589900794719184,
           "Slicing"
          ],
          [
           -2.046742327941823,
           -1.5327344643932044,
           "The Games We Play"
          ],
          [
           -0.9271297013020263,
           1.7088499980446559,
           "Donnie and Laurie"
          ],
          [
           1.9439462877808613,
           -0.8168496698992934,
           "N.E.W."
          ],
          [
           0.057250159247851956,
           1.2460117390144527,
           "Rev8617"
          ],
          [
           2.895611573913595,
           1.2486502261707195,
           "It Feels Like Floating"
          ],
          [
           -0.6102395069699754,
           1.5868640970723622,
           "Ol"
          ],
          [
           -1.50879352147842,
           0.5447999271101681,
           "Pferd - Melchior Productions' Zodiac Mix"
          ],
          [
           -0.8590426195598955,
           1.7913018427376,
           "Systems Align"
          ],
          [
           1.143875201235122,
           0.29021701090103164,
           "Afro Blue"
          ],
          [
           -1.4960890354935372,
           -3.85409261488175,
           "We're a Winner - Live @ Bitter End, NYC"
          ],
          [
           0.19808583926166368,
           -1.345507975530136,
           "Patterns"
          ],
          [
           1.9642619834321808,
           0.02147177405487534,
           "Love On A Real Train"
          ],
          [
           -1.7589428499518467,
           2.255368435103415,
           "OTT"
          ],
          [
           3.782925458257491,
           -1.8392638394999485,
           "The Dress"
          ],
          [
           -1.1089094073428594,
           1.9654261324680269,
           "Transition 2"
          ],
          [
           2.345892982505761,
           0.9324832406245962,
           "Never Saw Him Again"
          ],
          [
           -0.4874323726792689,
           1.0938277709749324,
           "Blue Train Lines - Nina Kraviz Tool 1"
          ],
          [
           -0.011114336711748508,
           1.353470333238775,
           "Disco 2021"
          ],
          [
           -1.1510092555300953,
           -1.2686911399409515,
           "Slowburner"
          ],
          [
           -1.3852102976509861,
           0.18561458748994158,
           "Battle Rhymes For Battle Times"
          ],
          [
           -0.23111942416865186,
           0.3398209760657101,
           "O Gato"
          ],
          [
           -2.50024092126212,
           0.8127589266017844,
           "Tornado Brain (Villalobos Inretro Baby Remix)"
          ],
          [
           -0.7474807096579573,
           -0.3004225647026748,
           "Transformational Gathering"
          ],
          [
           -1.565123523141997,
           1.1286176762111435,
           "Watercolour Challenge"
          ],
          [
           -0.4125391576076249,
           0.37432645962254285,
           "Forever Begins - Instrumental"
          ],
          [
           2.554617406765738,
           0.936653551691878,
           "Ralome"
          ],
          [
           2.9870859327200954,
           -0.9931514638633715,
           "Triboli Gao"
          ],
          [
           -0.5484412389505913,
           -0.8449226313282533,
           "Coming Home"
          ],
          [
           -1.0099428884727397,
           -0.1789727266685896,
           "Bongo Lumbo"
          ],
          [
           1.9926210647241338,
           -0.3480495719732269,
           "Les Trucks Du Moroir"
          ],
          [
           -0.376009079959517,
           -2.265104233849317,
           "Ups and Downs (Bonus Beat)"
          ],
          [
           1.1955100156086274,
           1.4204835145522101,
           "Quick Eternity"
          ],
          [
           -0.8805298337098414,
           1.9526014278645212,
           "Ichso - Original Mix"
          ],
          [
           1.7186238549623167,
           1.435205401493764,
           "Plastic Energy Man"
          ],
          [
           1.8743058637395558,
           -2.933765643207401,
           "Anzu"
          ],
          [
           -1.1932117994402782,
           0.8193202319388745,
           "Iron Man"
          ],
          [
           0.5622280741101932,
           -1.1379235521015234,
           "Love Song"
          ],
          [
           0.5080261938865854,
           1.128406246273876,
           "Chorus"
          ],
          [
           -0.8235810730255808,
           -3.617725851885159,
           "They'd Hang Upon My Every Word"
          ],
          [
           1.8319226706788718,
           -4.510020685881672,
           "Tremper"
          ],
          [
           -1.2293222800722952,
           -0.1780095579340028,
           "Fog"
          ],
          [
           0.6607081629654861,
           -0.6003187681992123,
           "A3"
          ],
          [
           -1.0260716302395336,
           1.9128382306370544,
           "Blue Train Lines - Nina Kraviz Main Mix"
          ],
          [
           2.629572910531118,
           -0.36041538656093375,
           "arrpfaded"
          ],
          [
           0.5462099066720729,
           0.18829038392341355,
           "Dub It"
          ],
          [
           -1.558300752276521,
           -2.5098530801144503,
           "Strange Things"
          ],
          [
           1.6880913519326983,
           0.20279630080301234,
           "Estudio Nº 1"
          ],
          [
           -0.1745395702276729,
           0.3297140812426869,
           "Song for My Lady"
          ],
          [
           1.7542600833377162,
           -0.6352209647185729,
           "Autumn Signal"
          ],
          [
           -0.45696645816862863,
           1.825713455537623,
           "Terracotta"
          ],
          [
           -0.0651928184474748,
           -3.0142831698871806,
           "Speaking in Tongues I"
          ],
          [
           0.16862437580913264,
           0.5787323232764492,
           "My Queen Is Anna Julia Cooper"
          ],
          [
           1.8945597676030002,
           0.016995433001024025,
           "Scene 6"
          ],
          [
           -1.617885812237287,
           -0.9182013392552114,
           "Aiiight Chill"
          ],
          [
           -2.1458205975853866,
           -1.6181860210570236,
           "1994"
          ],
          [
           -1.8280647352336665,
           -1.6482707802722927,
           "It Ain't Hard to Tell - Remix"
          ],
          [
           -0.4650926879013154,
           -1.163477320888789,
           "Astral Abuse"
          ],
          [
           -1.788893689779773,
           0.7384606126002465,
           "Glob"
          ],
          [
           -0.5859012543267499,
           1.7555996958320534,
           "Module - Original Mix"
          ],
          [
           1.0652036004726717,
           1.1160979938014544,
           "Tanzen"
          ],
          [
           -0.7447111237188561,
           1.7647712783804295,
           "̸ ̡ ҉ ҉.·๑ඕั ҉ ̸ ̡ ҉ ҉.·๑ඕั ҉ ̸ ̡ ҉ ҉.·๑ඕั ҉ ̸ ̡ ҉ ҉.·๑ඕั ҉ ̸ ̡ ҉ ҉.·๑ඕั ҉ ̸ ̡ ҉ ҉.·๑ඕั ҉ ̸ ̡ ҉ ҉.·๑ඕั ҉"
          ],
          [
           2.2220470727326243,
           0.4489941193107806,
           "Hello from the Edge of the Earth"
          ],
          [
           2.5516163094153046,
           0.05537632084545586,
           "Blood Of An American"
          ],
          [
           -1.0517693535392865,
           -0.7739342614574694,
           "You Better Stop It"
          ],
          [
           -1.7916347972932642,
           -1.5405563209141893,
           "Ta Tudo Ai"
          ],
          [
           -2.2324418146331197,
           -1.109489993756861,
           "Spanish Omigo"
          ],
          [
           -1.5185359464766186,
           -1.1460937463349823,
           "My Brother"
          ],
          [
           3.6747812167234764,
           1.0742547105766276,
           "Glueck"
          ],
          [
           2.1788942903478836,
           1.4292686104143213,
           "Music For Mallet Instruments, Voices And Organ"
          ],
          [
           -1.3887439155841512,
           1.370226118999079,
           "Opal - Four Tet Remix"
          ],
          [
           -0.7179448045257163,
           0.8369707945847141,
           "Emerald Rush - Edit"
          ],
          [
           -1.4378238141924315,
           0.6293423727689545,
           "Bone Sucka"
          ],
          [
           -0.25952756097534907,
           0.8387715939689748,
           "My Angel Rocks Back And Forth"
          ],
          [
           -1.118075545934343,
           -0.4770882910586459,
           "Cuttin' Headz"
          ],
          [
           -0.40557765570202653,
           0.08191712426375217,
           "Interlude"
          ],
          [
           0.2534165115924313,
           0.35589976327015854,
           "The Spiritually Immature Mansion"
          ],
          [
           0.4372275974362217,
           0.5792809412148813,
           "Spiral Dance"
          ],
          [
           0.01524026552442458,
           -1.6362980131937945,
           "Love Song"
          ],
          [
           -1.7760591515193775,
           -1.5968266064912506,
           "Tinindo Trincando"
          ],
          [
           1.9180405795182176,
           -0.6959766758625422,
           "Sentinela"
          ],
          [
           -1.0305260839163564,
           1.5937164655483091,
           "Shahbaz Qalandar, Pt. 1"
          ],
          [
           -1.4352014114881149,
           1.4321170365170226,
           "No Coast"
          ],
          [
           -1.0861991588546855,
           0.689338950458695,
           "Lea"
          ],
          [
           0.8946360017160265,
           1.0642564480644339,
           "You Are Loved"
          ],
          [
           1.8198887227371827,
           0.22738099744491758,
           "Peace (gat)"
          ],
          [
           4.1377378092963975,
           0.7289045199561385,
           "Here We Guard Upon the Soul"
          ],
          [
           -1.3982254570908725,
           -0.004821402370561712,
           "Kasino"
          ],
          [
           -0.847632357598888,
           2.6546620272116987,
           "Moved (Ricardo Villalobos Remix)"
          ],
          [
           3.481767939973958,
           0.45652612471425197,
           "Neptune Rising"
          ],
          [
           1.8799209182352785,
           -0.5507927254943434,
           "Small Blue Thing"
          ],
          [
           0.97585543949511,
           -1.473535464897999,
           "Uth Gaye Gawandon Yaer"
          ],
          [
           0.2848222122991237,
           -0.11600405984431511,
           "Siete Ocho - Remastered 2003 / Rudy Van Gelder Edition"
          ],
          [
           0.7443175683958978,
           1.1701227590594696,
           "Carrier"
          ],
          [
           0.5793746324588528,
           0.7953987081012512,
           "Earth"
          ],
          [
           0.5135697095490146,
           -0.1042636249160327,
           "Heron Dance"
          ],
          [
           -1.1920464683581267,
           0.7523117440708115,
           "Compression Session 1"
          ],
          [
           -0.4715421181747888,
           1.9536013369905507,
           "Nein König Nein"
          ],
          [
           -1.9119934162049006,
           0.3429561849624454,
           "Higher - Original Mix"
          ],
          [
           0.025426682584884792,
           0.7704945954315097,
           "Dedans-dehors: En phase / hors phase"
          ],
          [
           3.529040802990828,
           0.5539456557123149,
           "Alap"
          ],
          [
           -1.1263646816936979,
           -1.034140441092023,
           "Backseat (feat. Carly Rae Jepsen)"
          ],
          [
           2.1872566851297512,
           1.7024671766414827,
           "Chateau Rouge"
          ],
          [
           1.965241019410094,
           -0.13428146838694127,
           "New Grass"
          ],
          [
           -2.1986404353526816,
           -0.9721134426504792,
           "Hasabe (My Worries)"
          ],
          [
           -0.8890672623392117,
           -1.6138884147653512,
           "I Hear Voices Pt. 1 - 12\" Version"
          ],
          [
           -0.5360737183635165,
           0.39624243809641735,
           "I Hear Voices - 12\" Instrumental Version"
          ],
          [
           -0.5414222975903292,
           -0.04084851946540748,
           "Survival"
          ],
          [
           0.6319887732698771,
           0.07618130890661921,
           "John Coltrane"
          ],
          [
           3.7090573187505926,
           0.7976510144077886,
           "The Big Wind"
          ],
          [
           2.1921423225389227,
           0.826140249434685,
           "The Test of Time"
          ],
          [
           1.0718920112049513,
           1.2644387146151583,
           "Solitude"
          ],
          [
           -0.3924898418435812,
           -0.3607797097370802,
           "If The Car Beside You Moves Ahead"
          ],
          [
           0.7065459591597172,
           0.6790384382215628,
           "Strochnik"
          ],
          [
           0.7192825361857428,
           1.3488624484981466,
           "Slow Fade"
          ],
          [
           0.8500257661017481,
           -1.4137948223360928,
           "Never Ever Land"
          ],
          [
           -0.9430464566721032,
           -3.230011687774882,
           "Little Black Book"
          ],
          [
           -1.4953153559624992,
           0.38600152698962886,
           "The Gospel Comes To New Guinea"
          ],
          [
           -1.0913882650837834,
           0.8298793349781549,
           "Perfect Love"
          ],
          [
           -1.5707612595004063,
           0.6738608018672869,
           "First Plate 2"
          ],
          [
           0.7269701782355681,
           0.2573533682924039,
           "Desto"
          ],
          [
           1.612535449261751,
           -0.8661923790901772,
           "0181 000 0016"
          ],
          [
           1.4368395361232051,
           -0.328178823847988,
           "Vessel"
          ],
          [
           0.02925197620389089,
           -0.17051895608045609,
           "Change Your Life"
          ],
          [
           1.007932956407081,
           0.9052403997727915,
           "LA Trance"
          ],
          [
           -1.2955807074293821,
           1.9231256296918582,
           "Sunder"
          ],
          [
           -0.7004450463471681,
           1.602358037025837,
           "Cosmic Event"
          ],
          [
           -1.0301309628386932,
           1.3797640072951185,
           "Ganz schön muffig"
          ],
          [
           -1.3118925297667865,
           0.4159631671881888,
           "What"
          ],
          [
           -0.37628885864489714,
           -0.012213257662225294,
           "Our"
          ],
          [
           -0.4404776835018739,
           0.9783158224264115,
           "❍⊁❍⊁❍⊁❍⊁❍⊁❍⊁❍⊁❍⊁❍⊁"
          ],
          [
           3.0907289994882814,
           1.0400882363305088,
           "Microstoria Runtime Engine"
          ],
          [
           1.7360405517233621,
           -0.718150178016731,
           "Mhare Re Giridhar Gopal"
          ],
          [
           1.1496546020297118,
           -0.0326936688466351,
           "Mr. Knight - Mono"
          ],
          [
           -0.011524216276053772,
           -1.5764981124781452,
           "Great Day (Four Tet Remix)"
          ],
          [
           -1.3440395811958161,
           -1.0111590949807896,
           "Peace Begins Within"
          ],
          [
           0.29747786817156446,
           0.23865446239848007,
           "Will"
          ],
          [
           0.08194992438342187,
           1.4589627337567748,
           "Different Entities"
          ],
          [
           -0.9192204963024014,
           0.8444535799411439,
           "Stand Up! - Pangaea's Mix"
          ],
          [
           2.7655850463748233,
           -0.2230950138379946,
           "Lali"
          ],
          [
           -1.3316975448603265,
           -1.3427020491206914,
           "Tape 19.11"
          ],
          [
           1.7840173586796888,
           0.4768982424745189,
           "Demi-Final"
          ],
          [
           1.1073728610094964,
           -1.453229713547804,
           "Way Stone"
          ],
          [
           1.1449070869365103,
           -0.4876977164092548,
           "Touch me & die"
          ],
          [
           -0.5269783432563637,
           0.3944686921298205,
           "Gnog"
          ],
          [
           1.3772097662037976,
           0.7041367006350683,
           "Pour en finir avec le pouvoir d'Orphée: Kaléidoscope 2"
          ],
          [
           2.653813558205796,
           -0.7210879946760286,
           "Dont Talk (put Your Head On My Shoulder)"
          ],
          [
           -0.37779240114349955,
           0.5307419727649646,
           "Don’t Mind Wrong Keys - Original Mix"
          ],
          [
           1.1430529076172955,
           -1.0279477520966898,
           "La forme du temps est un cercle: 5/ cercles: No. 2"
          ],
          [
           -1.3448575932549336,
           1.341856509200495,
           "Let’s Do It"
          ],
          [
           -0.627738768590263,
           1.8368115473458368,
           "Senses On Fire - James Holden Remix"
          ],
          [
           2.1146661665108675,
           0.6367500555074809,
           "Virgin Ice"
          ],
          [
           -0.06731787969017315,
           -0.7398536136672181,
           "Two Thousand and Seventeen"
          ],
          [
           -0.7452244356991972,
           1.0088194921677858,
           "Atoms For Peace (Four Tet Remix)"
          ],
          [
           -0.8354185901794531,
           2.2704242002127106,
           "Soul Oscillations"
          ],
          [
           0.7221578962664643,
           0.4959613538884965,
           "Nothing 5-7"
          ],
          [
           -2.2370276373221984,
           -0.34895341523848683,
           "Mili Alay (Sway To Me)"
          ],
          [
           -1.6742956754201044,
           1.9252101780386925,
           "The Workers Are on Strike"
          ],
          [
           -0.7258050699281428,
           0.034184015453072904,
           "An Intention - Cumulonimbus Remix by Joe Goddard"
          ],
          [
           -0.4530663036966717,
           -0.8578803669849169,
           "Silver Ocean"
          ],
          [
           -0.060420877398225985,
           1.1835043930760387,
           "Tendency - Maxi Version"
          ],
          [
           0.4782507205147698,
           0.5674359545003455,
           "Reflections - From The \"Rocky\" Soundtrack"
          ],
          [
           -1.5415261480697549,
           0.33324043002199066,
           "Woman's Dub"
          ],
          [
           -0.6208844753671443,
           -1.4557713045526037,
           "RO"
          ],
          [
           -0.5333335991548714,
           -0.4722143608281941,
           "Strong as Death (Sweet as Love)"
          ],
          [
           1.2437228869651362,
           1.9797536765519745,
           "Plays John Cassavetes 2"
          ],
          [
           3.727489603307634,
           -0.16054685561374923,
           "Rumianek"
          ],
          [
           2.7563323369201003,
           -0.7693322686966151,
           "Moja"
          ],
          [
           1.192955032768728,
           1.448981743552772,
           "Keep Me Close"
          ],
          [
           3.8757208239526197,
           0.4525303854468379,
           "Water Copy"
          ],
          [
           2.923103714738258,
           -1.0655861981016121,
           "Features Creatures"
          ],
          [
           -1.981408090010487,
           1.1698526992124831,
           "Atlantis (I Need You)"
          ],
          [
           -0.8491707967317266,
           1.1415095747867066,
           "Road to Rio A2"
          ],
          [
           0.8682503326585271,
           0.5927050635991971,
           "Loop 005 - Original Mix"
          ],
          [
           -1.9192469685003888,
           0.4001880606329528,
           "A presa"
          ],
          [
           -1.4244518866408489,
           -2.89826094367461,
           "Wild"
          ],
          [
           0.1640676405359499,
           -0.4183150172595878,
           "Blues for Your Mama"
          ],
          [
           -1.3350295183788674,
           -0.15921530642754603,
           "Kilode Remix"
          ],
          [
           1.79561056479804,
           0.4825975009979795,
           "Flagged up (Mark Ernestus Remix)"
          ],
          [
           3.590847565440664,
           1.4135758058817536,
           "Timeless"
          ],
          [
           -0.32262593299179265,
           0.4704200710330715,
           "Makondi"
          ],
          [
           0.02515736677902465,
           0.14578512483291048,
           "Afric Pepperbird"
          ],
          [
           -1.2079637179850244,
           -0.12500069551120677,
           "The Call"
          ],
          [
           0.563676509840592,
           -0.5053666153048487,
           "Miss Viki"
          ],
          [
           4.365971961074922,
           0.9511141196561799,
           "Pastel Morning"
          ],
          [
           2.300542327806057,
           -0.2759626576719752,
           "Conference Of The Birds"
          ],
          [
           -0.9997151399002228,
           1.434986782454358,
           "Prologue / Love, Love"
          ],
          [
           1.1892392118226194,
           -1.567633362040296,
           "Chetu"
          ],
          [
           0.40512135561569335,
           -0.5385918197515351,
           "Tuesday Ends Saturday"
          ],
          [
           2.7197883475696063,
           1.020123301478641,
           "Ensenada"
          ],
          [
           3.8410512386651794,
           0.8559920245789464,
           "Song For Clare"
          ],
          [
           0.12119563784151673,
           1.373140384708656,
           "Keep It Like That - Tight"
          ],
          [
           1.0500972383890141,
           1.109731783515972,
           "Recat"
          ],
          [
           2.4282328605786785,
           -0.9704649376741844,
           "Anandvan Bhuvani - Original"
          ],
          [
           2.937146088701236,
           -1.1701830592452276,
           "Go Your Way"
          ],
          [
           2.5767029432189408,
           -0.761896275275,
           "Koichulrdyn Kongur Kuu"
          ],
          [
           0.13856908905668727,
           -2.0081310838720117,
           "It Doesn’t Make Sense"
          ],
          [
           -0.49642741018516096,
           -1.584781891136005,
           "Plenty of Action"
          ],
          [
           -1.7043460937243469,
           1.668844237676313,
           "One More Fluorescent Rush"
          ],
          [
           -0.9400774685222048,
           1.0606549058426298,
           "Las Palmas"
          ],
          [
           -0.034265027052816144,
           -0.5529188017235525,
           "Steady - Instrumental"
          ],
          [
           -1.4386208614945002,
           -1.7347311701423092,
           "Steady"
          ],
          [
           1.005664898957028,
           -0.2871508998296351,
           "Koirong Ku"
          ],
          [
           2.1450668943812268,
           1.4812550257971022,
           "Morning Splendor"
          ],
          [
           0.5258576510410293,
           -0.4018177030681218,
           "؞ৢ؞ؖ؞ৢ؞ؖ؞ৢ؞ؖ؞ৢ؞ؖ؞ৢ؞ؖ؞ৢ؞ؖ؞ৢ؞ؖ؞ৢ؞ؖ؞ৢ؞ؖ؞ৢ؞ؖ؞ৢ؞ؖ؞ৢ؞ؖ؞ৢ؞ؖ"
          ],
          [
           -1.1928495108683297,
           1.2703884159458372,
           "I Will Make Room for You - Four Tet Remix"
          ],
          [
           -0.18984327126998207,
           1.5072249182042197,
           "World"
          ],
          [
           1.677336348008959,
           0.25307601982885924,
           "✧₊⁎❝᷀ົཽ*ೃƪ❍⊁ƪ❍⊁༽ৣৢ؞ৢ؞ؖ ཥ"
          ],
          [
           0.3641241535500309,
           -1.401580076645791,
           "°。 * ̧.·*  ́ ̈・*・ . °。· ́ ̈ ́ ゚ * ́ ̈・ 。・ ゚.  ́ ̈ ゚. .· ・*.。 * ̈°. ・*。 ̧.·*  ́.·* ̈.· ・ ゚. 。 * ́ ̈* ́ ̈ .·.·* ́ ̈.·*:・✧(๑ඕัළඕั๑)✧*:・s░ƪ."
          ],
          [
           0.026252221609710222,
           0.26590151279607255,
           "ƪ. ◖ƪ❍⊁◞.|◗щ (*ᄋ△+⁎❝᷀ົཽ*ೃ:(꒡͡ ❝᷀ົཽ ꉺ ̈.·*:・✧⃛(ཽ๑"
          ],
          [
           5.080678838616875,
           0.04686653619815523,
           "Gentle Soul"
          ],
          [
           0.2534348296486159,
           0.4285436314467034,
           "The Animal Spirits"
          ],
          [
           -0.20874323664824151,
           0.8181621201100185,
           "The Neverending"
          ],
          [
           2.598046526403228,
           -1.2620703668152884,
           "Abide \"With Me\""
          ],
          [
           -0.9922056963081987,
           0.8685983531901738,
           "January 2014"
          ],
          [
           1.0860346498725832,
           0.32728851627427535,
           "Arthur"
          ],
          [
           3.688394678996329,
           0.22778852645357314,
           "Dumb"
          ],
          [
           1.5546253888889348,
           -0.7561948757829025,
           "Music for Alpha Waves, Assorted Percussion, and Automated Coded Relays"
          ],
          [
           -0.6182086380060992,
           0.5695250316541389,
           "Istian"
          ],
          [
           -1.7229665907870255,
           -0.6756108168897658,
           "Patek Water (feat. Offset)"
          ],
          [
           1.4132630839881344,
           -0.3044059990222561,
           "The Parting"
          ],
          [
           0.8549281895332191,
           0.9553229519570432,
           "Die Dinge Des Lebens"
          ],
          [
           0.4690466709797613,
           0.3201358173328976,
           "King Version"
          ],
          [
           0.021568531401851717,
           -4.926430415889246,
           "Don Cherry Interview - Ornette's Influence Pt. 1"
          ],
          [
           -0.9750002487540685,
           -0.6466708006438826,
           "Universal Mother"
          ],
          [
           -0.21330149328490564,
           2.962018457382925,
           "Ratio - Full Mix"
          ],
          [
           3.1108628386277135,
           0.06022938907135593,
           "Harold Working, Nicky Recovering / Nicky On The Stairs"
          ],
          [
           -2.0254029325317346,
           1.1037711030269415,
           "Medellin"
          ],
          [
           -1.1200888291230953,
           0.6614061960627927,
           "Jungle Tempo"
          ],
          [
           1.505553851686586,
           0.19836789610634895,
           "Travelin’ Man"
          ],
          [
           3.2208048219166034,
           0.555963626597301,
           "William Eaton Track 11"
          ],
          [
           3.2777510789350903,
           0.9164639774728833,
           "Riversong"
          ],
          [
           -0.9795199879947274,
           0.6828399119374173,
           "0181 000 0014"
          ],
          [
           0.4161312575563671,
           -0.6003710630818105,
           "Flight From Ashiya - Mono Single Mix"
          ],
          [
           -0.8096448722243781,
           -1.0128817260052139,
           "Vacuum Cleaner"
          ],
          [
           1.3811963182858544,
           2.4825939837237536,
           "Haute pression"
          ],
          [
           2.072350927430457,
           -1.401349714301908,
           "Seeds of a Forgotten Flower"
          ],
          [
           3.870879349680146,
           0.17470428166383484,
           "Don's Dawn"
          ],
          [
           0.018296395096440557,
           0.9111788156385566,
           "Kiuá"
          ],
          [
           1.8939338453315442,
           -0.4559543606204708,
           "Wheel"
          ],
          [
           -0.6102573006370207,
           0.9359126999211531,
           "MPH"
          ],
          [
           4.6683092674026705,
           -0.14825509266286782,
           "Falls 2"
          ],
          [
           -0.20437419574530766,
           0.7250248551816247,
           "Lush"
          ],
          [
           0.3641241535500309,
           -1.401580076645791,
           "°。 * ̧.·*  ́ ̈・*・ . °。· ́ ̈ ́ ゚ * ́ ̈・ 。・ ゚.  ́ ̈ ゚. .· ・*.。 * ̈°. ・*。 ̧.·*  ́.·* ̈.· ・ ゚. 。 * ́ ̈* ́ ̈ .·.·* ́ ̈.·*:・✧(๑ඕัළඕั๑)✧*:・s░ƪ."
          ],
          [
           3.2049792729483,
           -1.3647066170418596,
           "Autumn"
          ],
          [
           1.9379227556470462,
           -0.48402215019505446,
           "I Will Make Room for You"
          ],
          [
           -1.8094716921197918,
           0.9728241449865743,
           "Xing Tian"
          ],
          [
           -0.9190357868928959,
           -0.6097395793345126,
           "Je Suis un Sauvage"
          ],
          [
           -1.3574373467523932,
           -0.08953822807950317,
           "Papa"
          ],
          [
           -1.047679600168349,
           -0.9701259379296214,
           "I Want to Be Love"
          ],
          [
           -2.435546220997489,
           -0.759996472096249,
           "Flying High"
          ],
          [
           3.4347333735184873,
           1.0434359482959183,
           "Waterlust"
          ],
          [
           2.135327303785985,
           -0.3667923238998948,
           "Welcome"
          ],
          [
           1.7049917654479054,
           -0.9547855788248507,
           "Wrapped"
          ],
          [
           0.0011923854578169417,
           1.017598623210475,
           "Scientists"
          ],
          [
           3.635301445646342,
           -0.405702086390503,
           "10 Midi"
          ],
          [
           -0.13720174590841264,
           1.6138466757068417,
           "JNSN CODE GL16"
          ],
          [
           -1.1044827703191595,
           0.5650903118125129,
           "Carry On"
          ],
          [
           1.4191601285026036,
           -0.44608626656663775,
           "Carousel Of Bubbles"
          ],
          [
           1.208674946161323,
           -1.2034139724845085,
           "Danriye Achho Tumi Amar Gaaner Opare - Original"
          ],
          [
           2.4703754669748017,
           0.28258994130857906,
           "The Plum Blossom - Rudy Van Gelder Remaster"
          ],
          [
           2.805838607349067,
           1.1999725312215763,
           "Daisy"
          ],
          [
           -0.7159344306660097,
           1.482128981186897,
           "People Be Happy/Rhythm Dance - Audion's Highlight Mix"
          ],
          [
           -2.256279927176594,
           0.6506394120134397,
           "Camile From OHM Makes Me Feel Loved"
          ],
          [
           2.263602212015661,
           -0.7828300290454238,
           "・✧(๑ඕัළ*.。 * ̈°。"
          ],
          [
           -0.5166192233459208,
           1.4450295386855752,
           "Planet"
          ],
          [
           0.5572846543701312,
           0.07240350437080197,
           "░▓░▓░▓░▓░▓░▓░▓░▓░▓░▓░▓░▓░▓"
          ],
          [
           -1.643909463900466,
           0.874638641806549,
           "Each Moment Like the First"
          ],
          [
           2.371942636689671,
           -0.0311630965171033,
           "To Feel Your Best"
          ],
          [
           1.196189341162335,
           1.2594074887868574,
           "Fam/Famine"
          ],
          [
           -1.0497480644136552,
           -1.0835843951726873,
           "Rodent"
          ],
          [
           -0.6093351997025501,
           1.708666471874491,
           "SW9 9SL"
          ],
          [
           -0.4595583641283213,
           0.3644844617840746,
           "0181 000 0015"
          ],
          [
           -1.490147859246529,
           -1.3927749637720355,
           "Ghetto Kyote"
          ],
          [
           -1.4330036655495215,
           0.17715515407708876,
           "Opal"
          ],
          [
           -1.685722591710619,
           0.2617205629301227,
           "The Shape Of Trance To Come"
          ],
          [
           -2.5236264837871456,
           0.44841085996571123,
           "City Breeze"
          ],
          [
           -1.6798597226276422,
           -1.8722101125506923,
           "Firefly"
          ],
          [
           -1.6900858918867483,
           -1.6344837844597067,
           "Trouble"
          ],
          [
           0.4823186325829486,
           -0.8657508596654874,
           "Twin Stars of Thence"
          ],
          [
           -0.676603389201868,
           -2.0356555744709404,
           "Tapinha"
          ],
          [
           -1.722302884242427,
           -0.8996237726270162,
           "Poet"
          ],
          [
           0.1375433343774281,
           -1.5585228705884617,
           "Provider"
          ],
          [
           0.09139715266564402,
           0.3907249990170324,
           "Trails"
          ],
          [
           1.7997275094632559,
           0.513127469421167,
           "0181 000 0004"
          ],
          [
           -0.6093351997025501,
           1.708666471874491,
           "SW9 9SL"
          ],
          [
           -0.5166192233459208,
           1.4450295386855752,
           "Planet"
          ],
          [
           -0.9046037444418022,
           0.959799661376225,
           "0181 000 0003"
          ],
          [
           -0.3745566374520168,
           0.23886823749145514,
           "҉.·.·* ́ ̈.·*:・✧๑ඕั ҉"
          ],
          [
           -0.7002159551811878,
           0.9130109851345338,
           "TBC"
          ],
          [
           1.0268913476581982,
           0.6630691357549129,
           "PIGG"
          ],
          [
           -0.6215688872548686,
           1.0266642055962405,
           "Pass Through The Fire"
          ],
          [
           -0.7318626546171523,
           -0.34979948194222094,
           "To Follow & Lead"
          ],
          [
           -1.3035600953019082,
           1.6133397139707595,
           "Be Last"
          ],
          [
           -0.7515418295137807,
           0.3535586143108175,
           "Interest"
          ],
          [
           -1.9320623072699976,
           0.5685064393435899,
           "Vikings Invade the Mediterranean But Don't Leave"
          ],
          [
           -1.32113650562534,
           0.6673662677223765,
           "It's a New Day - Loop"
          ],
          [
           -0.6527797597054138,
           -0.8782648444462842,
           "Black Rhythm Happening - Remastered"
          ],
          [
           1.5828211902983795,
           0.041563221019898074,
           "Black Narcissus"
          ],
          [
           0.8032356007197863,
           0.3565952879315195,
           "Blind Willie"
          ],
          [
           1.9419639754728508,
           -1.7141967843268553,
           "Hard Time Killin' Floor Blues"
          ],
          [
           4.051508280986331,
           -0.06575420689055513,
           "Fifesine"
          ],
          [
           1.2735090993153244,
           -0.3259771605711738,
           "Secret Love"
          ],
          [
           1.5499180117384603,
           2.765590903752747,
           "Hajj"
          ],
          [
           -0.13177417105134645,
           -0.7580933527992543,
           "Two Thousand and Seventeen"
          ],
          [
           -1.32113650562534,
           0.6673662677223765,
           "It's a New Day - Loop"
          ],
          [
           -1.6441293371777164,
           -1.7817972734984189,
           "Teler Shishi"
          ],
          [
           -1.9070858146959848,
           1.2580368273864158,
           "Did You Hear the Owls Last Night?"
          ],
          [
           -0.7735588618854338,
           1.2712139949936314,
           "Roll with the Punches"
          ],
          [
           -0.7142174585217776,
           1.2432136450509608,
           "Intrigued By The Drum"
          ],
          [
           2.242630233725264,
           -0.8894708659150957,
           "Fantomoj de la Vitro Domo"
          ],
          [
           1.2555060515255607,
           0.32051077557031915,
           "Deep Summer - Burial Remix"
          ],
          [
           -0.3747604395617794,
           1.4367410731311316,
           "Everything Works Backwards"
          ],
          [
           2.072424139201385,
           0.5274563614277711,
           "Bi Lambam"
          ],
          [
           -0.5166192233459208,
           1.4450295386855752,
           "Planet"
          ],
          [
           0.058456131428454586,
           0.7639620372033364,
           "Audio Track 5"
          ],
          [
           0.9032247436448646,
           0.16591304534553783,
           "Water Music"
          ],
          [
           -1.7136419431536203,
           0.561715246091724,
           "Les Yper-Sound"
          ],
          [
           2.911543726308642,
           0.7894170199097351,
           "Path"
          ],
          [
           -0.762296548067794,
           0.7425797317478102,
           "Drumming - Four Tet Remix"
          ],
          [
           1.3257337484522038,
           -1.5180119482985537,
           "Ultra Marina (1988)"
          ],
          [
           -1.0804577086303162,
           -0.6363350819648476,
           "WOW"
          ],
          [
           1.8238590608117473,
           0.5497339379702205,
           "Hope - Instrumental"
          ],
          [
           1.8281528335688584,
           0.1458706126534947,
           "Q1.1 Edit"
          ],
          [
           -1.1340005073045036,
           1.8377386182389928,
           "You Are Wrong - Original Mix"
          ],
          [
           2.9838079897177967,
           0.8085751586670628,
           "Games with Shifting Mirrors"
          ],
          [
           -1.1541999748723843,
           -1.3584590274451342,
           "Keep on Keeping On"
          ],
          [
           -0.28474582951764876,
           0.739704851451511,
           "Non-Stop Home"
          ],
          [
           -1.2581630427263901,
           -1.7322331332238696,
           "Une morte dans la neige"
          ],
          [
           0.7966042444259809,
           -0.7663751218131123,
           "Orbit 416"
          ],
          [
           0.14508996499301352,
           -1.3316658436481865,
           "Open Aspect # 4"
          ],
          [
           1.746411900117215,
           -0.7166800458473356,
           "Vulnerability (Interlude)"
          ],
          [
           0.6300281995308866,
           0.2385642488647683,
           "An Intention"
          ],
          [
           1.8309109087908175,
           -1.862470892127857,
           "Starling Song"
          ],
          [
           3.0342046193213292,
           0.5509738154841177,
           "Lucerne Valley"
          ],
          [
           0.782872038442166,
           -0.36084193417491933,
           "BLIPS"
          ],
          [
           0.13845056435111727,
           0.06638289911685841,
           "Foundry"
          ],
          [
           1.3410070696295964,
           -0.4326116109536815,
           "Fostercare"
          ],
          [
           1.9720308399020168,
           -0.20623973477502078,
           "Dee"
          ],
          [
           0.340996423533138,
           0.5962719942263631,
           "To Here Knows When - Remastered Version"
          ],
          [
           0.6399910124415092,
           0.5258846368805528,
           "Wavey"
          ],
          [
           1.3775257879869014,
           -0.9159450071091882,
           "Missing You"
          ],
          [
           -0.13177417105134645,
           -0.7580933527992543,
           "Two Thousand and Seventeen"
          ],
          [
           0.39997230143948787,
           0.2291005721029132,
           "Regret"
          ],
          [
           1.5711966570888145,
           -0.6388740309727666,
           "Piya Nahi Aye"
          ],
          [
           2.9812273665665843,
           -0.5568839049235709,
           "Ai No Sono"
          ],
          [
           -0.4811811267266643,
           -0.36981359771754324,
           "Raga Bhopali - Gat Composition In Ektal"
          ],
          [
           1.6291787075399187,
           -0.7020615981030212,
           "In The Square"
          ],
          [
           -1.8756025538911612,
           0.25641626689105607,
           "Possessed"
          ],
          [
           -0.1287932601520655,
           1.262421416413616,
           "Time To Find Me (AFX Fast Mix)"
          ],
          [
           -1.0301874250143026,
           0.3549515995441391,
           "Blue Pedro"
          ],
          [
           3.4611075279905874,
           0.6037527236781849,
           "Virtually Part 3"
          ],
          [
           1.715164161077728,
           1.2142099053693647,
           "Unicorn"
          ],
          [
           3.5448513019236563,
           -0.6279852627574151,
           "Kites"
          ],
          [
           0.142527539769463,
           -1.7026416406919649,
           "Don't"
          ],
          [
           -0.10264518094806,
           1.140098485158714,
           "Pop 4"
          ],
          [
           -0.11760759851877212,
           -0.5453606254863442,
           "Flickering Debris"
          ],
          [
           -1.9317918035708197,
           1.2375679051796058,
           "A Cat And Her Solar Life - Original Mix"
          ],
          [
           1.8107050524955102,
           0.2701926765610371,
           "Appalachian Grove III"
          ],
          [
           2.2999138165026647,
           1.6530085995337573,
           "La Maison Des 5 Éléments"
          ],
          [
           0.14715520451493527,
           -0.9486411150305695,
           "Gol-e Gandom"
          ],
          [
           1.096225151325931,
           1.1987243521833406,
           "Agenda"
          ],
          [
           -0.9083128107254607,
           1.5195113788039205,
           "Tin"
          ],
          [
           -1.0382239912502194,
           1.1502792057629705,
           "I Believe"
          ],
          [
           -0.852135976054664,
           1.8929752606850494,
           "Glut"
          ],
          [
           -2.265297970196083,
           1.1851797663363124,
           "Music"
          ],
          [
           -1.9732187616919457,
           -0.21207523200939218,
           "Luv Music"
          ],
          [
           -0.9722768521903884,
           0.28822798220598006,
           "Shakey Jake"
          ],
          [
           0.7587124926063797,
           -0.35664543354320966,
           "To Nature's God"
          ],
          [
           3.1387610539804593,
           -1.2200543088463451,
           "I'd Swear There Was Somebody Here"
          ],
          [
           0.5832322056953559,
           -0.3231081288231391,
           "...Hours"
          ],
          [
           -1.6426088674111394,
           -0.5840588234776252,
           "Flowering in Threes"
          ],
          [
           -1.2085002266288567,
           0.5139550838035936,
           "Mra"
          ],
          [
           0.06265886297981385,
           0.9906773133040762,
           "Your Lady"
          ],
          [
           -1.3741271865290416,
           0.8585703803045474,
           "Shikako Maru Ten"
          ],
          [
           1.1890809746329103,
           0.49646127783567223,
           "Being - Ambient Mix"
          ],
          [
           -1.1814545180388987,
           1.8153089132733617,
           "Emotinium - Original Mix"
          ],
          [
           3.294331020144581,
           -1.5060154883593684,
           "Pollen Forms"
          ],
          [
           -0.21549983086695323,
           1.9141015508120187,
           "Second Blood"
          ],
          [
           -0.580143606290686,
           2.1140127290854602,
           "Manta"
          ],
          [
           0.909058249382482,
           0.9417295742843133,
           "Subtemple"
          ],
          [
           -0.19227017743142893,
           0.6402072234950323,
           "Corc"
          ],
          [
           -1.0900156596425228,
           1.589554252535671,
           "Still Early"
          ],
          [
           3.2269255112116983,
           -1.1759365643270137,
           "Syrinx"
          ],
          [
           -0.6578582314906002,
           0.7272141955837969,
           "A Red Rag to a Bull"
          ],
          [
           1.9568897766774078,
           1.6792922317810555,
           "T'Raenon - Version"
          ],
          [
           1.8211587737842667,
           -1.3940979796925494,
           "Untitled B3"
          ],
          [
           1.456282053367532,
           0.5433517650461644,
           "Sleepy Time"
          ],
          [
           -0.8442319040375477,
           -2.505422604661594,
           "Eu Não Sou Causa, Sou Consequência"
          ],
          [
           -1.5183246674345312,
           -0.9098026195638206,
           "Com Mais De 30"
          ],
          [
           -1.0531408184536744,
           -0.8113918759637341,
           "Strawberries, Raspberries"
          ],
          [
           -1.1522959227362242,
           0.09567858338285806,
           "Face to Face"
          ],
          [
           -1.7015710546329712,
           -0.8950849051436344,
           "Bad Liar"
          ],
          [
           -1.5812502287018997,
           1.878892749453412,
           "Boom Room"
          ],
          [
           0.43175288479810275,
           1.071126193694118,
           "Tarik"
          ],
          [
           -0.8044857148843765,
           -0.11811283220036675,
           "The Feed-back"
          ],
          [
           0.5452886188772021,
           0.708657445510959,
           "Separator (Four Tet RMX)"
          ],
          [
           -0.8247129010037969,
           -0.7201086094387757,
           "Right Now"
          ],
          [
           2.385329055515717,
           0.38584455238224663,
           "Eels"
          ],
          [
           -0.8089624787587835,
           0.6012343765070441,
           "The Valley of the Ultra Blacks"
          ],
          [
           -0.539507812077538,
           2.083577810667206,
           "Needle and Thread"
          ],
          [
           -0.4088951320441192,
           1.6409737641594084,
           "Heal Me"
          ],
          [
           -0.3229687388804911,
           -2.0173296434817933,
           "All Because Of You"
          ],
          [
           -0.7590492134749843,
           -1.125564091704424,
           "Don't Be Surprised"
          ],
          [
           -0.9484998652587415,
           -1.5249224805471717,
           "Vilole - Maisha Ya Mjini"
          ],
          [
           -0.4404187814134143,
           0.24832535194472846,
           "Reverse"
          ],
          [
           0.05213718893635035,
           1.6457309040753207,
           "DC12 A1"
          ],
          [
           -1.3815770031719843,
           0.8984829661414021,
           "OAR004-A"
          ],
          [
           -0.43923787007202053,
           2.000079081825223,
           "Benevolent Incubator"
          ],
          [
           2.4095099758032594,
           0.8782257282754201,
           "Three Etudes: Woodpecker, Murmuring Water, Blacksmith"
          ],
          [
           1.4089548544365282,
           0.6821122417988856,
           "Helicon 2"
          ],
          [
           1.0784551633161084,
           1.6130807460844934,
           "Wawa by the Ocean"
          ],
          [
           -1.3419854642798739,
           -0.5876344024988561,
           "Victoria's Veil"
          ],
          [
           -2.4528625990843627,
           -0.3198136697608206,
           "Showa Eski Riddim"
          ],
          [
           -2.5114350365463163,
           0.0216594424906812,
           "&Fate"
          ],
          [
           -0.6857027428130333,
           2.0803575860479846,
           "P O T SIDE A"
          ],
          [
           -0.7162330241990142,
           1.1763874714841487,
           "Lasers"
          ],
          [
           0.5898314502767613,
           1.375962744111447,
           "My Baby-Tachi"
          ],
          [
           -2.3369070330231683,
           -1.916584802793272,
           "Young Heartache"
          ],
          [
           1.456465045892131,
           -0.6544163745649662,
           "Seigfried"
          ],
          [
           1.7919461946278736,
           0.24471904479588075,
           "Hera"
          ],
          [
           0.4080824086639266,
           1.1462532671633117,
           "Drums Unlimited - Mono"
          ],
          [
           -1.6327182526525519,
           -2.388577381740475,
           "Mother and Child"
          ],
          [
           -1.5931910865577326,
           0.3836796454773143,
           "Crystal Catcher (weed)"
          ],
          [
           -1.955633697423299,
           -2.260997649161545,
           "Landslide"
          ],
          [
           -2.0572343165447933,
           -0.40370933521530644,
           "I'm Not Dancing"
          ],
          [
           0.46088343605507787,
           1.4732668587658209,
           "UNTITLED 7"
          ],
          [
           1.889847574125592,
           -2.881892612668662,
           "Markel Joavna Piera"
          ],
          [
           1.2239726977448955,
           0.7509567561693722,
           "Ever New"
          ],
          [
           -0.7475049647088882,
           -0.32221132917517664,
           "Now Is The Time For Love Pt 1"
          ],
          [
           -0.8572565619992343,
           -0.920647477543165,
           "Drums for Daryl"
          ],
          [
           -1.5303424213202925,
           1.8509837789711177,
           "A Violent Noise - Four Tet Remix"
          ],
          [
           0.8430141418040995,
           0.7890496478452889,
           "Reversing"
          ],
          [
           -1.5117551146532342,
           1.2830668567165275,
           "Pyramid - Atoms for Peace Remix"
          ],
          [
           -2.1362961672466807,
           0.8730554864120961,
           "KHLHI"
          ],
          [
           1.1250888104332106,
           -0.5011142591693812,
           "Cut Up Piano & Xylophone"
          ],
          [
           -1.4458841898550763,
           -0.1561323827026808,
           "128 Harps"
          ],
          [
           -0.15603586804888311,
           1.6846349295363152,
           "The Truth in You (Fourtet Remix) [feat. Fourtet & Erin Lang]"
          ],
          [
           -2.5657770344175974,
           -0.803460364018213,
           "As Serious As Your Life - Jay Dee Remix"
          ],
          [
           -2.5434098825379077,
           -0.8256446822934412,
           "Facety 2:11"
          ],
          [
           -1.2629522120098882,
           1.4082516540264547,
           "Calamine - Radio Version"
          ],
          [
           0.7914438084951566,
           -0.19128250892731158,
           "Our Time"
          ],
          [
           0.8662210462093028,
           0.2039611321231948,
           "Ba Teaches Yoga"
          ],
          [
           0.2656809181628647,
           1.710439905162731,
           "Matthew & Toby - Four Tet Remix"
          ],
          [
           -1.6332641618159947,
           1.1858893950755598,
           "Balloons - Kieran Hebden Version"
          ],
          [
           -0.7752090133165364,
           2.7240008648304577,
           "Anglepoised"
          ],
          [
           -0.5951609102847815,
           0.8684777077851822,
           "Lyman Place"
          ],
          [
           1.9167207219895637,
           0.5656659322828861,
           "Like Siamese Fighting Fish"
          ],
          [
           2.0413177391837656,
           -0.7176153935414257,
           "Unidentified Pair Of Birds"
          ],
          [
           -1.7579879261155424,
           0.9853057552217235,
           "Analog Track (Ghost)"
          ],
          [
           -1.4369718569719954,
           1.0518011758657275,
           "Gar's Highway"
          ],
          [
           1.0155100673985638,
           -0.6044888677592388,
           "Nerve Beats"
          ],
          [
           -2.129407440164836,
           0.9662941157106486,
           "Broken Cake"
          ],
          [
           3.2421368057271094,
           -1.351317175906207,
           "For You"
          ],
          [
           2.1247203038596028,
           -1.2227799674036344,
           "Princess Sonata:Flowers Laugh"
          ],
          [
           -1.0470724983931297,
           0.4627040665572061,
           "Life & Death in G & A (Pts. 1 & 2)"
          ],
          [
           -1.3678650985434564,
           0.9553603561223097,
           "Dream Baby Dream (Four Tet remix)"
          ],
          [
           2.329666352756322,
           -1.5734279915222549,
           "Northern Cardinal"
          ],
          [
           0.7532859241387393,
           -1.9442388545111549,
           "Quanto Tempo"
          ],
          [
           2.414662363110198,
           1.1568694880295205,
           "Fr3sh"
          ],
          [
           -0.2402746671815345,
           -0.5342468584066884,
           "Sekou"
          ],
          [
           0.394964861159373,
           -1.395027987171613,
           "I Never Loved a Man (The Way I Love You) - Demo"
          ],
          [
           -0.7893378961276503,
           1.4141473255920787,
           "Endaro Mahanubhavulu - Sri - Adi"
          ],
          [
           -0.12736634463490945,
           0.2095856982766865,
           "Stolen Hearts"
          ],
          [
           -0.9947664234847943,
           1.842880910309395,
           "Brace Yourself Jason"
          ],
          [
           2.8717420496199013,
           0.3795525054625941,
           "Circle"
          ],
          [
           -1.241183433174572,
           -0.9052354511669123,
           "Aur Paas Aa China"
          ],
          [
           1.6012701131495837,
           -1.4312330337490584,
           "Tuum"
          ],
          [
           -0.7023271781916943,
           1.6214070312529436,
           "Black Acid"
          ],
          [
           -1.487240755831529,
           0.10663678006369327,
           "Touch"
          ],
          [
           -1.3503090094626387,
           1.3341501529785436,
           "Lifting Weights"
          ],
          [
           -1.0385033864072732,
           0.46470002659047627,
           "Texler Acid"
          ],
          [
           1.3726078516866436,
           0.556315427755916,
           "Sei Note In Logica (parte 1)"
          ],
          [
           2.4564086820283912,
           -0.43549535063509554,
           "Despair Postlude"
          ],
          [
           -1.3270012867755943,
           -0.6365758074667561,
           "X22RME"
          ],
          [
           3.4911053371541794,
           1.989604370279079,
           "And the Darkest Hour is Just Before Dawn"
          ],
          [
           1.5682733642756137,
           -0.195434321224034,
           "Blueski - Remastered"
          ],
          [
           -1.7115412384843376,
           1.2950469460611709,
           "Faux - Four Tet Remix"
          ],
          [
           1.1303403151647524,
           0.21460276333624873,
           "\"Instrumentals\" Volume 2"
          ],
          [
           1.1040368604987094,
           -0.5693256081458257,
           "Take Me Home"
          ],
          [
           0.8975896084045625,
           0.2852520401277443,
           "feelings 2"
          ],
          [
           -1.3720339098740835,
           1.0550185438973965,
           "Ascii Bot"
          ],
          [
           -1.474907955168976,
           0.313592345309901,
           "CHAOS RAIN"
          ],
          [
           4.0992493382919575,
           -0.19975264423273256,
           "Aether"
          ],
          [
           -1.0863915695099027,
           -0.27840688884065595,
           "Terriya"
          ],
          [
           -2.314418087827441,
           -0.7519614518390285,
           "ZENO'S PARADOX"
          ],
          [
           0.1446540245136703,
           -1.0057362769540834,
           "Automatic Melody"
          ],
          [
           4.156418680770776,
           -1.0533414568701545,
           "Myth"
          ],
          [
           1.8157322637566462,
           1.526291830635741,
           "Spindrift"
          ],
          [
           -0.9332563311925891,
           -1.423095204209822,
           "Wanda Vidal"
          ],
          [
           0.4911728459012746,
           -1.2041023741094121,
           "Knowing That We Were Meant for Each Other"
          ],
          [
           -1.3643483053983336,
           -2.0236163540064784,
           "Got 'Til It's Gone"
          ],
          [
           2.6004480178191636,
           0.9204326433818656,
           "Wakes on Cerulean A"
          ],
          [
           1.3142809276375322,
           -0.17014626589716336,
           "Om Shanti"
          ],
          [
           1.3147078532983913,
           -1.1311068972814622,
           "When You Are in Love"
          ],
          [
           3.2088328664633345,
           0.26324562269002655,
           "Piel"
          ],
          [
           -1.2493029253603996,
           -0.16945738258600004,
           "Love and Unity"
          ],
          [
           -0.7574694436911535,
           -1.6272453386585972,
           "Harambe"
          ],
          [
           -0.9987301909513734,
           1.2466826371493924,
           "Raga Pahadi - Punjabi Folk Dhun - Dadra Tal"
          ],
          [
           2.4735141705449006,
           -0.48113128073817507,
           "Dream Scene"
          ],
          [
           1.726782907466972,
           -0.7190496303217879,
           "Creepers"
          ],
          [
           3.586367918232839,
           -0.5318113369172175,
           "Infinity"
          ],
          [
           1.2726707125373569,
           1.604126539030301,
           "Swimmer"
          ],
          [
           0.20508623508179774,
           1.2570393671455313,
           "Love Cry - Joy Orbison Remix"
          ],
          [
           1.6674145861628238,
           1.7258225212033294,
           "Before You Sleep"
          ],
          [
           1.0360176864658188,
           -0.05568096792668972,
           "Morning In Tokyo"
          ],
          [
           1.6101778812669407,
           0.7614764345361903,
           "Warm River"
          ],
          [
           1.7527857453781104,
           -1.3948497988832906,
           "Graveyard - 2007 Remaster"
          ],
          [
           4.166566274877791,
           -0.06204451607164123,
           "Music box, tuning fork"
          ],
          [
           2.6287861919293873,
           0.8811668436382987,
           "Heartburn Walz"
          ],
          [
           0.6076896394655245,
           -1.63311202664939,
           "Ruler of My Heart"
          ],
          [
           -0.36047258958097134,
           2.399751226475769,
           "Rainfall on Red Earth"
          ],
          [
           1.222548276219638,
           -2.2113856582724902,
           "I'll Wait For You"
          ],
          [
           -1.3080056540250433,
           -1.2538835871553837,
           "The Ballad of Dorothy Parker"
          ],
          [
           -0.1889537281677435,
           -1.2918941349145008,
           "Help Me"
          ],
          [
           1.4662731589641456,
           -0.10230672792453131,
           "Okonkole y Trompa"
          ],
          [
           -0.02434856547085904,
           -0.31789113841730887,
           "Slow Change - Remastered"
          ],
          [
           -0.24538612596488127,
           0.6910956068612163,
           "Hana"
          ],
          [
           -1.6603121199055153,
           -0.16275062597871362,
           "Ribbons"
          ],
          [
           -0.7373283406553985,
           -1.490664570149995,
           "Menace"
          ],
          [
           -1.0487999917853608,
           -1.8867848173167543,
           "RVK"
          ],
          [
           2.140887205890198,
           -1.2629026165472022,
           "Di - Li - Do"
          ],
          [
           2.060842971752129,
           -0.5921618444601274,
           "Song To The Siren (Remastered)"
          ],
          [
           -0.2541770387790574,
           -0.8439289229789725,
           "The Meaning Of Love"
          ],
          [
           0.2167820507607777,
           -0.9368751489260148,
           "Smiling Faces"
          ],
          [
           -1.1669986594269894,
           -0.4349105604639794,
           "It's Time To Break Down"
          ],
          [
           -0.49829336063404894,
           -1.6115154279313455,
           "Dooyo"
          ],
          [
           -1.2652419246044708,
           2.677885405639582,
           "Phylyps Trak II/II"
          ],
          [
           2.1054205179076777,
           1.6153800428073863,
           "Peace for Earth"
          ],
          [
           1.2243922897510624,
           0.22689244606791936,
           "Taqsīm Maqām Ājam"
          ],
          [
           -0.0020887141325086327,
           -0.596670149129433,
           "Furaha, Happiness"
          ],
          [
           0.9703654629597812,
           -0.4795384093788729,
           "Leila"
          ],
          [
           0.19702319962842876,
           -0.05774780890754582,
           "Seeb"
          ],
          [
           -2.084072541738572,
           -2.018382235910554,
           "Dabaylaha (Remix)"
          ],
          [
           -0.12613807284909473,
           -2.1915117995180116,
           "Cheshmaye Tou"
          ],
          [
           1.1534264131345975,
           -3.5328800334218924,
           "Personal Song (Somali Woman)"
          ],
          [
           0.7905717026455905,
           -1.694473061779851,
           "Indian Film Song"
          ],
          [
           -2.702711884379145,
           -0.5969333171540255,
           "Qalb Qalbi سارية السواس قلب قلبي"
          ],
          [
           -2.1384118306434234,
           -0.20540590516148577,
           "Wenu Wenu"
          ],
          [
           -1.4505920899998972,
           -1.2794791471124072,
           "Labej"
          ],
          [
           1.131217814233153,
           -1.486402923222519,
           "Madafan"
          ],
          [
           0.6167932446502221,
           0.3073355289637595,
           "Khaar"
          ],
          [
           1.1192457214726539,
           -0.23390194084718693,
           "Mutawal"
          ],
          [
           1.479222286444656,
           -4.725725554880989,
           "Libya: Goumri Oueld Eddounane"
          ],
          [
           3.046476963636843,
           -1.382993421004211,
           "Manyang Wet Himself"
          ],
          [
           2.0969303519284943,
           -1.7550737144953412,
           "Halil: Halil (Yemen)"
          ],
          [
           0.9039591006001506,
           0.39206124372952145,
           "Angel Echoes - Jon Hopkins Remix"
          ],
          [
           -1.1804938296388097,
           0.30007409855682865,
           "Basheeba"
          ],
          [
           -2.065113348698693,
           -0.807557169825737,
           "Oooh Baby"
          ],
          [
           -2.27831994696728,
           -1.0279585398167304,
           "Keep Her Happy"
          ],
          [
           2.000610203559729,
           0.14938548941817711,
           "Illusion - Alternate Take"
          ],
          [
           4.487925712313869,
           0.5052053156010351,
           "Tree Memories"
          ],
          [
           -1.4453542691356518,
           0.9594571133135292,
           "Vaporware 04"
          ],
          [
           2.318961304629643,
           -0.9863656413539482,
           "The Bold Grenadier"
          ],
          [
           0.25735856541843616,
           0.5788112945237324,
           "Zion Hill"
          ],
          [
           -0.2608785162624158,
           -1.8551081185336888,
           "Angel Echoes"
          ],
          [
           2.6088743533043743,
           -1.136312139906505,
           "Women of the World"
          ],
          [
           0.652502851774738,
           -0.6562572794264554,
           "Battle At Armageddon"
          ],
          [
           -1.7619641367928314,
           -1.0905333897264773,
           "Life Is Not Easy"
          ],
          [
           2.578513109350064,
           0.5886601501116194,
           "The Cycle Of Abuse"
          ],
          [
           3.8642253913640587,
           -1.8716075610992229,
           "Aria"
          ],
          [
           -0.2144526545766464,
           0.8963543973800285,
           "Body Drive"
          ],
          [
           -3.058356024391059,
           -0.6689009954049978,
           "Laptop (feat. Manga)"
          ],
          [
           -1.7612394510136657,
           0.47224676678449945,
           "Time & Space - 2011 Rub"
          ],
          [
           -0.90326541112166,
           0.47284042549695215,
           "Calypso Rock"
          ],
          [
           -0.7779426139244537,
           -1.4120419027829956,
           "Ire"
          ],
          [
           0.7210394200674414,
           -1.3666722789429109,
           "Chaudhvin Ka Chand Ho - From \"Chaudhvin Ka Chand\""
          ],
          [
           3.5729746958247306,
           -0.29044177683901007,
           "Bhimpalasri Alap"
          ],
          [
           -0.5915453990336552,
           -1.4810407037565896,
           "Love's Gonna Pack up and Walk Out"
          ],
          [
           -1.3094827574494121,
           -0.3367234473902361,
           "Slippin' Around"
          ],
          [
           -1.049518344377277,
           -2.415996271393816,
           "Seven Years"
          ],
          [
           -2.405474626205065,
           -0.9428967165851071,
           "Afe Ato Yen Bio"
          ],
          [
           -1.0643753158505087,
           -0.6503563621689232,
           "Sie Koumgolo"
          ],
          [
           -0.30705511535206603,
           -0.9249701923527559,
           "Orientasie"
          ],
          [
           -1.7733317968455589,
           -2.8203168860404917,
           "Young Godz"
          ],
          [
           -1.9185629928186674,
           -1.100338250365829,
           "Beats To The Rhyme - Instrumental"
          ],
          [
           -0.9842602355598207,
           1.7777978113160222,
           "Winona"
          ],
          [
           -1.4328804487614912,
           1.6447077023897487,
           "A Thousand Nights - Dubfire Quiet Storm Remix"
          ],
          [
           3.0963985856435663,
           1.7765060021801389,
           "Shishapangma"
          ],
          [
           -0.7707093580864043,
           -1.6249784124419964,
           "Celestial Blues"
          ],
          [
           -1.4235171578212826,
           -1.067335821145325,
           "Turn Off the Lights"
          ],
          [
           -1.665272269128988,
           -1.0891986095589279,
           "The Empress And The Ukraine King"
          ],
          [
           -2.1240007326124455,
           -0.6242416689645505,
           "Sound Industrial n°2"
          ],
          [
           -2.257370972323049,
           -0.8538990945460692,
           "Cuss Cuss"
          ],
          [
           -1.185662660200755,
           -0.7159046804219522,
           "Seperation"
          ],
          [
           2.1638695877972953,
           -0.2756731816328637,
           "Sleeping Braid"
          ],
          [
           0.8557915785920729,
           -0.5523993033950906,
           "Qanun Solo"
          ],
          [
           -0.26110787204399505,
           0.5038807240410659,
           "Strange Beauty - Instrumental"
          ],
          [
           3.0756509400551932,
           0.29404660116578735,
           "Eterna Presencia"
          ],
          [
           -0.35591282489404696,
           -0.5140365582332164,
           "I Don't Think I'll Ever Love Another"
          ],
          [
           -0.28218539259155984,
           1.3050882061155693,
           "Cylo"
          ],
          [
           -1.1047502296666154,
           0.5848517772513953,
           "Get Together - James Holden Remix"
          ],
          [
           -1.4560948443559114,
           0.3626416940213268,
           "Theme"
          ],
          [
           0.5323867618218425,
           0.19196654379136838,
           "Caecilia"
          ],
          [
           1.9434390723516186,
           0.336436006214578,
           "Obadiah"
          ],
          [
           1.3885274080807315,
           -1.7027716932995385,
           "Tzotzil - Bolonchon"
          ],
          [
           0.24602539775372567,
           -0.9667835260528924,
           "African Sleigh Ride"
          ],
          [
           -0.21166710248982717,
           0.2871156042203824,
           "Comrades"
          ],
          [
           -1.7184237366330053,
           -1.3345656283275358,
           "Stay The Night"
          ],
          [
           -0.6136288924185445,
           -2.6479737412356616,
           "Twice The First Time"
          ],
          [
           -3.063011539762058,
           -1.2529468564069508,
           "Still Tippin' (feat. Slim Thug and Paul Wall)"
          ],
          [
           -2.26108078665699,
           -1.7920561206393635,
           "Hellz Wind Staff (feat. Street Life)"
          ],
          [
           4.659008494108286,
           0.12360024977269143,
           "Prelude No. 8 (To The Memory of Edgard Varese)"
          ],
          [
           1.5668334719152093,
           1.3929716568176937,
           "Guinnevere"
          ],
          [
           -0.06887343172281166,
           -2.461276509309853,
           "Africa"
          ],
          [
           1.5804908441174106,
           0.10942957107233967,
           "Bijie Dream"
          ],
          [
           0.9564543870729761,
           1.7920377923296409,
           "Niobe"
          ],
          [
           -1.6222209528569864,
           1.2689603034896548,
           "1998 - Extended Mix"
          ],
          [
           -1.592979632239935,
           0.7175550721368876,
           "Win In The Flat World"
          ],
          [
           1.619755292793758,
           0.7624075586752409,
           "untitled"
          ],
          [
           -0.06817414766121932,
           0.04834261725697964,
           "Sutedja"
          ],
          [
           4.115450665305954,
           0.08339547625986067,
           "I'm Clean Now"
          ],
          [
           -0.15887488394040808,
           -0.4187001094105353,
           "Makondi"
          ],
          [
           0.8549333957990014,
           1.1131540949001337,
           "Krypton Tunning"
          ],
          [
           -0.5111452373015746,
           0.48007945688627995,
           "XMAS_EVET1 N"
          ],
          [
           -1.2728897560411068,
           0.4295875123041575,
           "Elementz of Houz Music - Actress Mix 1"
          ],
          [
           2.0392424678013907,
           -0.29949378295096857,
           "Greensleeves"
          ],
          [
           -1.0976471568468258,
           -1.5104332582209719,
           "Creation"
          ],
          [
           -0.5036240971212924,
           0.7148617121734087,
           "Creation Dubwise"
          ],
          [
           -1.3416017774698834,
           -0.23674652203211502,
           "Rien Ne Va Plus"
          ],
          [
           -1.0652535446694869,
           -2.1883256348663584,
           "LAX To JFK"
          ],
          [
           -0.6696969597704526,
           -1.0381943237445226,
           "So Jah Sey Dub"
          ],
          [
           -0.14041584907238316,
           0.4256389303204197,
           "Kalimba"
          ],
          [
           -0.20894472042097634,
           0.6226420220485479,
           "Drumelody (One)"
          ],
          [
           -1.6526415728348456,
           0.7786164612894805,
           "Surfer's Hymn - Actress Primitive Pattern Remix"
          ],
          [
           -1.6558271130552917,
           0.6650892459673171,
           "It Means I Love You"
          ],
          [
           -0.9957055414654887,
           -1.944157762364622,
           "When I See U"
          ],
          [
           1.9393217025468032,
           2.900352643861853,
           "Retrograde - Bonus Track"
          ],
          [
           0.2897535795547144,
           2.069869390092006,
           "Gamera"
          ],
          [
           1.1706504181605015,
           0.055884455242330794,
           "Lay Lady Lay"
          ],
          [
           1.0569546037478517,
           -1.6029723075231843,
           "Young Death"
          ],
          [
           -0.6006562474328379,
           -0.5809576370987015,
           "Treetop"
          ],
          [
           -2.6311351188007417,
           0.34801424184403773,
           "Don't Save Face - Ross From Friends Remix"
          ],
          [
           -1.0185427305087764,
           1.2188347152863508,
           "Raw Trax (Weekend Rush)"
          ],
          [
           -0.21989637140352217,
           -0.6477221231363425,
           "Skate Glug"
          ],
          [
           3.2663146369960128,
           0.5157335844375256,
           "#17"
          ],
          [
           -0.6815789978912559,
           1.8897902512629252,
           "Dannys Song"
          ],
          [
           -1.624139902396247,
           1.3118440084482679,
           "R.I.P. - DJ Hype Remix"
          ],
          [
           -1.3315304323241326,
           -0.48971363477818897,
           "Seven & Three Quarters - Skank"
          ],
          [
           -1.3000304221435743,
           1.0007331461430555,
           "Classical Illusion (Micron 7\")"
          ],
          [
           -1.235772258714532,
           -0.5237564301480626,
           "Money Money"
          ],
          [
           -0.9928512147758682,
           -0.4750654540676994,
           "This a the Hardest Version"
          ],
          [
           -2.1018708804474486,
           1.6798622021393768,
           "Pursuit Mix 3"
          ],
          [
           -1.7235389796014031,
           1.1496053255984782,
           "Higher Power"
          ],
          [
           0.5195284164209255,
           -0.3156028924788382,
           "Harry Lovett - Man Without a Country"
          ],
          [
           3.3140055118542078,
           -0.2337807126424331,
           "Fog"
          ],
          [
           3.4697789245287405,
           -0.22969740655634135,
           "1981 Yamaha CS70M"
          ],
          [
           3.7029873430485543,
           -0.9259757251719715,
           "In Fields"
          ],
          [
           2.132085986074384,
           -1.0925045964270668,
           "Just Like Tom Thumb's Blues"
          ],
          [
           -1.393992067501646,
           -1.2741031403077363,
           "If You Believe Your God Is Dead, Try Mine"
          ],
          [
           -1.5267110927492322,
           -1.6865036071892845,
           "I'm Sending Vibrations"
          ],
          [
           -1.032694340436785,
           -1.7545423099604998,
           "Baby Consuelo"
          ],
          [
           -1.1729461329350181,
           0.2750882594946711,
           "Dual"
          ],
          [
           -1.206936829285923,
           -0.471366828709766,
           "Viola Fora De Moda"
          ],
          [
           -0.03385236352582521,
           -1.3225707440423553,
           "Patumbalacundê"
          ],
          [
           1.209401194174035,
           -0.466125129851359,
           "Elements of Life"
          ],
          [
           0.2530153826965656,
           -0.24042848155807808,
           "Give the Drummer Some"
          ],
          [
           -0.6019137364957602,
           -0.4873182557652327,
           "Color Me"
          ],
          [
           -2.008158540654858,
           -1.429396134359763,
           "We’ve Gotta Find A Way Back to Love"
          ],
          [
           -0.00977307815131329,
           -0.17203780934231308,
           "Manhã"
          ],
          [
           1.3709568565156403,
           -0.39082352923796554,
           "Can't Find My Way Home"
          ],
          [
           3.5765242668242605,
           -0.07038622699040496,
           "Interspecies Smalltalk: Part 1"
          ],
          [
           3.2250127136881352,
           -0.10711485750499236,
           "Rice"
          ],
          [
           -0.69265465527264,
           1.7058244012485344,
           "DEGREELESSNESS"
          ],
          [
           -1.5934277184502026,
           1.841417137897565,
           "Rave Voyeur"
          ],
          [
           -0.861563268009139,
           -0.8674501398747047,
           "Been Thru a Lot"
          ],
          [
           0.27773619658128973,
           -0.43013507585132577,
           "Tadpole"
          ],
          [
           1.9325529100612442,
           1.491791051275259,
           "Conta"
          ],
          [
           2.1829554048822186,
           -0.13935135333729395,
           "Blue"
          ],
          [
           2.8521044314498822,
           -0.9182481607844998,
           "Piece for E-Flat Soprano Saxophone, Guitar, and Thumb Piano"
          ],
          [
           2.345589347364303,
           -0.4581470238252742,
           "And I A Fairy Tale Lady"
          ],
          [
           3.4564581734914666,
           -0.3309716312338351,
           "The Foggy Dew"
          ],
          [
           1.388945386158245,
           -3.448534753067694,
           "Orcas and Waterphone"
          ],
          [
           0.682763940451477,
           0.4690369062389814,
           "Immm - Live Version"
          ],
          [
           -1.3549042885970968,
           -1.014581028412934,
           "Hear You Clearly (Trilogy)"
          ],
          [
           -0.08199483445540763,
           -0.2093369011623097,
           "Slivadiv"
          ],
          [
           -1.9986382901161814,
           -3.528711985623123,
           "Whateva Will Be"
          ],
          [
           -2.3746312199421022,
           -1.1005129615915827,
           "Trying to Get Next to you"
          ],
          [
           0.032833808574260145,
           -0.260976874150746,
           "Searching For The Truth"
          ],
          [
           1.8171505430670212,
           0.6649859265681576,
           "Shabistan"
          ],
          [
           -0.19782552350433436,
           -0.08030249781058163,
           "Nursery Rhyme"
          ],
          [
           1.9346981142255093,
           0.42793608118399,
           "Manya"
          ],
          [
           0.17111457571469568,
           0.8689596994164296,
           "Rain Dance"
          ],
          [
           -0.8217625960928794,
           1.8212930000926,
           "Toninas - Ricardo Villalobos Remix"
          ],
          [
           0.7076354272262243,
           0.8255304834221925,
           "Untitled A1"
          ],
          [
           0.5647766742632058,
           1.566276616872139,
           "Sais"
          ],
          [
           -0.683264519430833,
           1.833650966072016,
           "Slippery Track (feat. John Ciafone)"
          ],
          [
           -0.22640641535291714,
           0.32523435413203067,
           "Get On Up!! - Theo Parrish' Late Dub"
          ],
          [
           -0.9039723952390961,
           -0.49306481457703333,
           "Baltimore Oriole - 1963"
          ],
          [
           -1.609675755471404,
           -0.5544762374123632,
           "It's Me O Lord"
          ],
          [
           1.340773286285005,
           1.000443364320574,
           "Caravan"
          ],
          [
           1.8615766289445788,
           -0.20120749139262922,
           "Call"
          ],
          [
           2.68825671172701,
           0.5124003056571514,
           "Four Pieces for Harp - Produced"
          ],
          [
           -0.4634683391506248,
           1.3484019613603853,
           "Untitled B1"
          ],
          [
           -0.48778017423834535,
           1.8015268226688914,
           "Falling Acid"
          ],
          [
           1.0016739035584128,
           1.5105590716938333,
           "Zebra"
          ],
          [
           -1.6615911815626825,
           0.9275654624662573,
           "What You On"
          ],
          [
           -1.8085059470734173,
           -0.23468073840746692,
           "Murking - Instrumental"
          ],
          [
           0.43458982171211263,
           1.2205968317825993,
           "Zoetrope"
          ],
          [
           2.6088743533043743,
           -1.136312139906505,
           "Women of the World"
          ],
          [
           -2.305995385995535,
           -0.22061915619634262,
           "Love$ick - Four Tet Remix"
          ],
          [
           -0.9607226868637502,
           -1.6669072585059523,
           "Asante Kwa Wazazi"
          ],
          [
           0.7371491598193546,
           -1.9950737535246272,
           "Welcome"
          ],
          [
           1.4035541856714024,
           -0.44398616932224333,
           "Amelia"
          ],
          [
           3.0611066926154953,
           0.3478521014322288,
           "Bouquet - Remastered 2006/Rudy Van Gelder Edition"
          ],
          [
           1.0090204232786109,
           -1.137714282945036,
           "Cry to Me"
          ],
          [
           -1.568258610454903,
           0.9076562287067091,
           "Digital ' Tzunami"
          ],
          [
           -1.54716929338805,
           -0.2975075787102781,
           "Paean"
          ],
          [
           2.3300217151943836,
           0.2489392206475676,
           "Tasha"
          ],
          [
           -1.5139769643671879,
           1.6447416519767017,
           "Funky Pulse"
          ],
          [
           -2.0604486050602544,
           -1.4889144280202529,
           "Kool FM - Champion Remix"
          ],
          [
           -1.7647891379872667,
           0.9710507894887885,
           "Sirens"
          ],
          [
           -1.0459952228664449,
           -0.7236698107539473,
           "Rush"
          ],
          [
           3.9814201377879406,
           0.477646996927856,
           "Prayer"
          ],
          [
           1.1050429258534555,
           1.4288411298436834,
           "A Love Supreme"
          ],
          [
           1.4920962742858663,
           0.08707404624074734,
           "see on see"
          ],
          [
           -0.13755665264842395,
           -1.4179530414031662,
           "Lotus Eater"
          ],
          [
           -1.0523459663777968,
           0.6765514321538788,
           "Bulb in Zinc"
          ],
          [
           -1.1473660461152542,
           1.3472071431492871,
           "Gabryelle (Refix)"
          ],
          [
           -1.7185285102909682,
           0.8483144234869319,
           "Drum Dance"
          ],
          [
           -0.604674139963273,
           -1.1691172766694282,
           "Second Line March"
          ],
          [
           -0.7952102508916488,
           -0.3902811318045236,
           "Exchange Part 1"
          ],
          [
           -1.8445924997645062,
           -0.0021349104852655455,
           "Baby Blood"
          ],
          [
           -0.8760137358719828,
           0.08630895256322337,
           "Patience"
          ],
          [
           -1.8140572439205198,
           0.3093529617994028,
           "Secret Friend [Full Length Version] - 2011 Remaster"
          ],
          [
           -0.5363064576653702,
           1.0882540264002534,
           "Prison Song feat. Marcin Öz"
          ],
          [
           -0.5300292925223565,
           1.8348195350437602,
           "30003B"
          ],
          [
           -1.0543560701052965,
           1.7373188165131388,
           "Dark Synthesis - Tyrell Remix"
          ],
          [
           2.0120751934930867,
           0.5360605554580068,
           "Eyes Closed"
          ],
          [
           3.2371265046613473,
           0.165506138228936,
           "Bliss"
          ],
          [
           3.9885655032117433,
           0.32531160405768184,
           "Heyr Himnasmiður"
          ],
          [
           -0.9062736144396925,
           0.5153081371097311,
           "Flutter"
          ],
          [
           -1.278062612824689,
           -2.3431128514923745,
           "E5"
          ],
          [
           -1.2604891986806186,
           -1.570312515133347,
           "The Boy Is Mine"
          ],
          [
           -1.0544719794992783,
           -2.1232093151257136,
           "So Sick"
          ],
          [
           -2.129366992849304,
           -1.012100498454593,
           "Best Friend"
          ],
          [
           -0.588644539144547,
           0.4940487943597526,
           "Glide Away"
          ],
          [
           2.1465240796369907,
           -0.33543087556516055,
           "The Anchor Song (Black Dog Mix)"
          ],
          [
           1.0216867524691269,
           0.060151855004573075,
           "Message From The Nile"
          ],
          [
           -1.1947329984246222,
           0.11081200601851446,
           "Friends And Neighbors"
          ],
          [
           -0.653469832043817,
           -1.9669820182386044,
           "Falling In Love With A Dream"
          ],
          [
           -1.406398985311224,
           0.7259633190389396,
           "Don't Let My Rainbow Pass Me By - Club 12\" Mix"
          ],
          [
           -1.5973881887957453,
           1.094170805639453,
           "Land Of Confusion - Confusion Mix"
          ],
          [
           -1.5534537577300778,
           0.16833707095913159,
           "Walk 4 Me - Original Mix"
          ],
          [
           -2.8419470066875623,
           0.45164233888184446,
           "Opposite People"
          ],
          [
           -0.44577935589493634,
           -0.7711146763502105,
           "Make It Fast, Make It Slow"
          ],
          [
           0.8633406136106451,
           -1.1384247736014783,
           "Fai Yen"
          ],
          [
           2.445767532214835,
           -0.8738344812128978,
           "Ivana"
          ],
          [
           1.36360433150978,
           0.9709329230133783,
           "Peace On Earth"
          ],
          [
           2.0051741745250933,
           -1.8964877107680598,
           "Don"
          ],
          [
           -1.8346490474527901,
           -0.017963248178175677,
           "Kernel"
          ],
          [
           -1.1230854282148572,
           1.6392629740722917,
           "EQD#002A"
          ],
          [
           -2.1371276700440283,
           1.5170186936523304,
           "Freeze Cycle"
          ],
          [
           -1.8206084832384155,
           0.9533508498920606,
           "Untitled 3"
          ],
          [
           -1.5686880777278955,
           1.1404415235489322,
           "Modular Pursuits - Daphni Remix"
          ],
          [
           -0.81425996116614,
           0.714604832049576,
           "Yermande (Kick and Bass Mix) [with Mbene Diatta Seck]"
          ],
          [
           -1.4339339285920174,
           0.5347554848907945,
           "MMM Meets Tshetsha Boys"
          ],
          [
           -0.6826738972969707,
           -0.8884304572241924,
           "Wangni to Itinigo"
          ],
          [
           -1.3717115227258665,
           0.45326494209211665,
           "De i comahlee ah"
          ],
          [
           0.9036676742479084,
           -0.6917496530477152,
           "Earth Blossom"
          ],
          [
           -0.9956124173001782,
           0.753129002187449,
           "Orko"
          ],
          [
           0.32886248633934984,
           0.7844853959206065,
           "If I Had Been Able - Fridge Remix"
          ],
          [
           -1.2624813443309824,
           0.8596028009095869,
           "The Parakeet Beat"
          ],
          [
           1.6574258968897417,
           0.7988534220050557,
           "Blue-Green Arrow"
          ],
          [
           -0.9702706562697715,
           -0.4921584900454224,
           "Mortgage on My Soul (Wah-Wah)"
          ],
          [
           0.7730364946927565,
           -1.7633803466881823,
           "Raga Madhuvanti - Gat In Dhrut Teental"
          ],
          [
           1.7770584660559137,
           0.8502963901926482,
           "N.E.W."
          ],
          [
           1.7280705210546718,
           -0.3888653403431525,
           "Ida Lupino"
          ],
          [
           -1.1506599592741502,
           -1.167971324454726,
           "Glue Fingers"
          ],
          [
           0.2482219165377998,
           -0.3128099650381436,
           "Apocalipse"
          ],
          [
           -0.13600643769145293,
           -1.1266723887428178,
           "Raagank (Classical Melody Moods) - Instrumental (Live)"
          ],
          [
           0.4358785195468909,
           -0.6482793782637212,
           "Aandhi, Pt. 1"
          ],
          [
           -1.429441298552025,
           -1.479130717911857,
           "Sote Sote Aadhi Raat"
          ],
          [
           -1.4653275898847296,
           0.7627542175970505,
           "Diwali Rhythm"
          ],
          [
           -0.21100771592903506,
           -1.9607126284503202,
           "Gold"
          ],
          [
           -2.5277519240749586,
           -1.5128935862207682,
           "Didn't You Know - Radio Mix"
          ],
          [
           -2.4192466520751488,
           -1.365889570046869,
           "Let's Ride"
          ],
          [
           -2.0022608437978797,
           -2.5806739037180635,
           "Ride Around Shining (feat. Ab-Liva)"
          ],
          [
           -1.6215153721052646,
           -2.251168373432375,
           "Step (Dj Roddy Rod)"
          ],
          [
           -1.436279085620642,
           -1.1557950596958133,
           "Sao New Look"
          ],
          [
           0.03308057558070566,
           0.49939532338493775,
           "Moma"
          ],
          [
           -2.5089301225665093,
           -0.19392101908706605,
           "Manila (Manitoba Mix)"
          ],
          [
           -2.4329339863844757,
           0.41106139784745604,
           "Style - 1996 Original Dub Mix"
          ],
          [
           -1.0426583108933407,
           1.2672748440425143,
           "Ground Collapse"
          ],
          [
           -2.39550656534038,
           -0.3710562964332759,
           "The Professor Here"
          ],
          [
           -1.8956373851156445,
           0.6920973086549623,
           "New York Apple Jack"
          ],
          [
           0.02167496023990704,
           -0.7074915575094938,
           "Sweet Songs"
          ],
          [
           -1.6046561132463821,
           -0.4084531179190389,
           "Taken by Love"
          ],
          [
           -1.059021074544264,
           -2.5046798317939514,
           "(Baby) Don't Do This To Me"
          ],
          [
           -1.293885026223141,
           -1.3006117021911887,
           "Don’t Challenge Me"
          ],
          [
           -2.869659018236168,
           -1.5269922848105626,
           "Dogs Of War"
          ],
          [
           -2.374073171150359,
           -3.328798478675615,
           "Hydrant Game - Jaylib Remix"
          ],
          [
           1.569642485435826,
           0.8154910658421057,
           "3/4 Skip (Trip-Up)"
          ],
          [
           0.764313350185268,
           0.059602508733495395,
           "Gambang Suling"
          ],
          [
           1.8453163364558738,
           -1.6860855540386392,
           "Wasser-Wunder (Water Wander)"
          ],
          [
           -0.7599839489217785,
           -4.1402131863335,
           "Central African Republic: Mombimbi (Extract)"
          ],
          [
           -0.05834318931417922,
           -0.3296411404012188,
           "One Dreamy Hum"
          ],
          [
           -1.5861957653693115,
           1.107641072254627,
           "Ridley Schöttt"
          ],
          [
           1.0151901552246663,
           -1.0275319287540383,
           "Wild Love"
          ],
          [
           0.7241547641117966,
           -0.4029608314997487,
           "Kiss It Better - Four Tet Remix"
          ],
          [
           -1.64278897956052,
           1.4552005469127536,
           "I've Always Liked Grime"
          ],
          [
           -1.926070325878654,
           -0.5568909003974132,
           "One and One"
          ],
          [
           3.4324713480511737,
           0.5605328474326073,
           "As the Earth Kissed the Moon"
          ],
          [
           -1.240005145982509,
           -0.4099063202162546,
           "You're a Melody - Extended Disco Version"
          ],
          [
           -1.1344959363758913,
           -1.435663937032529,
           "You Make Me Nothing"
          ],
          [
           3.275209563361158,
           0.377906404043893,
           "When I Try, I'm Full"
          ],
          [
           -1.0159558761920826,
           0.6262986526244958,
           "Back To The Start - Herbert"
          ],
          [
           0.5410849260390319,
           1.3876107689100938,
           "4 Elements"
          ],
          [
           -0.9662168071819033,
           1.2892867617859332,
           "Express"
          ],
          [
           0.34931275627604746,
           0.6359887808346718,
           "From Dream To Daylight"
          ],
          [
           -0.2134089681801115,
           -1.1880247164474835,
           "Everlasting Love"
          ],
          [
           3.4449687358242507,
           -0.07617480163015643,
           "Flotsam"
          ],
          [
           1.1118803785193099,
           -1.374658765710187,
           "Don't Interrupt the Sorrow"
          ],
          [
           0.27844234722112016,
           0.04800500904713304,
           "Desrtroy the Nihilists Picnic"
          ],
          [
           2.7157751165324178,
           -0.4071367672371835,
           "Raindrops, Pt. II"
          ],
          [
           -1.7618617478220173,
           1.1613045332974448,
           "Knowledge Of Selfie"
          ],
          [
           -2.161477673129291,
           -0.6806940771406179,
           "Can We Try Love Again"
          ],
          [
           -1.417555752741961,
           -0.9867017630208043,
           "Ufo"
          ],
          [
           -0.5047247954411112,
           1.4129959597201862,
           "A213"
          ],
          [
           -1.5073265954587256,
           1.6087426553628517,
           "OAR003-B - Original Mix"
          ],
          [
           1.1201833232628888,
           -0.5266437653811408,
           "Man From Tanganyika"
          ],
          [
           -1.8588385992232646,
           -2.0408443321077048,
           "On and On - Premier Remix"
          ],
          [
           -1.9630660452064361,
           -2.1299695393379947,
           "The Nod Factor"
          ],
          [
           -1.2983741878903048,
           -2.453986709966445,
           "Money Motivated Movements"
          ],
          [
           0.40289676348143966,
           -1.139209028818521,
           "Tolou Badou Ndiaye"
          ],
          [
           0.5218336097414747,
           1.1182621670909887,
           "Morning Prayer"
          ],
          [
           -0.6892425257312695,
           0.48415599268940746,
           "Come And Play In The Milky Night"
          ],
          [
           2.198665068952265,
           0.6122614866692991,
           "Sanningens silverflod - Djungelns Lag"
          ],
          [
           -1.274893261335544,
           1.8327156853735822,
           "Sun - Live"
          ],
          [
           -1.01292050989299,
           1.4682784657651522,
           "(tilde)"
          ],
          [
           2.430772866902422,
           0.038901754786730414,
           "Broken Toys"
          ],
          [
           4.124242395165977,
           0.2744250277434286,
           "Time On"
          ],
          [
           0.9513712920398175,
           0.2989629039661807,
           "After Glow"
          ],
          [
           -1.9402532965528436,
           -0.45875387290343145,
           "Memories"
          ],
          [
           -1.7588731865679221,
           -2.311303998919435,
           "Jah Jah Jahovah"
          ],
          [
           -0.8139468521272876,
           -1.5607709174801654,
           "Right On For The Darkness"
          ],
          [
           -0.897809096087185,
           -0.8670314757446712,
           "Mouth - Brad Peeps Remix For Friends"
          ],
          [
           -1.711827586893841,
           1.8560268647882279,
           "Paperboy - Original"
          ],
          [
           -2.1753627954180463,
           0.48046551283697775,
           "Afrika"
          ],
          [
           -1.5528961810869608,
           -1.368865507938578,
           "Kelen Kati Leen"
          ],
          [
           -1.9275078880419616,
           -1.2444419805781384,
           "We'll Be Special"
          ],
          [
           -1.3122410124018609,
           -1.3752954870100904,
           "David"
          ],
          [
           0.4605497101329089,
           -0.8955382670692804,
           "Adormeceu"
          ],
          [
           -0.5354270729239912,
           -1.7978772829524254,
           "Remember Me"
          ],
          [
           1.3307095169337892,
           -0.6394070222083359,
           "Music for the Gift: Part 5"
          ],
          [
           1.3808297745414944,
           -2.0309412623180108,
           "Santur Live!: Dream Filterings I"
          ],
          [
           -0.3630730332128237,
           0.6003613349491524,
           "Webers"
          ],
          [
           -1.9377052499211285,
           0.9502620708539167,
           "A1 Untitled"
          ],
          [
           -1.3967576359828906,
           1.6442586358632352,
           "Dem Thing"
          ],
          [
           3.643239370244711,
           0.6533609601204999,
           "Sweet Earth Flying - Pt. 1"
          ],
          [
           1.464895140105674,
           0.24639464381664483,
           "Nine Fresian"
          ],
          [
           0.8724092092930075,
           0.8393647413106019,
           "Gracka"
          ],
          [
           -0.4703038183571501,
           1.7416430907661546,
           "Everything (Villalobos & Loderbauer: Vilod High Blood Pressure Mix)"
          ],
          [
           -1.6629092060984507,
           1.0447074491385364,
           "Wot Do U Call It? (Instrumental Igloo)"
          ],
          [
           -1.7458273884393007,
           -1.9649401797540427,
           "Dollar Sign"
          ],
          [
           -1.5793355545426226,
           1.1525737806529515,
           "Storm - 2013 Re-Master"
          ],
          [
           -2.1042007490295207,
           1.6975887435220391,
           "Groove La Chord"
          ],
          [
           -2.1886583205155645,
           -0.19975754437042478,
           "Distant Drums"
          ],
          [
           -0.6663059631613493,
           -1.3014882868002329,
           "Is There Any Love?"
          ],
          [
           1.6003213512845174,
           0.9635682990330839,
           "You Know, You Know"
          ],
          [
           -2.5354659939589244,
           -0.6052447207156807,
           "We Had Enough"
          ],
          [
           -1.3720610650587655,
           -0.8860407378875363,
           "Evil Vibrations"
          ],
          [
           0.13624222908740755,
           1.1452709643160868,
           "Nobu"
          ],
          [
           2.0252430590350747,
           -1.7441594091028176,
           "Dripsody"
          ],
          [
           2.0172336128495227,
           0.13620755543473279,
           "Utopia and Visions"
          ],
          [
           -0.6575228259057432,
           -1.4906004899415903,
           "Love Junkee - J Dilla Remix Instrumental"
          ],
          [
           -2.1596004825410695,
           -1.600195494266539,
           "I Like It (I Wanna Be Where You Are)"
          ],
          [
           -1.3062363428130574,
           -1.8076871094719882,
           "People Like Myself"
          ],
          [
           -1.1679492465014405,
           -0.6261913839102491,
           "I Just Died"
          ],
          [
           4.0477649319119795,
           0.07320778228843826,
           "Refractive Light / Harbinger"
          ],
          [
           0.10209990847890496,
           1.3854613285491926,
           "Do Not Adjust Your Set"
          ],
          [
           -1.621981228261407,
           -2.5596742584874543,
           "Soap Guillotine"
          ],
          [
           -1.1626400892929418,
           0.2783969857223942,
           "Tomorrow"
          ],
          [
           0.42535049149820275,
           1.28660129884722,
           "Poor People Must Work - Carl Craig Remix"
          ],
          [
           -1.208940607539808,
           1.885180546058519,
           "Danger"
          ],
          [
           -0.601725889543059,
           -0.15114118715853592,
           "Absolutions"
          ],
          [
           -1.9909068649465937,
           -2.303227862345066,
           "Together"
          ],
          [
           -2.249122530166023,
           -2.858885854665238,
           "Gotta Stand for Something Pt. 1"
          ],
          [
           -2.209685288398403,
           0.25929597839931384,
           "Agboju Logun"
          ],
          [
           -1.7272206539811055,
           1.3739860652162645,
           "The Sun Can’t Compare - Long Version"
          ],
          [
           2.0087689578321233,
           0.8463297800852098,
           "Es war einmal"
          ],
          [
           -2.0896588428669305,
           0.632491636793472,
           "Kinoshita"
          ],
          [
           2.7373906483758015,
           0.1736359811488246,
           "Promises Of Fertility"
          ],
          [
           -0.02566519068243157,
           2.015595062757464,
           "3"
          ],
          [
           3.0850231913765236,
           -0.3406786008364065,
           "Earth's Magnetic Field"
          ]
         ],
         "hoverlabel": {
          "namelength": 0
         },
         "hovertemplate": "x=%{customdata[0]}<br>y=%{customdata[1]}<br>title=%{customdata[2]}<br>cluster=%{marker.color}",
         "legendgroup": "",
         "marker": {
          "color": [
           4,
           4,
           4,
           0,
           0,
           4,
           4,
           0,
           0,
           2,
           1,
           4,
           0,
           4,
           2,
           4,
           3,
           4,
           4,
           4,
           3,
           2,
           0,
           0,
           2,
           2,
           4,
           4,
           4,
           2,
           2,
           0,
           1,
           4,
           4,
           4,
           4,
           3,
           2,
           2,
           4,
           2,
           4,
           3,
           0,
           0,
           3,
           2,
           0,
           1,
           0,
           0,
           0,
           0,
           0,
           4,
           2,
           1,
           3,
           0,
           0,
           4,
           4,
           0,
           0,
           0,
           4,
           4,
           1,
           4,
           3,
           4,
           0,
           2,
           0,
           0,
           2,
           1,
           0,
           4,
           0,
           4,
           3,
           4,
           0,
           0,
           3,
           4,
           2,
           2,
           2,
           2,
           2,
           2,
           2,
           2,
           2,
           2,
           2,
           2,
           0,
           0,
           4,
           4,
           1,
           4,
           0,
           4,
           2,
           2,
           2,
           0,
           0,
           0,
           0,
           3,
           2,
           2,
           2,
           2,
           0,
           2,
           0,
           2,
           2,
           0,
           2,
           0,
           0,
           0,
           0,
           0,
           1,
           0,
           4,
           0,
           0,
           4,
           3,
           3,
           1,
           1,
           0,
           0,
           0,
           0,
           1,
           0,
           1,
           4,
           4,
           0,
           2,
           0,
           0,
           2,
           2,
           2,
           2,
           2,
           4,
           0,
           0,
           0,
           2,
           2,
           2,
           3,
           0,
           3,
           0,
           0,
           3,
           0,
           2,
           2,
           2,
           0,
           1,
           4,
           4,
           4,
           2,
           2,
           0,
           2,
           2,
           4,
           0,
           0,
           2,
           2,
           2,
           0,
           4,
           4,
           0,
           4,
           4,
           4,
           4,
           0,
           1,
           2,
           2,
           3,
           0,
           0,
           0,
           3,
           3,
           3,
           4,
           1,
           4,
           4,
           3,
           2,
           4,
           4,
           4,
           4,
           4,
           0,
           4,
           4,
           2,
           1,
           4,
           2,
           2,
           2,
           2,
           4,
           2,
           2,
           0,
           0,
           2,
           2,
           4,
           0,
           0,
           0,
           4,
           1,
           0,
           4,
           4,
           1,
           4,
           4,
           4,
           4,
           1,
           3,
           4,
           2,
           0,
           4,
           0,
           4,
           4,
           1,
           4,
           0,
           0,
           2,
           0,
           2,
           1,
           4,
           0,
           0,
           3,
           2,
           0,
           0,
           1,
           0,
           1,
           0,
           0,
           4,
           4,
           4,
           4,
           4,
           4,
           0,
           3,
           4,
           4,
           0,
           4,
           0,
           2,
           4,
           4,
           4,
           2,
           3,
           4,
           3,
           4,
           4,
           4,
           4,
           4,
           0,
           4,
           0,
           1,
           2,
           1,
           0,
           2,
           4,
           0,
           4,
           1,
           0,
           1,
           4,
           2,
           0,
           0,
           2,
           4,
           4,
           4,
           3,
           1,
           1,
           4,
           0,
           4,
           4,
           0,
           0,
           2,
           4,
           4,
           2,
           2,
           0,
           0,
           2,
           2,
           2,
           0,
           4,
           4,
           1,
           3,
           0,
           0,
           0,
           0,
           2,
           2,
           4,
           4,
           2,
           0,
           1,
           0,
           4,
           4,
           2,
           1,
           4,
           0,
           2,
           2,
           2,
           2,
           2,
           4,
           0,
           2,
           2,
           1,
           1,
           4,
           4,
           4,
           4,
           3,
           4,
           0,
           0,
           0,
           2,
           2,
           4,
           2,
           2,
           2,
           3,
           2,
           1,
           2,
           2,
           2,
           0,
           4,
           0,
           2,
           4,
           4,
           3,
           4,
           0,
           2,
           0,
           2,
           4,
           0,
           0,
           4,
           4,
           4,
           0,
           0,
           4,
           2,
           0,
           4,
           4,
           2,
           4,
           4,
           4,
           0,
           1,
           0,
           2,
           4,
           1,
           4,
           4,
           4,
           4,
           4,
           1,
           0,
           3,
           4,
           2,
           2,
           3,
           3,
           0,
           4,
           4,
           3,
           0,
           2,
           4,
           4,
           4,
           0,
           4,
           4,
           2,
           0,
           4,
           2,
           4,
           0,
           2,
           4,
           4,
           4,
           1,
           2,
           0,
           4,
           4,
           0,
           0,
           0,
           0,
           0,
           2,
           4,
           4,
           2,
           4,
           4,
           4,
           2,
           2,
           1,
           0,
           4,
           2,
           0,
           0,
           1,
           4,
           0,
           4,
           4,
           4,
           4,
           4,
           2,
           4,
           0,
           2,
           0,
           4,
           4,
           2,
           0,
           4,
           4,
           1,
           0,
           4,
           4,
           2,
           2,
           2,
           4,
           4,
           0,
           0,
           2,
           2,
           0,
           0,
           4,
           0,
           4,
           0,
           3,
           4,
           2,
           4,
           2,
           4,
           2,
           3,
           0,
           0,
           1,
           2,
           4,
           1,
           2,
           1,
           4,
           0,
           4,
           4,
           4,
           4,
           2,
           1,
           4,
           4,
           2,
           4,
           2,
           2,
           2,
           4,
           0,
           4,
           4,
           4,
           4,
           4,
           0,
           2,
           4,
           4,
           2,
           4,
           3,
           4,
           4,
           4,
           4,
           0,
           1,
           0,
           0,
           2,
           4,
           2,
           4,
           3,
           1,
           1,
           2,
           4,
           2,
           4,
           4,
           0,
           4,
           2,
           4,
           4,
           2,
           4,
           0,
           3,
           2,
           4,
           2,
           2,
           4,
           4,
           4,
           3,
           4,
           3,
           3,
           2,
           4,
           2,
           4,
           0,
           3,
           2,
           0,
           0,
           4,
           1,
           1,
           2,
           4,
           4,
           4,
           2,
           3,
           2,
           3,
           2,
           0,
           4,
           4,
           3,
           2,
           4,
           2,
           0,
           4,
           4,
           1,
           4,
           4,
           4,
           2,
           4,
           4,
           4,
           2,
           0,
           2,
           3,
           4,
           4,
           0,
           0,
           2,
           0,
           1,
           3,
           0,
           4,
           2,
           2,
           4,
           2,
           4,
           2,
           4,
           0,
           4,
           2,
           0,
           2,
           2,
           2,
           4,
           4,
           0,
           2,
           3,
           0,
           4,
           4,
           2,
           2,
           4,
           4,
           4,
           4,
           3,
           2,
           4,
           2,
           2,
           4,
           1,
           1,
           0,
           0,
           4,
           4,
           4,
           2,
           2,
           2,
           0,
           2,
           4,
           4,
           2,
           0,
           2,
           4,
           0,
           2,
           0,
           4,
           4,
           2,
           2,
           4,
           0,
           4,
           2,
           2,
           0,
           2,
           4,
           4,
           2,
           0,
           0,
           2,
           4,
           4,
           4,
           0,
           0,
           4,
           0,
           1,
           1,
           2,
           2,
           1,
           3,
           3,
           4,
           0,
           4,
           3,
           2,
           3,
           4,
           4,
           1,
           0,
           2,
           2,
           2,
           2,
           2,
           2,
           2,
           0,
           4,
           4,
           4,
           0,
           0,
           1,
           0,
           0,
           2,
           4,
           2,
           4,
           2,
           2,
           2,
           1,
           4,
           3,
           0,
           0,
           0,
           0,
           3,
           1,
           1,
           4,
           4,
           0,
           0,
           0,
           2,
           2,
           4,
           1,
           4,
           2,
           2,
           0,
           0,
           2,
           4,
           4,
           2,
           1,
           3,
           4,
           4,
           0,
           2,
           2,
           0,
           0,
           0,
           3,
           4,
           2,
           0,
           4,
           4,
           0,
           4,
           2,
           4,
           2,
           4,
           4,
           4,
           2,
           1,
           1,
           2,
           4,
           2,
           4,
           2,
           4,
           4,
           0,
           4,
           4,
           4,
           0,
           4,
           0,
           2,
           2,
           0,
           0,
           2,
           1,
           2,
           4,
           2,
           1,
           4,
           0,
           4,
           3,
           1,
           0,
           2,
           4,
           2,
           4,
           3,
           2,
           4,
           3,
           4,
           3,
           4,
           2,
           1,
           0,
           3,
           1,
           4,
           4,
           2,
           4,
           2,
           2,
           0,
           0,
           0,
           0,
           2,
           2,
           4,
           4,
           4,
           4,
           3,
           4,
           4,
           4,
           0,
           0,
           2,
           4,
           4,
           4,
           2,
           1,
           2,
           0,
           4,
           2,
           2,
           0,
           0,
           4,
           2,
           0,
           4,
           4,
           4,
           4,
           2,
           1,
           2,
           2,
           0,
           0,
           4,
           0,
           0,
           2,
           2,
           2,
           0,
           4,
           4,
           0,
           3,
           1,
           4,
           4,
           2,
           2,
           2,
           1,
           2,
           4,
           4,
           4,
           3,
           0,
           4,
           2,
           2,
           2,
           0,
           0,
           4,
           4,
           4,
           2,
           0,
           2,
           1,
           2,
           0,
           2,
           2,
           4,
           2,
           4,
           4,
           2,
           0,
           4,
           4,
           4,
           0,
           4,
           4,
           3,
           4,
           4,
           4,
           1,
           0,
           2,
           2,
           2,
           2,
           2,
           2,
           4,
           4,
           2,
           4,
           3,
           0,
           0,
           2,
           2,
           4,
           0,
           0,
           0,
           2,
           2,
           1,
           0,
           0,
           2,
           2,
           4,
           2,
           2,
           2,
           2,
           1,
           0,
           4,
           4,
           0,
           0,
           2,
           2,
           2,
           4,
           4,
           2,
           3,
           4,
           2,
           1,
           4,
           2,
           4,
           1,
           2,
           2,
           4,
           0,
           2,
           2,
           4,
           3,
           0,
           4,
           2,
           4,
           4,
           2,
           2,
           2,
           4,
           0,
           0,
           2,
           2,
           2,
           0,
           2,
           4,
           2,
           4,
           3,
           2,
           2,
           4,
           0,
           0,
           0,
           0,
           2,
           2,
           2,
           4,
           2,
           4,
           4,
           2,
           2,
           2,
           2,
           4,
           4,
           2,
           4,
           2,
           4,
           2,
           2,
           0,
           4,
           4,
           3,
           4,
           4,
           4,
           0,
           3,
           0,
           0,
           0,
           3,
           4,
           2,
           4,
           4,
           4,
           0,
           4,
           2,
           4,
           1,
           4,
           0,
           4,
           4,
           0,
           2,
           2,
           2,
           2,
           2,
           2,
           0,
           4,
           1,
           4,
           4,
           4,
           2,
           2,
           4,
           2,
           4,
           4,
           2,
           4,
           2,
           4,
           1,
           0,
           2,
           2,
           4,
           2,
           0,
           4,
           3,
           2,
           1,
           2,
           0,
           3,
           2,
           2,
           3,
           2,
           2,
           1,
           4,
           2,
           0,
           1,
           1,
           2,
           1,
           2,
           0,
           4,
           4,
           2,
           2,
           2,
           1,
           4,
           3,
           4,
           2,
           2,
           1,
           2,
           4,
           4,
           4,
           4,
           0,
           0,
           2,
           2,
           1,
           1,
           4,
           4,
           4,
           2,
           4,
           2,
           4,
           4,
           2,
           4,
           4,
           2,
           4,
           2,
           1,
           2,
           1,
           0,
           0,
           0,
           0,
           4,
           4,
           1,
           4,
           1,
           2,
           4,
           4,
           4,
           0,
           1,
           0,
           4,
           4,
           4,
           4,
           2,
           2,
           2,
           0,
           4,
           4,
           4,
           4,
           4,
           3,
           2,
           2,
           4,
           3,
           4,
           3,
           4,
           4,
           2,
           2,
           0,
           1,
           4,
           2,
           4,
           4,
           2,
           0,
           4,
           0,
           0,
           4,
           2,
           2,
           4,
           4,
           4,
           4,
           2,
           2,
           4,
           4,
           1,
           1,
           2,
           2,
           4,
           4,
           3,
           3,
           2,
           0,
           0,
           4,
           4,
           4,
           2,
           0,
           2,
           4,
           0,
           4,
           0,
           2,
           2,
           0,
           2,
           2,
           4,
           2,
           2,
           2,
           4,
           0,
           2,
           0,
           0,
           0,
           2,
           2,
           0,
           0,
           3,
           2,
           2,
           2,
           2,
           0,
           0,
           4,
           2,
           2,
           2,
           2,
           4,
           2,
           2,
           2,
           2,
           2,
           2,
           0,
           4,
           0,
           0,
           0,
           2,
           0,
           0,
           0,
           3,
           1,
           2,
           2,
           0,
           0,
           0,
           3,
           4,
           2,
           2,
           0,
           2,
           0,
           1,
           1,
           3,
           0,
           0,
           0,
           0,
           2,
           0,
           2,
           1,
           2,
           2,
           1,
           4,
           0,
           0,
           2,
           2,
           4,
           2,
           4,
           1,
           2,
           0,
           0,
           2,
           2,
           4,
           0,
           4,
           4,
           0,
           0,
           2,
           0,
           0,
           1,
           0,
           0,
           0,
           3,
           0,
           4,
           4,
           2,
           3,
           0,
           0,
           0,
           0,
           0,
           2,
           2,
           4,
           2,
           0,
           4,
           4,
           4,
           1,
           2,
           2,
           0,
           1,
           0,
           3,
           3,
           3,
           2,
           2,
           1,
           2,
           4,
           4,
           4,
           2,
           3,
           2,
           1,
           4,
           4,
           4,
           2,
           0,
           4,
           0,
           3,
           0,
           4,
           4,
           4,
           4,
           0,
           2,
           4,
           2,
           1,
           4,
           4,
           4,
           1,
           2,
           4,
           4,
           0,
           4,
           0,
           0,
           4,
           4,
           2,
           1,
           2,
           2,
           2,
           0,
           1,
           0,
           4,
           0,
           0,
           2,
           0,
           0,
           0,
           0,
           2,
           2,
           2,
           4,
           4,
           0,
           1,
           2,
           2,
           2,
           2,
           2,
           3,
           2,
           0,
           0,
           1,
           0,
           0,
           2,
           4,
           2,
           4,
           4,
           4,
           4,
           4,
           0,
           0,
           0,
           2,
           2,
           2,
           4,
           4,
           2,
           4,
           0,
           4,
           2,
           1,
           0,
           0,
           2,
           2,
           0,
           4,
           0,
           2,
           4,
           1,
           4,
           0,
           2,
           2,
           2,
           3,
           4,
           4,
           4,
           0,
           1,
           0,
           4,
           0,
           4,
           4,
           4,
           2,
           2,
           2,
           0,
           1,
           0,
           3,
           0,
           1,
           2,
           2,
           0,
           3,
           4,
           4,
           4,
           0,
           3,
           0,
           2,
           2,
           2,
           4,
           4,
           4,
           4,
           4,
           4,
           4,
           0,
           0,
           2,
           4,
           4,
           4,
           2,
           1,
           1,
           2,
           2,
           0,
           0,
           1,
           1,
           0,
           4,
           3,
           0,
           0,
           3,
           3,
           0,
           4,
           0,
           4,
           4,
           0,
           4,
           0,
           1,
           3,
           0,
           3,
           3,
           2,
           0,
           3,
           3,
           3,
           4,
           0,
           0,
           4,
           0,
           2,
           0,
           0,
           2,
           4,
           4,
           4,
           4,
           0,
           2,
           0,
           0,
           2,
           4,
           0,
           1,
           4,
           4,
           2,
           3,
           3,
           3,
           1,
           4,
           4,
           2,
           4,
           4,
           2,
           2,
           2,
           0,
           3,
           0,
           3,
           4,
           4,
           0,
           0,
           0,
           0,
           1,
           2,
           3,
           4,
           4,
           4,
           2,
           2,
           2,
           4,
           4,
           3,
           4,
           4,
           0,
           0,
           2,
           0,
           0,
           4,
           2,
           2,
           3,
           0,
           0,
           0,
           2,
           4,
           3,
           0,
           4,
           4,
           0,
           3,
           1,
           0,
           4,
           2,
           4,
           2,
           4,
           2
          ],
          "coloraxis": "coloraxis",
          "symbol": "circle"
         },
         "mode": "markers",
         "name": "",
         "showlegend": false,
         "type": "scattergl",
         "x": [
          -1.3803722427113227,
          -0.8437325254821526,
          -0.6591322335898179,
          -1.3716539302399968,
          -1.6717187824420547,
          0.3118657596953631,
          -1.642812932459673,
          -1.6093293664076864,
          -0.5185425340368923,
          2.416148880059473,
          -0.2635642227980164,
          -1.5347521809660845,
          -1.0673166207453402,
          -1.74456950827147,
          3.1678351816771047,
          -1.4068744710338803,
          -3.2542718048316157,
          -0.241896563808411,
          -0.4709049714456855,
          -0.07602105786747004,
          -1.5155929220311775,
          0.8211881438030605,
          -0.09755770141652613,
          0.9896264910230035,
          1.1468638117389354,
          3.077341944818782,
          0.1448585661641789,
          -2.518646311291299,
          -2.046797485345348,
          0.6837487061535901,
          1.8099315357240697,
          0.7640465288217225,
          -2.648377411100191,
          -1.5554409913446243,
          -1.5684542150112588,
          -0.626875462141682,
          -1.0999133616448686,
          2.9685844785770845,
          2.1789636700703077,
          3.4674715360422828,
          -1.0738734399633132,
          2.5376057351032393,
          -0.9552755073559446,
          -1.4399580072718912,
          -1.5502042795270055,
          -1.3179278889707025,
          -1.8357790673191827,
          2.4952964928155246,
          -0.5514201817261352,
          -1.237231271754979,
          -1.9480210884483924,
          -1.304206317391268,
          -0.0674509464590999,
          -1.6194472970142577,
          -1.5341100090195963,
          0.5395194848049739,
          1.1590062389554336,
          -2.7807162644636825,
          -1.7746508646117454,
          -1.7796752935650535,
          -1.5455878546678952,
          0.46097104281591356,
          -2.678651317595133,
          -1.2059415477046191,
          -1.2945709527748885,
          -1.7540518979961444,
          -0.3188327966231377,
          -0.11661473683007285,
          -2.1138426229101106,
          -0.8503699403563152,
          -1.60754527148742,
          -1.5868403558876067,
          0.28399488416922253,
          1.29588719658041,
          0.11898328775619009,
          -0.3697552283368303,
          0.9249455914027106,
          0.9367486314767071,
          -0.807781116289154,
          0.4810705339940668,
          -0.9026925741596579,
          -0.1331046085924401,
          -2.5267787879645405,
          -1.9641788705408196,
          -2.427018762521671,
          -1.5413791932972538,
          -0.9049605724738933,
          0.44517245110508313,
          2.03478249317431,
          3.252361769150604,
          3.333891002881641,
          4.08394696038651,
          3.4460512257970466,
          2.4148472086980366,
          2.734391710977885,
          3.377807514480965,
          3.717171797870245,
          3.9887361730111714,
          1.542426480142375,
          2.0918708371534485,
          -0.025243314680727755,
          -2.470526795667177,
          0.18789009839087908,
          -1.4538617942524106,
          -1.8828374552191667,
          -1.187246171844902,
          -0.38099491167514254,
          -2.2117642569353673,
          1.174152491842541,
          2.8427642321534763,
          1.2763910291980152,
          -0.28767440737465494,
          -1.1318075069154925,
          0.42851829416403825,
          -2.2419113405081896,
          -1.1497017039344248,
          2.6165187777851555,
          1.4851491563680943,
          0.9698638483736677,
          2.3940532505193475,
          -1.1432187214768628,
          3.6459364804196324,
          -0.4261537753257849,
          1.8057471750567091,
          1.1676272905316207,
          0.023716826755633306,
          2.294152704877457,
          0.49653459121172044,
          -0.5432558005700154,
          -2.171576330686092,
          -1.9522057247613522,
          -1.1141793144983199,
          -0.6897014682475768,
          -2.9544328911523916,
          -1.1201062624766325,
          -1.2136638778116156,
          -0.5621867427190838,
          -2.0131809847018802,
          -2.510292776280318,
          -1.2360608918548153,
          0.4396038843006118,
          0.03867687203581932,
          -0.07542803628071704,
          -0.9752036618957101,
          -0.858425467485013,
          -2.035997376227612,
          -0.7485993089432649,
          -0.8203195382849492,
          -1.3080461015189193,
          -0.36768614523902426,
          -0.7675034626827902,
          -0.9850342787934437,
          1.7860453459225643,
          -1.2488746342526342,
          -1.2643840139648599,
          0.9768914656448595,
          3.4674715360422828,
          1.7849277190240365,
          0.8659073088775823,
          2.032148275468468,
          0.6560132511857806,
          -0.7893164120270212,
          -0.0711975230214135,
          0.22457113765836295,
          0.7137199888631773,
          3.626301758129785,
          1.2728220838109536,
          -2.249947869290746,
          -1.42760544059864,
          -1.6819379099465637,
          -0.8890672623392117,
          -1.8521419639893435,
          -1.2759328917057322,
          -0.011524216276053772,
          2.3314867367871828,
          1.9330284187613145,
          1.9976990653574294,
          -1.6915518568400776,
          -1.7155041980519035,
          -1.1263894433498212,
          -1.4524544796239829,
          -0.9885536268727246,
          3.4067462312441648,
          0.7806290414064806,
          -1.5807019700771519,
          1.399509248878885,
          0.5450522342136986,
          -0.07719659381066354,
          -0.5954188983536499,
          0.40082249504744577,
          3.5890427291994955,
          4.34359561604346,
          3.517320788564146,
          -0.745818350648577,
          -0.6535238326350457,
          -2.6839480124106108,
          -2.7026707560967576,
          -0.9096555912881239,
          -1.6170453930550375,
          -1.0328076450664612,
          -1.0170386197455303,
          -1.9540068145732579,
          -1.0156237707512612,
          2.3342437885006255,
          4.2918396035274045,
          -1.583661942608482,
          0.5718566950039151,
          -0.4181735032533208,
          -0.9272503862446747,
          -2.4200584742364772,
          -2.0691176030005387,
          -2.091204088552367,
          -0.41081236501834295,
          -0.5160673582223797,
          -1.3277359677097174,
          -1.2322176915504124,
          -1.6472078859360115,
          1.042106328481504,
          -1.4324404139509588,
          -1.7621205185835385,
          -2.0506085212471885,
          -1.46040114508278,
          -0.600314577603429,
          -2.0137450590584853,
          -1.8417721349335263,
          -1.6332641618159947,
          1.5513528341413059,
          1.1722963958262276,
          -1.0753372520551412,
          1.5709592429094104,
          2.935925170163138,
          3.548844849457885,
          3.3095793434232594,
          -1.756745517600937,
          3.413200735659525,
          2.8289286704550562,
          -0.49666949702513613,
          0.010314399062793592,
          1.5049102021499365,
          1.1179547772786962,
          -1.544313778703717,
          -0.6485002728907187,
          -1.5187833270057483,
          -0.045074517675713736,
          -0.3089309514749766,
          -1.5498596615316378,
          -0.301974659407784,
          -1.8790795601822112,
          -1.3427863822742594,
          -0.013598459799472442,
          -1.1274109149586928,
          -1.2341382136471784,
          0.1506568303742106,
          -1.3645110335277668,
          -0.4864474784848661,
          -2.232389794158366,
          -0.3167580816857564,
          0.5681466051350752,
          -0.37586899330356827,
          -1.500682918589602,
          0.2789632574899131,
          0.6573211706620157,
          -0.6554636506174044,
          -2.2821468621775765,
          0.5633131732423531,
          -0.1861895204603012,
          -0.311388500738342,
          3.353379214756333,
          -2.176977813668808,
          2.250768676612134,
          -0.21243346787515607,
          -1.8928750218756694,
          -2.5788417287354077,
          -1.322322904463983,
          -1.7352849299272823,
          2.340376658678726,
          -0.7037605317577235,
          -0.7586737666021831,
          -0.7831167519097396,
          -0.933770900958928,
          0.9772359124453173,
          0.9795130858092769,
          0.00891445212602962,
          -2.257065056335792,
          -2.0665786663662873,
          -1.0629834318531797,
          -1.3558427745660737,
          -2.025923641624905,
          -1.5695956705910556,
          -1.489286366463904,
          -1.9890869601812509,
          0.05105848080740106,
          -1.8256882270908692,
          -1.592199169827436,
          0.6352620948169655,
          -0.7393084308260752,
          2.9979260881737493,
          -0.4876107004504628,
          -0.6476881807061181,
          -0.9389306720791682,
          1.3581146027325826,
          -2.5693757832401682,
          -2.042655634744824,
          -2.2883948517099664,
          -2.097704991792986,
          -1.8911175106586362,
          -1.5253448744265101,
          -1.1405239051221931,
          -1.0359413892436564,
          -1.6522953003240601,
          -0.9075152768123079,
          0.3057911799004352,
          -0.6560441222612137,
          1.6088411278402328,
          -0.2752305004368357,
          -0.6527797597054138,
          2.1424284053224616,
          0.16001200549158784,
          -0.032326722808990176,
          -0.38262246779855036,
          0.24003498637317938,
          -0.12260860759506834,
          -0.8604728845759874,
          -0.16808644716402554,
          2.9598167489949057,
          -1.6167883493114232,
          -0.7703581147099756,
          0.8319421261502489,
          0.1542022592116687,
          -0.10764937985545961,
          -1.1993579727910366,
          -1.744822695959767,
          -0.6040968570323169,
          -1.6410355560361556,
          -0.6491975583129808,
          -1.719088106258377,
          -1.1940106466283757,
          -2.1651163235562194,
          -1.7959094519221266,
          -2.632344052448245,
          2.3439369841290425,
          -0.6507000199524539,
          -0.6856898923860967,
          1.9783289830939879,
          3.275762875562831,
          1.1592226974369315,
          -0.20424280527769814,
          1.5373554968349867,
          4.6005574355392165,
          1.8016347085960733,
          -1.372939260397948,
          -1.9681218587985936,
          -1.5342502822397408,
          -0.5483706808592307,
          -2.9314341209615096,
          -1.5777810437422153,
          -0.5776271705369775,
          -1.3389638586317674,
          -0.048980715602474176,
          3.508025037059787,
          2.633082687629291,
          -1.6938940636221425,
          -1.3760274036732083,
          0.957407315405343,
          -1.5759770394314743,
          -0.5111173923863408,
          0.3724977430499946,
          -0.6013452057302102,
          -1.1883347666358215,
          3.6580075191273993,
          -2.515208892726868,
          -1.1469933843821958,
          0.6909325649208622,
          1.4877846233697316,
          0.8551352600711255,
          0.9272584833382839,
          4.406229996063465,
          3.7447784205253005,
          -0.1211669440193923,
          -0.8720682798666334,
          1.660181677026556,
          2.2078576697877907,
          0.4305394873180748,
          -0.8891422276212458,
          0.743158099359481,
          -2.0797398963855986,
          -1.5076404891719448,
          0.02764029107363975,
          -0.6041795348715772,
          -1.4465893683294253,
          -2.361946164878356,
          -1.234195362976526,
          -1.4237751728524304,
          1.59091543352395,
          1.757946035188075,
          -1.3198988576672956,
          2.467583111956277,
          1.4337473243709105,
          1.8084086611077423,
          -0.6041795348715772,
          2.882851972739996,
          1.2749390266763017,
          2.9687641426458877,
          2.3483057895246993,
          0.992227433897707,
          -1.5602540733137302,
          -1.7367589898688038,
          -1.0315201231811022,
          1.9310357836705756,
          -0.31378002046883674,
          -1.0972185141733848,
          1.506656431713303,
          0.259005417632778,
          -0.4721658671332641,
          1.4851089200065914,
          -0.5287297773457911,
          1.3462537411287594,
          -2.4018927560617436,
          -2.184297104308762,
          -2.321823656110947,
          -0.7553662223249379,
          -0.27248502521272144,
          -1.0133681228314295,
          0.21894936516489957,
          -1.5403560118897515,
          -2.047430434922208,
          2.7380283633867117,
          -2.4005975034578895,
          -0.9560351843110083,
          -1.5686468581730058,
          5.139186779173553,
          -1.5015579898780806,
          -0.8203015915997504,
          -1.2424423590696227,
          -1.0195473195755502,
          -0.23901455667023047,
          -1.2839603744817158,
          1.826931244035752,
          -0.9090549408437709,
          -0.06077290834496985,
          -1.0595367076321547,
          -1.467707322739728,
          -0.9118657098266743,
          -1.542054983303844,
          0.6127267107019492,
          -0.2739550007667955,
          -0.3794332846913306,
          -0.0885309095628056,
          0.030793476051202324,
          3.456386963571022,
          3.4507009499726515,
          -0.3728677864124184,
          -2.171930407555661,
          -1.2730323669184904,
          -1.5740772509411043,
          -0.702233416883447,
          1.8156328417402816,
          -0.6984347099564365,
          2.5903339554229134,
          -0.7834690561594476,
          -1.868878955669195,
          -0.12842770125283579,
          0.09387767295587106,
          -1.264295155816387,
          -0.6001713654699367,
          1.1908594662650285,
          -0.23386700761820126,
          -1.56825480440866,
          3.6920542928667417,
          -0.12662648108049265,
          -1.087692764653274,
          1.041564959323564,
          -0.29222912388042044,
          -1.8846418833315532,
          -0.9142875232015371,
          1.619037447158188,
          2.1741954599945252,
          -0.054884175660216125,
          -0.18746687644315896,
          -1.50922572461843,
          -1.5863583505542318,
          -0.1614253749896887,
          -1.503045790221177,
          -1.0363330564003306,
          0.41871943302089776,
          2.2084169671349203,
          -1.3647956353114452,
          -0.6195103692883612,
          0.890493005349316,
          -1.5847476006095087,
          -2.032426798640532,
          -0.6305457775315062,
          0.7395180186038696,
          2.3363533563592456,
          0.7421934086347556,
          -0.005191887467596554,
          -1.191858731057672,
          2.0058272299531237,
          0.7324243118199427,
          -1.8090085240965692,
          -1.2966564358684054,
          -0.7003710672867955,
          -1.8945354813074373,
          -1.1856606361509765,
          -0.6593951001454612,
          0.43978636205760135,
          -0.6661391103779495,
          -0.35426367317122875,
          1.4491284121984473,
          -1.1791973877796753,
          -1.3364907581849765,
          3.3840176029245073,
          -2.1723336896940144,
          -1.905149352533666,
          -2.163644304602707,
          3.7753123164759694,
          0.5037540779463983,
          -0.9055451895074312,
          -0.4566798397485363,
          0.20063139531897142,
          -2.400987979337742,
          -1.509324659437957,
          -0.9716230933107877,
          3.664805075931586,
          1.9717387746918036,
          1.9544239769149128,
          -0.5351430570468015,
          -1.5667139241646006,
          -1.7047460990821226,
          -0.6430931589969646,
          1.9727427752778293,
          1.2480555131366615,
          0.01362234373216718,
          -1.6911876569409223,
          0.5265470965566439,
          -2.360567603955905,
          -2.0218808011619553,
          -1.5143012723667875,
          -1.64910643991872,
          -0.22856938772915553,
          2.0470025182323943,
          -0.8264866283746432,
          0.7501461465909492,
          -1.6103598150624172,
          2.069336407714716,
          -1.3526210281941198,
          0.7963193933305197,
          -0.14354024182473865,
          0.11055580025904328,
          1.0871572913533765,
          -2.9861291678217112,
          -2.334014348805095,
          2.828012728122188,
          -0.38553383776655664,
          -0.8264866283746432,
          -0.387882694548601,
          -1.5790237183496458,
          -0.43556574264101566,
          -1.216424589352174,
          -1.879566615089987,
          1.0703220335868462,
          1.5053436620107794,
          -0.5119929201859812,
          -1.454159551263669,
          2.6271523184747263,
          0.462042313451196,
          2.996747638587738,
          2.2257850322239516,
          2.745591857300005,
          -0.7456929277122563,
          0.04366691657955467,
          -0.28642100207417015,
          -0.8623768388347142,
          -2.4453990143059143,
          -2.0638234455450597,
          -1.6728556800265768,
          -0.2635083940385311,
          1.653870829228147,
          -1.8910042685470685,
          -1.1594509525468528,
          4.055570846151581,
          -1.9585815510358306,
          -1.5215807401410317,
          -2.0167066990050593,
          -1.6455669330178286,
          -0.38462300164191665,
          -0.6869681529632874,
          0.15844592192207713,
          -0.3249845245617893,
          -1.9196768633443928,
          -2.20290518751902,
          2.888807825741484,
          -0.9819093430182492,
          3.4131481179609433,
          -1.5017986956556701,
          -1.6581454774140691,
          0.6084060338313548,
          -2.336737886096056,
          3.497946986047241,
          -1.2516681348943781,
          1.9166143699727465,
          -0.7625288763380348,
          -0.6342158031024033,
          -1.5671569426567886,
          -2.24768634250925,
          2.485275887887895,
          0.37793683344827955,
          -1.1631717452998882,
          1.5223738982527149,
          -1.5577724077741304,
          -0.8944190188447468,
          -0.0172109499071014,
          1.8969560389995495,
          0.2672486042973682,
          2.522005920973511,
          3.0098973392978885,
          -1.8874282022078357,
          -1.5105054204345363,
          -1.4363327186698631,
          2.1125925075949743,
          -1.0999133616448686,
          1.0648463773531547,
          1.4553078427956474,
          3.7647468157898385,
          -1.0999133616448686,
          1.7479703760790608,
          -1.1682056380392027,
          -2.116898051349671,
          0.4180586805259859,
          4.65016443928896,
          -0.11615576696817453,
          -1.5448652262074074,
          -1.361044675119568,
          0.6977742873057509,
          0.3861232970975381,
          1.6310197449330934,
          -1.0878239836752168,
          -2.5308148084523703,
          -0.26254912989055856,
          3.609825835647044,
          0.3641241535500309,
          0.5258576510410293,
          -1.4915604478308175,
          1.2077176883894223,
          -0.3745566374520168,
          -0.7447111237188561,
          -1.2840861625733662,
          1.3724397896307723,
          1.630056058679672,
          -0.34376378805344915,
          1.079446512665686,
          -0.6509316470331543,
          0.3780727980383929,
          -1.8837753458951987,
          -2.2784819509792347,
          -1.375375956084276,
          -1.1472663522688977,
          -1.1069036766602331,
          1.7408739993366633,
          -1.5457132552987831,
          -1.40368743967578,
          -1.2400441568484222,
          3.17630613856676,
          -0.9905049581224163,
          2.685087252540116,
          -1.0896065489385403,
          -1.2499266865096819,
          -1.8516007565835269,
          -1.8829288295031248,
          -2.400827256962082,
          3.248494064676069,
          -1.7380453010572254,
          0.5903773217600614,
          -1.5308829401310744,
          -1.1539383946509605,
          -2.3010041332424187,
          1.4184612954069022,
          4.254104105679292,
          -2.110826621856375,
          1.023825997760945,
          -1.7453785766999863,
          1.123977683908199,
          -0.1494910269448057,
          -2.3960042166615336,
          -1.5155127274994742,
          4.698334381741984,
          -0.3836329798044387,
          3.2666514352239076,
          5.55096576498262,
          4.453590680319883,
          0.10922881246811096,
          -1.335386494184611,
          -1.5181973229804206,
          1.2174894734277246,
          1.3357509707053934,
          -1.1420411124528536,
          -0.9566530181039203,
          -0.9066911614217605,
          3.52547889696268,
          2.3976710220389585,
          -0.4277898973542898,
          -1.4790265519675367,
          0.5911348027483588,
          -1.165367785554691,
          -2.254620178491269,
          2.4976849206176346,
          0.4300012404315242,
          3.2654890211067773,
          3.055262931707167,
          -1.6112443307305828,
          -1.7658667854235357,
          -0.984392047813118,
          -0.8699799248705893,
          -0.8735502337397482,
          -1.6814209135113407,
          -1.5001614233892213,
          -0.9496348079481899,
          1.7349177135743634,
          3.881758475296776,
          1.2184435808903027,
          -1.968790479138643,
          3.672680561260908,
          -0.8282142709612318,
          0.4750207194329403,
          1.603508483328102,
          -0.49478962608793525,
          2.266842839622931,
          -0.8726226361806697,
          -1.815162064005012,
          2.5057347710420492,
          0.45934662567819035,
          -2.580165332342904,
          -1.4354814707327404,
          3.1356611964308976,
          2.457725844710841,
          0.6159954249669608,
          -0.3024638227583036,
          -2.4458898641292413,
          2.963146084138259,
          2.993777954833374,
          -1.2353142477492791,
          2.1907614896399803,
          0.12028695450107003,
          0.604078240138956,
          3.962149615914003,
          -1.8497657249581803,
          0.7601385114204424,
          1.8441296751563219,
          0.30887098099891724,
          -1.020928472646217,
          -1.792357108676047,
          0.6434226545001127,
          0.711651132852699,
          -0.8115152624177089,
          -1.682241142246642,
          -0.7825544201444731,
          0.030683639455342027,
          1.7956482625232428,
          2.1150141647519134,
          0.41112019381841725,
          -2.054391320472128,
          -0.005963375610982438,
          -1.6243613813881839,
          -1.2224564422168003,
          -0.9047108088359503,
          -0.7232639058537692,
          3.264810369772408,
          -0.8666609913359472,
          -0.5628300399983294,
          -2.0475077884745305,
          -2.53295579497452,
          0.19351183929192803,
          2.0549925709294907,
          3.8973424709336584,
          1.6262732883023991,
          1.5466789137993602,
          1.9520736825951717,
          2.9152270063301073,
          2.0215206612032217,
          -1.297409053500502,
          -1.5167552385480374,
          -1.3878859408537043,
          -1.664524842423047,
          -1.2748084716532635,
          0.5510505231456153,
          3.6373199298669787,
          -1.1390535130007917,
          -1.2204325832478857,
          3.607117206473731,
          -1.2155709345269505,
          3.033951720316828,
          -0.5801732907498176,
          3.35881765687067,
          2.62061557567604,
          1.3333494880708034,
          -0.5242378173857494,
          -1.6653482854688628,
          -0.6070029350672225,
          -0.7214733057262533,
          -0.8263964436115718,
          -1.8068517859371174,
          -0.017891681054805944,
          -0.4755181248651077,
          -0.10958106646267514,
          -2.1367172203824754,
          -0.273436479586015,
          0.2388976456454543,
          -0.6146843297222788,
          -2.5870102934972583,
          0.3031428486880154,
          3.4280841792151775,
          1.1548945588184887,
          -1.7724075301797462,
          -0.2555463417891502,
          -0.4350869811052985,
          2.9157480569049294,
          1.1099829238881505,
          -1.6553676269008664,
          -2.0821504256871677,
          1.4791284007300063,
          -2.3673301612018465,
          -1.3919590802489237,
          1.9694032094377187,
          -0.6560441222612137,
          -2.752875960305858,
          -1.714017009249628,
          -1.994626512443771,
          -1.2121897290520283,
          1.818254171227288,
          2.4659119517582355,
          -0.4564583641628849,
          -2.0591909534459996,
          -1.5108667765220314,
          -2.8303736984398267,
          -2.262033570860759,
          1.2946038906388881,
          0.7656454694359113,
          -1.4270092641751566,
          -1.7316241232790173,
          -2.046742327941823,
          -0.9271297013020263,
          1.9439462877808613,
          0.057250159247851956,
          2.895611573913595,
          -0.6102395069699754,
          -1.50879352147842,
          -0.8590426195598955,
          1.143875201235122,
          -1.4960890354935372,
          0.19808583926166368,
          1.9642619834321808,
          -1.7589428499518467,
          3.782925458257491,
          -1.1089094073428594,
          2.345892982505761,
          -0.4874323726792689,
          -0.011114336711748508,
          -1.1510092555300953,
          -1.3852102976509861,
          -0.23111942416865186,
          -2.50024092126212,
          -0.7474807096579573,
          -1.565123523141997,
          -0.4125391576076249,
          2.554617406765738,
          2.9870859327200954,
          -0.5484412389505913,
          -1.0099428884727397,
          1.9926210647241338,
          -0.376009079959517,
          1.1955100156086274,
          -0.8805298337098414,
          1.7186238549623167,
          1.8743058637395558,
          -1.1932117994402782,
          0.5622280741101932,
          0.5080261938865854,
          -0.8235810730255808,
          1.8319226706788718,
          -1.2293222800722952,
          0.6607081629654861,
          -1.0260716302395336,
          2.629572910531118,
          0.5462099066720729,
          -1.558300752276521,
          1.6880913519326983,
          -0.1745395702276729,
          1.7542600833377162,
          -0.45696645816862863,
          -0.0651928184474748,
          0.16862437580913264,
          1.8945597676030002,
          -1.617885812237287,
          -2.1458205975853866,
          -1.8280647352336665,
          -0.4650926879013154,
          -1.788893689779773,
          -0.5859012543267499,
          1.0652036004726717,
          -0.7447111237188561,
          2.2220470727326243,
          2.5516163094153046,
          -1.0517693535392865,
          -1.7916347972932642,
          -2.2324418146331197,
          -1.5185359464766186,
          3.6747812167234764,
          2.1788942903478836,
          -1.3887439155841512,
          -0.7179448045257163,
          -1.4378238141924315,
          -0.25952756097534907,
          -1.118075545934343,
          -0.40557765570202653,
          0.2534165115924313,
          0.4372275974362217,
          0.01524026552442458,
          -1.7760591515193775,
          1.9180405795182176,
          -1.0305260839163564,
          -1.4352014114881149,
          -1.0861991588546855,
          0.8946360017160265,
          1.8198887227371827,
          4.1377378092963975,
          -1.3982254570908725,
          -0.847632357598888,
          3.481767939973958,
          1.8799209182352785,
          0.97585543949511,
          0.2848222122991237,
          0.7443175683958978,
          0.5793746324588528,
          0.5135697095490146,
          -1.1920464683581267,
          -0.4715421181747888,
          -1.9119934162049006,
          0.025426682584884792,
          3.529040802990828,
          -1.1263646816936979,
          2.1872566851297512,
          1.965241019410094,
          -2.1986404353526816,
          -0.8890672623392117,
          -0.5360737183635165,
          -0.5414222975903292,
          0.6319887732698771,
          3.7090573187505926,
          2.1921423225389227,
          1.0718920112049513,
          -0.3924898418435812,
          0.7065459591597172,
          0.7192825361857428,
          0.8500257661017481,
          -0.9430464566721032,
          -1.4953153559624992,
          -1.0913882650837834,
          -1.5707612595004063,
          0.7269701782355681,
          1.612535449261751,
          1.4368395361232051,
          0.02925197620389089,
          1.007932956407081,
          -1.2955807074293821,
          -0.7004450463471681,
          -1.0301309628386932,
          -1.3118925297667865,
          -0.37628885864489714,
          -0.4404776835018739,
          3.0907289994882814,
          1.7360405517233621,
          1.1496546020297118,
          -0.011524216276053772,
          -1.3440395811958161,
          0.29747786817156446,
          0.08194992438342187,
          -0.9192204963024014,
          2.7655850463748233,
          -1.3316975448603265,
          1.7840173586796888,
          1.1073728610094964,
          1.1449070869365103,
          -0.5269783432563637,
          1.3772097662037976,
          2.653813558205796,
          -0.37779240114349955,
          1.1430529076172955,
          -1.3448575932549336,
          -0.627738768590263,
          2.1146661665108675,
          -0.06731787969017315,
          -0.7452244356991972,
          -0.8354185901794531,
          0.7221578962664643,
          -2.2370276373221984,
          -1.6742956754201044,
          -0.7258050699281428,
          -0.4530663036966717,
          -0.060420877398225985,
          0.4782507205147698,
          -1.5415261480697549,
          -0.6208844753671443,
          -0.5333335991548714,
          1.2437228869651362,
          3.727489603307634,
          2.7563323369201003,
          1.192955032768728,
          3.8757208239526197,
          2.923103714738258,
          -1.981408090010487,
          -0.8491707967317266,
          0.8682503326585271,
          -1.9192469685003888,
          -1.4244518866408489,
          0.1640676405359499,
          -1.3350295183788674,
          1.79561056479804,
          3.590847565440664,
          -0.32262593299179265,
          0.02515736677902465,
          -1.2079637179850244,
          0.563676509840592,
          4.365971961074922,
          2.300542327806057,
          -0.9997151399002228,
          1.1892392118226194,
          0.40512135561569335,
          2.7197883475696063,
          3.8410512386651794,
          0.12119563784151673,
          1.0500972383890141,
          2.4282328605786785,
          2.937146088701236,
          2.5767029432189408,
          0.13856908905668727,
          -0.49642741018516096,
          -1.7043460937243469,
          -0.9400774685222048,
          -0.034265027052816144,
          -1.4386208614945002,
          1.005664898957028,
          2.1450668943812268,
          0.5258576510410293,
          -1.1928495108683297,
          -0.18984327126998207,
          1.677336348008959,
          0.3641241535500309,
          0.026252221609710222,
          5.080678838616875,
          0.2534348296486159,
          -0.20874323664824151,
          2.598046526403228,
          -0.9922056963081987,
          1.0860346498725832,
          3.688394678996329,
          1.5546253888889348,
          -0.6182086380060992,
          -1.7229665907870255,
          1.4132630839881344,
          0.8549281895332191,
          0.4690466709797613,
          0.021568531401851717,
          -0.9750002487540685,
          -0.21330149328490564,
          3.1108628386277135,
          -2.0254029325317346,
          -1.1200888291230953,
          1.505553851686586,
          3.2208048219166034,
          3.2777510789350903,
          -0.9795199879947274,
          0.4161312575563671,
          -0.8096448722243781,
          1.3811963182858544,
          2.072350927430457,
          3.870879349680146,
          0.018296395096440557,
          1.8939338453315442,
          -0.6102573006370207,
          4.6683092674026705,
          -0.20437419574530766,
          0.3641241535500309,
          3.2049792729483,
          1.9379227556470462,
          -1.8094716921197918,
          -0.9190357868928959,
          -1.3574373467523932,
          -1.047679600168349,
          -2.435546220997489,
          3.4347333735184873,
          2.135327303785985,
          1.7049917654479054,
          0.0011923854578169417,
          3.635301445646342,
          -0.13720174590841264,
          -1.1044827703191595,
          1.4191601285026036,
          1.208674946161323,
          2.4703754669748017,
          2.805838607349067,
          -0.7159344306660097,
          -2.256279927176594,
          2.263602212015661,
          -0.5166192233459208,
          0.5572846543701312,
          -1.643909463900466,
          2.371942636689671,
          1.196189341162335,
          -1.0497480644136552,
          -0.6093351997025501,
          -0.4595583641283213,
          -1.490147859246529,
          -1.4330036655495215,
          -1.685722591710619,
          -2.5236264837871456,
          -1.6798597226276422,
          -1.6900858918867483,
          0.4823186325829486,
          -0.676603389201868,
          -1.722302884242427,
          0.1375433343774281,
          0.09139715266564402,
          1.7997275094632559,
          -0.6093351997025501,
          -0.5166192233459208,
          -0.9046037444418022,
          -0.3745566374520168,
          -0.7002159551811878,
          1.0268913476581982,
          -0.6215688872548686,
          -0.7318626546171523,
          -1.3035600953019082,
          -0.7515418295137807,
          -1.9320623072699976,
          -1.32113650562534,
          -0.6527797597054138,
          1.5828211902983795,
          0.8032356007197863,
          1.9419639754728508,
          4.051508280986331,
          1.2735090993153244,
          1.5499180117384603,
          -0.13177417105134645,
          -1.32113650562534,
          -1.6441293371777164,
          -1.9070858146959848,
          -0.7735588618854338,
          -0.7142174585217776,
          2.242630233725264,
          1.2555060515255607,
          -0.3747604395617794,
          2.072424139201385,
          -0.5166192233459208,
          0.058456131428454586,
          0.9032247436448646,
          -1.7136419431536203,
          2.911543726308642,
          -0.762296548067794,
          1.3257337484522038,
          -1.0804577086303162,
          1.8238590608117473,
          1.8281528335688584,
          -1.1340005073045036,
          2.9838079897177967,
          -1.1541999748723843,
          -0.28474582951764876,
          -1.2581630427263901,
          0.7966042444259809,
          0.14508996499301352,
          1.746411900117215,
          0.6300281995308866,
          1.8309109087908175,
          3.0342046193213292,
          0.782872038442166,
          0.13845056435111727,
          1.3410070696295964,
          1.9720308399020168,
          0.340996423533138,
          0.6399910124415092,
          1.3775257879869014,
          -0.13177417105134645,
          0.39997230143948787,
          1.5711966570888145,
          2.9812273665665843,
          -0.4811811267266643,
          1.6291787075399187,
          -1.8756025538911612,
          -0.1287932601520655,
          -1.0301874250143026,
          3.4611075279905874,
          1.715164161077728,
          3.5448513019236563,
          0.142527539769463,
          -0.10264518094806,
          -0.11760759851877212,
          -1.9317918035708197,
          1.8107050524955102,
          2.2999138165026647,
          0.14715520451493527,
          1.096225151325931,
          -0.9083128107254607,
          -1.0382239912502194,
          -0.852135976054664,
          -2.265297970196083,
          -1.9732187616919457,
          -0.9722768521903884,
          0.7587124926063797,
          3.1387610539804593,
          0.5832322056953559,
          -1.6426088674111394,
          -1.2085002266288567,
          0.06265886297981385,
          -1.3741271865290416,
          1.1890809746329103,
          -1.1814545180388987,
          3.294331020144581,
          -0.21549983086695323,
          -0.580143606290686,
          0.909058249382482,
          -0.19227017743142893,
          -1.0900156596425228,
          3.2269255112116983,
          -0.6578582314906002,
          1.9568897766774078,
          1.8211587737842667,
          1.456282053367532,
          -0.8442319040375477,
          -1.5183246674345312,
          -1.0531408184536744,
          -1.1522959227362242,
          -1.7015710546329712,
          -1.5812502287018997,
          0.43175288479810275,
          -0.8044857148843765,
          0.5452886188772021,
          -0.8247129010037969,
          2.385329055515717,
          -0.8089624787587835,
          -0.539507812077538,
          -0.4088951320441192,
          -0.3229687388804911,
          -0.7590492134749843,
          -0.9484998652587415,
          -0.4404187814134143,
          0.05213718893635035,
          -1.3815770031719843,
          -0.43923787007202053,
          2.4095099758032594,
          1.4089548544365282,
          1.0784551633161084,
          -1.3419854642798739,
          -2.4528625990843627,
          -2.5114350365463163,
          -0.6857027428130333,
          -0.7162330241990142,
          0.5898314502767613,
          -2.3369070330231683,
          1.456465045892131,
          1.7919461946278736,
          0.4080824086639266,
          -1.6327182526525519,
          -1.5931910865577326,
          -1.955633697423299,
          -2.0572343165447933,
          0.46088343605507787,
          1.889847574125592,
          1.2239726977448955,
          -0.7475049647088882,
          -0.8572565619992343,
          -1.5303424213202925,
          0.8430141418040995,
          -1.5117551146532342,
          -2.1362961672466807,
          1.1250888104332106,
          -1.4458841898550763,
          -0.15603586804888311,
          -2.5657770344175974,
          -2.5434098825379077,
          -1.2629522120098882,
          0.7914438084951566,
          0.8662210462093028,
          0.2656809181628647,
          -1.6332641618159947,
          -0.7752090133165364,
          -0.5951609102847815,
          1.9167207219895637,
          2.0413177391837656,
          -1.7579879261155424,
          -1.4369718569719954,
          1.0155100673985638,
          -2.129407440164836,
          3.2421368057271094,
          2.1247203038596028,
          -1.0470724983931297,
          -1.3678650985434564,
          2.329666352756322,
          0.7532859241387393,
          2.414662363110198,
          -0.2402746671815345,
          0.394964861159373,
          -0.7893378961276503,
          -0.12736634463490945,
          -0.9947664234847943,
          2.8717420496199013,
          -1.241183433174572,
          1.6012701131495837,
          -0.7023271781916943,
          -1.487240755831529,
          -1.3503090094626387,
          -1.0385033864072732,
          1.3726078516866436,
          2.4564086820283912,
          -1.3270012867755943,
          3.4911053371541794,
          1.5682733642756137,
          -1.7115412384843376,
          1.1303403151647524,
          1.1040368604987094,
          0.8975896084045625,
          -1.3720339098740835,
          -1.474907955168976,
          4.0992493382919575,
          -1.0863915695099027,
          -2.314418087827441,
          0.1446540245136703,
          4.156418680770776,
          1.8157322637566462,
          -0.9332563311925891,
          0.4911728459012746,
          -1.3643483053983336,
          2.6004480178191636,
          1.3142809276375322,
          1.3147078532983913,
          3.2088328664633345,
          -1.2493029253603996,
          -0.7574694436911535,
          -0.9987301909513734,
          2.4735141705449006,
          1.726782907466972,
          3.586367918232839,
          1.2726707125373569,
          0.20508623508179774,
          1.6674145861628238,
          1.0360176864658188,
          1.6101778812669407,
          1.7527857453781104,
          4.166566274877791,
          2.6287861919293873,
          0.6076896394655245,
          -0.36047258958097134,
          1.222548276219638,
          -1.3080056540250433,
          -0.1889537281677435,
          1.4662731589641456,
          -0.02434856547085904,
          -0.24538612596488127,
          -1.6603121199055153,
          -0.7373283406553985,
          -1.0487999917853608,
          2.140887205890198,
          2.060842971752129,
          -0.2541770387790574,
          0.2167820507607777,
          -1.1669986594269894,
          -0.49829336063404894,
          -1.2652419246044708,
          2.1054205179076777,
          1.2243922897510624,
          -0.0020887141325086327,
          0.9703654629597812,
          0.19702319962842876,
          -2.084072541738572,
          -0.12613807284909473,
          1.1534264131345975,
          0.7905717026455905,
          -2.702711884379145,
          -2.1384118306434234,
          -1.4505920899998972,
          1.131217814233153,
          0.6167932446502221,
          1.1192457214726539,
          1.479222286444656,
          3.046476963636843,
          2.0969303519284943,
          0.9039591006001506,
          -1.1804938296388097,
          -2.065113348698693,
          -2.27831994696728,
          2.000610203559729,
          4.487925712313869,
          -1.4453542691356518,
          2.318961304629643,
          0.25735856541843616,
          -0.2608785162624158,
          2.6088743533043743,
          0.652502851774738,
          -1.7619641367928314,
          2.578513109350064,
          3.8642253913640587,
          -0.2144526545766464,
          -3.058356024391059,
          -1.7612394510136657,
          -0.90326541112166,
          -0.7779426139244537,
          0.7210394200674414,
          3.5729746958247306,
          -0.5915453990336552,
          -1.3094827574494121,
          -1.049518344377277,
          -2.405474626205065,
          -1.0643753158505087,
          -0.30705511535206603,
          -1.7733317968455589,
          -1.9185629928186674,
          -0.9842602355598207,
          -1.4328804487614912,
          3.0963985856435663,
          -0.7707093580864043,
          -1.4235171578212826,
          -1.665272269128988,
          -2.1240007326124455,
          -2.257370972323049,
          -1.185662660200755,
          2.1638695877972953,
          0.8557915785920729,
          -0.26110787204399505,
          3.0756509400551932,
          -0.35591282489404696,
          -0.28218539259155984,
          -1.1047502296666154,
          -1.4560948443559114,
          0.5323867618218425,
          1.9434390723516186,
          1.3885274080807315,
          0.24602539775372567,
          -0.21166710248982717,
          -1.7184237366330053,
          -0.6136288924185445,
          -3.063011539762058,
          -2.26108078665699,
          4.659008494108286,
          1.5668334719152093,
          -0.06887343172281166,
          1.5804908441174106,
          0.9564543870729761,
          -1.6222209528569864,
          -1.592979632239935,
          1.619755292793758,
          -0.06817414766121932,
          4.115450665305954,
          -0.15887488394040808,
          0.8549333957990014,
          -0.5111452373015746,
          -1.2728897560411068,
          2.0392424678013907,
          -1.0976471568468258,
          -0.5036240971212924,
          -1.3416017774698834,
          -1.0652535446694869,
          -0.6696969597704526,
          -0.14041584907238316,
          -0.20894472042097634,
          -1.6526415728348456,
          -1.6558271130552917,
          -0.9957055414654887,
          1.9393217025468032,
          0.2897535795547144,
          1.1706504181605015,
          1.0569546037478517,
          -0.6006562474328379,
          -2.6311351188007417,
          -1.0185427305087764,
          -0.21989637140352217,
          3.2663146369960128,
          -0.6815789978912559,
          -1.624139902396247,
          -1.3315304323241326,
          -1.3000304221435743,
          -1.235772258714532,
          -0.9928512147758682,
          -2.1018708804474486,
          -1.7235389796014031,
          0.5195284164209255,
          3.3140055118542078,
          3.4697789245287405,
          3.7029873430485543,
          2.132085986074384,
          -1.393992067501646,
          -1.5267110927492322,
          -1.032694340436785,
          -1.1729461329350181,
          -1.206936829285923,
          -0.03385236352582521,
          1.209401194174035,
          0.2530153826965656,
          -0.6019137364957602,
          -2.008158540654858,
          -0.00977307815131329,
          1.3709568565156403,
          3.5765242668242605,
          3.2250127136881352,
          -0.69265465527264,
          -1.5934277184502026,
          -0.861563268009139,
          0.27773619658128973,
          1.9325529100612442,
          2.1829554048822186,
          2.8521044314498822,
          2.345589347364303,
          3.4564581734914666,
          1.388945386158245,
          0.682763940451477,
          -1.3549042885970968,
          -0.08199483445540763,
          -1.9986382901161814,
          -2.3746312199421022,
          0.032833808574260145,
          1.8171505430670212,
          -0.19782552350433436,
          1.9346981142255093,
          0.17111457571469568,
          -0.8217625960928794,
          0.7076354272262243,
          0.5647766742632058,
          -0.683264519430833,
          -0.22640641535291714,
          -0.9039723952390961,
          -1.609675755471404,
          1.340773286285005,
          1.8615766289445788,
          2.68825671172701,
          -0.4634683391506248,
          -0.48778017423834535,
          1.0016739035584128,
          -1.6615911815626825,
          -1.8085059470734173,
          0.43458982171211263,
          2.6088743533043743,
          -2.305995385995535,
          -0.9607226868637502,
          0.7371491598193546,
          1.4035541856714024,
          3.0611066926154953,
          1.0090204232786109,
          -1.568258610454903,
          -1.54716929338805,
          2.3300217151943836,
          -1.5139769643671879,
          -2.0604486050602544,
          -1.7647891379872667,
          -1.0459952228664449,
          3.9814201377879406,
          1.1050429258534555,
          1.4920962742858663,
          -0.13755665264842395,
          -1.0523459663777968,
          -1.1473660461152542,
          -1.7185285102909682,
          -0.604674139963273,
          -0.7952102508916488,
          -1.8445924997645062,
          -0.8760137358719828,
          -1.8140572439205198,
          -0.5363064576653702,
          -0.5300292925223565,
          -1.0543560701052965,
          2.0120751934930867,
          3.2371265046613473,
          3.9885655032117433,
          -0.9062736144396925,
          -1.278062612824689,
          -1.2604891986806186,
          -1.0544719794992783,
          -2.129366992849304,
          -0.588644539144547,
          2.1465240796369907,
          1.0216867524691269,
          -1.1947329984246222,
          -0.653469832043817,
          -1.406398985311224,
          -1.5973881887957453,
          -1.5534537577300778,
          -2.8419470066875623,
          -0.44577935589493634,
          0.8633406136106451,
          2.445767532214835,
          1.36360433150978,
          2.0051741745250933,
          -1.8346490474527901,
          -1.1230854282148572,
          -2.1371276700440283,
          -1.8206084832384155,
          -1.5686880777278955,
          -0.81425996116614,
          -1.4339339285920174,
          -0.6826738972969707,
          -1.3717115227258665,
          0.9036676742479084,
          -0.9956124173001782,
          0.32886248633934984,
          -1.2624813443309824,
          1.6574258968897417,
          -0.9702706562697715,
          0.7730364946927565,
          1.7770584660559137,
          1.7280705210546718,
          -1.1506599592741502,
          0.2482219165377998,
          -0.13600643769145293,
          0.4358785195468909,
          -1.429441298552025,
          -1.4653275898847296,
          -0.21100771592903506,
          -2.5277519240749586,
          -2.4192466520751488,
          -2.0022608437978797,
          -1.6215153721052646,
          -1.436279085620642,
          0.03308057558070566,
          -2.5089301225665093,
          -2.4329339863844757,
          -1.0426583108933407,
          -2.39550656534038,
          -1.8956373851156445,
          0.02167496023990704,
          -1.6046561132463821,
          -1.059021074544264,
          -1.293885026223141,
          -2.869659018236168,
          -2.374073171150359,
          1.569642485435826,
          0.764313350185268,
          1.8453163364558738,
          -0.7599839489217785,
          -0.05834318931417922,
          -1.5861957653693115,
          1.0151901552246663,
          0.7241547641117966,
          -1.64278897956052,
          -1.926070325878654,
          3.4324713480511737,
          -1.240005145982509,
          -1.1344959363758913,
          3.275209563361158,
          -1.0159558761920826,
          0.5410849260390319,
          -0.9662168071819033,
          0.34931275627604746,
          -0.2134089681801115,
          3.4449687358242507,
          1.1118803785193099,
          0.27844234722112016,
          2.7157751165324178,
          -1.7618617478220173,
          -2.161477673129291,
          -1.417555752741961,
          -0.5047247954411112,
          -1.5073265954587256,
          1.1201833232628888,
          -1.8588385992232646,
          -1.9630660452064361,
          -1.2983741878903048,
          0.40289676348143966,
          0.5218336097414747,
          -0.6892425257312695,
          2.198665068952265,
          -1.274893261335544,
          -1.01292050989299,
          2.430772866902422,
          4.124242395165977,
          0.9513712920398175,
          -1.9402532965528436,
          -1.7588731865679221,
          -0.8139468521272876,
          -0.897809096087185,
          -1.711827586893841,
          -2.1753627954180463,
          -1.5528961810869608,
          -1.9275078880419616,
          -1.3122410124018609,
          0.4605497101329089,
          -0.5354270729239912,
          1.3307095169337892,
          1.3808297745414944,
          -0.3630730332128237,
          -1.9377052499211285,
          -1.3967576359828906,
          3.643239370244711,
          1.464895140105674,
          0.8724092092930075,
          -0.4703038183571501,
          -1.6629092060984507,
          -1.7458273884393007,
          -1.5793355545426226,
          -2.1042007490295207,
          -2.1886583205155645,
          -0.6663059631613493,
          1.6003213512845174,
          -2.5354659939589244,
          -1.3720610650587655,
          0.13624222908740755,
          2.0252430590350747,
          2.0172336128495227,
          -0.6575228259057432,
          -2.1596004825410695,
          -1.3062363428130574,
          -1.1679492465014405,
          4.0477649319119795,
          0.10209990847890496,
          -1.621981228261407,
          -1.1626400892929418,
          0.42535049149820275,
          -1.208940607539808,
          -0.601725889543059,
          -1.9909068649465937,
          -2.249122530166023,
          -2.209685288398403,
          -1.7272206539811055,
          2.0087689578321233,
          -2.0896588428669305,
          2.7373906483758015,
          -0.02566519068243157,
          3.0850231913765236
         ],
         "xaxis": "x",
         "y": [
          0.6500948248966208,
          0.8557009898378297,
          0.37534514247012357,
          -0.5278554133338462,
          -0.9991775495801632,
          -0.07762160784238395,
          0.09280864704508279,
          -1.6493535950096376,
          -0.826870527286759,
          0.7160054825705934,
          -2.43147292320583,
          0.7555500465113744,
          0.21037315576404322,
          0.8066483489419214,
          -2.203760107090278,
          0.7755028778756187,
          -1.30045901462642,
          0.5741277987153628,
          1.0301626637875048,
          1.8393904876714502,
          -2.7288686437401934,
          0.6394752109988499,
          -1.063467933272376,
          -1.5637572989608277,
          0.16323295967525744,
          -0.15215468071373284,
          1.974528401067257,
          1.2199493634798684,
          1.5387218706241035,
          0.08454908151305175,
          -0.7250436381534873,
          -1.5095443154348906,
          0.0774452757464064,
          1.3823979852904265,
          0.8513247426038014,
          1.101871283455825,
          1.7871393228666363,
          -3.2078599689806198,
          0.2206348546471369,
          -0.4989809027987789,
          1.0222701948730808,
          -0.30201133330304186,
          0.6759877641495063,
          -0.1472775783612644,
          0.31056097996883436,
          -0.14803328770172963,
          -3.2079109274681428,
          1.2802203314251195,
          -1.583159409432315,
          -0.23620328710963756,
          0.2585633155109358,
          -0.9511726328863884,
          -1.7825567527974358,
          -1.0332726675660102,
          -1.4049094214046964,
          0.42693424358829085,
          0.23577632790036718,
          -0.13916959984383284,
          -0.4055212671181193,
          -0.29890189521716715,
          -0.7951951938213357,
          0.9557384236450542,
          1.0664549451630432,
          -0.05112738388389576,
          0.6437357626648,
          0.024272286935787687,
          1.9037032857668943,
          1.3701758252101555,
          -1.0335649425296094,
          0.8522108604359513,
          -0.7888566241272656,
          1.583331167269224,
          -1.0982654838548687,
          -1.0277004595148522,
          -0.7189057676777934,
          -0.7922556321824685,
          -0.31607437164340474,
          -0.3914928613097202,
          -0.636419777687933,
          -0.08405422928724386,
          -1.9029693450286536,
          0.9456390869778774,
          -1.0192877319435065,
          1.0405343291790132,
          -1.0005437353463742,
          -0.4401320726419607,
          0.15263929592998338,
          0.9894913865479295,
          -0.546050133249146,
          -1.0721298297455886,
          0.6547997667729786,
          0.41967739428793116,
          -0.12969523731400256,
          -0.1493107643952781,
          0.9287429211587943,
          0.17417467163011577,
          0.8421872063382437,
          1.0132842452632753,
          -0.3688263397418061,
          0.05982698416166854,
          -1.1882515033020058,
          -0.9465434752122022,
          1.9031571925506072,
          0.4370872342363494,
          -0.16553161681968206,
          1.5295331221889605,
          0.19817114979327924,
          2.049221502546463,
          -0.6409793800200051,
          0.24568780200031512,
          -0.9835673996436861,
          -0.8039317325830491,
          -0.013004619378901643,
          -0.3947537990348097,
          -1.8117689669719441,
          -0.8880289323779145,
          0.542043566864953,
          0.6802233367139068,
          0.48777929189470504,
          -1.8629484368840072,
          -0.01950437852353746,
          -0.07699621957674825,
          -0.865411062819396,
          1.2895300852134068,
          -0.7122556400417024,
          -0.3815069334581738,
          -0.4674800842924852,
          -1.378790006073782,
          -0.21259680255068863,
          -0.48081294383975437,
          -0.4982923746529353,
          -0.154490804358917,
          -0.9619377335922021,
          -0.5860333612503208,
          0.937046276749767,
          -0.8150072505084351,
          -0.20055954822973926,
          1.0252176143334224,
          -2.781549768947786,
          -0.355381857951564,
          -1.9250144951679775,
          -2.878637077525571,
          -0.6445483271522723,
          -0.41513983577680835,
          -1.5591855275022872,
          -1.496500688992186,
          -0.17211894195614819,
          -0.6548542821841394,
          -0.601946366909568,
          0.6306065152933888,
          1.92369896474682,
          0.5244443954249673,
          0.5793097723747506,
          -0.07755282562003328,
          0.12080089995116672,
          -0.06363889171480501,
          -0.4989809027987789,
          -0.33318693465520755,
          -0.5940197524511165,
          -0.8297085583972181,
          1.3833905823535229,
          -0.46453192583187863,
          -0.7474107211798923,
          -0.4144643661246476,
          0.301984542029093,
          0.7184515324705679,
          0.04286636328412847,
          -1.214863664500537,
          -2.0820404766350484,
          -2.5807844496819294,
          -1.6138884147653512,
          -0.922401002323639,
          -2.3642606787877614,
          -1.5764981124781452,
          3.7962820490434424,
          -0.3036104969093894,
          0.7608957087685345,
          -0.5437853446497046,
          -2.9912064748179845,
          0.5046054420610785,
          -0.04466998352898844,
          1.4363834938987365,
          0.863440022776952,
          -0.019083250234786974,
          -1.5508895706673143,
          0.6337010932545564,
          -0.2648304789104275,
          0.21928415512213184,
          -0.3132798727077233,
          -1.161513008422828,
          0.8369979837226057,
          -0.7270066879839244,
          0.7531268880133524,
          -1.0081101381639432,
          2.666959560775866,
          0.932785109609192,
          -1.0128990171831718,
          1.0311202969338278,
          0.9890963454590725,
          3.3797052071057725,
          2.1187198727339016,
          -0.9607879273378297,
          0.025015348906501846,
          -0.8472127775491131,
          0.3050958260113985,
          -2.1622492195038814,
          -0.137539227316374,
          -1.3026827894385031,
          -1.375858051695677,
          -1.4214861455603398,
          -1.5751999189912846,
          -2.708767435853881,
          0.3975229975870748,
          -1.2517287518969842,
          1.0867189421523071,
          1.1553448370272896,
          -1.9078087755375046,
          -0.8037546250891009,
          2.1814477564434798,
          1.1351842539009935,
          0.7105304129968425,
          1.019342602355628,
          1.7340350596478993,
          -0.05565538007131739,
          1.214640288388218,
          1.1858893950755598,
          -0.5079063540179116,
          0.13707808975293095,
          0.9496307276417103,
          0.7050961615376654,
          0.21875758477003376,
          0.4261401054892485,
          -0.7697222918422036,
          1.3839240291678372,
          0.7280966784575413,
          0.23633352261228882,
          -1.1208198068876525,
          -0.1073397927841237,
          1.6064887913873385,
          1.1031741419859975,
          0.10399494688919232,
          -1.1174251074913228,
          0.3949343805118642,
          -0.3353633329504684,
          0.5868419222673823,
          -2.609924856092801,
          -1.8917757507680169,
          0.5478526444015364,
          0.37096705908462285,
          0.11776621131727114,
          0.8427276443291187,
          1.9696077308566609,
          1.7466032837686878,
          0.28864468706315866,
          -0.7403117842113082,
          -1.472744492160894,
          1.7261410893536797,
          -0.20865880666119366,
          0.2811095164014,
          1.3666020138967139,
          -0.12123195893423538,
          0.8754630310754518,
          1.1684871836164283,
          -2.2285201572890703,
          0.5528172588090461,
          -0.36297235116977267,
          -0.6000776735392495,
          0.43267902127048746,
          0.1665757714045205,
          -0.12807235835526418,
          -2.335364392301844,
          1.4796263840664208,
          -0.6967197421995579,
          0.13016710782778376,
          -2.151115382544144,
          0.5814112552387432,
          -2.0962397097017598,
          -0.5523376077429886,
          0.7000389238248107,
          -0.17711133369564888,
          -0.8514332346972288,
          -1.6319841414995588,
          -1.3642351313554193,
          1.436926404504417,
          0.8298351612565579,
          1.3162180882990138,
          1.6537977056225184,
          0.8100868657460848,
          1.386251330966496,
          -0.6685152365711251,
          -2.3743453401211765,
          1.5581954762772279,
          1.5549628811069478,
          0.20973184046694512,
          1.0257890706068709,
          -0.7921938374590506,
          -0.2771927513306881,
          0.9215537514127629,
          1.4302274607918837,
          5.083556094210727,
          1.5413840791713747,
          -2.7460409719328034,
          0.8005957956364953,
          -2.056588433232266,
          0.6516127958570279,
          1.1317282911266564,
          1.746140980001906,
          0.7060787510668431,
          1.2498314558696513,
          -0.8658181486680053,
          0.24655525507342335,
          -0.3658441200778107,
          0.22820935119608274,
          0.2765116919699182,
          -0.09526797695289266,
          -0.8782648444462842,
          -1.4854531348551627,
          1.2232065763922202,
          0.051516693858876125,
          0.1951595755542317,
          -0.8444471313963983,
          0.17913838824270556,
          2.675525086512062,
          1.2371572746689126,
          -0.3140590625639837,
          -0.6546269441572302,
          -0.48430507843170123,
          0.6243106442324838,
          1.7151605549074411,
          0.4898292922510887,
          1.4156914021007438,
          -3.140235483834453,
          -3.487861125142044,
          -3.2287537799817403,
          1.5656559848192821,
          -0.47889981446416624,
          0.32014495500692763,
          0.17493024214437755,
          -0.8575172837889926,
          -0.39988863145525483,
          -0.37863923600147725,
          0.8692919245338805,
          1.490285162715442,
          0.8308232579859947,
          0.26126227889660475,
          -1.560374879330999,
          -1.548866803045146,
          -0.4331786359090833,
          -0.21514853217745714,
          0.6131571220855118,
          0.22228680103349882,
          0.4387318000838539,
          2.1889497156128686,
          0.6471982541909865,
          -1.7909308546324485,
          -1.124798696384953,
          -0.8925046998087417,
          -1.4192574547116663,
          -0.0935205224630586,
          0.6683829851653837,
          -0.5302317854927551,
          0.5139236477963056,
          0.08951415268495728,
          -0.00020564230688221012,
          -1.93426916219291,
          -1.3177400074362446,
          -0.06731862318864873,
          1.5143933498721855,
          1.6061125896874735,
          0.9164556868828977,
          -0.6896052565511288,
          1.0841024538072581,
          -0.6115626533827349,
          0.9675233597835073,
          0.6233235811077062,
          0.5398376766362135,
          0.03468521619842219,
          0.028668918214626103,
          1.6008157382950479,
          0.02592435797990554,
          -0.8763330284883178,
          -0.2480539127124107,
          0.12693148374492708,
          -1.1090100882166272,
          0.9261967049275973,
          1.2617337150656305,
          1.4708582578286036,
          0.9853203980513296,
          -0.7511802668303291,
          1.3735746948641316,
          -1.0904128321815174,
          -1.4999443895526583,
          -0.37060029920300197,
          -0.34623173986734995,
          1.5711972416584765,
          0.7730476983955394,
          -0.24515141766179646,
          0.18532466755284285,
          0.9923418248379425,
          -0.7511802668303291,
          -0.6650668066129583,
          0.8361635838652138,
          0.6184623642905016,
          0.7567432436269039,
          -0.36969056015328955,
          -0.8593221249546817,
          1.4825815504685536,
          -0.16460131283689006,
          0.5937317155619126,
          1.93297094029803,
          0.5556768267436027,
          -3.2974200990764815,
          0.1402856382233362,
          -0.17040064793256293,
          0.7658656627808759,
          -1.1229249199861102,
          0.10512610914834401,
          0.7593832881940926,
          -2.1418731817462,
          -0.030604456972104517,
          1.257587796671794,
          0.5280303918446414,
          1.1417121536061088,
          -0.2835207153272369,
          0.07402783486047908,
          1.7464149061017382,
          -1.2290695313479345,
          -0.721270367291294,
          1.9197810901897414,
          1.9933796823529184,
          0.5462878529056125,
          1.2152341942723157,
          1.3732331676212541,
          0.8632296304458936,
          -0.32338118950319217,
          -0.301538490589613,
          0.21743314312437684,
          -1.779011300438312,
          1.4543951776050852,
          -0.3158973257979537,
          1.0785486219906808,
          0.5678924165342316,
          1.3485523299644266,
          1.2225308083538018,
          0.3079136718674102,
          0.2911268229480238,
          -0.049795988244646344,
          -1.6168566556803183,
          1.0797477037478014,
          0.4775038537145314,
          -0.07484598809713573,
          -1.0563452070907553,
          -1.0390872143649101,
          -0.6867570668386321,
          0.12697640013032993,
          0.9319704269828653,
          -0.6372802798762505,
          -0.7808519032303823,
          -0.2937656939438447,
          1.1599034930745908,
          0.6159314971622589,
          1.2344015061253473,
          -2.1556181902937888,
          0.9289770660042029,
          0.4100819041685274,
          -1.2130132436451542,
          -0.34501646621139676,
          1.727312675662622,
          0.6857568854446147,
          1.0767327441523087,
          0.6650170712603595,
          -0.93360927854087,
          0.5382897350298602,
          0.17812563554423677,
          0.9062656185091638,
          -1.4638144798969817,
          -0.06562895084054843,
          -0.3144621582994949,
          1.4942809410939915,
          1.8851551841873808,
          -1.2571963873734777,
          -0.6886069396426716,
          -1.404151290986721,
          -1.7490702225072863,
          -1.0800585249583237,
          1.337530947499277,
          1.0063161883675997,
          1.2751067412169004,
          -1.083940980559668,
          1.3838190839259534,
          1.3402779026319867,
          0.8717568480275139,
          0.16218324880593238,
          -1.5534253607711717,
          -0.8041288309150585,
          -1.3525366729180566,
          0.8265647218162299,
          -0.8754765335575515,
          -1.8018797878102046,
          0.631595362510327,
          -4.141782196593409,
          0.545422068473604,
          -0.22687368825402898,
          1.543344405896474,
          2.155137460776864,
          2.1495917036513985,
          1.4656774039920026,
          0.039588211966294085,
          -0.4240139838601388,
          0.35876690585783466,
          -0.182807563607907,
          -0.30923587050637685,
          -0.045770964800634945,
          1.5138464820197295,
          1.6347613132285912,
          0.4472447640908863,
          -0.9225534142445698,
          1.9264373142572067,
          1.6965316534651915,
          -2.075061578174846,
          -0.3909297240801359,
          1.1149404262559972,
          1.6246844234751374,
          0.541263618061138,
          -0.26783477736862127,
          -0.31041155505950824,
          0.31036772978952204,
          1.5368556284686865,
          -1.2548805954086184,
          0.01326047684952239,
          -1.1928318027552511,
          0.08030545437623533,
          0.13881334254383743,
          -0.30997319918333477,
          0.4827183105262295,
          -0.3428916243973235,
          1.1409120633510696,
          -1.0563299164765074,
          -0.0425544539696923,
          1.2104542964915208,
          0.2725365943016647,
          0.8008560158859219,
          1.0289819952951091,
          0.7641200345029002,
          0.6199843079363822,
          -2.6459953227177415,
          -1.0012281044872144,
          -1.5649931513691597,
          -2.085948429755212,
          0.4047609030613978,
          0.018200906666515016,
          0.18929353718253022,
          0.0043962710485355065,
          0.07851113837055618,
          0.8008560158859219,
          -1.2220684621281215,
          1.5356746215961559,
          1.8474454375413532,
          0.15381760638692438,
          0.9829182541005352,
          0.656897224876411,
          -0.7982108881533492,
          0.9966831642051864,
          1.547932657794522,
          1.0726057422563362,
          0.9814723019044594,
          -1.0442770082678747,
          -1.0833264645854288,
          0.7550159858057177,
          2.0479407585903284,
          -0.17243123679108244,
          1.1903087847719342,
          1.4939971814865727,
          0.2799712769437809,
          1.2285833180634593,
          1.9104318028930207,
          -0.08052201937818639,
          -0.37772146451427147,
          1.416797676089859,
          1.4834562824208057,
          0.36680993972882475,
          0.7757134703326497,
          -2.206378156807792,
          1.1702378398669588,
          1.5058618717117649,
          2.6113269998221162,
          1.1150176736480943,
          -1.0227230237466134,
          -0.6187523450172412,
          -0.08830027680737253,
          0.01938264842283616,
          1.03614237755475,
          1.4937182171630508,
          -1.162779880960404,
          0.7631603525881294,
          -2.2432369187359464,
          -0.7577370285385533,
          -0.3171170725097059,
          0.755105805220239,
          1.682576695904431,
          0.47240348229181955,
          1.4121805256905975,
          1.469275056856842,
          -0.19839108441591272,
          1.1345496555382992,
          -1.4733878271993803,
          1.925767205581947,
          0.9874156300469094,
          -0.5200205145392859,
          1.2843968594419508,
          -0.010108721933508799,
          -2.7416621449814875,
          -0.7521185158298691,
          1.8924619857534026,
          0.22252251360890338,
          -1.1255770087626118,
          1.031781559736242,
          1.8498474519807553,
          1.734636595288258,
          -4.0374610196469645,
          1.7871393228666363,
          -1.0084243203252519,
          -1.7741231088703013,
          0.6566021700821608,
          1.7871393228666363,
          -2.5057118504114144,
          0.7539232965161313,
          -0.8569979712603318,
          -1.1803567557139076,
          0.6403851494986068,
          -1.2079691642162456,
          -0.9323519375496176,
          -0.33088293515326656,
          0.329585765404552,
          -0.5191257887573325,
          2.758179544406102,
          0.554504358565598,
          0.8537858171356876,
          0.2539213766778527,
          -0.1940399757944382,
          -1.401580076645791,
          -0.4018177030681218,
          -1.292609572657098,
          0.6397744098468529,
          0.23886823749145514,
          1.7647712783804295,
          1.0875820705139496,
          -3.7137324711023183,
          -0.31342281542640826,
          0.277430228231489,
          -0.8641419589811773,
          -0.791304934994579,
          0.4413229815282909,
          1.748671948476036,
          -1.9755771735307393,
          0.7361377387558359,
          0.4951788522896517,
          0.6711908329461869,
          -0.23204279182840215,
          0.14019348536944656,
          1.1453558694471624,
          0.8533868878582063,
          -0.23029525495232847,
          -0.24018370391819466,
          -1.8526856133184193,
          -0.5891923713262025,
          0.2723283277061815,
          1.3632370617115894,
          -0.2884868324322428,
          -1.3716831316797458,
          0.38224309691656194,
          -1.1985136528351537,
          -3.2751521661444554,
          -0.7788769060697501,
          0.26132238052025647,
          0.9799657460345835,
          1.053246553777419,
          -0.005665269227067583,
          1.047512197147928,
          0.22448064528487408,
          0.5305881325903764,
          -1.2294294641763903,
          1.1069338092428767,
          -0.7000289300911133,
          1.3377488343148314,
          -0.0017828493980958729,
          -1.6056663883579916,
          -0.8671350041023248,
          1.0851211604285975,
          0.24803541645085184,
          0.9969650052952805,
          1.5130293000051642,
          -0.3375317391943333,
          -0.35223085893828665,
          -4.223002899410915,
          -2.0060299131477586,
          0.6073301377692784,
          1.3911245448975655,
          0.035413259495961226,
          -0.5276881164065235,
          1.0609046136129865,
          1.9749735436483504,
          1.4857817729740155,
          0.2692404912921038,
          -1.1843377002643365,
          0.9535565527335264,
          1.2473137018774976,
          0.8903309545104379,
          -0.9745683714033294,
          0.9210161655138942,
          -2.0464108763170854,
          -1.9473260303328734,
          -1.6544151054912757,
          -1.0269113668716854,
          1.9084342084493666,
          0.9207393007896202,
          2.1094048748978347,
          0.5920719812399142,
          0.5884564921814812,
          -0.44229884355506544,
          -1.411227217272338,
          1.2359806532753823,
          0.8615232534192586,
          1.0817795486068544,
          0.8293205183100552,
          -0.9348710157354156,
          -2.7380822933146955,
          0.7218791528910702,
          0.3618571599506494,
          -2.643320894322807,
          -1.5500915039939278,
          0.7766092480652804,
          1.6103521469544495,
          -0.04689920698601701,
          -1.0492077252997805,
          1.3299333118782282,
          -0.653798873061242,
          0.37442354759797697,
          -0.356110412460089,
          1.2127697736348042,
          -1.1000531734433476,
          1.19872775980786,
          1.3008373364938428,
          1.4955680360177783,
          0.7431376977144004,
          -0.3277236655548032,
          -0.7680541631631345,
          -0.050346199089791425,
          0.9821155876190607,
          1.4756585782642653,
          1.7927225352587621,
          -0.8903088589509222,
          -0.8386833073472423,
          0.3552931489509809,
          -0.4338792533254343,
          0.027605933503043776,
          0.3210957644648529,
          0.55619088908386,
          0.14130819113341334,
          -0.7816126122789377,
          -2.127465551864779,
          -1.5063549462680865,
          1.209714798774602,
          -0.21782598493769526,
          1.3666680683959755,
          -0.6766968559034816,
          0.1361565580942399,
          -3.7287743415061825,
          1.3971509148848253,
          0.9164823198140718,
          -0.059869813551457936,
          -1.1201035882651735,
          -1.246730967481705,
          1.2658153706582693,
          1.1524655030644544,
          -0.872849664208788,
          -1.4466295144642571,
          0.010445773203843156,
          -1.167259998150666,
          -1.0156907733869969,
          1.2886283535630383,
          0.9361766165287366,
          0.6053985127714004,
          -1.6682957437860808,
          -0.986003826320227,
          -1.2674943606485403,
          -0.7619892013502242,
          -1.2638746581506362,
          1.7100294661894435,
          0.18634523541667738,
          0.6405559742698574,
          0.6450429976457986,
          0.8095544031813586,
          -1.7376431373898875,
          1.7224237577356423,
          -0.4219089558834737,
          0.8324510761741349,
          -1.6206612403472576,
          -1.6203285920190122,
          -1.0115869572315097,
          -0.7230047052294188,
          -0.25043528510103147,
          -1.6335462804676388,
          -1.830348120704075,
          -0.45569655777030926,
          0.12572036714097837,
          1.1050922170942024,
          -0.6143163309424461,
          -1.0796306538033058,
          -0.16814783111955806,
          0.46267961675841934,
          1.3809589096392334,
          1.9112124995825392,
          -0.854262284408826,
          1.7126115905852006,
          -0.23925488498318026,
          -0.07082482913499505,
          -0.5969455076991449,
          -2.346196007984008,
          -0.566599267558,
          0.7510221364399468,
          0.9851627968093029,
          0.5305351740486818,
          0.22820935119608274,
          -1.539580376681993,
          1.0188909445260252,
          1.1965035088231641,
          -1.2136844550105403,
          0.88499248257574,
          0.6025757951079915,
          -0.9208606971515674,
          -0.8580041238844791,
          -0.0894036665713273,
          -3.1779802586305888,
          0.408843086706015,
          -0.5692112131851463,
          -1.3258431304595313,
          0.9375168222744285,
          1.9589900794719184,
          -1.5327344643932044,
          1.7088499980446559,
          -0.8168496698992934,
          1.2460117390144527,
          1.2486502261707195,
          1.5868640970723622,
          0.5447999271101681,
          1.7913018427376,
          0.29021701090103164,
          -3.85409261488175,
          -1.345507975530136,
          0.02147177405487534,
          2.255368435103415,
          -1.8392638394999485,
          1.9654261324680269,
          0.9324832406245962,
          1.0938277709749324,
          1.353470333238775,
          -1.2686911399409515,
          0.18561458748994158,
          0.3398209760657101,
          0.8127589266017844,
          -0.3004225647026748,
          1.1286176762111435,
          0.37432645962254285,
          0.936653551691878,
          -0.9931514638633715,
          -0.8449226313282533,
          -0.1789727266685896,
          -0.3480495719732269,
          -2.265104233849317,
          1.4204835145522101,
          1.9526014278645212,
          1.435205401493764,
          -2.933765643207401,
          0.8193202319388745,
          -1.1379235521015234,
          1.128406246273876,
          -3.617725851885159,
          -4.510020685881672,
          -0.1780095579340028,
          -0.6003187681992123,
          1.9128382306370544,
          -0.36041538656093375,
          0.18829038392341355,
          -2.5098530801144503,
          0.20279630080301234,
          0.3297140812426869,
          -0.6352209647185729,
          1.825713455537623,
          -3.0142831698871806,
          0.5787323232764492,
          0.016995433001024025,
          -0.9182013392552114,
          -1.6181860210570236,
          -1.6482707802722927,
          -1.163477320888789,
          0.7384606126002465,
          1.7555996958320534,
          1.1160979938014544,
          1.7647712783804295,
          0.4489941193107806,
          0.05537632084545586,
          -0.7739342614574694,
          -1.5405563209141893,
          -1.109489993756861,
          -1.1460937463349823,
          1.0742547105766276,
          1.4292686104143213,
          1.370226118999079,
          0.8369707945847141,
          0.6293423727689545,
          0.8387715939689748,
          -0.4770882910586459,
          0.08191712426375217,
          0.35589976327015854,
          0.5792809412148813,
          -1.6362980131937945,
          -1.5968266064912506,
          -0.6959766758625422,
          1.5937164655483091,
          1.4321170365170226,
          0.689338950458695,
          1.0642564480644339,
          0.22738099744491758,
          0.7289045199561385,
          -0.004821402370561712,
          2.6546620272116987,
          0.45652612471425197,
          -0.5507927254943434,
          -1.473535464897999,
          -0.11600405984431511,
          1.1701227590594696,
          0.7953987081012512,
          -0.1042636249160327,
          0.7523117440708115,
          1.9536013369905507,
          0.3429561849624454,
          0.7704945954315097,
          0.5539456557123149,
          -1.034140441092023,
          1.7024671766414827,
          -0.13428146838694127,
          -0.9721134426504792,
          -1.6138884147653512,
          0.39624243809641735,
          -0.04084851946540748,
          0.07618130890661921,
          0.7976510144077886,
          0.826140249434685,
          1.2644387146151583,
          -0.3607797097370802,
          0.6790384382215628,
          1.3488624484981466,
          -1.4137948223360928,
          -3.230011687774882,
          0.38600152698962886,
          0.8298793349781549,
          0.6738608018672869,
          0.2573533682924039,
          -0.8661923790901772,
          -0.328178823847988,
          -0.17051895608045609,
          0.9052403997727915,
          1.9231256296918582,
          1.602358037025837,
          1.3797640072951185,
          0.4159631671881888,
          -0.012213257662225294,
          0.9783158224264115,
          1.0400882363305088,
          -0.718150178016731,
          -0.0326936688466351,
          -1.5764981124781452,
          -1.0111590949807896,
          0.23865446239848007,
          1.4589627337567748,
          0.8444535799411439,
          -0.2230950138379946,
          -1.3427020491206914,
          0.4768982424745189,
          -1.453229713547804,
          -0.4876977164092548,
          0.3944686921298205,
          0.7041367006350683,
          -0.7210879946760286,
          0.5307419727649646,
          -1.0279477520966898,
          1.341856509200495,
          1.8368115473458368,
          0.6367500555074809,
          -0.7398536136672181,
          1.0088194921677858,
          2.2704242002127106,
          0.4959613538884965,
          -0.34895341523848683,
          1.9252101780386925,
          0.034184015453072904,
          -0.8578803669849169,
          1.1835043930760387,
          0.5674359545003455,
          0.33324043002199066,
          -1.4557713045526037,
          -0.4722143608281941,
          1.9797536765519745,
          -0.16054685561374923,
          -0.7693322686966151,
          1.448981743552772,
          0.4525303854468379,
          -1.0655861981016121,
          1.1698526992124831,
          1.1415095747867066,
          0.5927050635991971,
          0.4001880606329528,
          -2.89826094367461,
          -0.4183150172595878,
          -0.15921530642754603,
          0.4825975009979795,
          1.4135758058817536,
          0.4704200710330715,
          0.14578512483291048,
          -0.12500069551120677,
          -0.5053666153048487,
          0.9511141196561799,
          -0.2759626576719752,
          1.434986782454358,
          -1.567633362040296,
          -0.5385918197515351,
          1.020123301478641,
          0.8559920245789464,
          1.373140384708656,
          1.109731783515972,
          -0.9704649376741844,
          -1.1701830592452276,
          -0.761896275275,
          -2.0081310838720117,
          -1.584781891136005,
          1.668844237676313,
          1.0606549058426298,
          -0.5529188017235525,
          -1.7347311701423092,
          -0.2871508998296351,
          1.4812550257971022,
          -0.4018177030681218,
          1.2703884159458372,
          1.5072249182042197,
          0.25307601982885924,
          -1.401580076645791,
          0.26590151279607255,
          0.04686653619815523,
          0.4285436314467034,
          0.8181621201100185,
          -1.2620703668152884,
          0.8685983531901738,
          0.32728851627427535,
          0.22778852645357314,
          -0.7561948757829025,
          0.5695250316541389,
          -0.6756108168897658,
          -0.3044059990222561,
          0.9553229519570432,
          0.3201358173328976,
          -4.926430415889246,
          -0.6466708006438826,
          2.962018457382925,
          0.06022938907135593,
          1.1037711030269415,
          0.6614061960627927,
          0.19836789610634895,
          0.555963626597301,
          0.9164639774728833,
          0.6828399119374173,
          -0.6003710630818105,
          -1.0128817260052139,
          2.4825939837237536,
          -1.401349714301908,
          0.17470428166383484,
          0.9111788156385566,
          -0.4559543606204708,
          0.9359126999211531,
          -0.14825509266286782,
          0.7250248551816247,
          -1.401580076645791,
          -1.3647066170418596,
          -0.48402215019505446,
          0.9728241449865743,
          -0.6097395793345126,
          -0.08953822807950317,
          -0.9701259379296214,
          -0.759996472096249,
          1.0434359482959183,
          -0.3667923238998948,
          -0.9547855788248507,
          1.017598623210475,
          -0.405702086390503,
          1.6138466757068417,
          0.5650903118125129,
          -0.44608626656663775,
          -1.2034139724845085,
          0.28258994130857906,
          1.1999725312215763,
          1.482128981186897,
          0.6506394120134397,
          -0.7828300290454238,
          1.4450295386855752,
          0.07240350437080197,
          0.874638641806549,
          -0.0311630965171033,
          1.2594074887868574,
          -1.0835843951726873,
          1.708666471874491,
          0.3644844617840746,
          -1.3927749637720355,
          0.17715515407708876,
          0.2617205629301227,
          0.44841085996571123,
          -1.8722101125506923,
          -1.6344837844597067,
          -0.8657508596654874,
          -2.0356555744709404,
          -0.8996237726270162,
          -1.5585228705884617,
          0.3907249990170324,
          0.513127469421167,
          1.708666471874491,
          1.4450295386855752,
          0.959799661376225,
          0.23886823749145514,
          0.9130109851345338,
          0.6630691357549129,
          1.0266642055962405,
          -0.34979948194222094,
          1.6133397139707595,
          0.3535586143108175,
          0.5685064393435899,
          0.6673662677223765,
          -0.8782648444462842,
          0.041563221019898074,
          0.3565952879315195,
          -1.7141967843268553,
          -0.06575420689055513,
          -0.3259771605711738,
          2.765590903752747,
          -0.7580933527992543,
          0.6673662677223765,
          -1.7817972734984189,
          1.2580368273864158,
          1.2712139949936314,
          1.2432136450509608,
          -0.8894708659150957,
          0.32051077557031915,
          1.4367410731311316,
          0.5274563614277711,
          1.4450295386855752,
          0.7639620372033364,
          0.16591304534553783,
          0.561715246091724,
          0.7894170199097351,
          0.7425797317478102,
          -1.5180119482985537,
          -0.6363350819648476,
          0.5497339379702205,
          0.1458706126534947,
          1.8377386182389928,
          0.8085751586670628,
          -1.3584590274451342,
          0.739704851451511,
          -1.7322331332238696,
          -0.7663751218131123,
          -1.3316658436481865,
          -0.7166800458473356,
          0.2385642488647683,
          -1.862470892127857,
          0.5509738154841177,
          -0.36084193417491933,
          0.06638289911685841,
          -0.4326116109536815,
          -0.20623973477502078,
          0.5962719942263631,
          0.5258846368805528,
          -0.9159450071091882,
          -0.7580933527992543,
          0.2291005721029132,
          -0.6388740309727666,
          -0.5568839049235709,
          -0.36981359771754324,
          -0.7020615981030212,
          0.25641626689105607,
          1.262421416413616,
          0.3549515995441391,
          0.6037527236781849,
          1.2142099053693647,
          -0.6279852627574151,
          -1.7026416406919649,
          1.140098485158714,
          -0.5453606254863442,
          1.2375679051796058,
          0.2701926765610371,
          1.6530085995337573,
          -0.9486411150305695,
          1.1987243521833406,
          1.5195113788039205,
          1.1502792057629705,
          1.8929752606850494,
          1.1851797663363124,
          -0.21207523200939218,
          0.28822798220598006,
          -0.35664543354320966,
          -1.2200543088463451,
          -0.3231081288231391,
          -0.5840588234776252,
          0.5139550838035936,
          0.9906773133040762,
          0.8585703803045474,
          0.49646127783567223,
          1.8153089132733617,
          -1.5060154883593684,
          1.9141015508120187,
          2.1140127290854602,
          0.9417295742843133,
          0.6402072234950323,
          1.589554252535671,
          -1.1759365643270137,
          0.7272141955837969,
          1.6792922317810555,
          -1.3940979796925494,
          0.5433517650461644,
          -2.505422604661594,
          -0.9098026195638206,
          -0.8113918759637341,
          0.09567858338285806,
          -0.8950849051436344,
          1.878892749453412,
          1.071126193694118,
          -0.11811283220036675,
          0.708657445510959,
          -0.7201086094387757,
          0.38584455238224663,
          0.6012343765070441,
          2.083577810667206,
          1.6409737641594084,
          -2.0173296434817933,
          -1.125564091704424,
          -1.5249224805471717,
          0.24832535194472846,
          1.6457309040753207,
          0.8984829661414021,
          2.000079081825223,
          0.8782257282754201,
          0.6821122417988856,
          1.6130807460844934,
          -0.5876344024988561,
          -0.3198136697608206,
          0.0216594424906812,
          2.0803575860479846,
          1.1763874714841487,
          1.375962744111447,
          -1.916584802793272,
          -0.6544163745649662,
          0.24471904479588075,
          1.1462532671633117,
          -2.388577381740475,
          0.3836796454773143,
          -2.260997649161545,
          -0.40370933521530644,
          1.4732668587658209,
          -2.881892612668662,
          0.7509567561693722,
          -0.32221132917517664,
          -0.920647477543165,
          1.8509837789711177,
          0.7890496478452889,
          1.2830668567165275,
          0.8730554864120961,
          -0.5011142591693812,
          -0.1561323827026808,
          1.6846349295363152,
          -0.803460364018213,
          -0.8256446822934412,
          1.4082516540264547,
          -0.19128250892731158,
          0.2039611321231948,
          1.710439905162731,
          1.1858893950755598,
          2.7240008648304577,
          0.8684777077851822,
          0.5656659322828861,
          -0.7176153935414257,
          0.9853057552217235,
          1.0518011758657275,
          -0.6044888677592388,
          0.9662941157106486,
          -1.351317175906207,
          -1.2227799674036344,
          0.4627040665572061,
          0.9553603561223097,
          -1.5734279915222549,
          -1.9442388545111549,
          1.1568694880295205,
          -0.5342468584066884,
          -1.395027987171613,
          1.4141473255920787,
          0.2095856982766865,
          1.842880910309395,
          0.3795525054625941,
          -0.9052354511669123,
          -1.4312330337490584,
          1.6214070312529436,
          0.10663678006369327,
          1.3341501529785436,
          0.46470002659047627,
          0.556315427755916,
          -0.43549535063509554,
          -0.6365758074667561,
          1.989604370279079,
          -0.195434321224034,
          1.2950469460611709,
          0.21460276333624873,
          -0.5693256081458257,
          0.2852520401277443,
          1.0550185438973965,
          0.313592345309901,
          -0.19975264423273256,
          -0.27840688884065595,
          -0.7519614518390285,
          -1.0057362769540834,
          -1.0533414568701545,
          1.526291830635741,
          -1.423095204209822,
          -1.2041023741094121,
          -2.0236163540064784,
          0.9204326433818656,
          -0.17014626589716336,
          -1.1311068972814622,
          0.26324562269002655,
          -0.16945738258600004,
          -1.6272453386585972,
          1.2466826371493924,
          -0.48113128073817507,
          -0.7190496303217879,
          -0.5318113369172175,
          1.604126539030301,
          1.2570393671455313,
          1.7258225212033294,
          -0.05568096792668972,
          0.7614764345361903,
          -1.3948497988832906,
          -0.06204451607164123,
          0.8811668436382987,
          -1.63311202664939,
          2.399751226475769,
          -2.2113856582724902,
          -1.2538835871553837,
          -1.2918941349145008,
          -0.10230672792453131,
          -0.31789113841730887,
          0.6910956068612163,
          -0.16275062597871362,
          -1.490664570149995,
          -1.8867848173167543,
          -1.2629026165472022,
          -0.5921618444601274,
          -0.8439289229789725,
          -0.9368751489260148,
          -0.4349105604639794,
          -1.6115154279313455,
          2.677885405639582,
          1.6153800428073863,
          0.22689244606791936,
          -0.596670149129433,
          -0.4795384093788729,
          -0.05774780890754582,
          -2.018382235910554,
          -2.1915117995180116,
          -3.5328800334218924,
          -1.694473061779851,
          -0.5969333171540255,
          -0.20540590516148577,
          -1.2794791471124072,
          -1.486402923222519,
          0.3073355289637595,
          -0.23390194084718693,
          -4.725725554880989,
          -1.382993421004211,
          -1.7550737144953412,
          0.39206124372952145,
          0.30007409855682865,
          -0.807557169825737,
          -1.0279585398167304,
          0.14938548941817711,
          0.5052053156010351,
          0.9594571133135292,
          -0.9863656413539482,
          0.5788112945237324,
          -1.8551081185336888,
          -1.136312139906505,
          -0.6562572794264554,
          -1.0905333897264773,
          0.5886601501116194,
          -1.8716075610992229,
          0.8963543973800285,
          -0.6689009954049978,
          0.47224676678449945,
          0.47284042549695215,
          -1.4120419027829956,
          -1.3666722789429109,
          -0.29044177683901007,
          -1.4810407037565896,
          -0.3367234473902361,
          -2.415996271393816,
          -0.9428967165851071,
          -0.6503563621689232,
          -0.9249701923527559,
          -2.8203168860404917,
          -1.100338250365829,
          1.7777978113160222,
          1.6447077023897487,
          1.7765060021801389,
          -1.6249784124419964,
          -1.067335821145325,
          -1.0891986095589279,
          -0.6242416689645505,
          -0.8538990945460692,
          -0.7159046804219522,
          -0.2756731816328637,
          -0.5523993033950906,
          0.5038807240410659,
          0.29404660116578735,
          -0.5140365582332164,
          1.3050882061155693,
          0.5848517772513953,
          0.3626416940213268,
          0.19196654379136838,
          0.336436006214578,
          -1.7027716932995385,
          -0.9667835260528924,
          0.2871156042203824,
          -1.3345656283275358,
          -2.6479737412356616,
          -1.2529468564069508,
          -1.7920561206393635,
          0.12360024977269143,
          1.3929716568176937,
          -2.461276509309853,
          0.10942957107233967,
          1.7920377923296409,
          1.2689603034896548,
          0.7175550721368876,
          0.7624075586752409,
          0.04834261725697964,
          0.08339547625986067,
          -0.4187001094105353,
          1.1131540949001337,
          0.48007945688627995,
          0.4295875123041575,
          -0.29949378295096857,
          -1.5104332582209719,
          0.7148617121734087,
          -0.23674652203211502,
          -2.1883256348663584,
          -1.0381943237445226,
          0.4256389303204197,
          0.6226420220485479,
          0.7786164612894805,
          0.6650892459673171,
          -1.944157762364622,
          2.900352643861853,
          2.069869390092006,
          0.055884455242330794,
          -1.6029723075231843,
          -0.5809576370987015,
          0.34801424184403773,
          1.2188347152863508,
          -0.6477221231363425,
          0.5157335844375256,
          1.8897902512629252,
          1.3118440084482679,
          -0.48971363477818897,
          1.0007331461430555,
          -0.5237564301480626,
          -0.4750654540676994,
          1.6798622021393768,
          1.1496053255984782,
          -0.3156028924788382,
          -0.2337807126424331,
          -0.22969740655634135,
          -0.9259757251719715,
          -1.0925045964270668,
          -1.2741031403077363,
          -1.6865036071892845,
          -1.7545423099604998,
          0.2750882594946711,
          -0.471366828709766,
          -1.3225707440423553,
          -0.466125129851359,
          -0.24042848155807808,
          -0.4873182557652327,
          -1.429396134359763,
          -0.17203780934231308,
          -0.39082352923796554,
          -0.07038622699040496,
          -0.10711485750499236,
          1.7058244012485344,
          1.841417137897565,
          -0.8674501398747047,
          -0.43013507585132577,
          1.491791051275259,
          -0.13935135333729395,
          -0.9182481607844998,
          -0.4581470238252742,
          -0.3309716312338351,
          -3.448534753067694,
          0.4690369062389814,
          -1.014581028412934,
          -0.2093369011623097,
          -3.528711985623123,
          -1.1005129615915827,
          -0.260976874150746,
          0.6649859265681576,
          -0.08030249781058163,
          0.42793608118399,
          0.8689596994164296,
          1.8212930000926,
          0.8255304834221925,
          1.566276616872139,
          1.833650966072016,
          0.32523435413203067,
          -0.49306481457703333,
          -0.5544762374123632,
          1.000443364320574,
          -0.20120749139262922,
          0.5124003056571514,
          1.3484019613603853,
          1.8015268226688914,
          1.5105590716938333,
          0.9275654624662573,
          -0.23468073840746692,
          1.2205968317825993,
          -1.136312139906505,
          -0.22061915619634262,
          -1.6669072585059523,
          -1.9950737535246272,
          -0.44398616932224333,
          0.3478521014322288,
          -1.137714282945036,
          0.9076562287067091,
          -0.2975075787102781,
          0.2489392206475676,
          1.6447416519767017,
          -1.4889144280202529,
          0.9710507894887885,
          -0.7236698107539473,
          0.477646996927856,
          1.4288411298436834,
          0.08707404624074734,
          -1.4179530414031662,
          0.6765514321538788,
          1.3472071431492871,
          0.8483144234869319,
          -1.1691172766694282,
          -0.3902811318045236,
          -0.0021349104852655455,
          0.08630895256322337,
          0.3093529617994028,
          1.0882540264002534,
          1.8348195350437602,
          1.7373188165131388,
          0.5360605554580068,
          0.165506138228936,
          0.32531160405768184,
          0.5153081371097311,
          -2.3431128514923745,
          -1.570312515133347,
          -2.1232093151257136,
          -1.012100498454593,
          0.4940487943597526,
          -0.33543087556516055,
          0.060151855004573075,
          0.11081200601851446,
          -1.9669820182386044,
          0.7259633190389396,
          1.094170805639453,
          0.16833707095913159,
          0.45164233888184446,
          -0.7711146763502105,
          -1.1384247736014783,
          -0.8738344812128978,
          0.9709329230133783,
          -1.8964877107680598,
          -0.017963248178175677,
          1.6392629740722917,
          1.5170186936523304,
          0.9533508498920606,
          1.1404415235489322,
          0.714604832049576,
          0.5347554848907945,
          -0.8884304572241924,
          0.45326494209211665,
          -0.6917496530477152,
          0.753129002187449,
          0.7844853959206065,
          0.8596028009095869,
          0.7988534220050557,
          -0.4921584900454224,
          -1.7633803466881823,
          0.8502963901926482,
          -0.3888653403431525,
          -1.167971324454726,
          -0.3128099650381436,
          -1.1266723887428178,
          -0.6482793782637212,
          -1.479130717911857,
          0.7627542175970505,
          -1.9607126284503202,
          -1.5128935862207682,
          -1.365889570046869,
          -2.5806739037180635,
          -2.251168373432375,
          -1.1557950596958133,
          0.49939532338493775,
          -0.19392101908706605,
          0.41106139784745604,
          1.2672748440425143,
          -0.3710562964332759,
          0.6920973086549623,
          -0.7074915575094938,
          -0.4084531179190389,
          -2.5046798317939514,
          -1.3006117021911887,
          -1.5269922848105626,
          -3.328798478675615,
          0.8154910658421057,
          0.059602508733495395,
          -1.6860855540386392,
          -4.1402131863335,
          -0.3296411404012188,
          1.107641072254627,
          -1.0275319287540383,
          -0.4029608314997487,
          1.4552005469127536,
          -0.5568909003974132,
          0.5605328474326073,
          -0.4099063202162546,
          -1.435663937032529,
          0.377906404043893,
          0.6262986526244958,
          1.3876107689100938,
          1.2892867617859332,
          0.6359887808346718,
          -1.1880247164474835,
          -0.07617480163015643,
          -1.374658765710187,
          0.04800500904713304,
          -0.4071367672371835,
          1.1613045332974448,
          -0.6806940771406179,
          -0.9867017630208043,
          1.4129959597201862,
          1.6087426553628517,
          -0.5266437653811408,
          -2.0408443321077048,
          -2.1299695393379947,
          -2.453986709966445,
          -1.139209028818521,
          1.1182621670909887,
          0.48415599268940746,
          0.6122614866692991,
          1.8327156853735822,
          1.4682784657651522,
          0.038901754786730414,
          0.2744250277434286,
          0.2989629039661807,
          -0.45875387290343145,
          -2.311303998919435,
          -1.5607709174801654,
          -0.8670314757446712,
          1.8560268647882279,
          0.48046551283697775,
          -1.368865507938578,
          -1.2444419805781384,
          -1.3752954870100904,
          -0.8955382670692804,
          -1.7978772829524254,
          -0.6394070222083359,
          -2.0309412623180108,
          0.6003613349491524,
          0.9502620708539167,
          1.6442586358632352,
          0.6533609601204999,
          0.24639464381664483,
          0.8393647413106019,
          1.7416430907661546,
          1.0447074491385364,
          -1.9649401797540427,
          1.1525737806529515,
          1.6975887435220391,
          -0.19975754437042478,
          -1.3014882868002329,
          0.9635682990330839,
          -0.6052447207156807,
          -0.8860407378875363,
          1.1452709643160868,
          -1.7441594091028176,
          0.13620755543473279,
          -1.4906004899415903,
          -1.600195494266539,
          -1.8076871094719882,
          -0.6261913839102491,
          0.07320778228843826,
          1.3854613285491926,
          -2.5596742584874543,
          0.2783969857223942,
          1.28660129884722,
          1.885180546058519,
          -0.15114118715853592,
          -2.303227862345066,
          -2.858885854665238,
          0.25929597839931384,
          1.3739860652162645,
          0.8463297800852098,
          0.632491636793472,
          0.1736359811488246,
          2.015595062757464,
          -0.3406786008364065
         ],
         "yaxis": "y"
        }
       ],
       "layout": {
        "coloraxis": {
         "colorbar": {
          "title": {
           "text": "cluster"
          }
         },
         "colorscale": [
          [
           0,
           "#0d0887"
          ],
          [
           0.1111111111111111,
           "#46039f"
          ],
          [
           0.2222222222222222,
           "#7201a8"
          ],
          [
           0.3333333333333333,
           "#9c179e"
          ],
          [
           0.4444444444444444,
           "#bd3786"
          ],
          [
           0.5555555555555556,
           "#d8576b"
          ],
          [
           0.6666666666666666,
           "#ed7953"
          ],
          [
           0.7777777777777778,
           "#fb9f3a"
          ],
          [
           0.8888888888888888,
           "#fdca26"
          ],
          [
           1,
           "#f0f921"
          ]
         ]
        },
        "height": 600,
        "legend": {
         "tracegroupgap": 0
        },
        "margin": {
         "t": 60
        },
        "template": {
         "data": {
          "bar": [
           {
            "error_x": {
             "color": "#2a3f5f"
            },
            "error_y": {
             "color": "#2a3f5f"
            },
            "marker": {
             "line": {
              "color": "#E5ECF6",
              "width": 0.5
             }
            },
            "type": "bar"
           }
          ],
          "barpolar": [
           {
            "marker": {
             "line": {
              "color": "#E5ECF6",
              "width": 0.5
             }
            },
            "type": "barpolar"
           }
          ],
          "carpet": [
           {
            "aaxis": {
             "endlinecolor": "#2a3f5f",
             "gridcolor": "white",
             "linecolor": "white",
             "minorgridcolor": "white",
             "startlinecolor": "#2a3f5f"
            },
            "baxis": {
             "endlinecolor": "#2a3f5f",
             "gridcolor": "white",
             "linecolor": "white",
             "minorgridcolor": "white",
             "startlinecolor": "#2a3f5f"
            },
            "type": "carpet"
           }
          ],
          "choropleth": [
           {
            "colorbar": {
             "outlinewidth": 0,
             "ticks": ""
            },
            "type": "choropleth"
           }
          ],
          "contour": [
           {
            "colorbar": {
             "outlinewidth": 0,
             "ticks": ""
            },
            "colorscale": [
             [
              0,
              "#0d0887"
             ],
             [
              0.1111111111111111,
              "#46039f"
             ],
             [
              0.2222222222222222,
              "#7201a8"
             ],
             [
              0.3333333333333333,
              "#9c179e"
             ],
             [
              0.4444444444444444,
              "#bd3786"
             ],
             [
              0.5555555555555556,
              "#d8576b"
             ],
             [
              0.6666666666666666,
              "#ed7953"
             ],
             [
              0.7777777777777778,
              "#fb9f3a"
             ],
             [
              0.8888888888888888,
              "#fdca26"
             ],
             [
              1,
              "#f0f921"
             ]
            ],
            "type": "contour"
           }
          ],
          "contourcarpet": [
           {
            "colorbar": {
             "outlinewidth": 0,
             "ticks": ""
            },
            "type": "contourcarpet"
           }
          ],
          "heatmap": [
           {
            "colorbar": {
             "outlinewidth": 0,
             "ticks": ""
            },
            "colorscale": [
             [
              0,
              "#0d0887"
             ],
             [
              0.1111111111111111,
              "#46039f"
             ],
             [
              0.2222222222222222,
              "#7201a8"
             ],
             [
              0.3333333333333333,
              "#9c179e"
             ],
             [
              0.4444444444444444,
              "#bd3786"
             ],
             [
              0.5555555555555556,
              "#d8576b"
             ],
             [
              0.6666666666666666,
              "#ed7953"
             ],
             [
              0.7777777777777778,
              "#fb9f3a"
             ],
             [
              0.8888888888888888,
              "#fdca26"
             ],
             [
              1,
              "#f0f921"
             ]
            ],
            "type": "heatmap"
           }
          ],
          "heatmapgl": [
           {
            "colorbar": {
             "outlinewidth": 0,
             "ticks": ""
            },
            "colorscale": [
             [
              0,
              "#0d0887"
             ],
             [
              0.1111111111111111,
              "#46039f"
             ],
             [
              0.2222222222222222,
              "#7201a8"
             ],
             [
              0.3333333333333333,
              "#9c179e"
             ],
             [
              0.4444444444444444,
              "#bd3786"
             ],
             [
              0.5555555555555556,
              "#d8576b"
             ],
             [
              0.6666666666666666,
              "#ed7953"
             ],
             [
              0.7777777777777778,
              "#fb9f3a"
             ],
             [
              0.8888888888888888,
              "#fdca26"
             ],
             [
              1,
              "#f0f921"
             ]
            ],
            "type": "heatmapgl"
           }
          ],
          "histogram": [
           {
            "marker": {
             "colorbar": {
              "outlinewidth": 0,
              "ticks": ""
             }
            },
            "type": "histogram"
           }
          ],
          "histogram2d": [
           {
            "colorbar": {
             "outlinewidth": 0,
             "ticks": ""
            },
            "colorscale": [
             [
              0,
              "#0d0887"
             ],
             [
              0.1111111111111111,
              "#46039f"
             ],
             [
              0.2222222222222222,
              "#7201a8"
             ],
             [
              0.3333333333333333,
              "#9c179e"
             ],
             [
              0.4444444444444444,
              "#bd3786"
             ],
             [
              0.5555555555555556,
              "#d8576b"
             ],
             [
              0.6666666666666666,
              "#ed7953"
             ],
             [
              0.7777777777777778,
              "#fb9f3a"
             ],
             [
              0.8888888888888888,
              "#fdca26"
             ],
             [
              1,
              "#f0f921"
             ]
            ],
            "type": "histogram2d"
           }
          ],
          "histogram2dcontour": [
           {
            "colorbar": {
             "outlinewidth": 0,
             "ticks": ""
            },
            "colorscale": [
             [
              0,
              "#0d0887"
             ],
             [
              0.1111111111111111,
              "#46039f"
             ],
             [
              0.2222222222222222,
              "#7201a8"
             ],
             [
              0.3333333333333333,
              "#9c179e"
             ],
             [
              0.4444444444444444,
              "#bd3786"
             ],
             [
              0.5555555555555556,
              "#d8576b"
             ],
             [
              0.6666666666666666,
              "#ed7953"
             ],
             [
              0.7777777777777778,
              "#fb9f3a"
             ],
             [
              0.8888888888888888,
              "#fdca26"
             ],
             [
              1,
              "#f0f921"
             ]
            ],
            "type": "histogram2dcontour"
           }
          ],
          "mesh3d": [
           {
            "colorbar": {
             "outlinewidth": 0,
             "ticks": ""
            },
            "type": "mesh3d"
           }
          ],
          "parcoords": [
           {
            "line": {
             "colorbar": {
              "outlinewidth": 0,
              "ticks": ""
             }
            },
            "type": "parcoords"
           }
          ],
          "scatter": [
           {
            "marker": {
             "colorbar": {
              "outlinewidth": 0,
              "ticks": ""
             }
            },
            "type": "scatter"
           }
          ],
          "scatter3d": [
           {
            "line": {
             "colorbar": {
              "outlinewidth": 0,
              "ticks": ""
             }
            },
            "marker": {
             "colorbar": {
              "outlinewidth": 0,
              "ticks": ""
             }
            },
            "type": "scatter3d"
           }
          ],
          "scattercarpet": [
           {
            "marker": {
             "colorbar": {
              "outlinewidth": 0,
              "ticks": ""
             }
            },
            "type": "scattercarpet"
           }
          ],
          "scattergeo": [
           {
            "marker": {
             "colorbar": {
              "outlinewidth": 0,
              "ticks": ""
             }
            },
            "type": "scattergeo"
           }
          ],
          "scattergl": [
           {
            "marker": {
             "colorbar": {
              "outlinewidth": 0,
              "ticks": ""
             }
            },
            "type": "scattergl"
           }
          ],
          "scattermapbox": [
           {
            "marker": {
             "colorbar": {
              "outlinewidth": 0,
              "ticks": ""
             }
            },
            "type": "scattermapbox"
           }
          ],
          "scatterpolar": [
           {
            "marker": {
             "colorbar": {
              "outlinewidth": 0,
              "ticks": ""
             }
            },
            "type": "scatterpolar"
           }
          ],
          "scatterpolargl": [
           {
            "marker": {
             "colorbar": {
              "outlinewidth": 0,
              "ticks": ""
             }
            },
            "type": "scatterpolargl"
           }
          ],
          "scatterternary": [
           {
            "marker": {
             "colorbar": {
              "outlinewidth": 0,
              "ticks": ""
             }
            },
            "type": "scatterternary"
           }
          ],
          "surface": [
           {
            "colorbar": {
             "outlinewidth": 0,
             "ticks": ""
            },
            "colorscale": [
             [
              0,
              "#0d0887"
             ],
             [
              0.1111111111111111,
              "#46039f"
             ],
             [
              0.2222222222222222,
              "#7201a8"
             ],
             [
              0.3333333333333333,
              "#9c179e"
             ],
             [
              0.4444444444444444,
              "#bd3786"
             ],
             [
              0.5555555555555556,
              "#d8576b"
             ],
             [
              0.6666666666666666,
              "#ed7953"
             ],
             [
              0.7777777777777778,
              "#fb9f3a"
             ],
             [
              0.8888888888888888,
              "#fdca26"
             ],
             [
              1,
              "#f0f921"
             ]
            ],
            "type": "surface"
           }
          ],
          "table": [
           {
            "cells": {
             "fill": {
              "color": "#EBF0F8"
             },
             "line": {
              "color": "white"
             }
            },
            "header": {
             "fill": {
              "color": "#C8D4E3"
             },
             "line": {
              "color": "white"
             }
            },
            "type": "table"
           }
          ]
         },
         "layout": {
          "annotationdefaults": {
           "arrowcolor": "#2a3f5f",
           "arrowhead": 0,
           "arrowwidth": 1
          },
          "colorscale": {
           "diverging": [
            [
             0,
             "#8e0152"
            ],
            [
             0.1,
             "#c51b7d"
            ],
            [
             0.2,
             "#de77ae"
            ],
            [
             0.3,
             "#f1b6da"
            ],
            [
             0.4,
             "#fde0ef"
            ],
            [
             0.5,
             "#f7f7f7"
            ],
            [
             0.6,
             "#e6f5d0"
            ],
            [
             0.7,
             "#b8e186"
            ],
            [
             0.8,
             "#7fbc41"
            ],
            [
             0.9,
             "#4d9221"
            ],
            [
             1,
             "#276419"
            ]
           ],
           "sequential": [
            [
             0,
             "#0d0887"
            ],
            [
             0.1111111111111111,
             "#46039f"
            ],
            [
             0.2222222222222222,
             "#7201a8"
            ],
            [
             0.3333333333333333,
             "#9c179e"
            ],
            [
             0.4444444444444444,
             "#bd3786"
            ],
            [
             0.5555555555555556,
             "#d8576b"
            ],
            [
             0.6666666666666666,
             "#ed7953"
            ],
            [
             0.7777777777777778,
             "#fb9f3a"
            ],
            [
             0.8888888888888888,
             "#fdca26"
            ],
            [
             1,
             "#f0f921"
            ]
           ],
           "sequentialminus": [
            [
             0,
             "#0d0887"
            ],
            [
             0.1111111111111111,
             "#46039f"
            ],
            [
             0.2222222222222222,
             "#7201a8"
            ],
            [
             0.3333333333333333,
             "#9c179e"
            ],
            [
             0.4444444444444444,
             "#bd3786"
            ],
            [
             0.5555555555555556,
             "#d8576b"
            ],
            [
             0.6666666666666666,
             "#ed7953"
            ],
            [
             0.7777777777777778,
             "#fb9f3a"
            ],
            [
             0.8888888888888888,
             "#fdca26"
            ],
            [
             1,
             "#f0f921"
            ]
           ]
          },
          "colorway": [
           "#636efa",
           "#EF553B",
           "#00cc96",
           "#ab63fa",
           "#FFA15A",
           "#19d3f3",
           "#FF6692",
           "#B6E880",
           "#FF97FF",
           "#FECB52"
          ],
          "font": {
           "color": "#2a3f5f"
          },
          "geo": {
           "bgcolor": "white",
           "lakecolor": "white",
           "landcolor": "#E5ECF6",
           "showlakes": true,
           "showland": true,
           "subunitcolor": "white"
          },
          "hoverlabel": {
           "align": "left"
          },
          "hovermode": "closest",
          "mapbox": {
           "style": "light"
          },
          "paper_bgcolor": "white",
          "plot_bgcolor": "#E5ECF6",
          "polar": {
           "angularaxis": {
            "gridcolor": "white",
            "linecolor": "white",
            "ticks": ""
           },
           "bgcolor": "#E5ECF6",
           "radialaxis": {
            "gridcolor": "white",
            "linecolor": "white",
            "ticks": ""
           }
          },
          "scene": {
           "xaxis": {
            "backgroundcolor": "#E5ECF6",
            "gridcolor": "white",
            "gridwidth": 2,
            "linecolor": "white",
            "showbackground": true,
            "ticks": "",
            "zerolinecolor": "white"
           },
           "yaxis": {
            "backgroundcolor": "#E5ECF6",
            "gridcolor": "white",
            "gridwidth": 2,
            "linecolor": "white",
            "showbackground": true,
            "ticks": "",
            "zerolinecolor": "white"
           },
           "zaxis": {
            "backgroundcolor": "#E5ECF6",
            "gridcolor": "white",
            "gridwidth": 2,
            "linecolor": "white",
            "showbackground": true,
            "ticks": "",
            "zerolinecolor": "white"
           }
          },
          "shapedefaults": {
           "line": {
            "color": "#2a3f5f"
           }
          },
          "ternary": {
           "aaxis": {
            "gridcolor": "white",
            "linecolor": "white",
            "ticks": ""
           },
           "baxis": {
            "gridcolor": "white",
            "linecolor": "white",
            "ticks": ""
           },
           "bgcolor": "#E5ECF6",
           "caxis": {
            "gridcolor": "white",
            "linecolor": "white",
            "ticks": ""
           }
          },
          "title": {
           "x": 0.05
          },
          "xaxis": {
           "automargin": true,
           "gridcolor": "white",
           "linecolor": "white",
           "ticks": "",
           "zerolinecolor": "white",
           "zerolinewidth": 2
          },
          "yaxis": {
           "automargin": true,
           "gridcolor": "white",
           "linecolor": "white",
           "ticks": "",
           "zerolinecolor": "white",
           "zerolinewidth": 2
          }
         }
        },
        "xaxis": {
         "anchor": "y",
         "domain": [
          0,
          0.98
         ],
         "title": {
          "text": "x"
         }
        },
        "yaxis": {
         "anchor": "x",
         "domain": [
          0,
          1
         ],
         "title": {
          "text": "y"
         }
        }
       }
      },
      "text/html": [
       "<div>\n",
       "        \n",
       "        \n",
       "            <div id=\"2640fdfd-e9da-4c9e-a427-2700fa573487\" class=\"plotly-graph-div\" style=\"height:600px; width:100%;\"></div>\n",
       "            <script type=\"text/javascript\">\n",
       "                require([\"plotly\"], function(Plotly) {\n",
       "                    window.PLOTLYENV=window.PLOTLYENV || {};\n",
       "                    \n",
       "                if (document.getElementById(\"2640fdfd-e9da-4c9e-a427-2700fa573487\")) {\n",
       "                    Plotly.newPlot(\n",
       "                        '2640fdfd-e9da-4c9e-a427-2700fa573487',\n",
       "                        [{\"customdata\": [[-1.3803722427113227, 0.6500948248966208, \"Se Rompen\"], [-0.8437325254821526, 0.8557009898378297, \"Chameleon\"], [-0.6591322335898179, 0.37534514247012357, \"Echoes - Radio Edit 1\"], [-1.3716539302399968, -0.5278554133338462, \"Breathe Me - Four Tet Remix\"], [-1.6717187824420547, -0.9991775495801632, \"Main Akeli Raat Jawan\"], [0.3118657596953631, -0.07762160784238395, \"Echoes - Radio Edit 2\"], [-1.642812932459673, 0.09280864704508279, \"I Don't Know If That's Just Dreaming\"], [-1.6093293664076864, -1.6493535950096376, \"Mam Pe'ela Su'ure\"], [-0.5185425340368923, -0.826870527286759, \"Fang Jai Viangjan\"], [2.416148880059473, 0.7160054825705934, \"Dance Of The Inhabitants Of The Invisible City Of Bladensburg\"], [-0.2635642227980164, -2.43147292320583, \"GREEN SPORE VALLEY\"], [-1.5347521809660845, 0.7555500465113744, \"It Goes\"], [-1.0673166207453402, 0.21037315576404322, \"swag w/ kav\"], [-1.74456950827147, 0.8066483489419214, \"The Wrong Wolf\"], [3.1678351816771047, -2.203760107090278, \"Hi\"], [-1.4068744710338803, 0.7755028778756187, \"Good Vybe\"], [-3.2542718048316157, -1.30045901462642, \"You Get Me Everytime - A1\"], [-0.241896563808411, 0.5741277987153628, \"in drink\"], [-0.4709049714456855, 1.0301626637875048, \"Echoes - Continental Drift Version\"], [-0.07602105786747004, 1.8393904876714502, \"Drum Story\"], [-1.5155929220311775, -2.7288686437401934, \"One String Boogie\"], [0.8211881438030605, 0.6394752109988499, \"Little Umbrellas - 1969 Rhythm Track Mix\"], [-0.09755770141652613, -1.063467933272376, \"Send In The Clowns\"], [0.9896264910230035, -1.5637572989608277, \"Pata Das Ni\"], [1.1468638117389354, 0.16323295967525744, \"Moto centripeto\"], [3.077341944818782, -0.15215468071373284, \"Cu\\u00eddese de los \\u00e1ngeles que caen\"], [0.1448585661641789, 1.974528401067257, \"First Stage\"], [-2.518646311291299, 1.2199493634798684, \"Crab Ride\"], [-2.046797485345348, 1.5387218706241035, \"LOST IN ABYSS\"], [0.6837487061535901, 0.08454908151305175, \"Strangers\"], [1.8099315357240697, -0.7250436381534873, \"Anthropology\"], [0.7640465288217225, -1.5095443154348906, \"Swapnaman Aavi Mane\"], [-2.648377411100191, 0.0774452757464064, \"BMW Track\"], [-1.5554409913446243, 1.3823979852904265, \"Pattern 11\"], [-1.5684542150112588, 0.8513247426038014, \"Safe In My Arms\"], [-0.626875462141682, 1.101871283455825, \"Victor and Carolyn\"], [-1.0999133616448686, 1.7871393228666363, \"Teenage Birdsong\"], [2.9685844785770845, -3.2078599689806198, \"Ever Never\"], [2.1789636700703077, 0.2206348546471369, \"Angels - Four Tet Remix\"], [3.4674715360422828, -0.4989809027987789, \"Parallel 3\"], [-1.0738734399633132, 1.0222701948730808, \"Channel 1 Suite - Four Tet remix\"], [2.5376057351032393, -0.30201133330304186, \"0000 871 0011\"], [-0.9552755073559446, 0.6759877641495063, \"October 2011\"], [-1.4399580072718912, -0.1472775783612644, \"The First Big Weekend - Four Tet Mix\"], [-1.5502042795270055, 0.31056097996883436, \"So U Kno\"], [-1.3179278889707025, -0.14803328770172963, \"Supersonic (My Existence) [with Noisia, josh pan & Dylan Brady]\"], [-1.8357790673191827, -3.2079109274681428, \"Cichli\"], [2.4952964928155246, 1.2802203314251195, \"Slow Bicycle\"], [-0.5514201817261352, -1.583159409432315, \"Apple Tree\"], [-1.237231271754979, -0.23620328710963756, \"Empty Glasses - Kim's Basement 4 track Version\"], [-1.9480210884483924, 0.2585633155109358, \"Hand Grenade\"], [-1.304206317391268, -0.9511726328863884, \"Yedin Beni\"], [-0.0674509464590999, -1.7825567527974358, \"Baby Let's Dance Together - Shalimar / Soundtrack Version\"], [-1.6194472970142577, -1.0332726675660102, \"Love Ritual (Bwana Mix)\"], [-1.5341100090195963, -1.4049094214046964, \"Eu E Maria\"], [0.5395194848049739, 0.42693424358829085, \"My Sound\"], [1.1590062389554336, 0.23577632790036718, \"8th Chance\"], [-2.7807162644636825, -0.13916959984383284, \"Darkness Calling\"], [-1.7746508646117454, -0.4055212671181193, \"PHONKY TOWN\"], [-1.7796752935650535, -0.29890189521716715, \"Pockets\"], [-1.5455878546678952, -0.7951951938213357, \"Long Gawacha\"], [0.46097104281591356, 0.9557384236450542, \"Joy Squad\"], [-2.678651317595133, 1.0664549451630432, \"Are You There - Instrumental Version\"], [-1.2059415477046191, -0.05112738388389576, \"Pockets - Minimal\"], [-1.2945709527748885, 0.6437357626648, \"De I Comahlee Ah (extended)\"], [-1.7540518979961444, 0.024272286935787687, \"MRA\"], [-0.3188327966231377, 1.9037032857668943, \"Lady Burning Sky\"], [-0.11661473683007285, 1.3701758252101555, \"Black Rainbow\"], [-2.1138426229101106, -1.0335649425296094, \"Butterflies (with Starrah & Four Tet)\"], [-0.8503699403563152, 0.8522108604359513, \"Love No More\"], [-1.60754527148742, -0.7888566241272656, \"Palace Of The Peacock\"], [-1.5868403558876067, 1.583331167269224, \"Valley\"], [0.28399488416922253, -1.0982654838548687, \"Chemicals\"], [1.29588719658041, -1.0277004595148522, \"Do What You Gotta Do\"], [0.11898328775619009, -0.7189057676777934, \"Twin Stars of Thence - Alternate Mix\"], [-0.3697552283368303, -0.7922556321824685, \"I Can't Lie\"], [0.9249455914027106, -0.31607437164340474, \"Salamaleikoum\"], [0.9367486314767071, -0.3914928613097202, \"Pedro Don't Fail Me Now\"], [-0.807781116289154, -0.636419777687933, \"Pisces Problems\"], [0.4810705339940668, -0.08405422928724386, \"Bartleby 2\"], [-0.9026925741596579, -1.9029693450286536, \"Cala Boca Menino\"], [-0.1331046085924401, 0.9456390869778774, \"Jerry Garcia's Finger\"], [-2.5267787879645405, -1.0192877319435065, \"Kanyon\"], [-1.9641788705408196, 1.0405343291790132, \"Rolled Into\"], [-2.427018762521671, -1.0005437353463742, \"Taboo (feat. Shola Ama) - MJ Cole Full Vocal Mix\"], [-1.5413791932972538, -0.4401320726419607, \"Tuesday\"], [-0.9049605724738933, 0.15263929592998338, \"Acid Track\"], [0.44517245110508313, 0.9894913865479295, \"Idioma\"], [2.03478249317431, -0.546050133249146, \"C Tactile Afferent\"], [3.252361769150604, -1.0721298297455886, \"Movement 1\"], [3.333891002881641, 0.6547997667729786, \"Movement 2\"], [4.08394696038651, 0.41967739428793116, \"Movement 3\"], [3.4460512257970466, -0.12969523731400256, \"Movement 4\"], [2.4148472086980366, -0.1493107643952781, \"Movement 5\"], [2.734391710977885, 0.9287429211587943, \"Movement 6\"], [3.377807514480965, 0.17417467163011577, \"Movement 7\"], [3.717171797870245, 0.8421872063382437, \"Movement 8\"], [3.9887361730111714, 1.0132842452632753, \"Movement 9\"], [1.542426480142375, -0.3688263397418061, \"White Dress\"], [2.0918708371534485, 0.05982698416166854, \"Il letargo\"], [-0.025243314680727755, -1.1882515033020058, \"Mere Jeevan Saathi\"], [-2.470526795667177, -0.9465434752122022, \"Iya Me Dji Ki Bi Ni\"], [0.18789009839087908, 1.9031571925506072, \"Pick a Day to Die\"], [-1.4538617942524106, 0.4370872342363494, \"Dr. Buck's Letter\"], [-1.8828374552191667, -0.16553161681968206, \"All Very Hush Hush\"], [-1.187246171844902, 1.5295331221889605, \"Groove Therapy - Photek Remix\"], [-0.38099491167514254, 0.19817114979327924, \"Ride Or Die (feat. Chilly Gonzales)\"], [-2.2117642569353673, 2.049221502546463, \"Danfo Mellow\"], [1.174152491842541, -0.6409793800200051, \"Afro Blue\"], [2.8427642321534763, 0.24568780200031512, \"Afro Blue\"], [1.2763910291980152, -0.9835673996436861, \"Afro Blue - Remastered\"], [-0.28767440737465494, -0.8039317325830491, \"The Three Great Stimulants\"], [-1.1318075069154925, -0.013004619378901643, \"In the Hills\"], [0.42851829416403825, -0.3947537990348097, \"Baby, You're My Kind (Work Lead)\"], [-2.2419113405081896, -1.8117689669719441, \"The Format\"], [-1.1497017039344248, -0.8880289323779145, \"Whole Lotta Wickery\"], [2.6165187777851555, 0.542043566864953, \"SK-1\"], [1.4851491563680943, 0.6802233367139068, \"Djatasoun\"], [0.9698638483736677, 0.48777929189470504, \"Veering North\"], [2.3940532505193475, -1.8629484368840072, \"Two-Part \\\"Secret-Songs\\\"\"], [-1.1432187214768628, -0.01950437852353746, \"Never Come Back - Koreless Remix\"], [3.6459364804196324, -0.07699621957674825, \"Children's Song\"], [-0.4261537753257849, -0.865411062819396, \"Red Handed\"], [1.8057471750567091, 1.2895300852134068, \"Sustain\"], [1.1676272905316207, -0.7122556400417024, \"Maadi Taarun Kanku Kharyun\"], [0.023716826755633306, -0.3815069334581738, \"Tale of My Lost Love\"], [2.294152704877457, -0.4674800842924852, \"Thou Art With Me\"], [0.49653459121172044, -1.378790006073782, \"Don't Want to Be Hurt (with The Fugitives)\"], [-0.5432558005700154, -0.21259680255068863, \"Ma Kwacha No.2\"], [-2.171576330686092, -0.48081294383975437, \"Why Can't There Be Love\"], [-1.9522057247613522, -0.4982923746529353, \"Torture Chamber\"], [-1.1141793144983199, -0.154490804358917, \"Going Down\"], [-0.6897014682475768, -0.9619377335922021, \"African Sweets\"], [-2.9544328911523916, -0.5860333612503208, \"I Need Dub\"], [-1.1201062624766325, 0.937046276749767, \"Like My Way\"], [-1.2136638778116156, -0.8150072505084351, \"I've Been Thinkin'\"], [-0.5621867427190838, -0.20055954822973926, \"Flower Bed\"], [-2.0131809847018802, 1.0252176143334224, \"The New Normal\"], [-2.510292776280318, -2.781549768947786, \"Loose Goose\"], [-1.2360608918548153, -0.355381857951564, \"Dirtknock\"], [0.4396038843006118, -1.9250144951679775, \"Sound Ancestors\"], [0.03867687203581932, -2.878637077525571, \"One For Quartab\\u00ea / Right Now\"], [-0.07542803628071704, -0.6445483271522723, \"Open Your Eyes, You Can Fly\"], [-0.9752036618957101, -0.41513983577680835, \"Conquistadores\"], [-0.858425467485013, -1.5591855275022872, \"Sunday Morning\"], [-2.035997376227612, -1.496500688992186, \"Mia Askisi Fysikis Alyti\"], [-0.7485993089432649, -0.17211894195614819, \"Catastrophe and the Cure (Four Tet Mix)\"], [-0.8203195382849492, -0.6548542821841394, \"BIPP - Autechre Mx\"], [-1.3080461015189193, -0.601946366909568, \"Drek\"], [-0.36768614523902426, 0.6306065152933888, \"Dead Cat Chaos Magician\"], [-0.7675034626827902, 1.92369896474682, \"Sentence\"], [-0.9850342787934437, 0.5244443954249673, \"On the Road South\"], [1.7860453459225643, 0.5793097723747506, \"Lento\"], [-1.2488746342526342, -0.07755282562003328, \"Put That Shit On\"], [-1.2643840139648599, 0.12080089995116672, \"Hopprock\"], [0.9768914656448595, -0.06363889171480501, \"0000 871 0020\"], [3.4674715360422828, -0.4989809027987789, \"Parallel 3\"], [1.7849277190240365, -0.33318693465520755, \"0000 871 0006\"], [0.8659073088775823, -0.5940197524511165, \"Too Long At The Fair - Live\"], [2.032148275468468, -0.8297085583972181, \"Willow's Song\"], [0.6560132511857806, 1.3833905823535229, \"Road to Madrid\"], [-0.7893164120270212, -0.46453192583187863, \"Sai do Sereno\"], [-0.0711975230214135, -0.7474107211798923, \"Sete Cachorros\"], [0.22457113765836295, -0.4144643661246476, \"Equipoise\"], [0.7137199888631773, 0.301984542029093, \"Sorti\"], [3.626301758129785, 0.7184515324705679, \"Dedicated To You\"], [1.2728220838109536, 0.04286636328412847, \"Parallel 7\"], [-2.249947869290746, -1.214863664500537, \"Beno!\"], [-1.42760544059864, -2.0820404766350484, \"Rhymes Like Dimes\"], [-1.6819379099465637, -2.5807844496819294, \"Rae Dawn\"], [-0.8890672623392117, -1.6138884147653512, \"I Hear Voices Pt. 1 - 12\\\" Version\"], [-1.8521419639893435, -0.922401002323639, \"Krazy World\"], [-1.2759328917057322, -2.3642606787877614, \"All Caps\"], [-0.011524216276053772, -1.5764981124781452, \"Great Day (Four Tet Remix)\"], [2.3314867367871828, 3.7962820490434424, \"Parallel 1\"], [1.9330284187613145, -0.3036104969093894, \"Parallel 9\"], [1.9976990653574294, 0.7608957087685345, \"0000 871 0003\"], [-1.6915518568400776, -0.5437853446497046, \"I Like Cars\"], [-1.7155041980519035, -2.9912064748179845, \"see me\"], [-1.1263894433498212, 0.5046054420610785, \"Webs\"], [-1.4524544796239829, -0.04466998352898844, \"Blue Is Dope\"], [-0.9885536268727246, 1.4363834938987365, \"No Rest (Stealing Voice)\"], [3.4067462312441648, 0.863440022776952, \"nosummer\"], [0.7806290414064806, -0.019083250234786974, \"Road Of The Lonely Ones\"], [-1.5807019700771519, -1.5508895706673143, \"Kacey Talk\"], [1.399509248878885, 0.6337010932545564, \"Her Revolution\"], [0.5450522342136986, -0.2648304789104275, \"His Rope\"], [-0.07719659381066354, 0.21928415512213184, \"Mirosbass\"], [-0.5954188983536499, -0.3132798727077233, \"Jandira\"], [0.40082249504744577, -1.161513008422828, \"Rio Corrente\"], [3.5890427291994955, 0.8369979837226057, \"Lullaby\"], [4.34359561604346, -0.7270066879839244, \"Starless and Bible Black\"], [3.517320788564146, 0.7531268880133524, \"A New Kind Of Quiet\"], [-0.745818350648577, -1.0081101381639432, \"Disrupt #4 - Original\"], [-0.6535238326350457, 2.666959560775866, \"Detrant - Original Mix\"], [-2.6839480124106108, 0.932785109609192, \"Together - Bailey Ibbs Remix\"], [-2.7026707560967576, -1.0128990171831718, \"Power Tool\"], [-0.9096555912881239, 1.0311202969338278, \"Antigravity Love feat. Larry Powell - KenLou Dubb Instrumental\"], [-1.6170453930550375, 0.9890963454590725, \"Text - Totally Enormous Extinct Dinosaurs Remix\"], [-1.0328076450664612, 3.3797052071057725, \"Time Warps\"], [-1.0170386197455303, 2.1187198727339016, \"Negative Returns - Four Tet Remix\"], [-1.9540068145732579, -0.9607879273378297, \"I Dnt Care\"], [-1.0156237707512612, 0.025015348906501846, \"Our Scene\"], [2.3342437885006255, -0.8472127775491131, \"Glass Story\"], [4.2918396035274045, 0.3050958260113985, \"Tear Vial\"], [-1.583661942608482, -2.1622492195038814, \"Povo da Ra\\u00e7a Brasil\"], [0.5718566950039151, -0.137539227316374, \"Now Jazz Ramwong\"], [-0.4181735032533208, -1.3026827894385031, \"De l'Orient \\u00e0 l'Orion\"], [-0.9272503862446747, -1.375858051695677, \"My One And Only\"], [-2.4200584742364772, -1.4214861455603398, \"Above The Clouds\"], [-2.0691176030005387, -1.5751999189912846, \"Shake Ya Bum Bum (feat. Lil' Shanice)\"], [-2.091204088552367, -2.708767435853881, \"1nce Again (feat. Tammy Lucas) - Radio Version\"], [-0.41081236501834295, 0.3975229975870748, \"Mawethu\"], [-0.5160673582223797, -1.2517287518969842, \"Running 2\"], [-1.3277359677097174, 1.0867189421523071, \"Clipper - Another 5 Years\"], [-1.2322176915504124, 1.1553448370272896, \"Bounce 2\"], [-1.6472078859360115, -1.9078087755375046, \"M to the B\"], [1.042106328481504, -0.8037546250891009, \"Bow Ecco\"], [-1.4324404139509588, 2.1814477564434798, \"AsloHop - Original Mix\"], [-1.7621205185835385, 1.1351842539009935, \"Ravi - Shanti Celeste Remix\"], [-2.0506085212471885, 0.7105304129968425, \"Rainbo Locals - Four Tet Remix\"], [-1.46040114508278, 1.019342602355628, \"Tron - Kieran Hebden Version\"], [-0.600314577603429, 1.7340350596478993, \"Everything U Need\"], [-2.0137450590584853, -0.05565538007131739, \"The Relic\"], [-1.8417721349335263, 1.214640288388218, \"Disco Manila\"], [-1.6332641618159947, 1.1858893950755598, \"Balloons - Kieran Hebden Version\"], [1.5513528341413059, -0.5079063540179116, \"Conditions (Kieran Hebden mix)\"], [1.1722963958262276, 0.13707808975293095, \"The Spell - Burial Mix\"], [-1.0753372520551412, 0.9496307276417103, \"Ordinary Boy - Floating Points Remix\"], [1.5709592429094104, 0.7050961615376654, \"My Night, My Day\"], [2.935925170163138, 0.21875758477003376, \"Colors - 2020 Remaster\"], [3.548844849457885, 0.4261401054892485, \"Beco\"], [3.3095793434232594, -0.7697222918422036, \"Nevaeh Ni Ecalp A - 2020 Remaster\"], [-1.756745517600937, 1.3839240291678372, \"Blossom\"], [3.413200735659525, 0.7280966784575413, \"Hospital Harpist\"], [2.8289286704550562, 0.23633352261228882, \"0181 000 0011\"], [-0.49666949702513613, -1.1208198068876525, \"Lam Seung Bang Fai - Original Version\"], [0.010314399062793592, -0.1073397927841237, \"La chanson des granges br\\u00fbl\\u00e9es / Song of the Burnt Barns\"], [1.5049102021499365, 1.6064887913873385, \"Z\\u00e9 e Paran\\u00e1\"], [1.1179547772786962, 1.1031741419859975, \"Mars Detection\"], [-1.544313778703717, 0.10399494688919232, \"Welcome To Love\"], [-0.6485002728907187, -1.1174251074913228, \"Lady Orange Peel\"], [-1.5187833270057483, 0.3949343805118642, \"How Does It Feel to Feel (Us Version)\"], [-0.045074517675713736, -0.3353633329504684, \"Dreamworld\"], [-0.3089309514749766, 0.5868419222673823, \"Scientist - Cultured Dub\"], [-1.5498596615316378, -2.609924856092801, \"Ma Aarfeen Nagool Shino! (We Don\\u2019t Know What to Say!)\"], [-0.301974659407784, -1.8917757507680169, \"Gidhian Di Raniye Ne Gidhe Wich Aa\"], [-1.8790795601822112, 0.5478526444015364, \"A New Day (is Here at Last)\"], [-1.3427863822742594, 0.37096705908462285, \"Gray Area - Instrumental\"], [-0.013598459799472442, 0.11776621131727114, \"Abstract\"], [-1.1274109149586928, 0.8427276443291187, \"Ender\"], [-1.2341382136471784, 1.9696077308566609, \"Mr. Law Man\"], [0.1506568303742106, 1.7466032837686878, \"Exaptation\"], [-1.3645110335277668, 0.28864468706315866, \"Karlaplan\"], [-0.4864474784848661, -0.7403117842113082, \"Unknown, Forever Unknown - Alt.v5\"], [-2.232389794158366, -1.472744492160894, \"Night Echoes\"], [-0.3167580816857564, 1.7261410893536797, \"Touchpad\"], [0.5681466051350752, -0.20865880666119366, \"Gamelan\"], [-0.37586899330356827, 0.2811095164014, \"Is It True - Four Tet Remix\"], [-1.500682918589602, 1.3666020138967139, \"I Love You So Much (Mirror, Mirror Flip)\"], [0.2789632574899131, -0.12123195893423538, \"Like\"], [0.6573211706620157, 0.8754630310754518, \"Kagen Sound\"], [-0.6554636506174044, 1.1684871836164283, \"La vita nuova - Logic1000 Remix\"], [-2.2821468621775765, -2.2285201572890703, \"Mi Cuerpo\"], [0.5633131732423531, 0.5528172588090461, \"Rain 3\"], [-0.1861895204603012, -0.36297235116977267, \"Human Race\"], [-0.311388500738342, -0.6000776735392495, \"Love Grows a Flower\"], [3.353379214756333, 0.43267902127048746, \"At Last...The Beginning - Demo\"], [-2.176977813668808, 0.1665757714045205, \"Rainbo Locals\"], [2.250768676612134, -0.12807235835526418, \"Vulnerable in Bihag\"], [-0.21243346787515607, -2.335364392301844, \"Unconditional Oceans\"], [-1.8928750218756694, 1.4796263840664208, \"Venus\"], [-2.5788417287354077, -0.6967197421995579, \"Pree Me\"], [-1.322322904463983, 0.13016710782778376, \"KEYGEN 2 MI H34RT\"], [-1.7352849299272823, -2.151115382544144, \"B1llionz\"], [2.340376658678726, 0.5814112552387432, \"Moss Garden - 2017 Remaster\"], [-0.7037605317577235, -2.0962397097017598, \"You Can Give But You Can't Take\"], [-0.7586737666021831, -0.5523376077429886, \"This Time Tomorrow\"], [-0.7831167519097396, 0.7000389238248107, \"Fluid\"], [-0.933770900958928, -0.17711133369564888, \"Confession\"], [0.9772359124453173, -0.8514332346972288, \"We Love You Malcolm X\"], [0.9795130858092769, -1.6319841414995588, \"Descripci\\u00f3n\"], [0.00891445212602962, -1.3642351313554193, \"Zvichapera\"], [-2.257065056335792, 1.436926404504417, \"Alien Mode\"], [-2.0665786663662873, 0.8298351612565579, \"Love Minus Zero\"], [-1.0629834318531797, 1.3162180882990138, \"Calamine - Radio Mix\"], [-1.3558427745660737, 1.6537977056225184, \"I. Miss. Raving.\"], [-2.025923641624905, 0.8100868657460848, \"Operation\"], [-1.5695956705910556, 1.386251330966496, \"Emotional Melodical\"], [-1.489286366463904, -0.6685152365711251, \"Prospect (ft. Lil Baby)\"], [-1.9890869601812509, -2.3743453401211765, \"This One\"], [0.05105848080740106, 1.5581954762772279, \"Sister - Floating Points Remix\"], [-1.8256882270908692, 1.5549628811069478, \"Damn Skippy!\"], [-1.592199169827436, 0.20973184046694512, \"Womxn - Logic1000 Remix\"], [0.6352620948169655, 1.0257890706068709, \"Welcome Rain In Banana Grove\"], [-0.7393084308260752, -0.7921938374590506, \"Misnomer - Long Version\"], [2.9979260881737493, -0.2771927513306881, \"Charm\"], [-0.4876107004504628, 0.9215537514127629, \"The Space of Two Weeks\"], [-0.6476881807061181, 1.4302274607918837, \"Chiron\"], [-0.9389306720791682, 5.083556094210727, \"Thirtysixtwentyfive\"], [1.3581146027325826, 1.5413840791713747, \"An Argument\"], [-2.5693757832401682, -2.7460409719328034, \"Yoga\"], [-2.042655634744824, 0.8005957956364953, \"Green Street\"], [-2.2883948517099664, -2.056588433232266, \"Pricks\"], [-2.097704991792986, 0.6516127958570279, \"last days of the Montreal's summer you spoke softly 183\"], [-1.8911175106586362, 1.1317282911266564, \"Arable\"], [-1.5253448744265101, 1.746140980001906, \"Back2Black\"], [-1.1405239051221931, 0.7060787510668431, \"West Abyssinia\"], [-1.0359413892436564, 1.2498314558696513, \"High Times\"], [-1.6522953003240601, -0.8658181486680053, \"Trials And Crosses\"], [-0.9075152768123079, 0.24655525507342335, \"Axe\"], [0.3057911799004352, -0.3658441200778107, \"\\u30a2\\u30d5\\u30ed\\u30fb\\u30d6\\u30eb\\u30fc\"], [-0.6560441222612137, 0.22820935119608274, \"Things Have Got To Change\"], [1.6088411278402328, 0.2765116919699182, \"Triptych: Prayer/Protest/Peace\"], [-0.2752305004368357, -0.09526797695289266, \"Domiabra\"], [-0.6527797597054138, -0.8782648444462842, \"Black Rhythm Happening - Remastered\"], [2.1424284053224616, -1.4854531348551627, \"After Birmingham\"], [0.16001200549158784, 1.2232065763922202, \"Long Time Black\"], [-0.032326722808990176, 0.051516693858876125, \"Black Woman\"], [-0.38262246779855036, 0.1951595755542317, \"Universal Consciousness\"], [0.24003498637317938, -0.8444471313963983, \"Fanfare for the Warriors\"], [-0.12260860759506834, 0.17913838824270556, \"Legacy - Rudy Van Gelder Edition/2006 Digital Remaster\"], [-0.8604728845759874, 2.675525086512062, \"Black Unity\"], [-0.16808644716402554, 1.2371572746689126, \"\\u031f\\u031e\\u031d\\u031c\\u0319\\u0318\\u0317\\u0316\\u0489\\u0335\\u0334\\u0328\\u0327\\u0322\\u0321\\u033c\\u033b\\u033a\\u0339\\u0333\\u0332\\u0331\\u0330\\u032f\\u032e\\u032d\\u032c\\u032b\\u032a\\u0329\\u0326\\u0325\\u0324\\u0323\\u0320\\u0488\\u0348\\u0347\\u0349\\u034d\\u034e\\u0353\\u0354\\u0355\\u0356\\u0359\\u035a\\u035c\\u0362\\u0362\\u0362\\u0362\\u0362\\u0362\\u0362\\u0362\\u0362\\u0362\\u0362\\u0362\\u0362\\u0362\\u0345 \\u0c20\\u0c40\\u0a42\\u0ce7\\u0eb9\\u0fc3\\u0942\\u0a42\\u2727\\u0dc5\\u0285\\u0361\\u0361\\u0361\\u0361\\u0361\\u0361\\u0361\\u0361\\u0361\\u0361\\u0361(\\u01aa\\u274d\\u2281\\u25de..\\u25df\\u2280 \\u031f\\u031e\\u031d\\u031c\\u0319\\u0318\\u0317\\u0316\\u0489\\u0335\\u0334\\u0328\\u0327\\u0322\\u0321\\u033c\\u033b\\u033a\\u0339\\u0333\\u0332\\u0331\\u0330\\u032f\\u032e\\u032d\\u032c\\u032b\\u032a\\u0329\\u0326\\u0325\\u0324\\u0323\\u0320\\u0488\\u0348\\u0347\\u0349\\u034d\\u034e\\u0353\\u0354\\u0355\\u0356\\u0359\\u035a\\u035c\\u0362\\u0362\\u0362\\u0362\\u0362\\u0362\\u0362\\u0362\\u0362\\u0362\\u0362\\u0362\\u0362\\u0362\\u0345\"], [2.9598167489949057, -0.3140590625639837, \"Islas Canarias\"], [-1.6167883493114232, -0.6546269441572302, \"SKYBOX\"], [-0.7703581147099756, -0.48430507843170123, \"Drawing a Blank\"], [0.8319421261502489, 0.6243106442324838, \"Acid Skittles\"], [0.1542022592116687, 1.7151605549074411, \"Lookin Glass\"], [-0.10764937985545961, 0.4898292922510887, \"\\u0fc3\\u0942\\u0a42\\u0fc3\\u0942\\u0a42\\u0a42\\u0fc3\\u0942\\u0a42OOOOOOOOOOOO \\u031f\\u031e\\u031d\\u031c\\u0319\\u0318\\u0317\\u0316\\u0489\\u0335\\u0334\\u0328\\u0327\\u0322\\u0321\\u033c\\u033b\\u033a\\u0339\\u0333\\u0332\\u0331\\u0330\\u032f\\u032e\\u032d\\u032c\\u032b\\u032a\\u0329\\u0326\\u0325\\u0324\\u0323\\u0320\\u0488\\u0348\\u0347\\u0349\\u034d\\u034e\\u0353\\u0354\\u0355\\u0356\\u0359\\u035a\\u035c\\u0362\\u0362\\u0362\\u0362\\u0362\\u0362\\u0362\\u0362\\u0362\\u0362\\u0362\\u0362\\u0362\\u0362\\u0345 ooooooooo\"], [-1.1993579727910366, 1.4156914021007438, \"Never Come Back - Four Tet Remix\"], [-1.744822695959767, -3.140235483834453, \"Trench Town Rock\"], [-0.6040968570323169, -3.487861125142044, \"Trenchtown Rock - Live At The Lyceum, London/1975\"], [-1.6410355560361556, -3.2287537799817403, \"Trenchtown Rock - Live At The Roxy Theatre\"], [-0.6491975583129808, 1.5656559848192821, \"I'm God\"], [-1.719088106258377, -0.47889981446416624, \"@ MEH\"], [-1.1940106466283757, 0.32014495500692763, \"Idontknow\"], [-2.1651163235562194, 0.17493024214437755, \"Layle - Boys Noize Remix\"], [-1.7959094519221266, -0.8575172837889926, \"Anything with You\"], [-2.632344052448245, -0.39988863145525483, \"SaintLaurentYSL - The Martinez Brothers Re-Edit\"], [2.3439369841290425, -0.37863923600147725, \"Technology Corridor\"], [-0.6507000199524539, 0.8692919245338805, \"XI\"], [-0.6856898923860967, 1.490285162715442, \"Track 4\"], [1.9783289830939879, 0.8308232579859947, \"Little Harp\"], [3.275762875562831, 0.26126227889660475, \"Roping 1\"], [1.1592226974369315, -1.560374879330999, \"Thank You - 2008 Remaster\"], [-0.20424280527769814, -1.548866803045146, \"Gurbet\"], [1.5373554968349867, -0.4331786359090833, \"It Never Entered My Mind\"], [4.6005574355392165, -0.21514853217745714, \"The Green Country (New England Mood)\"], [1.8016347085960733, 0.6131571220855118, \"Green\"], [-1.372939260397948, 0.22228680103349882, \"Eris & Dysnomia\"], [-1.9681218587985936, 0.4387318000838539, \"Smoke (feat. Jamie xx)\"], [-1.5342502822397408, 2.1889497156128686, \"Bias - Mayfield Depot Mix\"], [-0.5483706808592307, 0.6471982541909865, \"Fidelity\"], [-2.9314341209615096, -1.7909308546324485, \"Queen Bitch Pt. 2 (feat. Puff Daddy)\"], [-1.5777810437422153, -1.124798696384953, \"Don't You Care\"], [-0.5776271705369775, -0.8925046998087417, \"I Done Told You Baby\"], [-1.3389638586317674, -1.4192574547116663, \"Save Me\"], [-0.048980715602474176, -0.0935205224630586, \"El Cumbanchero\"], [3.508025037059787, 0.6683829851653837, \"The Ice Cream Man\"], [2.633082687629291, -0.5302317854927551, \"Deep Purple\"], [-1.6938940636221425, 0.5139236477963056, \"School\"], [-1.3760274036732083, 0.08951415268495728, \"Salad Days\"], [0.957407315405343, -0.00020564230688221012, \"Fusion Swirl\"], [-1.5759770394314743, -1.93426916219291, \"New Generation\"], [-0.5111173923863408, -1.3177400074362446, \"Lembur Kuring\"], [0.3724977430499946, -0.06731862318864873, \"You're Slipping Away\"], [-0.6013452057302102, 1.5143933498721855, \"Fields - Claro Intelecto Remix\"], [-1.1883347666358215, 1.6061125896874735, \"Insect Near Piha Beach\"], [3.6580075191273993, 0.9164556868828977, \"Mama Teaches Sanskrit\"], [-2.515208892726868, -0.6896052565511288, \"Scuzzy\"], [-1.1469933843821958, 1.0841024538072581, \"Gymnase Chaos\"], [0.6909325649208622, -0.6115626533827349, \"Julia\"], [1.4877846233697316, 0.9675233597835073, \"A Closing\"], [0.8551352600711255, 0.6233235811077062, \"Ballerina 12/24\"], [0.9272584833382839, 0.5398376766362135, \"Cloud Song\"], [4.406229996063465, 0.03468521619842219, \"Filtered Grand Piano\"], [3.7447784205253005, 0.028668918214626103, \"Gomkail\"], [-0.1211669440193923, 1.6008157382950479, \"Yellow Cone - Solo\"], [-0.8720682798666334, 0.02592435797990554, \"Like I Loved You\"], [1.660181677026556, -0.8763330284883178, \"Castles Made of Sand\"], [2.2078576697877907, -0.2480539127124107, \"Polly Come Home\"], [0.4305394873180748, 0.12693148374492708, \"Gary's Step\"], [-0.8891422276212458, -1.1090100882166272, \"Where Did He Come from? - Radio Mix\"], [0.743158099359481, 0.9261967049275973, \"Untitled [SAW2 CD1 Track1] (Four Tet Mix)\"], [-2.0797398963855986, 1.2617337150656305, \"Basement Structure\"], [-1.5076404891719448, 1.4708582578286036, \"Tbilisi\"], [0.02764029107363975, 0.9853203980513296, \"You Are Here - Four Tet Remix\"], [-0.6041795348715772, -0.7511802668303291, \"Baby\"], [-1.4465893683294253, 1.3735746948641316, \"Rez - Skee Mask Remix\"], [-2.361946164878356, -1.0904128321815174, \"No I Won't\"], [-1.234195362976526, -1.4999443895526583, \"Madame voyag\\u00e9\"], [-1.4237751728524304, -0.37060029920300197, \"Open Up The Gate - Original Black Ark Mix\"], [1.59091543352395, -0.34623173986734995, \"Marimba Dance\"], [1.757946035188075, 1.5711972416584765, \"Arrival\"], [-1.3198988576672956, 0.7730476983955394, \"nuevo roquero est\\u00e9reo\"], [2.467583111956277, -0.24515141766179646, \"Angarakam - Instrumental\"], [1.4337473243709105, 0.18532466755284285, \"Call Me When I'm Breathing Again\"], [1.8084086611077423, 0.9923418248379425, \"Bron-Yr-Aur - 1993 Remaster\"], [-0.6041795348715772, -0.7511802668303291, \"Baby\"], [2.882851972739996, -0.6650668066129583, \"Rooted\"], [1.2749390266763017, 0.8361635838652138, \"Vaporware 01\"], [2.9687641426458877, 0.6184623642905016, \"Love in Outer Space\"], [2.3483057895246993, 0.7567432436269039, \"Melodious Wind Song\"], [0.992227433897707, -0.36969056015328955, \"Prism Mirrors Lens\"], [-1.5602540733137302, -0.8593221249546817, \"Rare\"], [-1.7367589898688038, 1.4825815504685536, \"Dizzy New Heights - Shanti Celeste Remix\"], [-1.0315201231811022, -0.16460131283689006, \"Tin King\"], [1.9310357836705756, 0.5937317155619126, \"Wings Unfolding\"], [-0.31378002046883674, 1.93297094029803, \"She Can Break Walls\"], [-1.0972185141733848, 0.5556768267436027, \"Return To Cascada\"], [1.506656431713303, -3.2974200990764815, \"Embrace\"], [0.259005417632778, 0.1402856382233362, \"Jala-Tarang\"], [-0.4721658671332641, -0.17040064793256293, \"Percussion sur jal taranga, coupes \\u00e0 eau\"], [1.4851089200065914, 0.7658656627808759, \"Stove\"], [-0.5287297773457911, -1.1229249199861102, \"The Windfall (Everything For Nothing)\"], [1.3462537411287594, 0.10512610914834401, \"Theme From King Heroin\"], [-2.4018927560617436, 0.7593832881940926, \"\\\"T\\\" Plays It Cool - Unedited Version\"], [-2.184297104308762, -2.1418731817462, \"1 Mintue\"], [-2.321823656110947, -0.030604456972104517, \"Pow Wow\"], [-0.7553662223249379, 1.257587796671794, \"Jardinez\"], [-0.27248502521272144, 0.5280303918446414, \"Jaco's Ladder\"], [-1.0133681228314295, 1.1417121536061088, \"HT Conundrum\"], [0.21894936516489957, -0.2835207153272369, \"Pixel Dreams\"], [-1.5403560118897515, 0.07402783486047908, \"Midnight Hour with Boys Noize & Ty Dolla $ign - Four Tet Remix\"], [-2.047430434922208, 1.7464149061017382, \"Teenage Birdsong - Overmono Remix\"], [2.7380283633867117, -1.2290695313479345, \"Crystal Coral\"], [-2.4005975034578895, -0.721270367291294, \"DJ Logic Please Forgive Me\"], [-0.9560351843110083, 1.9197810901897414, \"Sample Devon\"], [-1.5686468581730058, 1.9933796823529184, \"Dolorous Dick'ead\"], [5.139186779173553, 0.5462878529056125, \"Composition No. 7 With Converging and Diverging Sound Levels\"], [-1.5015579898780806, 1.2152341942723157, \"New Lover\"], [-0.8203015915997504, 1.3732331676212541, \"Baddie Part Two\"], [-1.2424423590696227, 0.8632296304458936, \"Teenage Birdsong - Avalon Emerson Scrub Jay Remix\"], [-1.0195473195755502, -0.32338118950319217, \"You and I\"], [-0.23901455667023047, -0.301538490589613, \"Ana Damir El Motakallim\"], [-1.2839603744817158, 0.21743314312437684, \"Space Jungle\"], [1.826931244035752, -1.779011300438312, \"Hosting\"], [-0.9090549408437709, 1.4543951776050852, \"A Kind Robin\"], [-0.06077290834496985, -0.3158973257979537, \"Old Tape\"], [-1.0595367076321547, 1.0785486219906808, \"Only You\"], [-1.467707322739728, 0.5678924165342316, \"Mariah\"], [-0.9118657098266743, 1.3485523299644266, \"Bromley\"], [-1.542054983303844, 1.2225308083538018, \"Want\"], [0.6127267107019492, 0.3079136718674102, \"Onglon\"], [-0.2739550007667955, 0.2911268229480238, \"Track 2\"], [-0.3794332846913306, -0.049795988244646344, \"Sieben\"], [-0.0885309095628056, -1.6168566556803183, \"One Minute Please\"], [0.030793476051202324, 1.0797477037478014, \"Pauke Tanz\"], [3.456386963571022, 0.4775038537145314, \"Soiree\"], [3.4507009499726515, -0.07484598809713573, \"Center of Time\"], [-0.3728677864124184, -1.0563452070907553, \"Pull Up\"], [-2.171930407555661, -1.0390872143649101, \"Joan\"], [-1.2730323669184904, -0.6867570668386321, \"Flatline\"], [-1.5740772509411043, 0.12697640013032993, \"Fr\\u00fchlingslicht\"], [-0.702233416883447, 0.9319704269828653, \"Our Backyard\"], [1.8156328417402816, -0.6372802798762505, \"Typing on Mechanical Keyboard\"], [-0.6984347099564365, -0.7808519032303823, \"You Owe Me\"], [2.5903339554229134, -0.2937656939438447, \"Stars\"], [-0.7834690561594476, 1.1599034930745908, \"Frequency FM\"], [-1.868878955669195, 0.6159314971622589, \"Peel Me Easy\"], [-0.12842770125283579, 1.2344015061253473, \"Agos\"], [0.09387767295587106, -2.1556181902937888, \"Hockets for Two Voices: IV. \\u2014\"], [-1.264295155816387, 0.9289770660042029, \"\\u0285\\u0361\\u0361\\u0361\\u0361\\u0361\\u0361\\u0361\\u0361\\u0361\\u0361\\u0361(\\u019f\\u04e8)\\u0283\\u0361\\u0361\\u0361\\u0361\\u0361\\u0361\\u0361\\u0361\\u0361\\u0361 \\ua411(\\u0f40 \\u0d8a\\u0eb9 \\u0c20\\u0c40\\u0a42\\u0ce7\\u0eb9\\u0fc3\\u0942\\u0a42\\u2727\\u2727\\u2727\\u2727\\u2727\\u2727\\u0dc5\\u0d95\\u0e31\\u0fc3\\u0942\\u0a42\\u0fc3\\u0942\\u0a42\"], [-0.6001713654699367, 0.4100819041685274, \"\\u0a42\\u0fc3\\u0942\\u0a42\\u0dc5\\u0d95\\u0e31\\u2727\\u2727\\u0131\\u0334\\u0334\\u0321 \\u0321\\u0321\\u0361|\\u0332\\u0332\\u0332\\u0361 \\u0332\\u0332\\u0332\\u0361\\u0361\\u03c0\\u0332\\u0332\\u0361\\u0361 \\u0275\\u0a42\\u2262\\u0fc3\\u0942\\u0a42\\u0ce7\\u0eb9\\u0c20\\u0c40\\u0a42 \\u0d8a\\u0eb9\\u0f40 \\ua411(\\u0285\\u0361\\u0361\\u0361\\u0361\\u0361\\u0361\\u0361\\u0361\\u0361\\u0361\\u0361(\\u019f\\u04e8)\\u0283\\u0361\\u0361\\u0361\\u0361\\u0361\\u0361\\u0361\\u0361\\u0361\\u0361\"], [1.1908594662650285, -1.2130132436451542, \"Hockets for Two Voices: II. \\u2014\"], [-0.23386700761820126, -0.34501646621139676, \"Tilim M'dohm\"], [-1.56825480440866, 1.727312675662622, \"Le Tigre\"], [3.6920542928667417, 0.6857568854446147, \"Requiem for CS70 and Strings\"], [-0.12662648108049265, 1.0767327441523087, \"Yl She's Away\"], [-1.087692764653274, 0.6650170712603595, \"Crush the Mushrooms\"], [1.041564959323564, -0.93360927854087, \"Now You Sit Alone\"], [-0.29222912388042044, 0.5382897350298602, \"It's Nice to Be Alive\"], [-1.8846418833315532, 0.17812563554423677, \"Paprika Pony\"], [-0.9142875232015371, 0.9062656185091638, \"Drop Location\"], [1.619037447158188, -1.4638144798969817, \"August Haze\"], [2.1741954599945252, -0.06562895084054843, \"Come And Play In The Milky Night (Demo)\"], [-0.054884175660216125, -0.3144621582994949, \"Just Wish You Were Here\"], [-0.18746687644315896, 1.4942809410939915, \"Bias\"], [-1.50922572461843, 1.8851551841873808, \"Many Many Pings\"], [-1.5863583505542318, -1.2571963873734777, \"Al Elnim\"], [-0.1614253749896887, -0.6886069396426716, \"Ada\"], [-1.503045790221177, -1.404151290986721, \"Home\"], [-1.0363330564003306, -1.7490702225072863, \"God Will Dry My Weeping Eyes\"], [0.41871943302089776, -1.0800585249583237, \"Congo Call\"], [2.2084169671349203, 1.337530947499277, \"Sajanwa Kab Aaoge - Dadra in Raga Pahadi - Raga - Pahadi - Taal - Dadra (Live)\"], [-1.3647956353114452, 1.0063161883675997, \"DKD\"], [-0.6195103692883612, 1.2751067412169004, \"Anasickmodular\"], [0.890493005349316, -1.083940980559668, \"Desktop Speaker 003 (130 BPM)\"], [-1.5847476006095087, 1.3838190839259534, \"Bappi - Edit\"], [-2.032426798640532, 1.3402779026319867, \"Walworth Window\"], [-0.6305457775315062, 0.8717568480275139, \"Chiseler's Rush\"], [0.7395180186038696, 0.16218324880593238, \"Dance Four\"], [2.3363533563592456, -1.5534253607711717, \"In Between Love\"], [0.7421934086347556, -0.8041288309150585, \"Naima - Take 2\"], [-0.005191887467596554, -1.3525366729180566, \"It's Hard to Live in This Old World\"], [-1.191858731057672, 0.8265647218162299, \"Posmean\"], [2.0058272299531237, -0.8754765335575515, \"Rab Rab Kaho\"], [0.7324243118199427, -1.8018797878102046, \"He Nandlala\"], [-1.8090085240965692, 0.631595362510327, \"La Mezcla (feat. Tot\\u00f3 La Momposina) - Long Edit\"], [-1.2966564358684054, -4.141782196593409, \"Indian Flute\"], [-0.7003710672867955, 0.545422068473604, \"TBC\"], [-1.8945354813074373, -0.22687368825402898, \"Ellipsis\"], [-1.1856606361509765, 1.543344405896474, \"\\u91d1606 B\"], [-0.6593951001454612, 2.155137460776864, \"A New Day\"], [0.43978636205760135, 2.1495917036513985, \"XYZ - Peel Session\"], [-0.6661391103779495, 1.4656774039920026, \"Utility\"], [-0.35426367317122875, 0.039588211966294085, \"Ochen\"], [1.4491284121984473, -0.4240139838601388, \"F-Wake\"], [-1.1791973877796753, 0.35876690585783466, \"Biblical Violence\"], [-1.3364907581849765, -0.182807563607907, \"The Way - Single Version\"], [3.3840176029245073, -0.30923587050637685, \"Our Prayer - Remastered 2001\"], [-2.1723336896940144, -0.045770964800634945, \"WAY2\"], [-1.905149352533666, 1.5138464820197295, \"Get Centred\"], [-2.163644304602707, 1.6347613132285912, \"Liquify\"], [3.7753123164759694, 0.4472447640908863, \"Wireheading\"], [0.5037540779463983, -0.9225534142445698, \"Chehre Pe Khushi Chha Jati Hai\"], [-0.9055451895074312, 1.9264373142572067, \"Anna Painting\"], [-0.4566798397485363, 1.6965316534651915, \"Last Bloom\"], [0.20063139531897142, -2.075061578174846, \"Brazing the high sky full\"], [-2.400987979337742, -0.3909297240801359, \"Midnight Hour with Boys Noize & Ty Dolla $ign\"], [-1.509324659437957, 1.1149404262559972, \"Lahaina Noon\"], [-0.9716230933107877, 1.6246844234751374, \"Bulbocavernosa\"], [3.664805075931586, 0.541263618061138, \"Breath\"], [1.9717387746918036, -0.26783477736862127, \"Gut pluriarc with 3 Men's Voices\"], [1.9544239769149128, -0.31041155505950824, \"Le piroguier\"], [-0.5351430570468015, 0.31036772978952204, \"Action Figure\"], [-1.5667139241646006, 1.5368556284686865, \"Total Confusion - Heavenly Mix\"], [-1.7047460990821226, -1.2548805954086184, \"Wedding Dress - RTBF TV - 1973\"], [-0.6430931589969646, 0.01326047684952239, \"UFOF\"], [1.9727427752778293, -1.1928318027552511, \"So Freely\"], [1.2480555131366615, 0.08030545437623533, \"Fly\"], [0.01362234373216718, 0.13881334254383743, \"Get Thy Bearings - 2005 Remastered Version\"], [-1.6911876569409223, -0.30997319918333477, \"Light It Up\"], [0.5265470965566439, 0.4827183105262295, \"Fold4, Wrap5\"], [-2.360567603955905, -0.3428916243973235, \"Back to Basics (feat. Skepta) (Floating Points Remix)\"], [-2.0218808011619553, 1.1409120633510696, \"Private Caller Remix (Instrumental)\"], [-1.5143012723667875, -1.0563299164765074, \"Ringtone\"], [-1.64910643991872, -0.0425544539696923, \"Gas Clubber\"], [-0.22856938772915553, 1.2104542964915208, \"Starry Nite Life\"], [2.0470025182323943, 0.2725365943016647, \"Chouchin\"], [-0.8264866283746432, 0.8008560158859219, \"Dreamer\"], [0.7501461465909492, 1.0289819952951091, \"Changes - James Blake Harmonimix\"], [-1.6103598150624172, 0.7641200345029002, \"Disaffection\"], [2.069336407714716, 0.6199843079363822, \"Anfa D\\u00e1sachtach\"], [-1.3526210281941198, -2.6459953227177415, \"Moulate Salef\"], [0.7963193933305197, -1.0012281044872144, \"Simply Beautiful\"], [-0.14354024182473865, -1.5649931513691597, \"John The Baptist\"], [0.11055580025904328, -2.085948429755212, \"Abdul Malek\"], [1.0871572913533765, 0.4047609030613978, \"Bird Tribe\"], [-2.9861291678217112, 0.018200906666515016, \"Odds Against Us\"], [-2.334014348805095, 0.18929353718253022, \"Resolute\"], [2.828012728122188, 0.0043962710485355065, \"Part 2\"], [-0.38553383776655664, 0.07851113837055618, \"Part 2 - Live at Alexandra Palace, London 8th and 9th May 2019\"], [-0.8264866283746432, 0.8008560158859219, \"Dreamer\"], [-0.387882694548601, -1.2220684621281215, \"Mildly Skeeming\"], [-1.5790237183496458, 1.5356746215961559, \"Coorabell\"], [-0.43556574264101566, 1.8474454375413532, \"Cotton\"], [-1.216424589352174, 0.15381760638692438, \"No Idol\"], [-1.879566615089987, 0.9829182541005352, \"Stress Test\"], [1.0703220335868462, 0.656897224876411, \"Muscovite Parricide Song\"], [1.5053436620107794, -0.7982108881533492, \"What Color Is the Sky in the World You Live In?\"], [-0.5119929201859812, 0.9966831642051864, \"Scubaplus\"], [-1.454159551263669, 1.547932657794522, \"Rest - Pearson Sound Remix\"], [2.6271523184747263, 1.0726057422563362, \"Dawn Chorus\"], [0.462042313451196, 0.9814723019044594, \"Lampara\"], [2.996747638587738, -1.0442770082678747, \"Glora - Instrumental\"], [2.2257850322239516, -1.0833264645854288, \"Bonnie Boy\"], [2.745591857300005, 0.7550159858057177, \"A Raga Called Pat - Part IV\"], [-0.7456929277122563, 2.0479407585903284, \"Oxytocin\"], [0.04366691657955467, -0.17243123679108244, \"NTU\"], [-0.28642100207417015, 1.1903087847719342, \"Xing\\u00f3 - Version 1\"], [-0.8623768388347142, 1.4939971814865727, \"LesAlpx\"], [-2.4453990143059143, 0.2799712769437809, \"Since You Been Gone\"], [-2.0638234455450597, 1.2285833180634593, \"If\"], [-1.6728556800265768, 1.9104318028930207, \"Feel My Butterfly - Ghetto Acid Mix\"], [-0.2635083940385311, -0.08052201937818639, \"Paul's Ark\"], [1.653870829228147, -0.37772146451427147, \"I Am Consumed\"], [-1.8910042685470685, 1.416797676089859, \"Lucys\"], [-1.1594509525468528, 1.4834562824208057, \"Missing Something\"], [4.055570846151581, 0.36680993972882475, \"State Forest\"], [-1.9585815510358306, 0.7757134703326497, \"Be Alone\"], [-1.5215807401410317, -2.206378156807792, \"Million Dollar Mansion (feat. Young Thug)\"], [-2.0167066990050593, 1.1702378398669588, \"Faces on Ankles - Radio Edit\"], [-1.6455669330178286, 1.5058618717117649, \"Unhygenix\"], [-0.38462300164191665, 2.6113269998221162, \"Rated X\"], [-0.6869681529632874, 1.1150176736480943, \"Elephant Kiosk\"], [0.15844592192207713, -1.0227230237466134, \"Chant\"], [-0.3249845245617893, -0.6187523450172412, \"Ruthey Naina\"], [-1.9196768633443928, -0.08830027680737253, \"Be Ya Girl\"], [-2.20290518751902, 0.01938264842283616, \"It Ain't Fair, But It's Fun\"], [2.888807825741484, 1.03614237755475, \"Interim I\"], [-0.9819093430182492, 1.4937182171630508, \"Amygdala\"], [3.4131481179609433, -1.162779880960404, \"The Little Dancer\"], [-1.5017986956556701, 0.7631603525881294, \"U&ME\"], [-1.6581454774140691, -2.2432369187359464, \"Pull Up (feat. Lil Uzi Vert & YNW Melly)\"], [0.6084060338313548, -0.7577370285385533, \"Why Are You Sitting Here?\"], [-2.336737886096056, -0.3171170725097059, \"Love - Marcel Dettmann's Black Gloves Remix\"], [3.497946986047241, 0.755105805220239, \"Atoll Song\"], [-1.2516681348943781, 1.682576695904431, \"A Gargantuan Melting Face Floating Effortlessly Through The Stratosphere\"], [1.9166143699727465, 0.47240348229181955, \"Track 10\"], [-0.7625288763380348, 1.4121805256905975, \"Rain On Tin\"], [-0.6342158031024033, 1.469275056856842, \"Back To Nature - Lobos On Wax House Mix\"], [-1.5671569426567886, -0.19839108441591272, \"Money Power Respect\"], [-2.24768634250925, 1.1345496555382992, \"Fog FM\"], [2.485275887887895, -1.4733878271993803, \"Fear, Uncertainty, Doubt\"], [0.37793683344827955, 1.925767205581947, \"Regional\"], [-1.1631717452998882, 0.9874156300469094, \"Didn't Take Long\"], [1.5223738982527149, -0.5200205145392859, \"Folding\"], [-1.5577724077741304, 1.2843968594419508, \"Au-Pair\"], [-0.8944190188447468, -0.010108721933508799, \"Drip\"], [-0.0172109499071014, -2.7416621449814875, \"Whitewater\"], [1.8969560389995495, -0.7521185158298691, \"Everytime\"], [0.2672486042973682, 1.8924619857534026, \"Circular Time\"], [2.522005920973511, 0.22252251360890338, \"Here I Am, Two Warships\"], [3.0098973392978885, -1.1255770087626118, \"Down2ridE\"], [-1.8874282022078357, 1.031781559736242, \"D Flaw\"], [-1.5105054204345363, 1.8498474519807553, \"The Start Of Nothing\"], [-1.4363327186698631, 1.734636595288258, \"Beast\"], [2.1125925075949743, -4.0374610196469645, \"Let Nature Sing\"], [-1.0999133616448686, 1.7871393228666363, \"Teenage Birdsong\"], [1.0648463773531547, -1.0084243203252519, \"Male Capercallie Display\"], [1.4553078427956474, -1.7741231088703013, \"Parc National de Corcovado, Le Soir \\u00e0 la Tomb\\u00e9e de la Nuit - Corcovado National Park, Nightfall\"], [3.7647468157898385, 0.6566021700821608, \"Rossignol Philom\\u00e8le (Nightingale)\"], [-1.0999133616448686, 1.7871393228666363, \"Teenage Birdsong\"], [1.7479703760790608, -2.5057118504114144, \"Lemon Rumped Tinkerbird\"], [-1.1682056380392027, 0.7539232965161313, \"Time For You - DJ Sports Dub Mix\"], [-2.116898051349671, -0.8569979712603318, \"Kasema Kihindi Bit\"], [0.4180586805259859, -1.1803567557139076, \"Klangbau Jailbreak\"], [4.65016443928896, 0.6403851494986068, \"Atelier\"], [-0.11615576696817453, -1.2079691642162456, \"CALL ME\"], [-1.5448652262074074, -0.9323519375496176, \"Saat Alfarah\"], [-1.361044675119568, -0.33088293515326656, \"Such Is Life\"], [0.6977742873057509, 0.329585765404552, \"Jfai\"], [0.3861232970975381, -0.5191257887573325, \"Eruption - 2015 Remaster\"], [1.6310197449330934, 2.758179544406102, \"In My Room\"], [-1.0878239836752168, 0.554504358565598, \"Belter - Joy O Belly Mix\"], [-2.5308148084523703, 0.8537858171356876, \"Mute\"], [-0.26254912989055856, 0.2539213766778527, \"Ready Again\"], [3.609825835647044, -0.1940399757944382, \"The Sweet Time Suite, Part I - Opening\"], [0.3641241535500309, -1.401580076645791, \"\\u00b0\\u3002 * \\u0327.\\u00b7*  \\u0301 \\u0308\\u30fb*\\u30fb . \\u00b0\\u3002\\u00b7 \\u0301 \\u0308 \\u0301 \\u309a * \\u0301 \\u0308\\u30fb \\u3002\\u30fb \\u309a.  \\u0301 \\u0308 \\u309a. .\\u00b7 \\u30fb*.\\u3002 * \\u0308\\u00b0. \\u30fb*\\u3002 \\u0327.\\u00b7*  \\u0301.\\u00b7* \\u0308.\\u00b7 \\u30fb \\u309a. \\u3002 * \\u0301 \\u0308* \\u0301 \\u0308 .\\u00b7.\\u00b7* \\u0301 \\u0308.\\u00b7*:\\u30fb\\u2727(\\u0e51\\u0d95\\u0e31\\u0dc5\\u0d95\\u0e31\\u0e51)\\u2727*:\\u30fbs\\u2591\\u01aa.\"], [0.5258576510410293, -0.4018177030681218, \"\\u061e\\u09e2\\u061e\\u0616\\u061e\\u09e2\\u061e\\u0616\\u061e\\u09e2\\u061e\\u0616\\u061e\\u09e2\\u061e\\u0616\\u061e\\u09e2\\u061e\\u0616\\u061e\\u09e2\\u061e\\u0616\\u061e\\u09e2\\u061e\\u0616\\u061e\\u09e2\\u061e\\u0616\\u061e\\u09e2\\u061e\\u0616\\u061e\\u09e2\\u061e\\u0616\\u061e\\u09e2\\u061e\\u0616\\u061e\\u09e2\\u061e\\u0616\\u061e\\u09e2\\u061e\\u0616\"], [-1.4915604478308175, -1.292609572657098, \"\\u141b\\u18b0X\\u14a3 \\u1402 M\\u14b7\\u18b3\\u1409\"], [1.2077176883894223, 0.6397744098468529, \"\\u255c\\u03c6\\u00b0\\u2302\\u258c\\u256b\\u00a7\\u255c\\u03c6\\u00b0\\u2302\\u258c\\u256b\\u00a7\\u255c\\u03c6\\u00b0\\u2302\\u258c\\u256b\\u00a7\\u255c\\u03c6\\u00b0\\u2302\\u258c\\u256b\\u00a7\\u255c\\u03c6\\u00b0\\u2302\\u258c\\u256b\\u00a7\\u255c\\u03c6\\u00b0\\u2302\\u258c\\u256b\\u00a7\\u255c\\u03c6\\u00b0\\u2302\\u258c\\u256b\\u00a7\\u255c\\u03c6\\u00b0\\u2302\\u258c\\u256b\\u00a7\\u255c\\u03c6\\u00b0\\u2302\\u258c\\u256b\\u00a7\\u255c\\u03c6\\u00b0\\u2302\\u258c\\u256b\\u00a7\\u255c\\u03c6\\u00b0\\u2302\\u258c\\u256b\\u00a7\\u255c\\u03c6\\u00b0\\u2302\\u258c\\u256b\\u00a7\\u255c\\u03c6\\u00b0\\u2302\\u258c\\u256b\\u00a7\\u255c\\u03c6\\u00b0\\u2302\\u258c\\u256b\\u00a7\\u255c\\u03c6\\u00b0\\u2302\\u258c\\u256b\\u00a7\\u255c\\u03c6\\u00b0\\u2302\\u258c\\u256b\\u00a7\\u255c\\u03c6\\u00b0\\u2302\\u258c\\u256b\\u00a7\\u255c\\u03c6\\u00b0\\u2302\\u258c\"], [-0.3745566374520168, 0.23886823749145514, \"\\u0489.\\u00b7.\\u00b7* \\u0301 \\u0308.\\u00b7*:\\u30fb\\u2727\\u0e51\\u0d95\\u0e31 \\u0489\"], [-0.7447111237188561, 1.7647712783804295, \"\\u0338 \\u0321 \\u0489 \\u0489.\\u00b7\\u0e51\\u0d95\\u0e31 \\u0489 \\u0338 \\u0321 \\u0489 \\u0489.\\u00b7\\u0e51\\u0d95\\u0e31 \\u0489 \\u0338 \\u0321 \\u0489 \\u0489.\\u00b7\\u0e51\\u0d95\\u0e31 \\u0489 \\u0338 \\u0321 \\u0489 \\u0489.\\u00b7\\u0e51\\u0d95\\u0e31 \\u0489 \\u0338 \\u0321 \\u0489 \\u0489.\\u00b7\\u0e51\\u0d95\\u0e31 \\u0489 \\u0338 \\u0321 \\u0489 \\u0489.\\u00b7\\u0e51\\u0d95\\u0e31 \\u0489 \\u0338 \\u0321 \\u0489 \\u0489.\\u00b7\\u0e51\\u0d95\\u0e31 \\u0489\"], [-1.2840861625733662, 1.0875820705139496, \"0181 000 0002\"], [1.3724397896307723, -3.7137324711023183, \"Rancho Grande\"], [1.630056058679672, -0.31342281542640826, \"Essence of Sapphire\"], [-0.34376378805344915, 0.277430228231489, \"Rinky-Dink O.S. Type Rip\"], [1.079446512665686, -0.8641419589811773, \"Tempo de Amor (Samba do Veloso)\"], [-0.6509316470331543, -0.791304934994579, \"Cavalo-Ferro\"], [0.3780727980383929, 0.4413229815282909, \"Skyla\"], [-1.8837753458951987, 1.748671948476036, \"Max De Fool\"], [-2.2784819509792347, -1.9755771735307393, \"Afraid\"], [-1.375375956084276, 0.7361377387558359, \"Only Human\"], [-1.1472663522688977, 0.4951788522896517, \"Baharat\"], [-1.1069036766602331, 0.6711908329461869, \"Tour\"], [1.7408739993366633, -0.23204279182840215, \"Released\"], [-1.5457132552987831, 0.14019348536944656, \"Vacuum Boogie\"], [-1.40368743967578, 1.1453558694471624, \"Orient Acd\"], [-1.2400441568484222, 0.8533868878582063, \"Untitled B2\"], [3.17630613856676, -0.23029525495232847, \"Sea Slug\"], [-0.9905049581224163, -0.24018370391819466, \"Lions of Juda\"], [2.685087252540116, -1.8526856133184193, \"Still Space\"], [-1.0896065489385403, -0.5891923713262025, \"18HUNNA (feat. Dave) - Four Tet Remix\"], [-1.2499266865096819, 0.2723283277061815, \"Dubber Funk\"], [-1.8516007565835269, 1.3632370617115894, \"Topological Errors\"], [-1.8829288295031248, -0.2884868324322428, \"Speed It Up\"], [-2.400827256962082, -1.3716831316797458, \"Poke It Out (with Nicki Minaj)\"], [3.248494064676069, 0.38224309691656194, \"Barcarolle\"], [-1.7380453010572254, -1.1985136528351537, \"make up\"], [0.5903773217600614, -3.2751521661444554, \"Okajouki\"], [-1.5308829401310744, -0.7788769060697501, \"Pulp\"], [-1.1539383946509605, 0.26132238052025647, \"Can't You See?\"], [-2.3010041332424187, 0.9799657460345835, \"Escape Club 99\"], [1.4184612954069022, 1.053246553777419, \"Galapagos - Instrumental/Sadlands Demo\"], [4.254104105679292, -0.005665269227067583, \"Monk's Theme, Pt. I\"], [-2.110826621856375, 1.047512197147928, \"Tickle Me Pink\"], [1.023825997760945, 0.22448064528487408, \"The Sound Of A Finished Kiss\"], [-1.7453785766999863, 0.5305881325903764, \"All Is Full of Love (Secondotted)\"], [1.123977683908199, -1.2294294641763903, \"Camden Town Rain\"], [-0.1494910269448057, 1.1069338092428767, \"Tics - Four Tet Remix\"], [-2.3960042166615336, -0.7000289300911133, \"Unicorn Purp (feat. Young Thug & Gunna)\"], [-1.5155127274994742, 1.3377488343148314, \"Jhe\"], [4.698334381741984, -0.0017828493980958729, \"Tsuru no Sugomori\"], [-0.3836329798044387, -1.6056663883579916, \"Aonde Voce Vai\"], [3.2666514352239076, -0.8671350041023248, \"Plains\"], [5.55096576498262, 1.0851211604285975, \"I Will Surround You\"], [4.453590680319883, 0.24803541645085184, \"The Unquestioned Answer\"], [0.10922881246811096, 0.9969650052952805, \"K4\"], [-1.335386494184611, 1.5130293000051642, \"Invisible\"], [-1.5181973229804206, -0.3375317391943333, \"FFS Why Though - Instrumental\"], [1.2174894734277246, -0.35223085893828665, \"Lurk\"], [1.3357509707053934, -4.223002899410915, \"John Coltrane Interview - (by Carl-Erik Lindgren)\"], [-1.1420411124528536, -2.0060299131477586, \"Sweet Soul Music\"], [-0.9566530181039203, 0.6073301377692784, \"Goron Sound\"], [-0.9066911614217605, 1.3911245448975655, \"50005b\"], [3.52547889696268, 0.035413259495961226, \"Fragments D\"], [2.3976710220389585, -0.5276881164065235, \"Washed Away Comedown\"], [-0.4277898973542898, 1.0609046136129865, \"Pearly-Dewdrops' Drops (12\\\" Version)\"], [-1.4790265519675367, 1.9749735436483504, \"Hundred Flowers Groove\"], [0.5911348027483588, 1.4857817729740155, \"Quadraluv\"], [-1.165367785554691, 0.2692404912921038, \"Barbarossa\"], [-2.254620178491269, -1.1843377002643365, \"Godmother\"], [2.4976849206176346, 0.9535565527335264, \"Things Will Never B Tha Same\"], [0.4300012404315242, 1.2473137018774976, \"Bagpipes Drone - Sadlands Demo\"], [3.2654890211067773, 0.8903309545104379, \"Hanging Glass Structure\"], [3.055262931707167, -0.9745683714033294, \"Love Yourself\"], [-1.6112443307305828, 0.9210161655138942, \"Earwig\"], [-1.7658667854235357, -2.0464108763170854, \"Nowhere2go\"], [-0.984392047813118, -1.9473260303328734, \"Ain't Got the Love (Of One Girl On My Mind)\"], [-0.8699799248705893, -1.6544151054912757, \"Maracat\\u00fa At\\u00f4mico\"], [-0.8735502337397482, -1.0269113668716854, \"Foundations\"], [-1.6814209135113407, 1.9084342084493666, \"iii's Front\"], [-1.5001614233892213, 0.9207393007896202, \"A Parade\"], [-0.9496348079481899, 2.1094048748978347, \"Le\\u1ee5\\u0304\"], [1.7349177135743634, 0.5920719812399142, \"America - Terrence Dixon Minimal Detroit Mix\"], [3.881758475296776, 0.5884564921814812, \"The Jumps\"], [1.2184435808903027, -0.44229884355506544, \"Les dunes d'ostende (Original Motion Picture Soundtrack)\"], [-1.968790479138643, -1.411227217272338, \"A No No\"], [3.672680561260908, 1.2359806532753823, \"Hyperborean / Patch Of Light\"], [-0.8282142709612318, 0.8615232534192586, \"Field Preaching\"], [0.4750207194329403, 1.0817795486068544, \"Symbian - Christopher Rau Remix\"], [1.603508483328102, 0.8293205183100552, \"All Alone\"], [-0.49478962608793525, -0.9348710157354156, \"Fallen Leaves\"], [2.266842839622931, -2.7380822933146955, \"Poem Daddy\"], [-0.8726226361806697, 0.7218791528910702, \"Sucker Punch - Four Tet Remix\"], [-1.815162064005012, 0.3618571599506494, \"Aardvark\"], [2.5057347710420492, -2.643320894322807, \"Cheap Breakfast Special\"], [0.45934662567819035, -1.5500915039939278, \"Deep Vein Thrombosis\"], [-2.580165332342904, 0.7766092480652804, \"Misunderstanding - Mj Cole Dubb Remix\"], [-1.4354814707327404, 1.6103521469544495, \"Stressed\"], [3.1356611964308976, -0.04689920698601701, \"(Two Bonangs, Coated Spheres, Piano, Two Synthesizers, Natural Objects)\"], [2.457725844710841, -1.0492077252997805, \"Sun in My Mouth - Recomposed By Ensemble\"], [0.6159954249669608, 1.3299333118782282, \"Glass Abattoir - End\"], [-0.3024638227583036, -0.653798873061242, \"Climax\"], [-2.4458898641292413, 0.37442354759797697, \"What The-?\"], [2.963146084138259, -0.356110412460089, \"Trance Mutation\"], [2.993777954833374, 1.2127697736348042, \"First Distance\"], [-1.2353142477492791, -1.1000531734433476, \"Make Love to Me - 7\\\" Promotional Version\"], [2.1907614896399803, 1.19872775980786, \"Keyed out\"], [0.12028695450107003, 1.3008373364938428, \"\\u00c6on\"], [0.604078240138956, 1.4955680360177783, \"GBBVT1337152 - Len Faki Hardspace Mix\"], [3.962149615914003, 0.7431376977144004, \"Deep Sea (mysterious, lost, sunken ship)\"], [-1.8497657249581803, -0.3277236655548032, \"Forssa Saeeda\"], [0.7601385114204424, -0.7680541631631345, \"Sojourn\"], [1.8441296751563219, -0.050346199089791425, \"Venice Bitch\"], [0.30887098099891724, 0.9821155876190607, \"My Angel Rocks Back and Forth - Live at Hultsfred Festival, 18th June 2004\"], [-1.020928472646217, 1.4756585782642653, \"Sound Control - Remix\"], [-1.792357108676047, 1.7927225352587621, \"Volume 2A\"], [0.6434226545001127, -0.8903088589509222, \"Untitled A2\"], [0.711651132852699, -0.8386833073472423, \"Shabaaz Qalandar\"], [-0.8115152624177089, 0.3552931489509809, \"Shahbaz Qalandar\"], [-1.682241142246642, -0.4338792533254343, \"Lady - Just Tha Beat Mix\"], [-0.7825544201444731, 0.027605933503043776, \"128 Harps - Live in Tokyo, 1st December 2013\"], [0.030683639455342027, 0.3210957644648529, \"Our Navigation - Live in Tokyo, 1st December 2013\"], [1.7956482625232428, 0.55619088908386, \"Suspirium\"], [2.1150141647519134, 0.14130819113341334, \"Rag Des\"], [0.41112019381841725, -0.7816126122789377, \"Two Thousand and Seventeen - Live at Funkhaus Berlin, 10th May 2018\"], [-2.054391320472128, -2.127465551864779, \"Shot Gun Shack\"], [-0.005963375610982438, -1.5063549462680865, \"carefree counter dronal\"], [-1.6243613813881839, 1.209714798774602, \"Body Move - Edit\"], [-1.2224564422168003, -0.21782598493769526, \"Warm It Up (With Love)\"], [-0.9047108088359503, 1.3666680683959755, \"Blue Eyes\"], [-0.7232639058537692, -0.6766968559034816, \"Wear Me Down\"], [3.264810369772408, 0.1361565580942399, \"The Great Yawn\"], [-0.8666609913359472, -3.7287743415061825, \"Daughter - Live at Funkhaus Berlin, 10th May 2018\"], [-0.5628300399983294, 1.3971509148848253, \"LA Trance - Live at Funkhaus Berlin, 10th May 2018\"], [-2.0475077884745305, 0.9164823198140718, \"Baby (You're so Sexy) - Sexy Dark Dub\"], [-2.53295579497452, -0.059869813551457936, \"The Club\"], [0.19351183929192803, -1.1201035882651735, \"pete davidson\"], [2.0549925709294907, -1.246730967481705, \"Desert\"], [3.8973424709336584, 1.2658153706582693, \"Danse du rossignol\"], [1.6262732883023991, 1.1524655030644544, \"Outside In - BBC Radio One 'Sounds Of The Seventies' Session\"], [1.5466789137993602, -0.872849664208788, \"Waterfall\"], [1.9520736825951717, -1.4466295144642571, \"Say When\"], [2.9152270063301073, 0.010445773203843156, \"Love Is For Always\"], [2.0215206612032217, -1.167259998150666, \"Om\"], [-1.297409053500502, -1.0156907733869969, \"Agricultural Revolution\"], [-1.5167552385480374, 1.2886283535630383, \"Unglued\"], [-1.3878859408537043, 0.9361766165287366, \"Action Break\"], [-1.664524842423047, 0.6053985127714004, \"De Siegalizer\"], [-1.2748084716532635, -1.6682957437860808, \"Noumou Foli\"], [0.5510505231456153, -0.986003826320227, \"Do You Know\"], [3.6373199298669787, -1.2674943606485403, \"Syn-anthesia\"], [-1.1390535130007917, -0.7619892013502242, \"Kong\"], [-1.2204325832478857, -1.2638746581506362, \"Next Up 47\"], [3.607117206473731, 1.7100294661894435, \"Banteay Srey\"], [-1.2155709345269505, 0.18634523541667738, \"Always Ascending - Nina Kraviz House Remix\"], [3.033951720316828, 0.6405559742698574, \"Pith\"], [-0.5801732907498176, 0.6450429976457986, \"Why We Fight\"], [3.35881765687067, 0.8095544031813586, \"Envelop\"], [2.62061557567604, -1.7376431373898875, \"Alley Flowers\"], [1.3333494880708034, 1.7224237577356423, \"Butterfly Effect\"], [-0.5242378173857494, -0.4219089558834737, \"Rainbow Warriors\"], [-1.6653482854688628, 0.8324510761741349, \"Long Division\"], [-0.6070029350672225, -1.6206612403472576, \"Jupiter Variation\"], [-0.7214733057262533, -1.6203285920190122, \"Bubbles\"], [-0.8263964436115718, -1.0115869572315097, \"Lazy Bones\"], [-1.8068517859371174, -0.7230047052294188, \"Is It Because I'm Black? - Ja Mix\"], [-0.017891681054805944, -0.25043528510103147, \"Paul's Ark\"], [-0.4755181248651077, -1.6335462804676388, \"Pastoral Symphony\"], [-0.10958106646267514, -1.830348120704075, \"Misharank (Finale) - Instrumental (Live)\"], [-2.1367172203824754, -0.45569655777030926, \"Quick Eternity - Four Tet Remix\"], [-0.273436479586015, 0.12572036714097837, \"Arriving\"], [0.2388976456454543, 1.1050922170942024, \"Seneca Falls\"], [-0.6146843297222788, -0.6143163309424461, \"Boy You Should Listen\"], [-2.5870102934972583, -1.0796306538033058, \"There's A Break In The Road\"], [0.3031428486880154, -0.16814783111955806, \"Untitled Original 11386 - Take 5\"], [3.4280841792151775, 0.46267961675841934, \"INTRA-8\"], [1.1548945588184887, 1.3809589096392334, \"Goodnight Morton\"], [-1.7724075301797462, 1.9112124995825392, \"Kosovo Hardcore\"], [-0.2555463417891502, -0.854262284408826, \"The River\\u2019s Tale\"], [-0.4350869811052985, 1.7126115905852006, \"Nims\"], [2.9157480569049294, -0.23925488498318026, \"Black Narcissus\"], [1.1099829238881505, -0.07082482913499505, \"Limerence\"], [-1.6553676269008664, -0.5969455076991449, \"Aldeia De Ogum\"], [-2.0821504256871677, -2.346196007984008, \"What About Us?\"], [1.4791284007300063, -0.566599267558, \"Yugoslavia\"], [-2.3673301612018465, 0.7510221364399468, \"Manchester\"], [-1.3919590802489237, 0.9851627968093029, \"Minute's To Midnight For This Planet\"], [1.9694032094377187, 0.5305351740486818, \"Sonnengeflecht\"], [-0.6560441222612137, 0.22820935119608274, \"Things Have Got To Change (Part 1 & 2)\"], [-2.752875960305858, -1.539580376681993, \"Reunited\"], [-1.714017009249628, 1.0188909445260252, \"GRIT\"], [-1.994626512443771, 1.1965035088231641, \"Scubbu Babe - Original Mix\"], [-1.2121897290520283, -1.2136844550105403, \"Can I Have It Like That\"], [1.818254171227288, 0.88499248257574, \"Immersion\"], [2.4659119517582355, 0.6025757951079915, \"Escape Music from City to Paradise\"], [-0.4564583641628849, -0.9208606971515674, \"You Can Have Him\"], [-2.0591909534459996, -0.8580041238844791, \"Can't Let Go\"], [-1.5108667765220314, -0.0894036665713273, \"Rhythm Dance - Extended Version\"], [-2.8303736984398267, -3.1779802586305888, \"Cops Shot The Kid\"], [-2.262033570860759, 0.408843086706015, \"Boxed In\"], [1.2946038906388881, -0.5692112131851463, \"Toys 2\"], [0.7656454694359113, -1.3258431304595313, \"Untitled Original 11383\"], [-1.4270092641751566, 0.9375168222744285, \"Flyby Vfr\"], [-1.7316241232790173, 1.9589900794719184, \"Slicing\"], [-2.046742327941823, -1.5327344643932044, \"The Games We Play\"], [-0.9271297013020263, 1.7088499980446559, \"Donnie and Laurie\"], [1.9439462877808613, -0.8168496698992934, \"N.E.W.\"], [0.057250159247851956, 1.2460117390144527, \"Rev8617\"], [2.895611573913595, 1.2486502261707195, \"It Feels Like Floating\"], [-0.6102395069699754, 1.5868640970723622, \"Ol\"], [-1.50879352147842, 0.5447999271101681, \"Pferd - Melchior Productions' Zodiac Mix\"], [-0.8590426195598955, 1.7913018427376, \"Systems Align\"], [1.143875201235122, 0.29021701090103164, \"Afro Blue\"], [-1.4960890354935372, -3.85409261488175, \"We're a Winner - Live @ Bitter End, NYC\"], [0.19808583926166368, -1.345507975530136, \"Patterns\"], [1.9642619834321808, 0.02147177405487534, \"Love On A Real Train\"], [-1.7589428499518467, 2.255368435103415, \"OTT\"], [3.782925458257491, -1.8392638394999485, \"The Dress\"], [-1.1089094073428594, 1.9654261324680269, \"Transition 2\"], [2.345892982505761, 0.9324832406245962, \"Never Saw Him Again\"], [-0.4874323726792689, 1.0938277709749324, \"Blue Train Lines - Nina Kraviz Tool 1\"], [-0.011114336711748508, 1.353470333238775, \"Disco 2021\"], [-1.1510092555300953, -1.2686911399409515, \"Slowburner\"], [-1.3852102976509861, 0.18561458748994158, \"Battle Rhymes For Battle Times\"], [-0.23111942416865186, 0.3398209760657101, \"O Gato\"], [-2.50024092126212, 0.8127589266017844, \"Tornado Brain (Villalobos Inretro Baby Remix)\"], [-0.7474807096579573, -0.3004225647026748, \"Transformational Gathering\"], [-1.565123523141997, 1.1286176762111435, \"Watercolour Challenge\"], [-0.4125391576076249, 0.37432645962254285, \"Forever Begins - Instrumental\"], [2.554617406765738, 0.936653551691878, \"Ralome\"], [2.9870859327200954, -0.9931514638633715, \"Triboli Gao\"], [-0.5484412389505913, -0.8449226313282533, \"Coming Home\"], [-1.0099428884727397, -0.1789727266685896, \"Bongo Lumbo\"], [1.9926210647241338, -0.3480495719732269, \"Les Trucks Du Moroir\"], [-0.376009079959517, -2.265104233849317, \"Ups and Downs (Bonus Beat)\"], [1.1955100156086274, 1.4204835145522101, \"Quick Eternity\"], [-0.8805298337098414, 1.9526014278645212, \"Ichso - Original Mix\"], [1.7186238549623167, 1.435205401493764, \"Plastic Energy Man\"], [1.8743058637395558, -2.933765643207401, \"Anzu\"], [-1.1932117994402782, 0.8193202319388745, \"Iron Man\"], [0.5622280741101932, -1.1379235521015234, \"Love Song\"], [0.5080261938865854, 1.128406246273876, \"Chorus\"], [-0.8235810730255808, -3.617725851885159, \"They'd Hang Upon My Every Word\"], [1.8319226706788718, -4.510020685881672, \"Tremper\"], [-1.2293222800722952, -0.1780095579340028, \"Fog\"], [0.6607081629654861, -0.6003187681992123, \"A3\"], [-1.0260716302395336, 1.9128382306370544, \"Blue Train Lines - Nina Kraviz Main Mix\"], [2.629572910531118, -0.36041538656093375, \"arrpfaded\"], [0.5462099066720729, 0.18829038392341355, \"Dub It\"], [-1.558300752276521, -2.5098530801144503, \"Strange Things\"], [1.6880913519326983, 0.20279630080301234, \"Estudio N\\u00ba 1\"], [-0.1745395702276729, 0.3297140812426869, \"Song for My Lady\"], [1.7542600833377162, -0.6352209647185729, \"Autumn Signal\"], [-0.45696645816862863, 1.825713455537623, \"Terracotta\"], [-0.0651928184474748, -3.0142831698871806, \"Speaking in Tongues I\"], [0.16862437580913264, 0.5787323232764492, \"My Queen Is Anna Julia Cooper\"], [1.8945597676030002, 0.016995433001024025, \"Scene 6\"], [-1.617885812237287, -0.9182013392552114, \"Aiiight Chill\"], [-2.1458205975853866, -1.6181860210570236, \"1994\"], [-1.8280647352336665, -1.6482707802722927, \"It Ain't Hard to Tell - Remix\"], [-0.4650926879013154, -1.163477320888789, \"Astral Abuse\"], [-1.788893689779773, 0.7384606126002465, \"Glob\"], [-0.5859012543267499, 1.7555996958320534, \"Module - Original Mix\"], [1.0652036004726717, 1.1160979938014544, \"Tanzen\"], [-0.7447111237188561, 1.7647712783804295, \"\\u0338 \\u0321 \\u0489 \\u0489.\\u00b7\\u0e51\\u0d95\\u0e31 \\u0489 \\u0338 \\u0321 \\u0489 \\u0489.\\u00b7\\u0e51\\u0d95\\u0e31 \\u0489 \\u0338 \\u0321 \\u0489 \\u0489.\\u00b7\\u0e51\\u0d95\\u0e31 \\u0489 \\u0338 \\u0321 \\u0489 \\u0489.\\u00b7\\u0e51\\u0d95\\u0e31 \\u0489 \\u0338 \\u0321 \\u0489 \\u0489.\\u00b7\\u0e51\\u0d95\\u0e31 \\u0489 \\u0338 \\u0321 \\u0489 \\u0489.\\u00b7\\u0e51\\u0d95\\u0e31 \\u0489 \\u0338 \\u0321 \\u0489 \\u0489.\\u00b7\\u0e51\\u0d95\\u0e31 \\u0489\"], [2.2220470727326243, 0.4489941193107806, \"Hello from the Edge of the Earth\"], [2.5516163094153046, 0.05537632084545586, \"Blood Of An American\"], [-1.0517693535392865, -0.7739342614574694, \"You Better Stop It\"], [-1.7916347972932642, -1.5405563209141893, \"Ta Tudo Ai\"], [-2.2324418146331197, -1.109489993756861, \"Spanish Omigo\"], [-1.5185359464766186, -1.1460937463349823, \"My Brother\"], [3.6747812167234764, 1.0742547105766276, \"Glueck\"], [2.1788942903478836, 1.4292686104143213, \"Music For Mallet Instruments, Voices And Organ\"], [-1.3887439155841512, 1.370226118999079, \"Opal - Four Tet Remix\"], [-0.7179448045257163, 0.8369707945847141, \"Emerald Rush - Edit\"], [-1.4378238141924315, 0.6293423727689545, \"Bone Sucka\"], [-0.25952756097534907, 0.8387715939689748, \"My Angel Rocks Back And Forth\"], [-1.118075545934343, -0.4770882910586459, \"Cuttin' Headz\"], [-0.40557765570202653, 0.08191712426375217, \"Interlude\"], [0.2534165115924313, 0.35589976327015854, \"The Spiritually Immature Mansion\"], [0.4372275974362217, 0.5792809412148813, \"Spiral Dance\"], [0.01524026552442458, -1.6362980131937945, \"Love Song\"], [-1.7760591515193775, -1.5968266064912506, \"Tinindo Trincando\"], [1.9180405795182176, -0.6959766758625422, \"Sentinela\"], [-1.0305260839163564, 1.5937164655483091, \"Shahbaz Qalandar, Pt. 1\"], [-1.4352014114881149, 1.4321170365170226, \"No Coast\"], [-1.0861991588546855, 0.689338950458695, \"Lea\"], [0.8946360017160265, 1.0642564480644339, \"You Are Loved\"], [1.8198887227371827, 0.22738099744491758, \"Peace (gat)\"], [4.1377378092963975, 0.7289045199561385, \"Here We Guard Upon the Soul\"], [-1.3982254570908725, -0.004821402370561712, \"Kasino\"], [-0.847632357598888, 2.6546620272116987, \"Moved (Ricardo Villalobos Remix)\"], [3.481767939973958, 0.45652612471425197, \"Neptune Rising\"], [1.8799209182352785, -0.5507927254943434, \"Small Blue Thing\"], [0.97585543949511, -1.473535464897999, \"Uth Gaye Gawandon Yaer\"], [0.2848222122991237, -0.11600405984431511, \"Siete Ocho - Remastered 2003 / Rudy Van Gelder Edition\"], [0.7443175683958978, 1.1701227590594696, \"Carrier\"], [0.5793746324588528, 0.7953987081012512, \"Earth\"], [0.5135697095490146, -0.1042636249160327, \"Heron Dance\"], [-1.1920464683581267, 0.7523117440708115, \"Compression Session 1\"], [-0.4715421181747888, 1.9536013369905507, \"Nein K\\u00f6nig Nein\"], [-1.9119934162049006, 0.3429561849624454, \"Higher - Original Mix\"], [0.025426682584884792, 0.7704945954315097, \"Dedans-dehors: En phase / hors phase\"], [3.529040802990828, 0.5539456557123149, \"Alap\"], [-1.1263646816936979, -1.034140441092023, \"Backseat (feat. Carly Rae Jepsen)\"], [2.1872566851297512, 1.7024671766414827, \"Chateau Rouge\"], [1.965241019410094, -0.13428146838694127, \"New Grass\"], [-2.1986404353526816, -0.9721134426504792, \"Hasabe (My Worries)\"], [-0.8890672623392117, -1.6138884147653512, \"I Hear Voices Pt. 1 - 12\\\" Version\"], [-0.5360737183635165, 0.39624243809641735, \"I Hear Voices - 12\\\" Instrumental Version\"], [-0.5414222975903292, -0.04084851946540748, \"Survival\"], [0.6319887732698771, 0.07618130890661921, \"John Coltrane\"], [3.7090573187505926, 0.7976510144077886, \"The Big Wind\"], [2.1921423225389227, 0.826140249434685, \"The Test of Time\"], [1.0718920112049513, 1.2644387146151583, \"Solitude\"], [-0.3924898418435812, -0.3607797097370802, \"If The Car Beside You Moves Ahead\"], [0.7065459591597172, 0.6790384382215628, \"Strochnik\"], [0.7192825361857428, 1.3488624484981466, \"Slow Fade\"], [0.8500257661017481, -1.4137948223360928, \"Never Ever Land\"], [-0.9430464566721032, -3.230011687774882, \"Little Black Book\"], [-1.4953153559624992, 0.38600152698962886, \"The Gospel Comes To New Guinea\"], [-1.0913882650837834, 0.8298793349781549, \"Perfect Love\"], [-1.5707612595004063, 0.6738608018672869, \"First Plate 2\"], [0.7269701782355681, 0.2573533682924039, \"Desto\"], [1.612535449261751, -0.8661923790901772, \"0181 000 0016\"], [1.4368395361232051, -0.328178823847988, \"Vessel\"], [0.02925197620389089, -0.17051895608045609, \"Change Your Life\"], [1.007932956407081, 0.9052403997727915, \"LA Trance\"], [-1.2955807074293821, 1.9231256296918582, \"Sunder\"], [-0.7004450463471681, 1.602358037025837, \"Cosmic Event\"], [-1.0301309628386932, 1.3797640072951185, \"Ganz sch\\u00f6n muffig\"], [-1.3118925297667865, 0.4159631671881888, \"What\"], [-0.37628885864489714, -0.012213257662225294, \"Our\"], [-0.4404776835018739, 0.9783158224264115, \"\\u274d\\u2281\\u274d\\u2281\\u274d\\u2281\\u274d\\u2281\\u274d\\u2281\\u274d\\u2281\\u274d\\u2281\\u274d\\u2281\\u274d\\u2281\"], [3.0907289994882814, 1.0400882363305088, \"Microstoria Runtime Engine\"], [1.7360405517233621, -0.718150178016731, \"Mhare Re Giridhar Gopal\"], [1.1496546020297118, -0.0326936688466351, \"Mr. Knight - Mono\"], [-0.011524216276053772, -1.5764981124781452, \"Great Day (Four Tet Remix)\"], [-1.3440395811958161, -1.0111590949807896, \"Peace Begins Within\"], [0.29747786817156446, 0.23865446239848007, \"Will\"], [0.08194992438342187, 1.4589627337567748, \"Different Entities\"], [-0.9192204963024014, 0.8444535799411439, \"Stand Up! - Pangaea's Mix\"], [2.7655850463748233, -0.2230950138379946, \"Lali\"], [-1.3316975448603265, -1.3427020491206914, \"Tape 19.11\"], [1.7840173586796888, 0.4768982424745189, \"Demi-Final\"], [1.1073728610094964, -1.453229713547804, \"Way Stone\"], [1.1449070869365103, -0.4876977164092548, \"Touch me & die\"], [-0.5269783432563637, 0.3944686921298205, \"Gnog\"], [1.3772097662037976, 0.7041367006350683, \"Pour en finir avec le pouvoir d'Orph\\u00e9e: Kal\\u00e9idoscope 2\"], [2.653813558205796, -0.7210879946760286, \"Dont Talk (put Your Head On My Shoulder)\"], [-0.37779240114349955, 0.5307419727649646, \"Don\\u2019t Mind Wrong Keys - Original Mix\"], [1.1430529076172955, -1.0279477520966898, \"La forme du temps est un cercle: 5/ cercles: No. 2\"], [-1.3448575932549336, 1.341856509200495, \"Let\\u2019s Do It\"], [-0.627738768590263, 1.8368115473458368, \"Senses On Fire - James Holden Remix\"], [2.1146661665108675, 0.6367500555074809, \"Virgin Ice\"], [-0.06731787969017315, -0.7398536136672181, \"Two Thousand and Seventeen\"], [-0.7452244356991972, 1.0088194921677858, \"Atoms For Peace (Four Tet Remix)\"], [-0.8354185901794531, 2.2704242002127106, \"Soul Oscillations\"], [0.7221578962664643, 0.4959613538884965, \"Nothing 5-7\"], [-2.2370276373221984, -0.34895341523848683, \"Mili Alay (Sway To Me)\"], [-1.6742956754201044, 1.9252101780386925, \"The Workers Are on Strike\"], [-0.7258050699281428, 0.034184015453072904, \"An Intention - Cumulonimbus Remix by Joe Goddard\"], [-0.4530663036966717, -0.8578803669849169, \"Silver Ocean\"], [-0.060420877398225985, 1.1835043930760387, \"Tendency - Maxi Version\"], [0.4782507205147698, 0.5674359545003455, \"Reflections - From The \\\"Rocky\\\" Soundtrack\"], [-1.5415261480697549, 0.33324043002199066, \"Woman's Dub\"], [-0.6208844753671443, -1.4557713045526037, \"RO\"], [-0.5333335991548714, -0.4722143608281941, \"Strong as Death (Sweet as Love)\"], [1.2437228869651362, 1.9797536765519745, \"Plays John Cassavetes 2\"], [3.727489603307634, -0.16054685561374923, \"Rumianek\"], [2.7563323369201003, -0.7693322686966151, \"Moja\"], [1.192955032768728, 1.448981743552772, \"Keep Me Close\"], [3.8757208239526197, 0.4525303854468379, \"Water Copy\"], [2.923103714738258, -1.0655861981016121, \"Features Creatures\"], [-1.981408090010487, 1.1698526992124831, \"Atlantis (I Need You)\"], [-0.8491707967317266, 1.1415095747867066, \"Road to Rio A2\"], [0.8682503326585271, 0.5927050635991971, \"Loop 005 - Original Mix\"], [-1.9192469685003888, 0.4001880606329528, \"A presa\"], [-1.4244518866408489, -2.89826094367461, \"Wild\"], [0.1640676405359499, -0.4183150172595878, \"Blues for Your Mama\"], [-1.3350295183788674, -0.15921530642754603, \"Kilode Remix\"], [1.79561056479804, 0.4825975009979795, \"Flagged up (Mark Ernestus Remix)\"], [3.590847565440664, 1.4135758058817536, \"Timeless\"], [-0.32262593299179265, 0.4704200710330715, \"Makondi\"], [0.02515736677902465, 0.14578512483291048, \"Afric Pepperbird\"], [-1.2079637179850244, -0.12500069551120677, \"The Call\"], [0.563676509840592, -0.5053666153048487, \"Miss Viki\"], [4.365971961074922, 0.9511141196561799, \"Pastel Morning\"], [2.300542327806057, -0.2759626576719752, \"Conference Of The Birds\"], [-0.9997151399002228, 1.434986782454358, \"Prologue / Love, Love\"], [1.1892392118226194, -1.567633362040296, \"Chetu\"], [0.40512135561569335, -0.5385918197515351, \"Tuesday Ends Saturday\"], [2.7197883475696063, 1.020123301478641, \"Ensenada\"], [3.8410512386651794, 0.8559920245789464, \"Song For Clare\"], [0.12119563784151673, 1.373140384708656, \"Keep It Like That - Tight\"], [1.0500972383890141, 1.109731783515972, \"Recat\"], [2.4282328605786785, -0.9704649376741844, \"Anandvan Bhuvani - Original\"], [2.937146088701236, -1.1701830592452276, \"Go Your Way\"], [2.5767029432189408, -0.761896275275, \"Koichulrdyn Kongur Kuu\"], [0.13856908905668727, -2.0081310838720117, \"It Doesn\\u2019t Make Sense\"], [-0.49642741018516096, -1.584781891136005, \"Plenty of Action\"], [-1.7043460937243469, 1.668844237676313, \"One More Fluorescent Rush\"], [-0.9400774685222048, 1.0606549058426298, \"Las Palmas\"], [-0.034265027052816144, -0.5529188017235525, \"Steady - Instrumental\"], [-1.4386208614945002, -1.7347311701423092, \"Steady\"], [1.005664898957028, -0.2871508998296351, \"Koirong Ku\"], [2.1450668943812268, 1.4812550257971022, \"Morning Splendor\"], [0.5258576510410293, -0.4018177030681218, \"\\u061e\\u09e2\\u061e\\u0616\\u061e\\u09e2\\u061e\\u0616\\u061e\\u09e2\\u061e\\u0616\\u061e\\u09e2\\u061e\\u0616\\u061e\\u09e2\\u061e\\u0616\\u061e\\u09e2\\u061e\\u0616\\u061e\\u09e2\\u061e\\u0616\\u061e\\u09e2\\u061e\\u0616\\u061e\\u09e2\\u061e\\u0616\\u061e\\u09e2\\u061e\\u0616\\u061e\\u09e2\\u061e\\u0616\\u061e\\u09e2\\u061e\\u0616\\u061e\\u09e2\\u061e\\u0616\"], [-1.1928495108683297, 1.2703884159458372, \"I Will Make Room for You - Four Tet Remix\"], [-0.18984327126998207, 1.5072249182042197, \"World\"], [1.677336348008959, 0.25307601982885924, \"\\u2727\\u208a\\u204e\\u275d\\u1dc0\\u0ebb\\u0f7d*\\u0cc3\\u01aa\\u274d\\u2281\\u01aa\\u274d\\u2281\\u0f3d\\u09e3\\u09e2\\u061e\\u09e2\\u061e\\u0616 \\u0f65\"], [0.3641241535500309, -1.401580076645791, \"\\u00b0\\u3002 * \\u0327.\\u00b7*  \\u0301 \\u0308\\u30fb*\\u30fb . \\u00b0\\u3002\\u00b7 \\u0301 \\u0308 \\u0301 \\u309a * \\u0301 \\u0308\\u30fb \\u3002\\u30fb \\u309a.  \\u0301 \\u0308 \\u309a. .\\u00b7 \\u30fb*.\\u3002 * \\u0308\\u00b0. \\u30fb*\\u3002 \\u0327.\\u00b7*  \\u0301.\\u00b7* \\u0308.\\u00b7 \\u30fb \\u309a. \\u3002 * \\u0301 \\u0308* \\u0301 \\u0308 .\\u00b7.\\u00b7* \\u0301 \\u0308.\\u00b7*:\\u30fb\\u2727(\\u0e51\\u0d95\\u0e31\\u0dc5\\u0d95\\u0e31\\u0e51)\\u2727*:\\u30fbs\\u2591\\u01aa.\"], [0.026252221609710222, 0.26590151279607255, \"\\u01aa. \\u25d6\\u01aa\\u274d\\u227b\\u0338\\u25de.|\\u25d7\\u0449 (*\\u110b\\u25b3+\\u204e\\u275d\\u1dc0\\u0ebb\\u0f7d*\\u0cc3:(\\ua4a1\\u0361 \\u275d\\u1dc0\\u0ebb\\u0f7d \\ua27a \\u0308.\\u00b7*:\\u30fb\\u2727\\u20db(\\u0f7d\\u0e51\"], [5.080678838616875, 0.04686653619815523, \"Gentle Soul\"], [0.2534348296486159, 0.4285436314467034, \"The Animal Spirits\"], [-0.20874323664824151, 0.8181621201100185, \"The Neverending\"], [2.598046526403228, -1.2620703668152884, \"Abide \\\"With Me\\\"\"], [-0.9922056963081987, 0.8685983531901738, \"January 2014\"], [1.0860346498725832, 0.32728851627427535, \"Arthur\"], [3.688394678996329, 0.22778852645357314, \"Dumb\"], [1.5546253888889348, -0.7561948757829025, \"Music for Alpha Waves, Assorted Percussion, and Automated Coded Relays\"], [-0.6182086380060992, 0.5695250316541389, \"Istian\"], [-1.7229665907870255, -0.6756108168897658, \"Patek Water (feat. Offset)\"], [1.4132630839881344, -0.3044059990222561, \"The Parting\"], [0.8549281895332191, 0.9553229519570432, \"Die Dinge Des Lebens\"], [0.4690466709797613, 0.3201358173328976, \"King Version\"], [0.021568531401851717, -4.926430415889246, \"Don Cherry Interview - Ornette's Influence Pt. 1\"], [-0.9750002487540685, -0.6466708006438826, \"Universal Mother\"], [-0.21330149328490564, 2.962018457382925, \"Ratio - Full Mix\"], [3.1108628386277135, 0.06022938907135593, \"Harold Working, Nicky Recovering / Nicky On The Stairs\"], [-2.0254029325317346, 1.1037711030269415, \"Medellin\"], [-1.1200888291230953, 0.6614061960627927, \"Jungle Tempo\"], [1.505553851686586, 0.19836789610634895, \"Travelin\\u2019 Man\"], [3.2208048219166034, 0.555963626597301, \"William Eaton Track 11\"], [3.2777510789350903, 0.9164639774728833, \"Riversong\"], [-0.9795199879947274, 0.6828399119374173, \"0181 000 0014\"], [0.4161312575563671, -0.6003710630818105, \"Flight From Ashiya - Mono Single Mix\"], [-0.8096448722243781, -1.0128817260052139, \"Vacuum Cleaner\"], [1.3811963182858544, 2.4825939837237536, \"Haute pression\"], [2.072350927430457, -1.401349714301908, \"Seeds of a Forgotten Flower\"], [3.870879349680146, 0.17470428166383484, \"Don's Dawn\"], [0.018296395096440557, 0.9111788156385566, \"Kiu\\u00e1\"], [1.8939338453315442, -0.4559543606204708, \"Wheel\"], [-0.6102573006370207, 0.9359126999211531, \"MPH\"], [4.6683092674026705, -0.14825509266286782, \"Falls 2\"], [-0.20437419574530766, 0.7250248551816247, \"Lush\"], [0.3641241535500309, -1.401580076645791, \"\\u00b0\\u3002 * \\u0327.\\u00b7*  \\u0301 \\u0308\\u30fb*\\u30fb . \\u00b0\\u3002\\u00b7 \\u0301 \\u0308 \\u0301 \\u309a * \\u0301 \\u0308\\u30fb \\u3002\\u30fb \\u309a.  \\u0301 \\u0308 \\u309a. .\\u00b7 \\u30fb*.\\u3002 * \\u0308\\u00b0. \\u30fb*\\u3002 \\u0327.\\u00b7*  \\u0301.\\u00b7* \\u0308.\\u00b7 \\u30fb \\u309a. \\u3002 * \\u0301 \\u0308* \\u0301 \\u0308 .\\u00b7.\\u00b7* \\u0301 \\u0308.\\u00b7*:\\u30fb\\u2727(\\u0e51\\u0d95\\u0e31\\u0dc5\\u0d95\\u0e31\\u0e51)\\u2727*:\\u30fbs\\u2591\\u01aa.\"], [3.2049792729483, -1.3647066170418596, \"Autumn\"], [1.9379227556470462, -0.48402215019505446, \"I Will Make Room for You\"], [-1.8094716921197918, 0.9728241449865743, \"Xing Tian\"], [-0.9190357868928959, -0.6097395793345126, \"Je Suis un Sauvage\"], [-1.3574373467523932, -0.08953822807950317, \"Papa\"], [-1.047679600168349, -0.9701259379296214, \"I Want to Be Love\"], [-2.435546220997489, -0.759996472096249, \"Flying High\"], [3.4347333735184873, 1.0434359482959183, \"Waterlust\"], [2.135327303785985, -0.3667923238998948, \"Welcome\"], [1.7049917654479054, -0.9547855788248507, \"Wrapped\"], [0.0011923854578169417, 1.017598623210475, \"Scientists\"], [3.635301445646342, -0.405702086390503, \"10 Midi\"], [-0.13720174590841264, 1.6138466757068417, \"JNSN CODE GL16\"], [-1.1044827703191595, 0.5650903118125129, \"Carry On\"], [1.4191601285026036, -0.44608626656663775, \"Carousel Of Bubbles\"], [1.208674946161323, -1.2034139724845085, \"Danriye Achho Tumi Amar Gaaner Opare - Original\"], [2.4703754669748017, 0.28258994130857906, \"The Plum Blossom - Rudy Van Gelder Remaster\"], [2.805838607349067, 1.1999725312215763, \"Daisy\"], [-0.7159344306660097, 1.482128981186897, \"People Be Happy/Rhythm Dance - Audion's Highlight Mix\"], [-2.256279927176594, 0.6506394120134397, \"Camile From OHM Makes Me Feel Loved\"], [2.263602212015661, -0.7828300290454238, \"\\u30fb\\u2727(\\u0e51\\u0d95\\u0e31\\u0dc5*.\\u3002 * \\u0308\\u00b0\\u3002\"], [-0.5166192233459208, 1.4450295386855752, \"Planet\"], [0.5572846543701312, 0.07240350437080197, \"\\u2591\\u2593\\u2591\\u2593\\u2591\\u2593\\u2591\\u2593\\u2591\\u2593\\u2591\\u2593\\u2591\\u2593\\u2591\\u2593\\u2591\\u2593\\u2591\\u2593\\u2591\\u2593\\u2591\\u2593\\u2591\\u2593\"], [-1.643909463900466, 0.874638641806549, \"Each Moment Like the First\"], [2.371942636689671, -0.0311630965171033, \"To Feel Your Best\"], [1.196189341162335, 1.2594074887868574, \"Fam/Famine\"], [-1.0497480644136552, -1.0835843951726873, \"Rodent\"], [-0.6093351997025501, 1.708666471874491, \"SW9 9SL\"], [-0.4595583641283213, 0.3644844617840746, \"0181 000 0015\"], [-1.490147859246529, -1.3927749637720355, \"Ghetto Kyote\"], [-1.4330036655495215, 0.17715515407708876, \"Opal\"], [-1.685722591710619, 0.2617205629301227, \"The Shape Of Trance To Come\"], [-2.5236264837871456, 0.44841085996571123, \"City Breeze\"], [-1.6798597226276422, -1.8722101125506923, \"Firefly\"], [-1.6900858918867483, -1.6344837844597067, \"Trouble\"], [0.4823186325829486, -0.8657508596654874, \"Twin Stars of Thence\"], [-0.676603389201868, -2.0356555744709404, \"Tapinha\"], [-1.722302884242427, -0.8996237726270162, \"Poet\"], [0.1375433343774281, -1.5585228705884617, \"Provider\"], [0.09139715266564402, 0.3907249990170324, \"Trails\"], [1.7997275094632559, 0.513127469421167, \"0181 000 0004\"], [-0.6093351997025501, 1.708666471874491, \"SW9 9SL\"], [-0.5166192233459208, 1.4450295386855752, \"Planet\"], [-0.9046037444418022, 0.959799661376225, \"0181 000 0003\"], [-0.3745566374520168, 0.23886823749145514, \"\\u0489.\\u00b7.\\u00b7* \\u0301 \\u0308.\\u00b7*:\\u30fb\\u2727\\u0e51\\u0d95\\u0e31 \\u0489\"], [-0.7002159551811878, 0.9130109851345338, \"TBC\"], [1.0268913476581982, 0.6630691357549129, \"PIGG\"], [-0.6215688872548686, 1.0266642055962405, \"Pass Through The Fire\"], [-0.7318626546171523, -0.34979948194222094, \"To Follow & Lead\"], [-1.3035600953019082, 1.6133397139707595, \"Be Last\"], [-0.7515418295137807, 0.3535586143108175, \"Interest\"], [-1.9320623072699976, 0.5685064393435899, \"Vikings Invade the Mediterranean But Don't Leave\"], [-1.32113650562534, 0.6673662677223765, \"It's a New Day - Loop\"], [-0.6527797597054138, -0.8782648444462842, \"Black Rhythm Happening - Remastered\"], [1.5828211902983795, 0.041563221019898074, \"Black Narcissus\"], [0.8032356007197863, 0.3565952879315195, \"Blind Willie\"], [1.9419639754728508, -1.7141967843268553, \"Hard Time Killin' Floor Blues\"], [4.051508280986331, -0.06575420689055513, \"Fifesine\"], [1.2735090993153244, -0.3259771605711738, \"Secret Love\"], [1.5499180117384603, 2.765590903752747, \"Hajj\"], [-0.13177417105134645, -0.7580933527992543, \"Two Thousand and Seventeen\"], [-1.32113650562534, 0.6673662677223765, \"It's a New Day - Loop\"], [-1.6441293371777164, -1.7817972734984189, \"Teler Shishi\"], [-1.9070858146959848, 1.2580368273864158, \"Did You Hear the Owls Last Night?\"], [-0.7735588618854338, 1.2712139949936314, \"Roll with the Punches\"], [-0.7142174585217776, 1.2432136450509608, \"Intrigued By The Drum\"], [2.242630233725264, -0.8894708659150957, \"Fantomoj de la Vitro Domo\"], [1.2555060515255607, 0.32051077557031915, \"Deep Summer - Burial Remix\"], [-0.3747604395617794, 1.4367410731311316, \"Everything Works Backwards\"], [2.072424139201385, 0.5274563614277711, \"Bi Lambam\"], [-0.5166192233459208, 1.4450295386855752, \"Planet\"], [0.058456131428454586, 0.7639620372033364, \"Audio Track 5\"], [0.9032247436448646, 0.16591304534553783, \"Water Music\"], [-1.7136419431536203, 0.561715246091724, \"Les Yper-Sound\"], [2.911543726308642, 0.7894170199097351, \"Path\"], [-0.762296548067794, 0.7425797317478102, \"Drumming - Four Tet Remix\"], [1.3257337484522038, -1.5180119482985537, \"Ultra Marina (1988)\"], [-1.0804577086303162, -0.6363350819648476, \"WOW\"], [1.8238590608117473, 0.5497339379702205, \"Hope - Instrumental\"], [1.8281528335688584, 0.1458706126534947, \"Q1.1 Edit\"], [-1.1340005073045036, 1.8377386182389928, \"You Are Wrong - Original Mix\"], [2.9838079897177967, 0.8085751586670628, \"Games with Shifting Mirrors\"], [-1.1541999748723843, -1.3584590274451342, \"Keep on Keeping On\"], [-0.28474582951764876, 0.739704851451511, \"Non-Stop Home\"], [-1.2581630427263901, -1.7322331332238696, \"Une morte dans la neige\"], [0.7966042444259809, -0.7663751218131123, \"Orbit 416\"], [0.14508996499301352, -1.3316658436481865, \"Open Aspect # 4\"], [1.746411900117215, -0.7166800458473356, \"Vulnerability (Interlude)\"], [0.6300281995308866, 0.2385642488647683, \"An Intention\"], [1.8309109087908175, -1.862470892127857, \"Starling Song\"], [3.0342046193213292, 0.5509738154841177, \"Lucerne Valley\"], [0.782872038442166, -0.36084193417491933, \"BLIPS\"], [0.13845056435111727, 0.06638289911685841, \"Foundry\"], [1.3410070696295964, -0.4326116109536815, \"Fostercare\"], [1.9720308399020168, -0.20623973477502078, \"Dee\"], [0.340996423533138, 0.5962719942263631, \"To Here Knows When - Remastered Version\"], [0.6399910124415092, 0.5258846368805528, \"Wavey\"], [1.3775257879869014, -0.9159450071091882, \"Missing You\"], [-0.13177417105134645, -0.7580933527992543, \"Two Thousand and Seventeen\"], [0.39997230143948787, 0.2291005721029132, \"Regret\"], [1.5711966570888145, -0.6388740309727666, \"Piya Nahi Aye\"], [2.9812273665665843, -0.5568839049235709, \"Ai No Sono\"], [-0.4811811267266643, -0.36981359771754324, \"Raga Bhopali - Gat Composition In Ektal\"], [1.6291787075399187, -0.7020615981030212, \"In The Square\"], [-1.8756025538911612, 0.25641626689105607, \"Possessed\"], [-0.1287932601520655, 1.262421416413616, \"Time To Find Me (AFX Fast Mix)\"], [-1.0301874250143026, 0.3549515995441391, \"Blue Pedro\"], [3.4611075279905874, 0.6037527236781849, \"Virtually Part 3\"], [1.715164161077728, 1.2142099053693647, \"Unicorn\"], [3.5448513019236563, -0.6279852627574151, \"Kites\"], [0.142527539769463, -1.7026416406919649, \"Don't\"], [-0.10264518094806, 1.140098485158714, \"Pop 4\"], [-0.11760759851877212, -0.5453606254863442, \"Flickering Debris\"], [-1.9317918035708197, 1.2375679051796058, \"A Cat And Her Solar Life - Original Mix\"], [1.8107050524955102, 0.2701926765610371, \"Appalachian Grove III\"], [2.2999138165026647, 1.6530085995337573, \"La Maison Des 5 \\u00c9l\\u00e9ments\"], [0.14715520451493527, -0.9486411150305695, \"Gol-e Gandom\"], [1.096225151325931, 1.1987243521833406, \"Agenda\"], [-0.9083128107254607, 1.5195113788039205, \"Tin\"], [-1.0382239912502194, 1.1502792057629705, \"I Believe\"], [-0.852135976054664, 1.8929752606850494, \"Glut\"], [-2.265297970196083, 1.1851797663363124, \"Music\"], [-1.9732187616919457, -0.21207523200939218, \"Luv Music\"], [-0.9722768521903884, 0.28822798220598006, \"Shakey Jake\"], [0.7587124926063797, -0.35664543354320966, \"To Nature's God\"], [3.1387610539804593, -1.2200543088463451, \"I'd Swear There Was Somebody Here\"], [0.5832322056953559, -0.3231081288231391, \"...Hours\"], [-1.6426088674111394, -0.5840588234776252, \"Flowering in Threes\"], [-1.2085002266288567, 0.5139550838035936, \"Mra\"], [0.06265886297981385, 0.9906773133040762, \"Your Lady\"], [-1.3741271865290416, 0.8585703803045474, \"Shikako Maru Ten\"], [1.1890809746329103, 0.49646127783567223, \"Being - Ambient Mix\"], [-1.1814545180388987, 1.8153089132733617, \"Emotinium - Original Mix\"], [3.294331020144581, -1.5060154883593684, \"Pollen Forms\"], [-0.21549983086695323, 1.9141015508120187, \"Second Blood\"], [-0.580143606290686, 2.1140127290854602, \"Manta\"], [0.909058249382482, 0.9417295742843133, \"Subtemple\"], [-0.19227017743142893, 0.6402072234950323, \"Corc\"], [-1.0900156596425228, 1.589554252535671, \"Still Early\"], [3.2269255112116983, -1.1759365643270137, \"Syrinx\"], [-0.6578582314906002, 0.7272141955837969, \"A Red Rag to a Bull\"], [1.9568897766774078, 1.6792922317810555, \"T'Raenon - Version\"], [1.8211587737842667, -1.3940979796925494, \"Untitled B3\"], [1.456282053367532, 0.5433517650461644, \"Sleepy Time\"], [-0.8442319040375477, -2.505422604661594, \"Eu N\\u00e3o Sou Causa, Sou Consequ\\u00eancia\"], [-1.5183246674345312, -0.9098026195638206, \"Com Mais De 30\"], [-1.0531408184536744, -0.8113918759637341, \"Strawberries, Raspberries\"], [-1.1522959227362242, 0.09567858338285806, \"Face to Face\"], [-1.7015710546329712, -0.8950849051436344, \"Bad Liar\"], [-1.5812502287018997, 1.878892749453412, \"Boom Room\"], [0.43175288479810275, 1.071126193694118, \"Tarik\"], [-0.8044857148843765, -0.11811283220036675, \"The Feed-back\"], [0.5452886188772021, 0.708657445510959, \"Separator (Four Tet RMX)\"], [-0.8247129010037969, -0.7201086094387757, \"Right Now\"], [2.385329055515717, 0.38584455238224663, \"Eels\"], [-0.8089624787587835, 0.6012343765070441, \"The Valley of the Ultra Blacks\"], [-0.539507812077538, 2.083577810667206, \"Needle and Thread\"], [-0.4088951320441192, 1.6409737641594084, \"Heal Me\"], [-0.3229687388804911, -2.0173296434817933, \"All Because Of You\"], [-0.7590492134749843, -1.125564091704424, \"Don't Be Surprised\"], [-0.9484998652587415, -1.5249224805471717, \"Vilole - Maisha Ya Mjini\"], [-0.4404187814134143, 0.24832535194472846, \"Reverse\"], [0.05213718893635035, 1.6457309040753207, \"DC12 A1\"], [-1.3815770031719843, 0.8984829661414021, \"OAR004-A\"], [-0.43923787007202053, 2.000079081825223, \"Benevolent Incubator\"], [2.4095099758032594, 0.8782257282754201, \"Three Etudes: Woodpecker, Murmuring Water, Blacksmith\"], [1.4089548544365282, 0.6821122417988856, \"Helicon 2\"], [1.0784551633161084, 1.6130807460844934, \"Wawa by the Ocean\"], [-1.3419854642798739, -0.5876344024988561, \"Victoria's Veil\"], [-2.4528625990843627, -0.3198136697608206, \"Showa Eski Riddim\"], [-2.5114350365463163, 0.0216594424906812, \"&Fate\"], [-0.6857027428130333, 2.0803575860479846, \"P O T SIDE A\"], [-0.7162330241990142, 1.1763874714841487, \"Lasers\"], [0.5898314502767613, 1.375962744111447, \"My Baby-Tachi\"], [-2.3369070330231683, -1.916584802793272, \"Young Heartache\"], [1.456465045892131, -0.6544163745649662, \"Seigfried\"], [1.7919461946278736, 0.24471904479588075, \"Hera\"], [0.4080824086639266, 1.1462532671633117, \"Drums Unlimited - Mono\"], [-1.6327182526525519, -2.388577381740475, \"Mother and Child\"], [-1.5931910865577326, 0.3836796454773143, \"Crystal Catcher (weed)\"], [-1.955633697423299, -2.260997649161545, \"Landslide\"], [-2.0572343165447933, -0.40370933521530644, \"I'm Not Dancing\"], [0.46088343605507787, 1.4732668587658209, \"UNTITLED 7\"], [1.889847574125592, -2.881892612668662, \"Markel Joavna Piera\"], [1.2239726977448955, 0.7509567561693722, \"Ever New\"], [-0.7475049647088882, -0.32221132917517664, \"Now Is The Time For Love Pt 1\"], [-0.8572565619992343, -0.920647477543165, \"Drums for Daryl\"], [-1.5303424213202925, 1.8509837789711177, \"A Violent Noise - Four Tet Remix\"], [0.8430141418040995, 0.7890496478452889, \"Reversing\"], [-1.5117551146532342, 1.2830668567165275, \"Pyramid - Atoms for Peace Remix\"], [-2.1362961672466807, 0.8730554864120961, \"KHLHI\"], [1.1250888104332106, -0.5011142591693812, \"Cut Up Piano & Xylophone\"], [-1.4458841898550763, -0.1561323827026808, \"128 Harps\"], [-0.15603586804888311, 1.6846349295363152, \"The Truth in You (Fourtet Remix) [feat. Fourtet & Erin Lang]\"], [-2.5657770344175974, -0.803460364018213, \"As Serious As Your Life - Jay Dee Remix\"], [-2.5434098825379077, -0.8256446822934412, \"Facety 2:11\"], [-1.2629522120098882, 1.4082516540264547, \"Calamine - Radio Version\"], [0.7914438084951566, -0.19128250892731158, \"Our Time\"], [0.8662210462093028, 0.2039611321231948, \"Ba Teaches Yoga\"], [0.2656809181628647, 1.710439905162731, \"Matthew & Toby - Four Tet Remix\"], [-1.6332641618159947, 1.1858893950755598, \"Balloons - Kieran Hebden Version\"], [-0.7752090133165364, 2.7240008648304577, \"Anglepoised\"], [-0.5951609102847815, 0.8684777077851822, \"Lyman Place\"], [1.9167207219895637, 0.5656659322828861, \"Like Siamese Fighting Fish\"], [2.0413177391837656, -0.7176153935414257, \"Unidentified Pair Of Birds\"], [-1.7579879261155424, 0.9853057552217235, \"Analog Track (Ghost)\"], [-1.4369718569719954, 1.0518011758657275, \"Gar's Highway\"], [1.0155100673985638, -0.6044888677592388, \"Nerve Beats\"], [-2.129407440164836, 0.9662941157106486, \"Broken Cake\"], [3.2421368057271094, -1.351317175906207, \"For You\"], [2.1247203038596028, -1.2227799674036344, \"Princess Sonata:Flowers Laugh\"], [-1.0470724983931297, 0.4627040665572061, \"Life & Death in G & A (Pts. 1 & 2)\"], [-1.3678650985434564, 0.9553603561223097, \"Dream Baby Dream (Four Tet remix)\"], [2.329666352756322, -1.5734279915222549, \"Northern Cardinal\"], [0.7532859241387393, -1.9442388545111549, \"Quanto Tempo\"], [2.414662363110198, 1.1568694880295205, \"Fr3sh\"], [-0.2402746671815345, -0.5342468584066884, \"Sekou\"], [0.394964861159373, -1.395027987171613, \"I Never Loved a Man (The Way I Love You) - Demo\"], [-0.7893378961276503, 1.4141473255920787, \"Endaro Mahanubhavulu - Sri - Adi\"], [-0.12736634463490945, 0.2095856982766865, \"Stolen Hearts\"], [-0.9947664234847943, 1.842880910309395, \"Brace Yourself Jason\"], [2.8717420496199013, 0.3795525054625941, \"Circle\"], [-1.241183433174572, -0.9052354511669123, \"Aur Paas Aa China\"], [1.6012701131495837, -1.4312330337490584, \"Tuum\"], [-0.7023271781916943, 1.6214070312529436, \"Black Acid\"], [-1.487240755831529, 0.10663678006369327, \"Touch\"], [-1.3503090094626387, 1.3341501529785436, \"Lifting Weights\"], [-1.0385033864072732, 0.46470002659047627, \"Texler Acid\"], [1.3726078516866436, 0.556315427755916, \"Sei Note In Logica (parte 1)\"], [2.4564086820283912, -0.43549535063509554, \"Despair Postlude\"], [-1.3270012867755943, -0.6365758074667561, \"X22RME\"], [3.4911053371541794, 1.989604370279079, \"And the Darkest Hour is Just Before Dawn\"], [1.5682733642756137, -0.195434321224034, \"Blueski - Remastered\"], [-1.7115412384843376, 1.2950469460611709, \"Faux - Four Tet Remix\"], [1.1303403151647524, 0.21460276333624873, \"\\\"Instrumentals\\\" Volume 2\"], [1.1040368604987094, -0.5693256081458257, \"Take Me Home\"], [0.8975896084045625, 0.2852520401277443, \"feelings 2\"], [-1.3720339098740835, 1.0550185438973965, \"Ascii Bot\"], [-1.474907955168976, 0.313592345309901, \"CHAOS RAIN\"], [4.0992493382919575, -0.19975264423273256, \"Aether\"], [-1.0863915695099027, -0.27840688884065595, \"Terriya\"], [-2.314418087827441, -0.7519614518390285, \"ZENO'S PARADOX\"], [0.1446540245136703, -1.0057362769540834, \"Automatic Melody\"], [4.156418680770776, -1.0533414568701545, \"Myth\"], [1.8157322637566462, 1.526291830635741, \"Spindrift\"], [-0.9332563311925891, -1.423095204209822, \"Wanda Vidal\"], [0.4911728459012746, -1.2041023741094121, \"Knowing That We Were Meant for Each Other\"], [-1.3643483053983336, -2.0236163540064784, \"Got 'Til It's Gone\"], [2.6004480178191636, 0.9204326433818656, \"Wakes on Cerulean A\"], [1.3142809276375322, -0.17014626589716336, \"Om Shanti\"], [1.3147078532983913, -1.1311068972814622, \"When You Are in Love\"], [3.2088328664633345, 0.26324562269002655, \"Piel\"], [-1.2493029253603996, -0.16945738258600004, \"Love and Unity\"], [-0.7574694436911535, -1.6272453386585972, \"Harambe\"], [-0.9987301909513734, 1.2466826371493924, \"Raga Pahadi - Punjabi Folk Dhun - Dadra Tal\"], [2.4735141705449006, -0.48113128073817507, \"Dream Scene\"], [1.726782907466972, -0.7190496303217879, \"Creepers\"], [3.586367918232839, -0.5318113369172175, \"Infinity\"], [1.2726707125373569, 1.604126539030301, \"Swimmer\"], [0.20508623508179774, 1.2570393671455313, \"Love Cry - Joy Orbison Remix\"], [1.6674145861628238, 1.7258225212033294, \"Before You Sleep\"], [1.0360176864658188, -0.05568096792668972, \"Morning In Tokyo\"], [1.6101778812669407, 0.7614764345361903, \"Warm River\"], [1.7527857453781104, -1.3948497988832906, \"Graveyard - 2007 Remaster\"], [4.166566274877791, -0.06204451607164123, \"Music box, tuning fork\"], [2.6287861919293873, 0.8811668436382987, \"Heartburn Walz\"], [0.6076896394655245, -1.63311202664939, \"Ruler of My Heart\"], [-0.36047258958097134, 2.399751226475769, \"Rainfall on Red Earth\"], [1.222548276219638, -2.2113856582724902, \"I'll Wait For You\"], [-1.3080056540250433, -1.2538835871553837, \"The Ballad of Dorothy Parker\"], [-0.1889537281677435, -1.2918941349145008, \"Help Me\"], [1.4662731589641456, -0.10230672792453131, \"Okonkole y Trompa\"], [-0.02434856547085904, -0.31789113841730887, \"Slow Change - Remastered\"], [-0.24538612596488127, 0.6910956068612163, \"Hana\"], [-1.6603121199055153, -0.16275062597871362, \"Ribbons\"], [-0.7373283406553985, -1.490664570149995, \"Menace\"], [-1.0487999917853608, -1.8867848173167543, \"RVK\"], [2.140887205890198, -1.2629026165472022, \"Di - Li - Do\"], [2.060842971752129, -0.5921618444601274, \"Song To The Siren (Remastered)\"], [-0.2541770387790574, -0.8439289229789725, \"The Meaning Of Love\"], [0.2167820507607777, -0.9368751489260148, \"Smiling Faces\"], [-1.1669986594269894, -0.4349105604639794, \"It's Time To Break Down\"], [-0.49829336063404894, -1.6115154279313455, \"Dooyo\"], [-1.2652419246044708, 2.677885405639582, \"Phylyps Trak II/II\"], [2.1054205179076777, 1.6153800428073863, \"Peace for Earth\"], [1.2243922897510624, 0.22689244606791936, \"Taqs\\u012bm Maq\\u0101m \\u0100jam\"], [-0.0020887141325086327, -0.596670149129433, \"Furaha, Happiness\"], [0.9703654629597812, -0.4795384093788729, \"Leila\"], [0.19702319962842876, -0.05774780890754582, \"Seeb\"], [-2.084072541738572, -2.018382235910554, \"Dabaylaha (Remix)\"], [-0.12613807284909473, -2.1915117995180116, \"Cheshmaye Tou\"], [1.1534264131345975, -3.5328800334218924, \"Personal Song (Somali Woman)\"], [0.7905717026455905, -1.694473061779851, \"Indian Film Song\"], [-2.702711884379145, -0.5969333171540255, \"Qalb Qalbi \\u0633\\u0627\\u0631\\u064a\\u0629 \\u0627\\u0644\\u0633\\u0648\\u0627\\u0633 \\u0642\\u0644\\u0628 \\u0642\\u0644\\u0628\\u064a\"], [-2.1384118306434234, -0.20540590516148577, \"Wenu Wenu\"], [-1.4505920899998972, -1.2794791471124072, \"Labej\"], [1.131217814233153, -1.486402923222519, \"Madafan\"], [0.6167932446502221, 0.3073355289637595, \"Khaar\"], [1.1192457214726539, -0.23390194084718693, \"Mutawal\"], [1.479222286444656, -4.725725554880989, \"Libya: Goumri Oueld Eddounane\"], [3.046476963636843, -1.382993421004211, \"Manyang Wet Himself\"], [2.0969303519284943, -1.7550737144953412, \"Halil: Halil (Yemen)\"], [0.9039591006001506, 0.39206124372952145, \"Angel Echoes - Jon Hopkins Remix\"], [-1.1804938296388097, 0.30007409855682865, \"Basheeba\"], [-2.065113348698693, -0.807557169825737, \"Oooh Baby\"], [-2.27831994696728, -1.0279585398167304, \"Keep Her Happy\"], [2.000610203559729, 0.14938548941817711, \"Illusion - Alternate Take\"], [4.487925712313869, 0.5052053156010351, \"Tree Memories\"], [-1.4453542691356518, 0.9594571133135292, \"Vaporware 04\"], [2.318961304629643, -0.9863656413539482, \"The Bold Grenadier\"], [0.25735856541843616, 0.5788112945237324, \"Zion Hill\"], [-0.2608785162624158, -1.8551081185336888, \"Angel Echoes\"], [2.6088743533043743, -1.136312139906505, \"Women of the World\"], [0.652502851774738, -0.6562572794264554, \"Battle At Armageddon\"], [-1.7619641367928314, -1.0905333897264773, \"Life Is Not Easy\"], [2.578513109350064, 0.5886601501116194, \"The Cycle Of Abuse\"], [3.8642253913640587, -1.8716075610992229, \"Aria\"], [-0.2144526545766464, 0.8963543973800285, \"Body Drive\"], [-3.058356024391059, -0.6689009954049978, \"Laptop (feat. Manga)\"], [-1.7612394510136657, 0.47224676678449945, \"Time & Space - 2011 Rub\"], [-0.90326541112166, 0.47284042549695215, \"Calypso Rock\"], [-0.7779426139244537, -1.4120419027829956, \"Ire\"], [0.7210394200674414, -1.3666722789429109, \"Chaudhvin Ka Chand Ho - From \\\"Chaudhvin Ka Chand\\\"\"], [3.5729746958247306, -0.29044177683901007, \"Bhimpalasri Alap\"], [-0.5915453990336552, -1.4810407037565896, \"Love's Gonna Pack up and Walk Out\"], [-1.3094827574494121, -0.3367234473902361, \"Slippin' Around\"], [-1.049518344377277, -2.415996271393816, \"Seven Years\"], [-2.405474626205065, -0.9428967165851071, \"Afe Ato Yen Bio\"], [-1.0643753158505087, -0.6503563621689232, \"Sie Koumgolo\"], [-0.30705511535206603, -0.9249701923527559, \"Orientasie\"], [-1.7733317968455589, -2.8203168860404917, \"Young Godz\"], [-1.9185629928186674, -1.100338250365829, \"Beats To The Rhyme - Instrumental\"], [-0.9842602355598207, 1.7777978113160222, \"Winona\"], [-1.4328804487614912, 1.6447077023897487, \"A Thousand Nights - Dubfire Quiet Storm Remix\"], [3.0963985856435663, 1.7765060021801389, \"Shishapangma\"], [-0.7707093580864043, -1.6249784124419964, \"Celestial Blues\"], [-1.4235171578212826, -1.067335821145325, \"Turn Off the Lights\"], [-1.665272269128988, -1.0891986095589279, \"The Empress And The Ukraine King\"], [-2.1240007326124455, -0.6242416689645505, \"Sound Industrial n\\u00b02\"], [-2.257370972323049, -0.8538990945460692, \"Cuss Cuss\"], [-1.185662660200755, -0.7159046804219522, \"Seperation\"], [2.1638695877972953, -0.2756731816328637, \"Sleeping Braid\"], [0.8557915785920729, -0.5523993033950906, \"Qanun Solo\"], [-0.26110787204399505, 0.5038807240410659, \"Strange Beauty - Instrumental\"], [3.0756509400551932, 0.29404660116578735, \"Eterna Presencia\"], [-0.35591282489404696, -0.5140365582332164, \"I Don't Think I'll Ever Love Another\"], [-0.28218539259155984, 1.3050882061155693, \"Cylo\"], [-1.1047502296666154, 0.5848517772513953, \"Get Together - James Holden Remix\"], [-1.4560948443559114, 0.3626416940213268, \"Theme\"], [0.5323867618218425, 0.19196654379136838, \"Caecilia\"], [1.9434390723516186, 0.336436006214578, \"Obadiah\"], [1.3885274080807315, -1.7027716932995385, \"Tzotzil - Bolonchon\"], [0.24602539775372567, -0.9667835260528924, \"African Sleigh Ride\"], [-0.21166710248982717, 0.2871156042203824, \"Comrades\"], [-1.7184237366330053, -1.3345656283275358, \"Stay The Night\"], [-0.6136288924185445, -2.6479737412356616, \"Twice The First Time\"], [-3.063011539762058, -1.2529468564069508, \"Still Tippin' (feat. Slim Thug and Paul Wall)\"], [-2.26108078665699, -1.7920561206393635, \"Hellz Wind Staff (feat. Street Life)\"], [4.659008494108286, 0.12360024977269143, \"Prelude No. 8 (To The Memory of Edgard Varese)\"], [1.5668334719152093, 1.3929716568176937, \"Guinnevere\"], [-0.06887343172281166, -2.461276509309853, \"Africa\"], [1.5804908441174106, 0.10942957107233967, \"Bijie Dream\"], [0.9564543870729761, 1.7920377923296409, \"Niobe\"], [-1.6222209528569864, 1.2689603034896548, \"1998 - Extended Mix\"], [-1.592979632239935, 0.7175550721368876, \"Win In The Flat World\"], [1.619755292793758, 0.7624075586752409, \"untitled\"], [-0.06817414766121932, 0.04834261725697964, \"Sutedja\"], [4.115450665305954, 0.08339547625986067, \"I'm Clean Now\"], [-0.15887488394040808, -0.4187001094105353, \"Makondi\"], [0.8549333957990014, 1.1131540949001337, \"Krypton Tunning\"], [-0.5111452373015746, 0.48007945688627995, \"XMAS_EVET1 N\"], [-1.2728897560411068, 0.4295875123041575, \"Elementz of Houz Music - Actress Mix 1\"], [2.0392424678013907, -0.29949378295096857, \"Greensleeves\"], [-1.0976471568468258, -1.5104332582209719, \"Creation\"], [-0.5036240971212924, 0.7148617121734087, \"Creation Dubwise\"], [-1.3416017774698834, -0.23674652203211502, \"Rien Ne Va Plus\"], [-1.0652535446694869, -2.1883256348663584, \"LAX To JFK\"], [-0.6696969597704526, -1.0381943237445226, \"So Jah Sey Dub\"], [-0.14041584907238316, 0.4256389303204197, \"Kalimba\"], [-0.20894472042097634, 0.6226420220485479, \"Drumelody (One)\"], [-1.6526415728348456, 0.7786164612894805, \"Surfer's Hymn - Actress Primitive Pattern Remix\"], [-1.6558271130552917, 0.6650892459673171, \"It Means I Love You\"], [-0.9957055414654887, -1.944157762364622, \"When I See U\"], [1.9393217025468032, 2.900352643861853, \"Retrograde - Bonus Track\"], [0.2897535795547144, 2.069869390092006, \"Gamera\"], [1.1706504181605015, 0.055884455242330794, \"Lay Lady Lay\"], [1.0569546037478517, -1.6029723075231843, \"Young Death\"], [-0.6006562474328379, -0.5809576370987015, \"Treetop\"], [-2.6311351188007417, 0.34801424184403773, \"Don't Save Face - Ross From Friends Remix\"], [-1.0185427305087764, 1.2188347152863508, \"Raw Trax (Weekend Rush)\"], [-0.21989637140352217, -0.6477221231363425, \"Skate Glug\"], [3.2663146369960128, 0.5157335844375256, \"#17\"], [-0.6815789978912559, 1.8897902512629252, \"Dannys Song\"], [-1.624139902396247, 1.3118440084482679, \"R.I.P. - DJ Hype Remix\"], [-1.3315304323241326, -0.48971363477818897, \"Seven & Three Quarters - Skank\"], [-1.3000304221435743, 1.0007331461430555, \"Classical Illusion (Micron 7\\\")\"], [-1.235772258714532, -0.5237564301480626, \"Money Money\"], [-0.9928512147758682, -0.4750654540676994, \"This a the Hardest Version\"], [-2.1018708804474486, 1.6798622021393768, \"Pursuit Mix 3\"], [-1.7235389796014031, 1.1496053255984782, \"Higher Power\"], [0.5195284164209255, -0.3156028924788382, \"Harry Lovett - Man Without a Country\"], [3.3140055118542078, -0.2337807126424331, \"Fog\"], [3.4697789245287405, -0.22969740655634135, \"1981 Yamaha CS70M\"], [3.7029873430485543, -0.9259757251719715, \"In Fields\"], [2.132085986074384, -1.0925045964270668, \"Just Like Tom Thumb's Blues\"], [-1.393992067501646, -1.2741031403077363, \"If You Believe Your God Is Dead, Try Mine\"], [-1.5267110927492322, -1.6865036071892845, \"I'm Sending Vibrations\"], [-1.032694340436785, -1.7545423099604998, \"Baby Consuelo\"], [-1.1729461329350181, 0.2750882594946711, \"Dual\"], [-1.206936829285923, -0.471366828709766, \"Viola Fora De Moda\"], [-0.03385236352582521, -1.3225707440423553, \"Patumbalacund\\u00ea\"], [1.209401194174035, -0.466125129851359, \"Elements of Life\"], [0.2530153826965656, -0.24042848155807808, \"Give the Drummer Some\"], [-0.6019137364957602, -0.4873182557652327, \"Color Me\"], [-2.008158540654858, -1.429396134359763, \"We\\u2019ve Gotta Find A Way Back to Love\"], [-0.00977307815131329, -0.17203780934231308, \"Manh\\u00e3\"], [1.3709568565156403, -0.39082352923796554, \"Can't Find My Way Home\"], [3.5765242668242605, -0.07038622699040496, \"Interspecies Smalltalk: Part 1\"], [3.2250127136881352, -0.10711485750499236, \"Rice\"], [-0.69265465527264, 1.7058244012485344, \"DEGREELESSNESS\"], [-1.5934277184502026, 1.841417137897565, \"Rave Voyeur\"], [-0.861563268009139, -0.8674501398747047, \"Been Thru a Lot\"], [0.27773619658128973, -0.43013507585132577, \"Tadpole\"], [1.9325529100612442, 1.491791051275259, \"Conta\"], [2.1829554048822186, -0.13935135333729395, \"Blue\"], [2.8521044314498822, -0.9182481607844998, \"Piece for E-Flat Soprano Saxophone, Guitar, and Thumb Piano\"], [2.345589347364303, -0.4581470238252742, \"And I A Fairy Tale Lady\"], [3.4564581734914666, -0.3309716312338351, \"The Foggy Dew\"], [1.388945386158245, -3.448534753067694, \"Orcas and Waterphone\"], [0.682763940451477, 0.4690369062389814, \"Immm - Live Version\"], [-1.3549042885970968, -1.014581028412934, \"Hear You Clearly (Trilogy)\"], [-0.08199483445540763, -0.2093369011623097, \"Slivadiv\"], [-1.9986382901161814, -3.528711985623123, \"Whateva Will Be\"], [-2.3746312199421022, -1.1005129615915827, \"Trying to Get Next to you\"], [0.032833808574260145, -0.260976874150746, \"Searching For The Truth\"], [1.8171505430670212, 0.6649859265681576, \"Shabistan\"], [-0.19782552350433436, -0.08030249781058163, \"Nursery Rhyme\"], [1.9346981142255093, 0.42793608118399, \"Manya\"], [0.17111457571469568, 0.8689596994164296, \"Rain Dance\"], [-0.8217625960928794, 1.8212930000926, \"Toninas - Ricardo Villalobos Remix\"], [0.7076354272262243, 0.8255304834221925, \"Untitled A1\"], [0.5647766742632058, 1.566276616872139, \"Sais\"], [-0.683264519430833, 1.833650966072016, \"Slippery Track (feat. John Ciafone)\"], [-0.22640641535291714, 0.32523435413203067, \"Get On Up!! - Theo Parrish' Late Dub\"], [-0.9039723952390961, -0.49306481457703333, \"Baltimore Oriole - 1963\"], [-1.609675755471404, -0.5544762374123632, \"It's Me O Lord\"], [1.340773286285005, 1.000443364320574, \"Caravan\"], [1.8615766289445788, -0.20120749139262922, \"Call\"], [2.68825671172701, 0.5124003056571514, \"Four Pieces for Harp - Produced\"], [-0.4634683391506248, 1.3484019613603853, \"Untitled B1\"], [-0.48778017423834535, 1.8015268226688914, \"Falling Acid\"], [1.0016739035584128, 1.5105590716938333, \"Zebra\"], [-1.6615911815626825, 0.9275654624662573, \"What You On\"], [-1.8085059470734173, -0.23468073840746692, \"Murking - Instrumental\"], [0.43458982171211263, 1.2205968317825993, \"Zoetrope\"], [2.6088743533043743, -1.136312139906505, \"Women of the World\"], [-2.305995385995535, -0.22061915619634262, \"Love$ick - Four Tet Remix\"], [-0.9607226868637502, -1.6669072585059523, \"Asante Kwa Wazazi\"], [0.7371491598193546, -1.9950737535246272, \"Welcome\"], [1.4035541856714024, -0.44398616932224333, \"Amelia\"], [3.0611066926154953, 0.3478521014322288, \"Bouquet - Remastered 2006/Rudy Van Gelder Edition\"], [1.0090204232786109, -1.137714282945036, \"Cry to Me\"], [-1.568258610454903, 0.9076562287067091, \"Digital '\\u0088\\u009e Tzunami\"], [-1.54716929338805, -0.2975075787102781, \"Paean\"], [2.3300217151943836, 0.2489392206475676, \"Tasha\"], [-1.5139769643671879, 1.6447416519767017, \"Funky Pulse\"], [-2.0604486050602544, -1.4889144280202529, \"Kool FM - Champion Remix\"], [-1.7647891379872667, 0.9710507894887885, \"Sirens\"], [-1.0459952228664449, -0.7236698107539473, \"Rush\"], [3.9814201377879406, 0.477646996927856, \"Prayer\"], [1.1050429258534555, 1.4288411298436834, \"A Love Supreme\"], [1.4920962742858663, 0.08707404624074734, \"see on see\"], [-0.13755665264842395, -1.4179530414031662, \"Lotus Eater\"], [-1.0523459663777968, 0.6765514321538788, \"Bulb in Zinc\"], [-1.1473660461152542, 1.3472071431492871, \"Gabryelle (Refix)\"], [-1.7185285102909682, 0.8483144234869319, \"Drum Dance\"], [-0.604674139963273, -1.1691172766694282, \"Second Line March\"], [-0.7952102508916488, -0.3902811318045236, \"Exchange Part 1\"], [-1.8445924997645062, -0.0021349104852655455, \"Baby Blood\"], [-0.8760137358719828, 0.08630895256322337, \"Patience\"], [-1.8140572439205198, 0.3093529617994028, \"Secret Friend [Full Length Version] - 2011 Remaster\"], [-0.5363064576653702, 1.0882540264002534, \"Prison Song feat. Marcin \\u00d6z\"], [-0.5300292925223565, 1.8348195350437602, \"30003B\"], [-1.0543560701052965, 1.7373188165131388, \"Dark Synthesis - Tyrell Remix\"], [2.0120751934930867, 0.5360605554580068, \"Eyes Closed\"], [3.2371265046613473, 0.165506138228936, \"Bliss\"], [3.9885655032117433, 0.32531160405768184, \"Heyr Himnasmi\\u00f0ur\"], [-0.9062736144396925, 0.5153081371097311, \"Flutter\"], [-1.278062612824689, -2.3431128514923745, \"E5\"], [-1.2604891986806186, -1.570312515133347, \"The Boy Is Mine\"], [-1.0544719794992783, -2.1232093151257136, \"So Sick\"], [-2.129366992849304, -1.012100498454593, \"Best Friend\"], [-0.588644539144547, 0.4940487943597526, \"Glide Away\"], [2.1465240796369907, -0.33543087556516055, \"The Anchor Song (Black Dog Mix)\"], [1.0216867524691269, 0.060151855004573075, \"Message From The Nile\"], [-1.1947329984246222, 0.11081200601851446, \"Friends And Neighbors\"], [-0.653469832043817, -1.9669820182386044, \"Falling In Love With A Dream\"], [-1.406398985311224, 0.7259633190389396, \"Don't Let My Rainbow Pass Me By - Club 12\\\" Mix\"], [-1.5973881887957453, 1.094170805639453, \"Land Of Confusion - Confusion Mix\"], [-1.5534537577300778, 0.16833707095913159, \"Walk 4 Me - Original Mix\"], [-2.8419470066875623, 0.45164233888184446, \"Opposite People\"], [-0.44577935589493634, -0.7711146763502105, \"Make It Fast, Make It Slow\"], [0.8633406136106451, -1.1384247736014783, \"Fai Yen\"], [2.445767532214835, -0.8738344812128978, \"Ivana\"], [1.36360433150978, 0.9709329230133783, \"Peace On Earth\"], [2.0051741745250933, -1.8964877107680598, \"Don\"], [-1.8346490474527901, -0.017963248178175677, \"Kernel\"], [-1.1230854282148572, 1.6392629740722917, \"EQD#002A\"], [-2.1371276700440283, 1.5170186936523304, \"Freeze Cycle\"], [-1.8206084832384155, 0.9533508498920606, \"Untitled 3\"], [-1.5686880777278955, 1.1404415235489322, \"Modular Pursuits - Daphni Remix\"], [-0.81425996116614, 0.714604832049576, \"Yermande (Kick and Bass Mix) [with Mbene Diatta Seck]\"], [-1.4339339285920174, 0.5347554848907945, \"MMM Meets Tshetsha Boys\"], [-0.6826738972969707, -0.8884304572241924, \"Wangni to Itinigo\"], [-1.3717115227258665, 0.45326494209211665, \"De i comahlee ah\"], [0.9036676742479084, -0.6917496530477152, \"Earth Blossom\"], [-0.9956124173001782, 0.753129002187449, \"Orko\"], [0.32886248633934984, 0.7844853959206065, \"If I Had Been Able - Fridge Remix\"], [-1.2624813443309824, 0.8596028009095869, \"The Parakeet Beat\"], [1.6574258968897417, 0.7988534220050557, \"Blue-Green Arrow\"], [-0.9702706562697715, -0.4921584900454224, \"Mortgage on My Soul (Wah-Wah)\"], [0.7730364946927565, -1.7633803466881823, \"Raga Madhuvanti - Gat In Dhrut Teental\"], [1.7770584660559137, 0.8502963901926482, \"N.E.W.\"], [1.7280705210546718, -0.3888653403431525, \"Ida Lupino\"], [-1.1506599592741502, -1.167971324454726, \"Glue Fingers\"], [0.2482219165377998, -0.3128099650381436, \"Apocalipse\"], [-0.13600643769145293, -1.1266723887428178, \"Raagank (Classical Melody Moods) - Instrumental (Live)\"], [0.4358785195468909, -0.6482793782637212, \"Aandhi, Pt. 1\"], [-1.429441298552025, -1.479130717911857, \"Sote Sote Aadhi Raat\"], [-1.4653275898847296, 0.7627542175970505, \"Diwali Rhythm\"], [-0.21100771592903506, -1.9607126284503202, \"Gold\"], [-2.5277519240749586, -1.5128935862207682, \"Didn't You Know - Radio Mix\"], [-2.4192466520751488, -1.365889570046869, \"Let's Ride\"], [-2.0022608437978797, -2.5806739037180635, \"Ride Around Shining (feat. Ab-Liva)\"], [-1.6215153721052646, -2.251168373432375, \"Step (Dj Roddy Rod)\"], [-1.436279085620642, -1.1557950596958133, \"Sao New Look\"], [0.03308057558070566, 0.49939532338493775, \"Moma\"], [-2.5089301225665093, -0.19392101908706605, \"Manila (Manitoba Mix)\"], [-2.4329339863844757, 0.41106139784745604, \"Style - 1996 Original Dub Mix\"], [-1.0426583108933407, 1.2672748440425143, \"Ground Collapse\"], [-2.39550656534038, -0.3710562964332759, \"The Professor Here\"], [-1.8956373851156445, 0.6920973086549623, \"New York Apple Jack\"], [0.02167496023990704, -0.7074915575094938, \"Sweet Songs\"], [-1.6046561132463821, -0.4084531179190389, \"Taken by Love\"], [-1.059021074544264, -2.5046798317939514, \"(Baby) Don't Do This To Me\"], [-1.293885026223141, -1.3006117021911887, \"Don\\u2019t Challenge Me\"], [-2.869659018236168, -1.5269922848105626, \"Dogs Of War\"], [-2.374073171150359, -3.328798478675615, \"Hydrant Game - Jaylib Remix\"], [1.569642485435826, 0.8154910658421057, \"3/4 Skip (Trip-Up)\"], [0.764313350185268, 0.059602508733495395, \"Gambang Suling\"], [1.8453163364558738, -1.6860855540386392, \"Wasser-Wunder (Water Wander)\"], [-0.7599839489217785, -4.1402131863335, \"Central African Republic: Mombimbi (Extract)\"], [-0.05834318931417922, -0.3296411404012188, \"One Dreamy Hum\"], [-1.5861957653693115, 1.107641072254627, \"Ridley Sch\\u00f6ttt\"], [1.0151901552246663, -1.0275319287540383, \"Wild Love\"], [0.7241547641117966, -0.4029608314997487, \"Kiss It Better - Four Tet Remix\"], [-1.64278897956052, 1.4552005469127536, \"I've Always Liked Grime\"], [-1.926070325878654, -0.5568909003974132, \"One and One\"], [3.4324713480511737, 0.5605328474326073, \"As the Earth Kissed the Moon\"], [-1.240005145982509, -0.4099063202162546, \"You're a Melody - Extended Disco Version\"], [-1.1344959363758913, -1.435663937032529, \"You Make Me Nothing\"], [3.275209563361158, 0.377906404043893, \"When I Try, I'm Full\"], [-1.0159558761920826, 0.6262986526244958, \"Back To The Start - Herbert\"], [0.5410849260390319, 1.3876107689100938, \"4 Elements\"], [-0.9662168071819033, 1.2892867617859332, \"Express\"], [0.34931275627604746, 0.6359887808346718, \"From Dream To Daylight\"], [-0.2134089681801115, -1.1880247164474835, \"Everlasting Love\"], [3.4449687358242507, -0.07617480163015643, \"Flotsam\"], [1.1118803785193099, -1.374658765710187, \"Don't Interrupt the Sorrow\"], [0.27844234722112016, 0.04800500904713304, \"Desrtroy the Nihilists Picnic\"], [2.7157751165324178, -0.4071367672371835, \"Raindrops, Pt. II\"], [-1.7618617478220173, 1.1613045332974448, \"Knowledge Of Selfie\"], [-2.161477673129291, -0.6806940771406179, \"Can We Try Love Again\"], [-1.417555752741961, -0.9867017630208043, \"Ufo\"], [-0.5047247954411112, 1.4129959597201862, \"A213\"], [-1.5073265954587256, 1.6087426553628517, \"OAR003-B - Original Mix\"], [1.1201833232628888, -0.5266437653811408, \"Man From Tanganyika\"], [-1.8588385992232646, -2.0408443321077048, \"On and On - Premier Remix\"], [-1.9630660452064361, -2.1299695393379947, \"The Nod Factor\"], [-1.2983741878903048, -2.453986709966445, \"Money Motivated Movements\"], [0.40289676348143966, -1.139209028818521, \"Tolou Badou Ndiaye\"], [0.5218336097414747, 1.1182621670909887, \"Morning Prayer\"], [-0.6892425257312695, 0.48415599268940746, \"Come And Play In The Milky Night\"], [2.198665068952265, 0.6122614866692991, \"Sanningens silverflod - Djungelns Lag\"], [-1.274893261335544, 1.8327156853735822, \"Sun - Live\"], [-1.01292050989299, 1.4682784657651522, \"(tilde)\"], [2.430772866902422, 0.038901754786730414, \"Broken Toys\"], [4.124242395165977, 0.2744250277434286, \"Time On\"], [0.9513712920398175, 0.2989629039661807, \"After Glow\"], [-1.9402532965528436, -0.45875387290343145, \"Memories\"], [-1.7588731865679221, -2.311303998919435, \"Jah Jah Jahovah\"], [-0.8139468521272876, -1.5607709174801654, \"Right On For The Darkness\"], [-0.897809096087185, -0.8670314757446712, \"Mouth - Brad Peeps Remix For Friends\"], [-1.711827586893841, 1.8560268647882279, \"Paperboy - Original\"], [-2.1753627954180463, 0.48046551283697775, \"Afrika\"], [-1.5528961810869608, -1.368865507938578, \"Kelen Kati Leen\"], [-1.9275078880419616, -1.2444419805781384, \"We'll Be Special\"], [-1.3122410124018609, -1.3752954870100904, \"David\"], [0.4605497101329089, -0.8955382670692804, \"Adormeceu\"], [-0.5354270729239912, -1.7978772829524254, \"Remember Me\"], [1.3307095169337892, -0.6394070222083359, \"Music for the Gift: Part 5\"], [1.3808297745414944, -2.0309412623180108, \"Santur Live!: Dream Filterings I\"], [-0.3630730332128237, 0.6003613349491524, \"Webers\"], [-1.9377052499211285, 0.9502620708539167, \"A1 Untitled\"], [-1.3967576359828906, 1.6442586358632352, \"Dem Thing\"], [3.643239370244711, 0.6533609601204999, \"Sweet Earth Flying - Pt. 1\"], [1.464895140105674, 0.24639464381664483, \"Nine Fresian\"], [0.8724092092930075, 0.8393647413106019, \"Gracka\"], [-0.4703038183571501, 1.7416430907661546, \"Everything (Villalobos & Loderbauer: Vilod High Blood Pressure Mix)\"], [-1.6629092060984507, 1.0447074491385364, \"Wot Do U Call It? (Instrumental Igloo)\"], [-1.7458273884393007, -1.9649401797540427, \"Dollar Sign\"], [-1.5793355545426226, 1.1525737806529515, \"Storm - 2013 Re-Master\"], [-2.1042007490295207, 1.6975887435220391, \"Groove La Chord\"], [-2.1886583205155645, -0.19975754437042478, \"Distant Drums\"], [-0.6663059631613493, -1.3014882868002329, \"Is There Any Love?\"], [1.6003213512845174, 0.9635682990330839, \"You Know, You Know\"], [-2.5354659939589244, -0.6052447207156807, \"We Had Enough\"], [-1.3720610650587655, -0.8860407378875363, \"Evil Vibrations\"], [0.13624222908740755, 1.1452709643160868, \"Nobu\"], [2.0252430590350747, -1.7441594091028176, \"Dripsody\"], [2.0172336128495227, 0.13620755543473279, \"Utopia and Visions\"], [-0.6575228259057432, -1.4906004899415903, \"Love Junkee - J Dilla Remix Instrumental\"], [-2.1596004825410695, -1.600195494266539, \"I Like It (I Wanna Be Where You Are)\"], [-1.3062363428130574, -1.8076871094719882, \"People Like Myself\"], [-1.1679492465014405, -0.6261913839102491, \"I Just Died\"], [4.0477649319119795, 0.07320778228843826, \"Refractive Light / Harbinger\"], [0.10209990847890496, 1.3854613285491926, \"Do Not Adjust Your Set\"], [-1.621981228261407, -2.5596742584874543, \"Soap Guillotine\"], [-1.1626400892929418, 0.2783969857223942, \"Tomorrow\"], [0.42535049149820275, 1.28660129884722, \"Poor People Must Work - Carl Craig Remix\"], [-1.208940607539808, 1.885180546058519, \"Danger\"], [-0.601725889543059, -0.15114118715853592, \"Absolutions\"], [-1.9909068649465937, -2.303227862345066, \"Together\"], [-2.249122530166023, -2.858885854665238, \"Gotta Stand for Something Pt. 1\"], [-2.209685288398403, 0.25929597839931384, \"Agboju Logun\"], [-1.7272206539811055, 1.3739860652162645, \"The Sun Can\\u2019t Compare - Long Version\"], [2.0087689578321233, 0.8463297800852098, \"Es war einmal\"], [-2.0896588428669305, 0.632491636793472, \"Kinoshita\"], [2.7373906483758015, 0.1736359811488246, \"Promises Of Fertility\"], [-0.02566519068243157, 2.015595062757464, \"3\"], [3.0850231913765236, -0.3406786008364065, \"Earth's Magnetic Field\"]], \"hoverlabel\": {\"namelength\": 0}, \"hovertemplate\": \"x=%{customdata[0]}<br>y=%{customdata[1]}<br>title=%{customdata[2]}<br>cluster=%{marker.color}\", \"legendgroup\": \"\", \"marker\": {\"color\": [4, 4, 4, 0, 0, 4, 4, 0, 0, 2, 1, 4, 0, 4, 2, 4, 3, 4, 4, 4, 3, 2, 0, 0, 2, 2, 4, 4, 4, 2, 2, 0, 1, 4, 4, 4, 4, 3, 2, 2, 4, 2, 4, 3, 0, 0, 3, 2, 0, 1, 0, 0, 0, 0, 0, 4, 2, 1, 3, 0, 0, 4, 4, 0, 0, 0, 4, 4, 1, 4, 3, 4, 0, 2, 0, 0, 2, 1, 0, 4, 0, 4, 3, 4, 0, 0, 3, 4, 2, 2, 2, 2, 2, 2, 2, 2, 2, 2, 2, 2, 0, 0, 4, 4, 1, 4, 0, 4, 2, 2, 2, 0, 0, 0, 0, 3, 2, 2, 2, 2, 0, 2, 0, 2, 2, 0, 2, 0, 0, 0, 0, 0, 1, 0, 4, 0, 0, 4, 3, 3, 1, 1, 0, 0, 0, 0, 1, 0, 1, 4, 4, 0, 2, 0, 0, 2, 2, 2, 2, 2, 4, 0, 0, 0, 2, 2, 2, 3, 0, 3, 0, 0, 3, 0, 2, 2, 2, 0, 1, 4, 4, 4, 2, 2, 0, 2, 2, 4, 0, 0, 2, 2, 2, 0, 4, 4, 0, 4, 4, 4, 4, 0, 1, 2, 2, 3, 0, 0, 0, 3, 3, 3, 4, 1, 4, 4, 3, 2, 4, 4, 4, 4, 4, 0, 4, 4, 2, 1, 4, 2, 2, 2, 2, 4, 2, 2, 0, 0, 2, 2, 4, 0, 0, 0, 4, 1, 0, 4, 4, 1, 4, 4, 4, 4, 1, 3, 4, 2, 0, 4, 0, 4, 4, 1, 4, 0, 0, 2, 0, 2, 1, 4, 0, 0, 3, 2, 0, 0, 1, 0, 1, 0, 0, 4, 4, 4, 4, 4, 4, 0, 3, 4, 4, 0, 4, 0, 2, 4, 4, 4, 2, 3, 4, 3, 4, 4, 4, 4, 4, 0, 4, 0, 1, 2, 1, 0, 2, 4, 0, 4, 1, 0, 1, 4, 2, 0, 0, 2, 4, 4, 4, 3, 1, 1, 4, 0, 4, 4, 0, 0, 2, 4, 4, 2, 2, 0, 0, 2, 2, 2, 0, 4, 4, 1, 3, 0, 0, 0, 0, 2, 2, 4, 4, 2, 0, 1, 0, 4, 4, 2, 1, 4, 0, 2, 2, 2, 2, 2, 4, 0, 2, 2, 1, 1, 4, 4, 4, 4, 3, 4, 0, 0, 0, 2, 2, 4, 2, 2, 2, 3, 2, 1, 2, 2, 2, 0, 4, 0, 2, 4, 4, 3, 4, 0, 2, 0, 2, 4, 0, 0, 4, 4, 4, 0, 0, 4, 2, 0, 4, 4, 2, 4, 4, 4, 0, 1, 0, 2, 4, 1, 4, 4, 4, 4, 4, 1, 0, 3, 4, 2, 2, 3, 3, 0, 4, 4, 3, 0, 2, 4, 4, 4, 0, 4, 4, 2, 0, 4, 2, 4, 0, 2, 4, 4, 4, 1, 2, 0, 4, 4, 0, 0, 0, 0, 0, 2, 4, 4, 2, 4, 4, 4, 2, 2, 1, 0, 4, 2, 0, 0, 1, 4, 0, 4, 4, 4, 4, 4, 2, 4, 0, 2, 0, 4, 4, 2, 0, 4, 4, 1, 0, 4, 4, 2, 2, 2, 4, 4, 0, 0, 2, 2, 0, 0, 4, 0, 4, 0, 3, 4, 2, 4, 2, 4, 2, 3, 0, 0, 1, 2, 4, 1, 2, 1, 4, 0, 4, 4, 4, 4, 2, 1, 4, 4, 2, 4, 2, 2, 2, 4, 0, 4, 4, 4, 4, 4, 0, 2, 4, 4, 2, 4, 3, 4, 4, 4, 4, 0, 1, 0, 0, 2, 4, 2, 4, 3, 1, 1, 2, 4, 2, 4, 4, 0, 4, 2, 4, 4, 2, 4, 0, 3, 2, 4, 2, 2, 4, 4, 4, 3, 4, 3, 3, 2, 4, 2, 4, 0, 3, 2, 0, 0, 4, 1, 1, 2, 4, 4, 4, 2, 3, 2, 3, 2, 0, 4, 4, 3, 2, 4, 2, 0, 4, 4, 1, 4, 4, 4, 2, 4, 4, 4, 2, 0, 2, 3, 4, 4, 0, 0, 2, 0, 1, 3, 0, 4, 2, 2, 4, 2, 4, 2, 4, 0, 4, 2, 0, 2, 2, 2, 4, 4, 0, 2, 3, 0, 4, 4, 2, 2, 4, 4, 4, 4, 3, 2, 4, 2, 2, 4, 1, 1, 0, 0, 4, 4, 4, 2, 2, 2, 0, 2, 4, 4, 2, 0, 2, 4, 0, 2, 0, 4, 4, 2, 2, 4, 0, 4, 2, 2, 0, 2, 4, 4, 2, 0, 0, 2, 4, 4, 4, 0, 0, 4, 0, 1, 1, 2, 2, 1, 3, 3, 4, 0, 4, 3, 2, 3, 4, 4, 1, 0, 2, 2, 2, 2, 2, 2, 2, 0, 4, 4, 4, 0, 0, 1, 0, 0, 2, 4, 2, 4, 2, 2, 2, 1, 4, 3, 0, 0, 0, 0, 3, 1, 1, 4, 4, 0, 0, 0, 2, 2, 4, 1, 4, 2, 2, 0, 0, 2, 4, 4, 2, 1, 3, 4, 4, 0, 2, 2, 0, 0, 0, 3, 4, 2, 0, 4, 4, 0, 4, 2, 4, 2, 4, 4, 4, 2, 1, 1, 2, 4, 2, 4, 2, 4, 4, 0, 4, 4, 4, 0, 4, 0, 2, 2, 0, 0, 2, 1, 2, 4, 2, 1, 4, 0, 4, 3, 1, 0, 2, 4, 2, 4, 3, 2, 4, 3, 4, 3, 4, 2, 1, 0, 3, 1, 4, 4, 2, 4, 2, 2, 0, 0, 0, 0, 2, 2, 4, 4, 4, 4, 3, 4, 4, 4, 0, 0, 2, 4, 4, 4, 2, 1, 2, 0, 4, 2, 2, 0, 0, 4, 2, 0, 4, 4, 4, 4, 2, 1, 2, 2, 0, 0, 4, 0, 0, 2, 2, 2, 0, 4, 4, 0, 3, 1, 4, 4, 2, 2, 2, 1, 2, 4, 4, 4, 3, 0, 4, 2, 2, 2, 0, 0, 4, 4, 4, 2, 0, 2, 1, 2, 0, 2, 2, 4, 2, 4, 4, 2, 0, 4, 4, 4, 0, 4, 4, 3, 4, 4, 4, 1, 0, 2, 2, 2, 2, 2, 2, 4, 4, 2, 4, 3, 0, 0, 2, 2, 4, 0, 0, 0, 2, 2, 1, 0, 0, 2, 2, 4, 2, 2, 2, 2, 1, 0, 4, 4, 0, 0, 2, 2, 2, 4, 4, 2, 3, 4, 2, 1, 4, 2, 4, 1, 2, 2, 4, 0, 2, 2, 4, 3, 0, 4, 2, 4, 4, 2, 2, 2, 4, 0, 0, 2, 2, 2, 0, 2, 4, 2, 4, 3, 2, 2, 4, 0, 0, 0, 0, 2, 2, 2, 4, 2, 4, 4, 2, 2, 2, 2, 4, 4, 2, 4, 2, 4, 2, 2, 0, 4, 4, 3, 4, 4, 4, 0, 3, 0, 0, 0, 3, 4, 2, 4, 4, 4, 0, 4, 2, 4, 1, 4, 0, 4, 4, 0, 2, 2, 2, 2, 2, 2, 0, 4, 1, 4, 4, 4, 2, 2, 4, 2, 4, 4, 2, 4, 2, 4, 1, 0, 2, 2, 4, 2, 0, 4, 3, 2, 1, 2, 0, 3, 2, 2, 3, 2, 2, 1, 4, 2, 0, 1, 1, 2, 1, 2, 0, 4, 4, 2, 2, 2, 1, 4, 3, 4, 2, 2, 1, 2, 4, 4, 4, 4, 0, 0, 2, 2, 1, 1, 4, 4, 4, 2, 4, 2, 4, 4, 2, 4, 4, 2, 4, 2, 1, 2, 1, 0, 0, 0, 0, 4, 4, 1, 4, 1, 2, 4, 4, 4, 0, 1, 0, 4, 4, 4, 4, 2, 2, 2, 0, 4, 4, 4, 4, 4, 3, 2, 2, 4, 3, 4, 3, 4, 4, 2, 2, 0, 1, 4, 2, 4, 4, 2, 0, 4, 0, 0, 4, 2, 2, 4, 4, 4, 4, 2, 2, 4, 4, 1, 1, 2, 2, 4, 4, 3, 3, 2, 0, 0, 4, 4, 4, 2, 0, 2, 4, 0, 4, 0, 2, 2, 0, 2, 2, 4, 2, 2, 2, 4, 0, 2, 0, 0, 0, 2, 2, 0, 0, 3, 2, 2, 2, 2, 0, 0, 4, 2, 2, 2, 2, 4, 2, 2, 2, 2, 2, 2, 0, 4, 0, 0, 0, 2, 0, 0, 0, 3, 1, 2, 2, 0, 0, 0, 3, 4, 2, 2, 0, 2, 0, 1, 1, 3, 0, 0, 0, 0, 2, 0, 2, 1, 2, 2, 1, 4, 0, 0, 2, 2, 4, 2, 4, 1, 2, 0, 0, 2, 2, 4, 0, 4, 4, 0, 0, 2, 0, 0, 1, 0, 0, 0, 3, 0, 4, 4, 2, 3, 0, 0, 0, 0, 0, 2, 2, 4, 2, 0, 4, 4, 4, 1, 2, 2, 0, 1, 0, 3, 3, 3, 2, 2, 1, 2, 4, 4, 4, 2, 3, 2, 1, 4, 4, 4, 2, 0, 4, 0, 3, 0, 4, 4, 4, 4, 0, 2, 4, 2, 1, 4, 4, 4, 1, 2, 4, 4, 0, 4, 0, 0, 4, 4, 2, 1, 2, 2, 2, 0, 1, 0, 4, 0, 0, 2, 0, 0, 0, 0, 2, 2, 2, 4, 4, 0, 1, 2, 2, 2, 2, 2, 3, 2, 0, 0, 1, 0, 0, 2, 4, 2, 4, 4, 4, 4, 4, 0, 0, 0, 2, 2, 2, 4, 4, 2, 4, 0, 4, 2, 1, 0, 0, 2, 2, 0, 4, 0, 2, 4, 1, 4, 0, 2, 2, 2, 3, 4, 4, 4, 0, 1, 0, 4, 0, 4, 4, 4, 2, 2, 2, 0, 1, 0, 3, 0, 1, 2, 2, 0, 3, 4, 4, 4, 0, 3, 0, 2, 2, 2, 4, 4, 4, 4, 4, 4, 4, 0, 0, 2, 4, 4, 4, 2, 1, 1, 2, 2, 0, 0, 1, 1, 0, 4, 3, 0, 0, 3, 3, 0, 4, 0, 4, 4, 0, 4, 0, 1, 3, 0, 3, 3, 2, 0, 3, 3, 3, 4, 0, 0, 4, 0, 2, 0, 0, 2, 4, 4, 4, 4, 0, 2, 0, 0, 2, 4, 0, 1, 4, 4, 2, 3, 3, 3, 1, 4, 4, 2, 4, 4, 2, 2, 2, 0, 3, 0, 3, 4, 4, 0, 0, 0, 0, 1, 2, 3, 4, 4, 4, 2, 2, 2, 4, 4, 3, 4, 4, 0, 0, 2, 0, 0, 4, 2, 2, 3, 0, 0, 0, 2, 4, 3, 0, 4, 4, 0, 3, 1, 0, 4, 2, 4, 2, 4, 2], \"coloraxis\": \"coloraxis\", \"symbol\": \"circle\"}, \"mode\": \"markers\", \"name\": \"\", \"showlegend\": false, \"type\": \"scattergl\", \"x\": [-1.3803722427113227, -0.8437325254821526, -0.6591322335898179, -1.3716539302399968, -1.6717187824420547, 0.3118657596953631, -1.642812932459673, -1.6093293664076864, -0.5185425340368923, 2.416148880059473, -0.2635642227980164, -1.5347521809660845, -1.0673166207453402, -1.74456950827147, 3.1678351816771047, -1.4068744710338803, -3.2542718048316157, -0.241896563808411, -0.4709049714456855, -0.07602105786747004, -1.5155929220311775, 0.8211881438030605, -0.09755770141652613, 0.9896264910230035, 1.1468638117389354, 3.077341944818782, 0.1448585661641789, -2.518646311291299, -2.046797485345348, 0.6837487061535901, 1.8099315357240697, 0.7640465288217225, -2.648377411100191, -1.5554409913446243, -1.5684542150112588, -0.626875462141682, -1.0999133616448686, 2.9685844785770845, 2.1789636700703077, 3.4674715360422828, -1.0738734399633132, 2.5376057351032393, -0.9552755073559446, -1.4399580072718912, -1.5502042795270055, -1.3179278889707025, -1.8357790673191827, 2.4952964928155246, -0.5514201817261352, -1.237231271754979, -1.9480210884483924, -1.304206317391268, -0.0674509464590999, -1.6194472970142577, -1.5341100090195963, 0.5395194848049739, 1.1590062389554336, -2.7807162644636825, -1.7746508646117454, -1.7796752935650535, -1.5455878546678952, 0.46097104281591356, -2.678651317595133, -1.2059415477046191, -1.2945709527748885, -1.7540518979961444, -0.3188327966231377, -0.11661473683007285, -2.1138426229101106, -0.8503699403563152, -1.60754527148742, -1.5868403558876067, 0.28399488416922253, 1.29588719658041, 0.11898328775619009, -0.3697552283368303, 0.9249455914027106, 0.9367486314767071, -0.807781116289154, 0.4810705339940668, -0.9026925741596579, -0.1331046085924401, -2.5267787879645405, -1.9641788705408196, -2.427018762521671, -1.5413791932972538, -0.9049605724738933, 0.44517245110508313, 2.03478249317431, 3.252361769150604, 3.333891002881641, 4.08394696038651, 3.4460512257970466, 2.4148472086980366, 2.734391710977885, 3.377807514480965, 3.717171797870245, 3.9887361730111714, 1.542426480142375, 2.0918708371534485, -0.025243314680727755, -2.470526795667177, 0.18789009839087908, -1.4538617942524106, -1.8828374552191667, -1.187246171844902, -0.38099491167514254, -2.2117642569353673, 1.174152491842541, 2.8427642321534763, 1.2763910291980152, -0.28767440737465494, -1.1318075069154925, 0.42851829416403825, -2.2419113405081896, -1.1497017039344248, 2.6165187777851555, 1.4851491563680943, 0.9698638483736677, 2.3940532505193475, -1.1432187214768628, 3.6459364804196324, -0.4261537753257849, 1.8057471750567091, 1.1676272905316207, 0.023716826755633306, 2.294152704877457, 0.49653459121172044, -0.5432558005700154, -2.171576330686092, -1.9522057247613522, -1.1141793144983199, -0.6897014682475768, -2.9544328911523916, -1.1201062624766325, -1.2136638778116156, -0.5621867427190838, -2.0131809847018802, -2.510292776280318, -1.2360608918548153, 0.4396038843006118, 0.03867687203581932, -0.07542803628071704, -0.9752036618957101, -0.858425467485013, -2.035997376227612, -0.7485993089432649, -0.8203195382849492, -1.3080461015189193, -0.36768614523902426, -0.7675034626827902, -0.9850342787934437, 1.7860453459225643, -1.2488746342526342, -1.2643840139648599, 0.9768914656448595, 3.4674715360422828, 1.7849277190240365, 0.8659073088775823, 2.032148275468468, 0.6560132511857806, -0.7893164120270212, -0.0711975230214135, 0.22457113765836295, 0.7137199888631773, 3.626301758129785, 1.2728220838109536, -2.249947869290746, -1.42760544059864, -1.6819379099465637, -0.8890672623392117, -1.8521419639893435, -1.2759328917057322, -0.011524216276053772, 2.3314867367871828, 1.9330284187613145, 1.9976990653574294, -1.6915518568400776, -1.7155041980519035, -1.1263894433498212, -1.4524544796239829, -0.9885536268727246, 3.4067462312441648, 0.7806290414064806, -1.5807019700771519, 1.399509248878885, 0.5450522342136986, -0.07719659381066354, -0.5954188983536499, 0.40082249504744577, 3.5890427291994955, 4.34359561604346, 3.517320788564146, -0.745818350648577, -0.6535238326350457, -2.6839480124106108, -2.7026707560967576, -0.9096555912881239, -1.6170453930550375, -1.0328076450664612, -1.0170386197455303, -1.9540068145732579, -1.0156237707512612, 2.3342437885006255, 4.2918396035274045, -1.583661942608482, 0.5718566950039151, -0.4181735032533208, -0.9272503862446747, -2.4200584742364772, -2.0691176030005387, -2.091204088552367, -0.41081236501834295, -0.5160673582223797, -1.3277359677097174, -1.2322176915504124, -1.6472078859360115, 1.042106328481504, -1.4324404139509588, -1.7621205185835385, -2.0506085212471885, -1.46040114508278, -0.600314577603429, -2.0137450590584853, -1.8417721349335263, -1.6332641618159947, 1.5513528341413059, 1.1722963958262276, -1.0753372520551412, 1.5709592429094104, 2.935925170163138, 3.548844849457885, 3.3095793434232594, -1.756745517600937, 3.413200735659525, 2.8289286704550562, -0.49666949702513613, 0.010314399062793592, 1.5049102021499365, 1.1179547772786962, -1.544313778703717, -0.6485002728907187, -1.5187833270057483, -0.045074517675713736, -0.3089309514749766, -1.5498596615316378, -0.301974659407784, -1.8790795601822112, -1.3427863822742594, -0.013598459799472442, -1.1274109149586928, -1.2341382136471784, 0.1506568303742106, -1.3645110335277668, -0.4864474784848661, -2.232389794158366, -0.3167580816857564, 0.5681466051350752, -0.37586899330356827, -1.500682918589602, 0.2789632574899131, 0.6573211706620157, -0.6554636506174044, -2.2821468621775765, 0.5633131732423531, -0.1861895204603012, -0.311388500738342, 3.353379214756333, -2.176977813668808, 2.250768676612134, -0.21243346787515607, -1.8928750218756694, -2.5788417287354077, -1.322322904463983, -1.7352849299272823, 2.340376658678726, -0.7037605317577235, -0.7586737666021831, -0.7831167519097396, -0.933770900958928, 0.9772359124453173, 0.9795130858092769, 0.00891445212602962, -2.257065056335792, -2.0665786663662873, -1.0629834318531797, -1.3558427745660737, -2.025923641624905, -1.5695956705910556, -1.489286366463904, -1.9890869601812509, 0.05105848080740106, -1.8256882270908692, -1.592199169827436, 0.6352620948169655, -0.7393084308260752, 2.9979260881737493, -0.4876107004504628, -0.6476881807061181, -0.9389306720791682, 1.3581146027325826, -2.5693757832401682, -2.042655634744824, -2.2883948517099664, -2.097704991792986, -1.8911175106586362, -1.5253448744265101, -1.1405239051221931, -1.0359413892436564, -1.6522953003240601, -0.9075152768123079, 0.3057911799004352, -0.6560441222612137, 1.6088411278402328, -0.2752305004368357, -0.6527797597054138, 2.1424284053224616, 0.16001200549158784, -0.032326722808990176, -0.38262246779855036, 0.24003498637317938, -0.12260860759506834, -0.8604728845759874, -0.16808644716402554, 2.9598167489949057, -1.6167883493114232, -0.7703581147099756, 0.8319421261502489, 0.1542022592116687, -0.10764937985545961, -1.1993579727910366, -1.744822695959767, -0.6040968570323169, -1.6410355560361556, -0.6491975583129808, -1.719088106258377, -1.1940106466283757, -2.1651163235562194, -1.7959094519221266, -2.632344052448245, 2.3439369841290425, -0.6507000199524539, -0.6856898923860967, 1.9783289830939879, 3.275762875562831, 1.1592226974369315, -0.20424280527769814, 1.5373554968349867, 4.6005574355392165, 1.8016347085960733, -1.372939260397948, -1.9681218587985936, -1.5342502822397408, -0.5483706808592307, -2.9314341209615096, -1.5777810437422153, -0.5776271705369775, -1.3389638586317674, -0.048980715602474176, 3.508025037059787, 2.633082687629291, -1.6938940636221425, -1.3760274036732083, 0.957407315405343, -1.5759770394314743, -0.5111173923863408, 0.3724977430499946, -0.6013452057302102, -1.1883347666358215, 3.6580075191273993, -2.515208892726868, -1.1469933843821958, 0.6909325649208622, 1.4877846233697316, 0.8551352600711255, 0.9272584833382839, 4.406229996063465, 3.7447784205253005, -0.1211669440193923, -0.8720682798666334, 1.660181677026556, 2.2078576697877907, 0.4305394873180748, -0.8891422276212458, 0.743158099359481, -2.0797398963855986, -1.5076404891719448, 0.02764029107363975, -0.6041795348715772, -1.4465893683294253, -2.361946164878356, -1.234195362976526, -1.4237751728524304, 1.59091543352395, 1.757946035188075, -1.3198988576672956, 2.467583111956277, 1.4337473243709105, 1.8084086611077423, -0.6041795348715772, 2.882851972739996, 1.2749390266763017, 2.9687641426458877, 2.3483057895246993, 0.992227433897707, -1.5602540733137302, -1.7367589898688038, -1.0315201231811022, 1.9310357836705756, -0.31378002046883674, -1.0972185141733848, 1.506656431713303, 0.259005417632778, -0.4721658671332641, 1.4851089200065914, -0.5287297773457911, 1.3462537411287594, -2.4018927560617436, -2.184297104308762, -2.321823656110947, -0.7553662223249379, -0.27248502521272144, -1.0133681228314295, 0.21894936516489957, -1.5403560118897515, -2.047430434922208, 2.7380283633867117, -2.4005975034578895, -0.9560351843110083, -1.5686468581730058, 5.139186779173553, -1.5015579898780806, -0.8203015915997504, -1.2424423590696227, -1.0195473195755502, -0.23901455667023047, -1.2839603744817158, 1.826931244035752, -0.9090549408437709, -0.06077290834496985, -1.0595367076321547, -1.467707322739728, -0.9118657098266743, -1.542054983303844, 0.6127267107019492, -0.2739550007667955, -0.3794332846913306, -0.0885309095628056, 0.030793476051202324, 3.456386963571022, 3.4507009499726515, -0.3728677864124184, -2.171930407555661, -1.2730323669184904, -1.5740772509411043, -0.702233416883447, 1.8156328417402816, -0.6984347099564365, 2.5903339554229134, -0.7834690561594476, -1.868878955669195, -0.12842770125283579, 0.09387767295587106, -1.264295155816387, -0.6001713654699367, 1.1908594662650285, -0.23386700761820126, -1.56825480440866, 3.6920542928667417, -0.12662648108049265, -1.087692764653274, 1.041564959323564, -0.29222912388042044, -1.8846418833315532, -0.9142875232015371, 1.619037447158188, 2.1741954599945252, -0.054884175660216125, -0.18746687644315896, -1.50922572461843, -1.5863583505542318, -0.1614253749896887, -1.503045790221177, -1.0363330564003306, 0.41871943302089776, 2.2084169671349203, -1.3647956353114452, -0.6195103692883612, 0.890493005349316, -1.5847476006095087, -2.032426798640532, -0.6305457775315062, 0.7395180186038696, 2.3363533563592456, 0.7421934086347556, -0.005191887467596554, -1.191858731057672, 2.0058272299531237, 0.7324243118199427, -1.8090085240965692, -1.2966564358684054, -0.7003710672867955, -1.8945354813074373, -1.1856606361509765, -0.6593951001454612, 0.43978636205760135, -0.6661391103779495, -0.35426367317122875, 1.4491284121984473, -1.1791973877796753, -1.3364907581849765, 3.3840176029245073, -2.1723336896940144, -1.905149352533666, -2.163644304602707, 3.7753123164759694, 0.5037540779463983, -0.9055451895074312, -0.4566798397485363, 0.20063139531897142, -2.400987979337742, -1.509324659437957, -0.9716230933107877, 3.664805075931586, 1.9717387746918036, 1.9544239769149128, -0.5351430570468015, -1.5667139241646006, -1.7047460990821226, -0.6430931589969646, 1.9727427752778293, 1.2480555131366615, 0.01362234373216718, -1.6911876569409223, 0.5265470965566439, -2.360567603955905, -2.0218808011619553, -1.5143012723667875, -1.64910643991872, -0.22856938772915553, 2.0470025182323943, -0.8264866283746432, 0.7501461465909492, -1.6103598150624172, 2.069336407714716, -1.3526210281941198, 0.7963193933305197, -0.14354024182473865, 0.11055580025904328, 1.0871572913533765, -2.9861291678217112, -2.334014348805095, 2.828012728122188, -0.38553383776655664, -0.8264866283746432, -0.387882694548601, -1.5790237183496458, -0.43556574264101566, -1.216424589352174, -1.879566615089987, 1.0703220335868462, 1.5053436620107794, -0.5119929201859812, -1.454159551263669, 2.6271523184747263, 0.462042313451196, 2.996747638587738, 2.2257850322239516, 2.745591857300005, -0.7456929277122563, 0.04366691657955467, -0.28642100207417015, -0.8623768388347142, -2.4453990143059143, -2.0638234455450597, -1.6728556800265768, -0.2635083940385311, 1.653870829228147, -1.8910042685470685, -1.1594509525468528, 4.055570846151581, -1.9585815510358306, -1.5215807401410317, -2.0167066990050593, -1.6455669330178286, -0.38462300164191665, -0.6869681529632874, 0.15844592192207713, -0.3249845245617893, -1.9196768633443928, -2.20290518751902, 2.888807825741484, -0.9819093430182492, 3.4131481179609433, -1.5017986956556701, -1.6581454774140691, 0.6084060338313548, -2.336737886096056, 3.497946986047241, -1.2516681348943781, 1.9166143699727465, -0.7625288763380348, -0.6342158031024033, -1.5671569426567886, -2.24768634250925, 2.485275887887895, 0.37793683344827955, -1.1631717452998882, 1.5223738982527149, -1.5577724077741304, -0.8944190188447468, -0.0172109499071014, 1.8969560389995495, 0.2672486042973682, 2.522005920973511, 3.0098973392978885, -1.8874282022078357, -1.5105054204345363, -1.4363327186698631, 2.1125925075949743, -1.0999133616448686, 1.0648463773531547, 1.4553078427956474, 3.7647468157898385, -1.0999133616448686, 1.7479703760790608, -1.1682056380392027, -2.116898051349671, 0.4180586805259859, 4.65016443928896, -0.11615576696817453, -1.5448652262074074, -1.361044675119568, 0.6977742873057509, 0.3861232970975381, 1.6310197449330934, -1.0878239836752168, -2.5308148084523703, -0.26254912989055856, 3.609825835647044, 0.3641241535500309, 0.5258576510410293, -1.4915604478308175, 1.2077176883894223, -0.3745566374520168, -0.7447111237188561, -1.2840861625733662, 1.3724397896307723, 1.630056058679672, -0.34376378805344915, 1.079446512665686, -0.6509316470331543, 0.3780727980383929, -1.8837753458951987, -2.2784819509792347, -1.375375956084276, -1.1472663522688977, -1.1069036766602331, 1.7408739993366633, -1.5457132552987831, -1.40368743967578, -1.2400441568484222, 3.17630613856676, -0.9905049581224163, 2.685087252540116, -1.0896065489385403, -1.2499266865096819, -1.8516007565835269, -1.8829288295031248, -2.400827256962082, 3.248494064676069, -1.7380453010572254, 0.5903773217600614, -1.5308829401310744, -1.1539383946509605, -2.3010041332424187, 1.4184612954069022, 4.254104105679292, -2.110826621856375, 1.023825997760945, -1.7453785766999863, 1.123977683908199, -0.1494910269448057, -2.3960042166615336, -1.5155127274994742, 4.698334381741984, -0.3836329798044387, 3.2666514352239076, 5.55096576498262, 4.453590680319883, 0.10922881246811096, -1.335386494184611, -1.5181973229804206, 1.2174894734277246, 1.3357509707053934, -1.1420411124528536, -0.9566530181039203, -0.9066911614217605, 3.52547889696268, 2.3976710220389585, -0.4277898973542898, -1.4790265519675367, 0.5911348027483588, -1.165367785554691, -2.254620178491269, 2.4976849206176346, 0.4300012404315242, 3.2654890211067773, 3.055262931707167, -1.6112443307305828, -1.7658667854235357, -0.984392047813118, -0.8699799248705893, -0.8735502337397482, -1.6814209135113407, -1.5001614233892213, -0.9496348079481899, 1.7349177135743634, 3.881758475296776, 1.2184435808903027, -1.968790479138643, 3.672680561260908, -0.8282142709612318, 0.4750207194329403, 1.603508483328102, -0.49478962608793525, 2.266842839622931, -0.8726226361806697, -1.815162064005012, 2.5057347710420492, 0.45934662567819035, -2.580165332342904, -1.4354814707327404, 3.1356611964308976, 2.457725844710841, 0.6159954249669608, -0.3024638227583036, -2.4458898641292413, 2.963146084138259, 2.993777954833374, -1.2353142477492791, 2.1907614896399803, 0.12028695450107003, 0.604078240138956, 3.962149615914003, -1.8497657249581803, 0.7601385114204424, 1.8441296751563219, 0.30887098099891724, -1.020928472646217, -1.792357108676047, 0.6434226545001127, 0.711651132852699, -0.8115152624177089, -1.682241142246642, -0.7825544201444731, 0.030683639455342027, 1.7956482625232428, 2.1150141647519134, 0.41112019381841725, -2.054391320472128, -0.005963375610982438, -1.6243613813881839, -1.2224564422168003, -0.9047108088359503, -0.7232639058537692, 3.264810369772408, -0.8666609913359472, -0.5628300399983294, -2.0475077884745305, -2.53295579497452, 0.19351183929192803, 2.0549925709294907, 3.8973424709336584, 1.6262732883023991, 1.5466789137993602, 1.9520736825951717, 2.9152270063301073, 2.0215206612032217, -1.297409053500502, -1.5167552385480374, -1.3878859408537043, -1.664524842423047, -1.2748084716532635, 0.5510505231456153, 3.6373199298669787, -1.1390535130007917, -1.2204325832478857, 3.607117206473731, -1.2155709345269505, 3.033951720316828, -0.5801732907498176, 3.35881765687067, 2.62061557567604, 1.3333494880708034, -0.5242378173857494, -1.6653482854688628, -0.6070029350672225, -0.7214733057262533, -0.8263964436115718, -1.8068517859371174, -0.017891681054805944, -0.4755181248651077, -0.10958106646267514, -2.1367172203824754, -0.273436479586015, 0.2388976456454543, -0.6146843297222788, -2.5870102934972583, 0.3031428486880154, 3.4280841792151775, 1.1548945588184887, -1.7724075301797462, -0.2555463417891502, -0.4350869811052985, 2.9157480569049294, 1.1099829238881505, -1.6553676269008664, -2.0821504256871677, 1.4791284007300063, -2.3673301612018465, -1.3919590802489237, 1.9694032094377187, -0.6560441222612137, -2.752875960305858, -1.714017009249628, -1.994626512443771, -1.2121897290520283, 1.818254171227288, 2.4659119517582355, -0.4564583641628849, -2.0591909534459996, -1.5108667765220314, -2.8303736984398267, -2.262033570860759, 1.2946038906388881, 0.7656454694359113, -1.4270092641751566, -1.7316241232790173, -2.046742327941823, -0.9271297013020263, 1.9439462877808613, 0.057250159247851956, 2.895611573913595, -0.6102395069699754, -1.50879352147842, -0.8590426195598955, 1.143875201235122, -1.4960890354935372, 0.19808583926166368, 1.9642619834321808, -1.7589428499518467, 3.782925458257491, -1.1089094073428594, 2.345892982505761, -0.4874323726792689, -0.011114336711748508, -1.1510092555300953, -1.3852102976509861, -0.23111942416865186, -2.50024092126212, -0.7474807096579573, -1.565123523141997, -0.4125391576076249, 2.554617406765738, 2.9870859327200954, -0.5484412389505913, -1.0099428884727397, 1.9926210647241338, -0.376009079959517, 1.1955100156086274, -0.8805298337098414, 1.7186238549623167, 1.8743058637395558, -1.1932117994402782, 0.5622280741101932, 0.5080261938865854, -0.8235810730255808, 1.8319226706788718, -1.2293222800722952, 0.6607081629654861, -1.0260716302395336, 2.629572910531118, 0.5462099066720729, -1.558300752276521, 1.6880913519326983, -0.1745395702276729, 1.7542600833377162, -0.45696645816862863, -0.0651928184474748, 0.16862437580913264, 1.8945597676030002, -1.617885812237287, -2.1458205975853866, -1.8280647352336665, -0.4650926879013154, -1.788893689779773, -0.5859012543267499, 1.0652036004726717, -0.7447111237188561, 2.2220470727326243, 2.5516163094153046, -1.0517693535392865, -1.7916347972932642, -2.2324418146331197, -1.5185359464766186, 3.6747812167234764, 2.1788942903478836, -1.3887439155841512, -0.7179448045257163, -1.4378238141924315, -0.25952756097534907, -1.118075545934343, -0.40557765570202653, 0.2534165115924313, 0.4372275974362217, 0.01524026552442458, -1.7760591515193775, 1.9180405795182176, -1.0305260839163564, -1.4352014114881149, -1.0861991588546855, 0.8946360017160265, 1.8198887227371827, 4.1377378092963975, -1.3982254570908725, -0.847632357598888, 3.481767939973958, 1.8799209182352785, 0.97585543949511, 0.2848222122991237, 0.7443175683958978, 0.5793746324588528, 0.5135697095490146, -1.1920464683581267, -0.4715421181747888, -1.9119934162049006, 0.025426682584884792, 3.529040802990828, -1.1263646816936979, 2.1872566851297512, 1.965241019410094, -2.1986404353526816, -0.8890672623392117, -0.5360737183635165, -0.5414222975903292, 0.6319887732698771, 3.7090573187505926, 2.1921423225389227, 1.0718920112049513, -0.3924898418435812, 0.7065459591597172, 0.7192825361857428, 0.8500257661017481, -0.9430464566721032, -1.4953153559624992, -1.0913882650837834, -1.5707612595004063, 0.7269701782355681, 1.612535449261751, 1.4368395361232051, 0.02925197620389089, 1.007932956407081, -1.2955807074293821, -0.7004450463471681, -1.0301309628386932, -1.3118925297667865, -0.37628885864489714, -0.4404776835018739, 3.0907289994882814, 1.7360405517233621, 1.1496546020297118, -0.011524216276053772, -1.3440395811958161, 0.29747786817156446, 0.08194992438342187, -0.9192204963024014, 2.7655850463748233, -1.3316975448603265, 1.7840173586796888, 1.1073728610094964, 1.1449070869365103, -0.5269783432563637, 1.3772097662037976, 2.653813558205796, -0.37779240114349955, 1.1430529076172955, -1.3448575932549336, -0.627738768590263, 2.1146661665108675, -0.06731787969017315, -0.7452244356991972, -0.8354185901794531, 0.7221578962664643, -2.2370276373221984, -1.6742956754201044, -0.7258050699281428, -0.4530663036966717, -0.060420877398225985, 0.4782507205147698, -1.5415261480697549, -0.6208844753671443, -0.5333335991548714, 1.2437228869651362, 3.727489603307634, 2.7563323369201003, 1.192955032768728, 3.8757208239526197, 2.923103714738258, -1.981408090010487, -0.8491707967317266, 0.8682503326585271, -1.9192469685003888, -1.4244518866408489, 0.1640676405359499, -1.3350295183788674, 1.79561056479804, 3.590847565440664, -0.32262593299179265, 0.02515736677902465, -1.2079637179850244, 0.563676509840592, 4.365971961074922, 2.300542327806057, -0.9997151399002228, 1.1892392118226194, 0.40512135561569335, 2.7197883475696063, 3.8410512386651794, 0.12119563784151673, 1.0500972383890141, 2.4282328605786785, 2.937146088701236, 2.5767029432189408, 0.13856908905668727, -0.49642741018516096, -1.7043460937243469, -0.9400774685222048, -0.034265027052816144, -1.4386208614945002, 1.005664898957028, 2.1450668943812268, 0.5258576510410293, -1.1928495108683297, -0.18984327126998207, 1.677336348008959, 0.3641241535500309, 0.026252221609710222, 5.080678838616875, 0.2534348296486159, -0.20874323664824151, 2.598046526403228, -0.9922056963081987, 1.0860346498725832, 3.688394678996329, 1.5546253888889348, -0.6182086380060992, -1.7229665907870255, 1.4132630839881344, 0.8549281895332191, 0.4690466709797613, 0.021568531401851717, -0.9750002487540685, -0.21330149328490564, 3.1108628386277135, -2.0254029325317346, -1.1200888291230953, 1.505553851686586, 3.2208048219166034, 3.2777510789350903, -0.9795199879947274, 0.4161312575563671, -0.8096448722243781, 1.3811963182858544, 2.072350927430457, 3.870879349680146, 0.018296395096440557, 1.8939338453315442, -0.6102573006370207, 4.6683092674026705, -0.20437419574530766, 0.3641241535500309, 3.2049792729483, 1.9379227556470462, -1.8094716921197918, -0.9190357868928959, -1.3574373467523932, -1.047679600168349, -2.435546220997489, 3.4347333735184873, 2.135327303785985, 1.7049917654479054, 0.0011923854578169417, 3.635301445646342, -0.13720174590841264, -1.1044827703191595, 1.4191601285026036, 1.208674946161323, 2.4703754669748017, 2.805838607349067, -0.7159344306660097, -2.256279927176594, 2.263602212015661, -0.5166192233459208, 0.5572846543701312, -1.643909463900466, 2.371942636689671, 1.196189341162335, -1.0497480644136552, -0.6093351997025501, -0.4595583641283213, -1.490147859246529, -1.4330036655495215, -1.685722591710619, -2.5236264837871456, -1.6798597226276422, -1.6900858918867483, 0.4823186325829486, -0.676603389201868, -1.722302884242427, 0.1375433343774281, 0.09139715266564402, 1.7997275094632559, -0.6093351997025501, -0.5166192233459208, -0.9046037444418022, -0.3745566374520168, -0.7002159551811878, 1.0268913476581982, -0.6215688872548686, -0.7318626546171523, -1.3035600953019082, -0.7515418295137807, -1.9320623072699976, -1.32113650562534, -0.6527797597054138, 1.5828211902983795, 0.8032356007197863, 1.9419639754728508, 4.051508280986331, 1.2735090993153244, 1.5499180117384603, -0.13177417105134645, -1.32113650562534, -1.6441293371777164, -1.9070858146959848, -0.7735588618854338, -0.7142174585217776, 2.242630233725264, 1.2555060515255607, -0.3747604395617794, 2.072424139201385, -0.5166192233459208, 0.058456131428454586, 0.9032247436448646, -1.7136419431536203, 2.911543726308642, -0.762296548067794, 1.3257337484522038, -1.0804577086303162, 1.8238590608117473, 1.8281528335688584, -1.1340005073045036, 2.9838079897177967, -1.1541999748723843, -0.28474582951764876, -1.2581630427263901, 0.7966042444259809, 0.14508996499301352, 1.746411900117215, 0.6300281995308866, 1.8309109087908175, 3.0342046193213292, 0.782872038442166, 0.13845056435111727, 1.3410070696295964, 1.9720308399020168, 0.340996423533138, 0.6399910124415092, 1.3775257879869014, -0.13177417105134645, 0.39997230143948787, 1.5711966570888145, 2.9812273665665843, -0.4811811267266643, 1.6291787075399187, -1.8756025538911612, -0.1287932601520655, -1.0301874250143026, 3.4611075279905874, 1.715164161077728, 3.5448513019236563, 0.142527539769463, -0.10264518094806, -0.11760759851877212, -1.9317918035708197, 1.8107050524955102, 2.2999138165026647, 0.14715520451493527, 1.096225151325931, -0.9083128107254607, -1.0382239912502194, -0.852135976054664, -2.265297970196083, -1.9732187616919457, -0.9722768521903884, 0.7587124926063797, 3.1387610539804593, 0.5832322056953559, -1.6426088674111394, -1.2085002266288567, 0.06265886297981385, -1.3741271865290416, 1.1890809746329103, -1.1814545180388987, 3.294331020144581, -0.21549983086695323, -0.580143606290686, 0.909058249382482, -0.19227017743142893, -1.0900156596425228, 3.2269255112116983, -0.6578582314906002, 1.9568897766774078, 1.8211587737842667, 1.456282053367532, -0.8442319040375477, -1.5183246674345312, -1.0531408184536744, -1.1522959227362242, -1.7015710546329712, -1.5812502287018997, 0.43175288479810275, -0.8044857148843765, 0.5452886188772021, -0.8247129010037969, 2.385329055515717, -0.8089624787587835, -0.539507812077538, -0.4088951320441192, -0.3229687388804911, -0.7590492134749843, -0.9484998652587415, -0.4404187814134143, 0.05213718893635035, -1.3815770031719843, -0.43923787007202053, 2.4095099758032594, 1.4089548544365282, 1.0784551633161084, -1.3419854642798739, -2.4528625990843627, -2.5114350365463163, -0.6857027428130333, -0.7162330241990142, 0.5898314502767613, -2.3369070330231683, 1.456465045892131, 1.7919461946278736, 0.4080824086639266, -1.6327182526525519, -1.5931910865577326, -1.955633697423299, -2.0572343165447933, 0.46088343605507787, 1.889847574125592, 1.2239726977448955, -0.7475049647088882, -0.8572565619992343, -1.5303424213202925, 0.8430141418040995, -1.5117551146532342, -2.1362961672466807, 1.1250888104332106, -1.4458841898550763, -0.15603586804888311, -2.5657770344175974, -2.5434098825379077, -1.2629522120098882, 0.7914438084951566, 0.8662210462093028, 0.2656809181628647, -1.6332641618159947, -0.7752090133165364, -0.5951609102847815, 1.9167207219895637, 2.0413177391837656, -1.7579879261155424, -1.4369718569719954, 1.0155100673985638, -2.129407440164836, 3.2421368057271094, 2.1247203038596028, -1.0470724983931297, -1.3678650985434564, 2.329666352756322, 0.7532859241387393, 2.414662363110198, -0.2402746671815345, 0.394964861159373, -0.7893378961276503, -0.12736634463490945, -0.9947664234847943, 2.8717420496199013, -1.241183433174572, 1.6012701131495837, -0.7023271781916943, -1.487240755831529, -1.3503090094626387, -1.0385033864072732, 1.3726078516866436, 2.4564086820283912, -1.3270012867755943, 3.4911053371541794, 1.5682733642756137, -1.7115412384843376, 1.1303403151647524, 1.1040368604987094, 0.8975896084045625, -1.3720339098740835, -1.474907955168976, 4.0992493382919575, -1.0863915695099027, -2.314418087827441, 0.1446540245136703, 4.156418680770776, 1.8157322637566462, -0.9332563311925891, 0.4911728459012746, -1.3643483053983336, 2.6004480178191636, 1.3142809276375322, 1.3147078532983913, 3.2088328664633345, -1.2493029253603996, -0.7574694436911535, -0.9987301909513734, 2.4735141705449006, 1.726782907466972, 3.586367918232839, 1.2726707125373569, 0.20508623508179774, 1.6674145861628238, 1.0360176864658188, 1.6101778812669407, 1.7527857453781104, 4.166566274877791, 2.6287861919293873, 0.6076896394655245, -0.36047258958097134, 1.222548276219638, -1.3080056540250433, -0.1889537281677435, 1.4662731589641456, -0.02434856547085904, -0.24538612596488127, -1.6603121199055153, -0.7373283406553985, -1.0487999917853608, 2.140887205890198, 2.060842971752129, -0.2541770387790574, 0.2167820507607777, -1.1669986594269894, -0.49829336063404894, -1.2652419246044708, 2.1054205179076777, 1.2243922897510624, -0.0020887141325086327, 0.9703654629597812, 0.19702319962842876, -2.084072541738572, -0.12613807284909473, 1.1534264131345975, 0.7905717026455905, -2.702711884379145, -2.1384118306434234, -1.4505920899998972, 1.131217814233153, 0.6167932446502221, 1.1192457214726539, 1.479222286444656, 3.046476963636843, 2.0969303519284943, 0.9039591006001506, -1.1804938296388097, -2.065113348698693, -2.27831994696728, 2.000610203559729, 4.487925712313869, -1.4453542691356518, 2.318961304629643, 0.25735856541843616, -0.2608785162624158, 2.6088743533043743, 0.652502851774738, -1.7619641367928314, 2.578513109350064, 3.8642253913640587, -0.2144526545766464, -3.058356024391059, -1.7612394510136657, -0.90326541112166, -0.7779426139244537, 0.7210394200674414, 3.5729746958247306, -0.5915453990336552, -1.3094827574494121, -1.049518344377277, -2.405474626205065, -1.0643753158505087, -0.30705511535206603, -1.7733317968455589, -1.9185629928186674, -0.9842602355598207, -1.4328804487614912, 3.0963985856435663, -0.7707093580864043, -1.4235171578212826, -1.665272269128988, -2.1240007326124455, -2.257370972323049, -1.185662660200755, 2.1638695877972953, 0.8557915785920729, -0.26110787204399505, 3.0756509400551932, -0.35591282489404696, -0.28218539259155984, -1.1047502296666154, -1.4560948443559114, 0.5323867618218425, 1.9434390723516186, 1.3885274080807315, 0.24602539775372567, -0.21166710248982717, -1.7184237366330053, -0.6136288924185445, -3.063011539762058, -2.26108078665699, 4.659008494108286, 1.5668334719152093, -0.06887343172281166, 1.5804908441174106, 0.9564543870729761, -1.6222209528569864, -1.592979632239935, 1.619755292793758, -0.06817414766121932, 4.115450665305954, -0.15887488394040808, 0.8549333957990014, -0.5111452373015746, -1.2728897560411068, 2.0392424678013907, -1.0976471568468258, -0.5036240971212924, -1.3416017774698834, -1.0652535446694869, -0.6696969597704526, -0.14041584907238316, -0.20894472042097634, -1.6526415728348456, -1.6558271130552917, -0.9957055414654887, 1.9393217025468032, 0.2897535795547144, 1.1706504181605015, 1.0569546037478517, -0.6006562474328379, -2.6311351188007417, -1.0185427305087764, -0.21989637140352217, 3.2663146369960128, -0.6815789978912559, -1.624139902396247, -1.3315304323241326, -1.3000304221435743, -1.235772258714532, -0.9928512147758682, -2.1018708804474486, -1.7235389796014031, 0.5195284164209255, 3.3140055118542078, 3.4697789245287405, 3.7029873430485543, 2.132085986074384, -1.393992067501646, -1.5267110927492322, -1.032694340436785, -1.1729461329350181, -1.206936829285923, -0.03385236352582521, 1.209401194174035, 0.2530153826965656, -0.6019137364957602, -2.008158540654858, -0.00977307815131329, 1.3709568565156403, 3.5765242668242605, 3.2250127136881352, -0.69265465527264, -1.5934277184502026, -0.861563268009139, 0.27773619658128973, 1.9325529100612442, 2.1829554048822186, 2.8521044314498822, 2.345589347364303, 3.4564581734914666, 1.388945386158245, 0.682763940451477, -1.3549042885970968, -0.08199483445540763, -1.9986382901161814, -2.3746312199421022, 0.032833808574260145, 1.8171505430670212, -0.19782552350433436, 1.9346981142255093, 0.17111457571469568, -0.8217625960928794, 0.7076354272262243, 0.5647766742632058, -0.683264519430833, -0.22640641535291714, -0.9039723952390961, -1.609675755471404, 1.340773286285005, 1.8615766289445788, 2.68825671172701, -0.4634683391506248, -0.48778017423834535, 1.0016739035584128, -1.6615911815626825, -1.8085059470734173, 0.43458982171211263, 2.6088743533043743, -2.305995385995535, -0.9607226868637502, 0.7371491598193546, 1.4035541856714024, 3.0611066926154953, 1.0090204232786109, -1.568258610454903, -1.54716929338805, 2.3300217151943836, -1.5139769643671879, -2.0604486050602544, -1.7647891379872667, -1.0459952228664449, 3.9814201377879406, 1.1050429258534555, 1.4920962742858663, -0.13755665264842395, -1.0523459663777968, -1.1473660461152542, -1.7185285102909682, -0.604674139963273, -0.7952102508916488, -1.8445924997645062, -0.8760137358719828, -1.8140572439205198, -0.5363064576653702, -0.5300292925223565, -1.0543560701052965, 2.0120751934930867, 3.2371265046613473, 3.9885655032117433, -0.9062736144396925, -1.278062612824689, -1.2604891986806186, -1.0544719794992783, -2.129366992849304, -0.588644539144547, 2.1465240796369907, 1.0216867524691269, -1.1947329984246222, -0.653469832043817, -1.406398985311224, -1.5973881887957453, -1.5534537577300778, -2.8419470066875623, -0.44577935589493634, 0.8633406136106451, 2.445767532214835, 1.36360433150978, 2.0051741745250933, -1.8346490474527901, -1.1230854282148572, -2.1371276700440283, -1.8206084832384155, -1.5686880777278955, -0.81425996116614, -1.4339339285920174, -0.6826738972969707, -1.3717115227258665, 0.9036676742479084, -0.9956124173001782, 0.32886248633934984, -1.2624813443309824, 1.6574258968897417, -0.9702706562697715, 0.7730364946927565, 1.7770584660559137, 1.7280705210546718, -1.1506599592741502, 0.2482219165377998, -0.13600643769145293, 0.4358785195468909, -1.429441298552025, -1.4653275898847296, -0.21100771592903506, -2.5277519240749586, -2.4192466520751488, -2.0022608437978797, -1.6215153721052646, -1.436279085620642, 0.03308057558070566, -2.5089301225665093, -2.4329339863844757, -1.0426583108933407, -2.39550656534038, -1.8956373851156445, 0.02167496023990704, -1.6046561132463821, -1.059021074544264, -1.293885026223141, -2.869659018236168, -2.374073171150359, 1.569642485435826, 0.764313350185268, 1.8453163364558738, -0.7599839489217785, -0.05834318931417922, -1.5861957653693115, 1.0151901552246663, 0.7241547641117966, -1.64278897956052, -1.926070325878654, 3.4324713480511737, -1.240005145982509, -1.1344959363758913, 3.275209563361158, -1.0159558761920826, 0.5410849260390319, -0.9662168071819033, 0.34931275627604746, -0.2134089681801115, 3.4449687358242507, 1.1118803785193099, 0.27844234722112016, 2.7157751165324178, -1.7618617478220173, -2.161477673129291, -1.417555752741961, -0.5047247954411112, -1.5073265954587256, 1.1201833232628888, -1.8588385992232646, -1.9630660452064361, -1.2983741878903048, 0.40289676348143966, 0.5218336097414747, -0.6892425257312695, 2.198665068952265, -1.274893261335544, -1.01292050989299, 2.430772866902422, 4.124242395165977, 0.9513712920398175, -1.9402532965528436, -1.7588731865679221, -0.8139468521272876, -0.897809096087185, -1.711827586893841, -2.1753627954180463, -1.5528961810869608, -1.9275078880419616, -1.3122410124018609, 0.4605497101329089, -0.5354270729239912, 1.3307095169337892, 1.3808297745414944, -0.3630730332128237, -1.9377052499211285, -1.3967576359828906, 3.643239370244711, 1.464895140105674, 0.8724092092930075, -0.4703038183571501, -1.6629092060984507, -1.7458273884393007, -1.5793355545426226, -2.1042007490295207, -2.1886583205155645, -0.6663059631613493, 1.6003213512845174, -2.5354659939589244, -1.3720610650587655, 0.13624222908740755, 2.0252430590350747, 2.0172336128495227, -0.6575228259057432, -2.1596004825410695, -1.3062363428130574, -1.1679492465014405, 4.0477649319119795, 0.10209990847890496, -1.621981228261407, -1.1626400892929418, 0.42535049149820275, -1.208940607539808, -0.601725889543059, -1.9909068649465937, -2.249122530166023, -2.209685288398403, -1.7272206539811055, 2.0087689578321233, -2.0896588428669305, 2.7373906483758015, -0.02566519068243157, 3.0850231913765236], \"xaxis\": \"x\", \"y\": [0.6500948248966208, 0.8557009898378297, 0.37534514247012357, -0.5278554133338462, -0.9991775495801632, -0.07762160784238395, 0.09280864704508279, -1.6493535950096376, -0.826870527286759, 0.7160054825705934, -2.43147292320583, 0.7555500465113744, 0.21037315576404322, 0.8066483489419214, -2.203760107090278, 0.7755028778756187, -1.30045901462642, 0.5741277987153628, 1.0301626637875048, 1.8393904876714502, -2.7288686437401934, 0.6394752109988499, -1.063467933272376, -1.5637572989608277, 0.16323295967525744, -0.15215468071373284, 1.974528401067257, 1.2199493634798684, 1.5387218706241035, 0.08454908151305175, -0.7250436381534873, -1.5095443154348906, 0.0774452757464064, 1.3823979852904265, 0.8513247426038014, 1.101871283455825, 1.7871393228666363, -3.2078599689806198, 0.2206348546471369, -0.4989809027987789, 1.0222701948730808, -0.30201133330304186, 0.6759877641495063, -0.1472775783612644, 0.31056097996883436, -0.14803328770172963, -3.2079109274681428, 1.2802203314251195, -1.583159409432315, -0.23620328710963756, 0.2585633155109358, -0.9511726328863884, -1.7825567527974358, -1.0332726675660102, -1.4049094214046964, 0.42693424358829085, 0.23577632790036718, -0.13916959984383284, -0.4055212671181193, -0.29890189521716715, -0.7951951938213357, 0.9557384236450542, 1.0664549451630432, -0.05112738388389576, 0.6437357626648, 0.024272286935787687, 1.9037032857668943, 1.3701758252101555, -1.0335649425296094, 0.8522108604359513, -0.7888566241272656, 1.583331167269224, -1.0982654838548687, -1.0277004595148522, -0.7189057676777934, -0.7922556321824685, -0.31607437164340474, -0.3914928613097202, -0.636419777687933, -0.08405422928724386, -1.9029693450286536, 0.9456390869778774, -1.0192877319435065, 1.0405343291790132, -1.0005437353463742, -0.4401320726419607, 0.15263929592998338, 0.9894913865479295, -0.546050133249146, -1.0721298297455886, 0.6547997667729786, 0.41967739428793116, -0.12969523731400256, -0.1493107643952781, 0.9287429211587943, 0.17417467163011577, 0.8421872063382437, 1.0132842452632753, -0.3688263397418061, 0.05982698416166854, -1.1882515033020058, -0.9465434752122022, 1.9031571925506072, 0.4370872342363494, -0.16553161681968206, 1.5295331221889605, 0.19817114979327924, 2.049221502546463, -0.6409793800200051, 0.24568780200031512, -0.9835673996436861, -0.8039317325830491, -0.013004619378901643, -0.3947537990348097, -1.8117689669719441, -0.8880289323779145, 0.542043566864953, 0.6802233367139068, 0.48777929189470504, -1.8629484368840072, -0.01950437852353746, -0.07699621957674825, -0.865411062819396, 1.2895300852134068, -0.7122556400417024, -0.3815069334581738, -0.4674800842924852, -1.378790006073782, -0.21259680255068863, -0.48081294383975437, -0.4982923746529353, -0.154490804358917, -0.9619377335922021, -0.5860333612503208, 0.937046276749767, -0.8150072505084351, -0.20055954822973926, 1.0252176143334224, -2.781549768947786, -0.355381857951564, -1.9250144951679775, -2.878637077525571, -0.6445483271522723, -0.41513983577680835, -1.5591855275022872, -1.496500688992186, -0.17211894195614819, -0.6548542821841394, -0.601946366909568, 0.6306065152933888, 1.92369896474682, 0.5244443954249673, 0.5793097723747506, -0.07755282562003328, 0.12080089995116672, -0.06363889171480501, -0.4989809027987789, -0.33318693465520755, -0.5940197524511165, -0.8297085583972181, 1.3833905823535229, -0.46453192583187863, -0.7474107211798923, -0.4144643661246476, 0.301984542029093, 0.7184515324705679, 0.04286636328412847, -1.214863664500537, -2.0820404766350484, -2.5807844496819294, -1.6138884147653512, -0.922401002323639, -2.3642606787877614, -1.5764981124781452, 3.7962820490434424, -0.3036104969093894, 0.7608957087685345, -0.5437853446497046, -2.9912064748179845, 0.5046054420610785, -0.04466998352898844, 1.4363834938987365, 0.863440022776952, -0.019083250234786974, -1.5508895706673143, 0.6337010932545564, -0.2648304789104275, 0.21928415512213184, -0.3132798727077233, -1.161513008422828, 0.8369979837226057, -0.7270066879839244, 0.7531268880133524, -1.0081101381639432, 2.666959560775866, 0.932785109609192, -1.0128990171831718, 1.0311202969338278, 0.9890963454590725, 3.3797052071057725, 2.1187198727339016, -0.9607879273378297, 0.025015348906501846, -0.8472127775491131, 0.3050958260113985, -2.1622492195038814, -0.137539227316374, -1.3026827894385031, -1.375858051695677, -1.4214861455603398, -1.5751999189912846, -2.708767435853881, 0.3975229975870748, -1.2517287518969842, 1.0867189421523071, 1.1553448370272896, -1.9078087755375046, -0.8037546250891009, 2.1814477564434798, 1.1351842539009935, 0.7105304129968425, 1.019342602355628, 1.7340350596478993, -0.05565538007131739, 1.214640288388218, 1.1858893950755598, -0.5079063540179116, 0.13707808975293095, 0.9496307276417103, 0.7050961615376654, 0.21875758477003376, 0.4261401054892485, -0.7697222918422036, 1.3839240291678372, 0.7280966784575413, 0.23633352261228882, -1.1208198068876525, -0.1073397927841237, 1.6064887913873385, 1.1031741419859975, 0.10399494688919232, -1.1174251074913228, 0.3949343805118642, -0.3353633329504684, 0.5868419222673823, -2.609924856092801, -1.8917757507680169, 0.5478526444015364, 0.37096705908462285, 0.11776621131727114, 0.8427276443291187, 1.9696077308566609, 1.7466032837686878, 0.28864468706315866, -0.7403117842113082, -1.472744492160894, 1.7261410893536797, -0.20865880666119366, 0.2811095164014, 1.3666020138967139, -0.12123195893423538, 0.8754630310754518, 1.1684871836164283, -2.2285201572890703, 0.5528172588090461, -0.36297235116977267, -0.6000776735392495, 0.43267902127048746, 0.1665757714045205, -0.12807235835526418, -2.335364392301844, 1.4796263840664208, -0.6967197421995579, 0.13016710782778376, -2.151115382544144, 0.5814112552387432, -2.0962397097017598, -0.5523376077429886, 0.7000389238248107, -0.17711133369564888, -0.8514332346972288, -1.6319841414995588, -1.3642351313554193, 1.436926404504417, 0.8298351612565579, 1.3162180882990138, 1.6537977056225184, 0.8100868657460848, 1.386251330966496, -0.6685152365711251, -2.3743453401211765, 1.5581954762772279, 1.5549628811069478, 0.20973184046694512, 1.0257890706068709, -0.7921938374590506, -0.2771927513306881, 0.9215537514127629, 1.4302274607918837, 5.083556094210727, 1.5413840791713747, -2.7460409719328034, 0.8005957956364953, -2.056588433232266, 0.6516127958570279, 1.1317282911266564, 1.746140980001906, 0.7060787510668431, 1.2498314558696513, -0.8658181486680053, 0.24655525507342335, -0.3658441200778107, 0.22820935119608274, 0.2765116919699182, -0.09526797695289266, -0.8782648444462842, -1.4854531348551627, 1.2232065763922202, 0.051516693858876125, 0.1951595755542317, -0.8444471313963983, 0.17913838824270556, 2.675525086512062, 1.2371572746689126, -0.3140590625639837, -0.6546269441572302, -0.48430507843170123, 0.6243106442324838, 1.7151605549074411, 0.4898292922510887, 1.4156914021007438, -3.140235483834453, -3.487861125142044, -3.2287537799817403, 1.5656559848192821, -0.47889981446416624, 0.32014495500692763, 0.17493024214437755, -0.8575172837889926, -0.39988863145525483, -0.37863923600147725, 0.8692919245338805, 1.490285162715442, 0.8308232579859947, 0.26126227889660475, -1.560374879330999, -1.548866803045146, -0.4331786359090833, -0.21514853217745714, 0.6131571220855118, 0.22228680103349882, 0.4387318000838539, 2.1889497156128686, 0.6471982541909865, -1.7909308546324485, -1.124798696384953, -0.8925046998087417, -1.4192574547116663, -0.0935205224630586, 0.6683829851653837, -0.5302317854927551, 0.5139236477963056, 0.08951415268495728, -0.00020564230688221012, -1.93426916219291, -1.3177400074362446, -0.06731862318864873, 1.5143933498721855, 1.6061125896874735, 0.9164556868828977, -0.6896052565511288, 1.0841024538072581, -0.6115626533827349, 0.9675233597835073, 0.6233235811077062, 0.5398376766362135, 0.03468521619842219, 0.028668918214626103, 1.6008157382950479, 0.02592435797990554, -0.8763330284883178, -0.2480539127124107, 0.12693148374492708, -1.1090100882166272, 0.9261967049275973, 1.2617337150656305, 1.4708582578286036, 0.9853203980513296, -0.7511802668303291, 1.3735746948641316, -1.0904128321815174, -1.4999443895526583, -0.37060029920300197, -0.34623173986734995, 1.5711972416584765, 0.7730476983955394, -0.24515141766179646, 0.18532466755284285, 0.9923418248379425, -0.7511802668303291, -0.6650668066129583, 0.8361635838652138, 0.6184623642905016, 0.7567432436269039, -0.36969056015328955, -0.8593221249546817, 1.4825815504685536, -0.16460131283689006, 0.5937317155619126, 1.93297094029803, 0.5556768267436027, -3.2974200990764815, 0.1402856382233362, -0.17040064793256293, 0.7658656627808759, -1.1229249199861102, 0.10512610914834401, 0.7593832881940926, -2.1418731817462, -0.030604456972104517, 1.257587796671794, 0.5280303918446414, 1.1417121536061088, -0.2835207153272369, 0.07402783486047908, 1.7464149061017382, -1.2290695313479345, -0.721270367291294, 1.9197810901897414, 1.9933796823529184, 0.5462878529056125, 1.2152341942723157, 1.3732331676212541, 0.8632296304458936, -0.32338118950319217, -0.301538490589613, 0.21743314312437684, -1.779011300438312, 1.4543951776050852, -0.3158973257979537, 1.0785486219906808, 0.5678924165342316, 1.3485523299644266, 1.2225308083538018, 0.3079136718674102, 0.2911268229480238, -0.049795988244646344, -1.6168566556803183, 1.0797477037478014, 0.4775038537145314, -0.07484598809713573, -1.0563452070907553, -1.0390872143649101, -0.6867570668386321, 0.12697640013032993, 0.9319704269828653, -0.6372802798762505, -0.7808519032303823, -0.2937656939438447, 1.1599034930745908, 0.6159314971622589, 1.2344015061253473, -2.1556181902937888, 0.9289770660042029, 0.4100819041685274, -1.2130132436451542, -0.34501646621139676, 1.727312675662622, 0.6857568854446147, 1.0767327441523087, 0.6650170712603595, -0.93360927854087, 0.5382897350298602, 0.17812563554423677, 0.9062656185091638, -1.4638144798969817, -0.06562895084054843, -0.3144621582994949, 1.4942809410939915, 1.8851551841873808, -1.2571963873734777, -0.6886069396426716, -1.404151290986721, -1.7490702225072863, -1.0800585249583237, 1.337530947499277, 1.0063161883675997, 1.2751067412169004, -1.083940980559668, 1.3838190839259534, 1.3402779026319867, 0.8717568480275139, 0.16218324880593238, -1.5534253607711717, -0.8041288309150585, -1.3525366729180566, 0.8265647218162299, -0.8754765335575515, -1.8018797878102046, 0.631595362510327, -4.141782196593409, 0.545422068473604, -0.22687368825402898, 1.543344405896474, 2.155137460776864, 2.1495917036513985, 1.4656774039920026, 0.039588211966294085, -0.4240139838601388, 0.35876690585783466, -0.182807563607907, -0.30923587050637685, -0.045770964800634945, 1.5138464820197295, 1.6347613132285912, 0.4472447640908863, -0.9225534142445698, 1.9264373142572067, 1.6965316534651915, -2.075061578174846, -0.3909297240801359, 1.1149404262559972, 1.6246844234751374, 0.541263618061138, -0.26783477736862127, -0.31041155505950824, 0.31036772978952204, 1.5368556284686865, -1.2548805954086184, 0.01326047684952239, -1.1928318027552511, 0.08030545437623533, 0.13881334254383743, -0.30997319918333477, 0.4827183105262295, -0.3428916243973235, 1.1409120633510696, -1.0563299164765074, -0.0425544539696923, 1.2104542964915208, 0.2725365943016647, 0.8008560158859219, 1.0289819952951091, 0.7641200345029002, 0.6199843079363822, -2.6459953227177415, -1.0012281044872144, -1.5649931513691597, -2.085948429755212, 0.4047609030613978, 0.018200906666515016, 0.18929353718253022, 0.0043962710485355065, 0.07851113837055618, 0.8008560158859219, -1.2220684621281215, 1.5356746215961559, 1.8474454375413532, 0.15381760638692438, 0.9829182541005352, 0.656897224876411, -0.7982108881533492, 0.9966831642051864, 1.547932657794522, 1.0726057422563362, 0.9814723019044594, -1.0442770082678747, -1.0833264645854288, 0.7550159858057177, 2.0479407585903284, -0.17243123679108244, 1.1903087847719342, 1.4939971814865727, 0.2799712769437809, 1.2285833180634593, 1.9104318028930207, -0.08052201937818639, -0.37772146451427147, 1.416797676089859, 1.4834562824208057, 0.36680993972882475, 0.7757134703326497, -2.206378156807792, 1.1702378398669588, 1.5058618717117649, 2.6113269998221162, 1.1150176736480943, -1.0227230237466134, -0.6187523450172412, -0.08830027680737253, 0.01938264842283616, 1.03614237755475, 1.4937182171630508, -1.162779880960404, 0.7631603525881294, -2.2432369187359464, -0.7577370285385533, -0.3171170725097059, 0.755105805220239, 1.682576695904431, 0.47240348229181955, 1.4121805256905975, 1.469275056856842, -0.19839108441591272, 1.1345496555382992, -1.4733878271993803, 1.925767205581947, 0.9874156300469094, -0.5200205145392859, 1.2843968594419508, -0.010108721933508799, -2.7416621449814875, -0.7521185158298691, 1.8924619857534026, 0.22252251360890338, -1.1255770087626118, 1.031781559736242, 1.8498474519807553, 1.734636595288258, -4.0374610196469645, 1.7871393228666363, -1.0084243203252519, -1.7741231088703013, 0.6566021700821608, 1.7871393228666363, -2.5057118504114144, 0.7539232965161313, -0.8569979712603318, -1.1803567557139076, 0.6403851494986068, -1.2079691642162456, -0.9323519375496176, -0.33088293515326656, 0.329585765404552, -0.5191257887573325, 2.758179544406102, 0.554504358565598, 0.8537858171356876, 0.2539213766778527, -0.1940399757944382, -1.401580076645791, -0.4018177030681218, -1.292609572657098, 0.6397744098468529, 0.23886823749145514, 1.7647712783804295, 1.0875820705139496, -3.7137324711023183, -0.31342281542640826, 0.277430228231489, -0.8641419589811773, -0.791304934994579, 0.4413229815282909, 1.748671948476036, -1.9755771735307393, 0.7361377387558359, 0.4951788522896517, 0.6711908329461869, -0.23204279182840215, 0.14019348536944656, 1.1453558694471624, 0.8533868878582063, -0.23029525495232847, -0.24018370391819466, -1.8526856133184193, -0.5891923713262025, 0.2723283277061815, 1.3632370617115894, -0.2884868324322428, -1.3716831316797458, 0.38224309691656194, -1.1985136528351537, -3.2751521661444554, -0.7788769060697501, 0.26132238052025647, 0.9799657460345835, 1.053246553777419, -0.005665269227067583, 1.047512197147928, 0.22448064528487408, 0.5305881325903764, -1.2294294641763903, 1.1069338092428767, -0.7000289300911133, 1.3377488343148314, -0.0017828493980958729, -1.6056663883579916, -0.8671350041023248, 1.0851211604285975, 0.24803541645085184, 0.9969650052952805, 1.5130293000051642, -0.3375317391943333, -0.35223085893828665, -4.223002899410915, -2.0060299131477586, 0.6073301377692784, 1.3911245448975655, 0.035413259495961226, -0.5276881164065235, 1.0609046136129865, 1.9749735436483504, 1.4857817729740155, 0.2692404912921038, -1.1843377002643365, 0.9535565527335264, 1.2473137018774976, 0.8903309545104379, -0.9745683714033294, 0.9210161655138942, -2.0464108763170854, -1.9473260303328734, -1.6544151054912757, -1.0269113668716854, 1.9084342084493666, 0.9207393007896202, 2.1094048748978347, 0.5920719812399142, 0.5884564921814812, -0.44229884355506544, -1.411227217272338, 1.2359806532753823, 0.8615232534192586, 1.0817795486068544, 0.8293205183100552, -0.9348710157354156, -2.7380822933146955, 0.7218791528910702, 0.3618571599506494, -2.643320894322807, -1.5500915039939278, 0.7766092480652804, 1.6103521469544495, -0.04689920698601701, -1.0492077252997805, 1.3299333118782282, -0.653798873061242, 0.37442354759797697, -0.356110412460089, 1.2127697736348042, -1.1000531734433476, 1.19872775980786, 1.3008373364938428, 1.4955680360177783, 0.7431376977144004, -0.3277236655548032, -0.7680541631631345, -0.050346199089791425, 0.9821155876190607, 1.4756585782642653, 1.7927225352587621, -0.8903088589509222, -0.8386833073472423, 0.3552931489509809, -0.4338792533254343, 0.027605933503043776, 0.3210957644648529, 0.55619088908386, 0.14130819113341334, -0.7816126122789377, -2.127465551864779, -1.5063549462680865, 1.209714798774602, -0.21782598493769526, 1.3666680683959755, -0.6766968559034816, 0.1361565580942399, -3.7287743415061825, 1.3971509148848253, 0.9164823198140718, -0.059869813551457936, -1.1201035882651735, -1.246730967481705, 1.2658153706582693, 1.1524655030644544, -0.872849664208788, -1.4466295144642571, 0.010445773203843156, -1.167259998150666, -1.0156907733869969, 1.2886283535630383, 0.9361766165287366, 0.6053985127714004, -1.6682957437860808, -0.986003826320227, -1.2674943606485403, -0.7619892013502242, -1.2638746581506362, 1.7100294661894435, 0.18634523541667738, 0.6405559742698574, 0.6450429976457986, 0.8095544031813586, -1.7376431373898875, 1.7224237577356423, -0.4219089558834737, 0.8324510761741349, -1.6206612403472576, -1.6203285920190122, -1.0115869572315097, -0.7230047052294188, -0.25043528510103147, -1.6335462804676388, -1.830348120704075, -0.45569655777030926, 0.12572036714097837, 1.1050922170942024, -0.6143163309424461, -1.0796306538033058, -0.16814783111955806, 0.46267961675841934, 1.3809589096392334, 1.9112124995825392, -0.854262284408826, 1.7126115905852006, -0.23925488498318026, -0.07082482913499505, -0.5969455076991449, -2.346196007984008, -0.566599267558, 0.7510221364399468, 0.9851627968093029, 0.5305351740486818, 0.22820935119608274, -1.539580376681993, 1.0188909445260252, 1.1965035088231641, -1.2136844550105403, 0.88499248257574, 0.6025757951079915, -0.9208606971515674, -0.8580041238844791, -0.0894036665713273, -3.1779802586305888, 0.408843086706015, -0.5692112131851463, -1.3258431304595313, 0.9375168222744285, 1.9589900794719184, -1.5327344643932044, 1.7088499980446559, -0.8168496698992934, 1.2460117390144527, 1.2486502261707195, 1.5868640970723622, 0.5447999271101681, 1.7913018427376, 0.29021701090103164, -3.85409261488175, -1.345507975530136, 0.02147177405487534, 2.255368435103415, -1.8392638394999485, 1.9654261324680269, 0.9324832406245962, 1.0938277709749324, 1.353470333238775, -1.2686911399409515, 0.18561458748994158, 0.3398209760657101, 0.8127589266017844, -0.3004225647026748, 1.1286176762111435, 0.37432645962254285, 0.936653551691878, -0.9931514638633715, -0.8449226313282533, -0.1789727266685896, -0.3480495719732269, -2.265104233849317, 1.4204835145522101, 1.9526014278645212, 1.435205401493764, -2.933765643207401, 0.8193202319388745, -1.1379235521015234, 1.128406246273876, -3.617725851885159, -4.510020685881672, -0.1780095579340028, -0.6003187681992123, 1.9128382306370544, -0.36041538656093375, 0.18829038392341355, -2.5098530801144503, 0.20279630080301234, 0.3297140812426869, -0.6352209647185729, 1.825713455537623, -3.0142831698871806, 0.5787323232764492, 0.016995433001024025, -0.9182013392552114, -1.6181860210570236, -1.6482707802722927, -1.163477320888789, 0.7384606126002465, 1.7555996958320534, 1.1160979938014544, 1.7647712783804295, 0.4489941193107806, 0.05537632084545586, -0.7739342614574694, -1.5405563209141893, -1.109489993756861, -1.1460937463349823, 1.0742547105766276, 1.4292686104143213, 1.370226118999079, 0.8369707945847141, 0.6293423727689545, 0.8387715939689748, -0.4770882910586459, 0.08191712426375217, 0.35589976327015854, 0.5792809412148813, -1.6362980131937945, -1.5968266064912506, -0.6959766758625422, 1.5937164655483091, 1.4321170365170226, 0.689338950458695, 1.0642564480644339, 0.22738099744491758, 0.7289045199561385, -0.004821402370561712, 2.6546620272116987, 0.45652612471425197, -0.5507927254943434, -1.473535464897999, -0.11600405984431511, 1.1701227590594696, 0.7953987081012512, -0.1042636249160327, 0.7523117440708115, 1.9536013369905507, 0.3429561849624454, 0.7704945954315097, 0.5539456557123149, -1.034140441092023, 1.7024671766414827, -0.13428146838694127, -0.9721134426504792, -1.6138884147653512, 0.39624243809641735, -0.04084851946540748, 0.07618130890661921, 0.7976510144077886, 0.826140249434685, 1.2644387146151583, -0.3607797097370802, 0.6790384382215628, 1.3488624484981466, -1.4137948223360928, -3.230011687774882, 0.38600152698962886, 0.8298793349781549, 0.6738608018672869, 0.2573533682924039, -0.8661923790901772, -0.328178823847988, -0.17051895608045609, 0.9052403997727915, 1.9231256296918582, 1.602358037025837, 1.3797640072951185, 0.4159631671881888, -0.012213257662225294, 0.9783158224264115, 1.0400882363305088, -0.718150178016731, -0.0326936688466351, -1.5764981124781452, -1.0111590949807896, 0.23865446239848007, 1.4589627337567748, 0.8444535799411439, -0.2230950138379946, -1.3427020491206914, 0.4768982424745189, -1.453229713547804, -0.4876977164092548, 0.3944686921298205, 0.7041367006350683, -0.7210879946760286, 0.5307419727649646, -1.0279477520966898, 1.341856509200495, 1.8368115473458368, 0.6367500555074809, -0.7398536136672181, 1.0088194921677858, 2.2704242002127106, 0.4959613538884965, -0.34895341523848683, 1.9252101780386925, 0.034184015453072904, -0.8578803669849169, 1.1835043930760387, 0.5674359545003455, 0.33324043002199066, -1.4557713045526037, -0.4722143608281941, 1.9797536765519745, -0.16054685561374923, -0.7693322686966151, 1.448981743552772, 0.4525303854468379, -1.0655861981016121, 1.1698526992124831, 1.1415095747867066, 0.5927050635991971, 0.4001880606329528, -2.89826094367461, -0.4183150172595878, -0.15921530642754603, 0.4825975009979795, 1.4135758058817536, 0.4704200710330715, 0.14578512483291048, -0.12500069551120677, -0.5053666153048487, 0.9511141196561799, -0.2759626576719752, 1.434986782454358, -1.567633362040296, -0.5385918197515351, 1.020123301478641, 0.8559920245789464, 1.373140384708656, 1.109731783515972, -0.9704649376741844, -1.1701830592452276, -0.761896275275, -2.0081310838720117, -1.584781891136005, 1.668844237676313, 1.0606549058426298, -0.5529188017235525, -1.7347311701423092, -0.2871508998296351, 1.4812550257971022, -0.4018177030681218, 1.2703884159458372, 1.5072249182042197, 0.25307601982885924, -1.401580076645791, 0.26590151279607255, 0.04686653619815523, 0.4285436314467034, 0.8181621201100185, -1.2620703668152884, 0.8685983531901738, 0.32728851627427535, 0.22778852645357314, -0.7561948757829025, 0.5695250316541389, -0.6756108168897658, -0.3044059990222561, 0.9553229519570432, 0.3201358173328976, -4.926430415889246, -0.6466708006438826, 2.962018457382925, 0.06022938907135593, 1.1037711030269415, 0.6614061960627927, 0.19836789610634895, 0.555963626597301, 0.9164639774728833, 0.6828399119374173, -0.6003710630818105, -1.0128817260052139, 2.4825939837237536, -1.401349714301908, 0.17470428166383484, 0.9111788156385566, -0.4559543606204708, 0.9359126999211531, -0.14825509266286782, 0.7250248551816247, -1.401580076645791, -1.3647066170418596, -0.48402215019505446, 0.9728241449865743, -0.6097395793345126, -0.08953822807950317, -0.9701259379296214, -0.759996472096249, 1.0434359482959183, -0.3667923238998948, -0.9547855788248507, 1.017598623210475, -0.405702086390503, 1.6138466757068417, 0.5650903118125129, -0.44608626656663775, -1.2034139724845085, 0.28258994130857906, 1.1999725312215763, 1.482128981186897, 0.6506394120134397, -0.7828300290454238, 1.4450295386855752, 0.07240350437080197, 0.874638641806549, -0.0311630965171033, 1.2594074887868574, -1.0835843951726873, 1.708666471874491, 0.3644844617840746, -1.3927749637720355, 0.17715515407708876, 0.2617205629301227, 0.44841085996571123, -1.8722101125506923, -1.6344837844597067, -0.8657508596654874, -2.0356555744709404, -0.8996237726270162, -1.5585228705884617, 0.3907249990170324, 0.513127469421167, 1.708666471874491, 1.4450295386855752, 0.959799661376225, 0.23886823749145514, 0.9130109851345338, 0.6630691357549129, 1.0266642055962405, -0.34979948194222094, 1.6133397139707595, 0.3535586143108175, 0.5685064393435899, 0.6673662677223765, -0.8782648444462842, 0.041563221019898074, 0.3565952879315195, -1.7141967843268553, -0.06575420689055513, -0.3259771605711738, 2.765590903752747, -0.7580933527992543, 0.6673662677223765, -1.7817972734984189, 1.2580368273864158, 1.2712139949936314, 1.2432136450509608, -0.8894708659150957, 0.32051077557031915, 1.4367410731311316, 0.5274563614277711, 1.4450295386855752, 0.7639620372033364, 0.16591304534553783, 0.561715246091724, 0.7894170199097351, 0.7425797317478102, -1.5180119482985537, -0.6363350819648476, 0.5497339379702205, 0.1458706126534947, 1.8377386182389928, 0.8085751586670628, -1.3584590274451342, 0.739704851451511, -1.7322331332238696, -0.7663751218131123, -1.3316658436481865, -0.7166800458473356, 0.2385642488647683, -1.862470892127857, 0.5509738154841177, -0.36084193417491933, 0.06638289911685841, -0.4326116109536815, -0.20623973477502078, 0.5962719942263631, 0.5258846368805528, -0.9159450071091882, -0.7580933527992543, 0.2291005721029132, -0.6388740309727666, -0.5568839049235709, -0.36981359771754324, -0.7020615981030212, 0.25641626689105607, 1.262421416413616, 0.3549515995441391, 0.6037527236781849, 1.2142099053693647, -0.6279852627574151, -1.7026416406919649, 1.140098485158714, -0.5453606254863442, 1.2375679051796058, 0.2701926765610371, 1.6530085995337573, -0.9486411150305695, 1.1987243521833406, 1.5195113788039205, 1.1502792057629705, 1.8929752606850494, 1.1851797663363124, -0.21207523200939218, 0.28822798220598006, -0.35664543354320966, -1.2200543088463451, -0.3231081288231391, -0.5840588234776252, 0.5139550838035936, 0.9906773133040762, 0.8585703803045474, 0.49646127783567223, 1.8153089132733617, -1.5060154883593684, 1.9141015508120187, 2.1140127290854602, 0.9417295742843133, 0.6402072234950323, 1.589554252535671, -1.1759365643270137, 0.7272141955837969, 1.6792922317810555, -1.3940979796925494, 0.5433517650461644, -2.505422604661594, -0.9098026195638206, -0.8113918759637341, 0.09567858338285806, -0.8950849051436344, 1.878892749453412, 1.071126193694118, -0.11811283220036675, 0.708657445510959, -0.7201086094387757, 0.38584455238224663, 0.6012343765070441, 2.083577810667206, 1.6409737641594084, -2.0173296434817933, -1.125564091704424, -1.5249224805471717, 0.24832535194472846, 1.6457309040753207, 0.8984829661414021, 2.000079081825223, 0.8782257282754201, 0.6821122417988856, 1.6130807460844934, -0.5876344024988561, -0.3198136697608206, 0.0216594424906812, 2.0803575860479846, 1.1763874714841487, 1.375962744111447, -1.916584802793272, -0.6544163745649662, 0.24471904479588075, 1.1462532671633117, -2.388577381740475, 0.3836796454773143, -2.260997649161545, -0.40370933521530644, 1.4732668587658209, -2.881892612668662, 0.7509567561693722, -0.32221132917517664, -0.920647477543165, 1.8509837789711177, 0.7890496478452889, 1.2830668567165275, 0.8730554864120961, -0.5011142591693812, -0.1561323827026808, 1.6846349295363152, -0.803460364018213, -0.8256446822934412, 1.4082516540264547, -0.19128250892731158, 0.2039611321231948, 1.710439905162731, 1.1858893950755598, 2.7240008648304577, 0.8684777077851822, 0.5656659322828861, -0.7176153935414257, 0.9853057552217235, 1.0518011758657275, -0.6044888677592388, 0.9662941157106486, -1.351317175906207, -1.2227799674036344, 0.4627040665572061, 0.9553603561223097, -1.5734279915222549, -1.9442388545111549, 1.1568694880295205, -0.5342468584066884, -1.395027987171613, 1.4141473255920787, 0.2095856982766865, 1.842880910309395, 0.3795525054625941, -0.9052354511669123, -1.4312330337490584, 1.6214070312529436, 0.10663678006369327, 1.3341501529785436, 0.46470002659047627, 0.556315427755916, -0.43549535063509554, -0.6365758074667561, 1.989604370279079, -0.195434321224034, 1.2950469460611709, 0.21460276333624873, -0.5693256081458257, 0.2852520401277443, 1.0550185438973965, 0.313592345309901, -0.19975264423273256, -0.27840688884065595, -0.7519614518390285, -1.0057362769540834, -1.0533414568701545, 1.526291830635741, -1.423095204209822, -1.2041023741094121, -2.0236163540064784, 0.9204326433818656, -0.17014626589716336, -1.1311068972814622, 0.26324562269002655, -0.16945738258600004, -1.6272453386585972, 1.2466826371493924, -0.48113128073817507, -0.7190496303217879, -0.5318113369172175, 1.604126539030301, 1.2570393671455313, 1.7258225212033294, -0.05568096792668972, 0.7614764345361903, -1.3948497988832906, -0.06204451607164123, 0.8811668436382987, -1.63311202664939, 2.399751226475769, -2.2113856582724902, -1.2538835871553837, -1.2918941349145008, -0.10230672792453131, -0.31789113841730887, 0.6910956068612163, -0.16275062597871362, -1.490664570149995, -1.8867848173167543, -1.2629026165472022, -0.5921618444601274, -0.8439289229789725, -0.9368751489260148, -0.4349105604639794, -1.6115154279313455, 2.677885405639582, 1.6153800428073863, 0.22689244606791936, -0.596670149129433, -0.4795384093788729, -0.05774780890754582, -2.018382235910554, -2.1915117995180116, -3.5328800334218924, -1.694473061779851, -0.5969333171540255, -0.20540590516148577, -1.2794791471124072, -1.486402923222519, 0.3073355289637595, -0.23390194084718693, -4.725725554880989, -1.382993421004211, -1.7550737144953412, 0.39206124372952145, 0.30007409855682865, -0.807557169825737, -1.0279585398167304, 0.14938548941817711, 0.5052053156010351, 0.9594571133135292, -0.9863656413539482, 0.5788112945237324, -1.8551081185336888, -1.136312139906505, -0.6562572794264554, -1.0905333897264773, 0.5886601501116194, -1.8716075610992229, 0.8963543973800285, -0.6689009954049978, 0.47224676678449945, 0.47284042549695215, -1.4120419027829956, -1.3666722789429109, -0.29044177683901007, -1.4810407037565896, -0.3367234473902361, -2.415996271393816, -0.9428967165851071, -0.6503563621689232, -0.9249701923527559, -2.8203168860404917, -1.100338250365829, 1.7777978113160222, 1.6447077023897487, 1.7765060021801389, -1.6249784124419964, -1.067335821145325, -1.0891986095589279, -0.6242416689645505, -0.8538990945460692, -0.7159046804219522, -0.2756731816328637, -0.5523993033950906, 0.5038807240410659, 0.29404660116578735, -0.5140365582332164, 1.3050882061155693, 0.5848517772513953, 0.3626416940213268, 0.19196654379136838, 0.336436006214578, -1.7027716932995385, -0.9667835260528924, 0.2871156042203824, -1.3345656283275358, -2.6479737412356616, -1.2529468564069508, -1.7920561206393635, 0.12360024977269143, 1.3929716568176937, -2.461276509309853, 0.10942957107233967, 1.7920377923296409, 1.2689603034896548, 0.7175550721368876, 0.7624075586752409, 0.04834261725697964, 0.08339547625986067, -0.4187001094105353, 1.1131540949001337, 0.48007945688627995, 0.4295875123041575, -0.29949378295096857, -1.5104332582209719, 0.7148617121734087, -0.23674652203211502, -2.1883256348663584, -1.0381943237445226, 0.4256389303204197, 0.6226420220485479, 0.7786164612894805, 0.6650892459673171, -1.944157762364622, 2.900352643861853, 2.069869390092006, 0.055884455242330794, -1.6029723075231843, -0.5809576370987015, 0.34801424184403773, 1.2188347152863508, -0.6477221231363425, 0.5157335844375256, 1.8897902512629252, 1.3118440084482679, -0.48971363477818897, 1.0007331461430555, -0.5237564301480626, -0.4750654540676994, 1.6798622021393768, 1.1496053255984782, -0.3156028924788382, -0.2337807126424331, -0.22969740655634135, -0.9259757251719715, -1.0925045964270668, -1.2741031403077363, -1.6865036071892845, -1.7545423099604998, 0.2750882594946711, -0.471366828709766, -1.3225707440423553, -0.466125129851359, -0.24042848155807808, -0.4873182557652327, -1.429396134359763, -0.17203780934231308, -0.39082352923796554, -0.07038622699040496, -0.10711485750499236, 1.7058244012485344, 1.841417137897565, -0.8674501398747047, -0.43013507585132577, 1.491791051275259, -0.13935135333729395, -0.9182481607844998, -0.4581470238252742, -0.3309716312338351, -3.448534753067694, 0.4690369062389814, -1.014581028412934, -0.2093369011623097, -3.528711985623123, -1.1005129615915827, -0.260976874150746, 0.6649859265681576, -0.08030249781058163, 0.42793608118399, 0.8689596994164296, 1.8212930000926, 0.8255304834221925, 1.566276616872139, 1.833650966072016, 0.32523435413203067, -0.49306481457703333, -0.5544762374123632, 1.000443364320574, -0.20120749139262922, 0.5124003056571514, 1.3484019613603853, 1.8015268226688914, 1.5105590716938333, 0.9275654624662573, -0.23468073840746692, 1.2205968317825993, -1.136312139906505, -0.22061915619634262, -1.6669072585059523, -1.9950737535246272, -0.44398616932224333, 0.3478521014322288, -1.137714282945036, 0.9076562287067091, -0.2975075787102781, 0.2489392206475676, 1.6447416519767017, -1.4889144280202529, 0.9710507894887885, -0.7236698107539473, 0.477646996927856, 1.4288411298436834, 0.08707404624074734, -1.4179530414031662, 0.6765514321538788, 1.3472071431492871, 0.8483144234869319, -1.1691172766694282, -0.3902811318045236, -0.0021349104852655455, 0.08630895256322337, 0.3093529617994028, 1.0882540264002534, 1.8348195350437602, 1.7373188165131388, 0.5360605554580068, 0.165506138228936, 0.32531160405768184, 0.5153081371097311, -2.3431128514923745, -1.570312515133347, -2.1232093151257136, -1.012100498454593, 0.4940487943597526, -0.33543087556516055, 0.060151855004573075, 0.11081200601851446, -1.9669820182386044, 0.7259633190389396, 1.094170805639453, 0.16833707095913159, 0.45164233888184446, -0.7711146763502105, -1.1384247736014783, -0.8738344812128978, 0.9709329230133783, -1.8964877107680598, -0.017963248178175677, 1.6392629740722917, 1.5170186936523304, 0.9533508498920606, 1.1404415235489322, 0.714604832049576, 0.5347554848907945, -0.8884304572241924, 0.45326494209211665, -0.6917496530477152, 0.753129002187449, 0.7844853959206065, 0.8596028009095869, 0.7988534220050557, -0.4921584900454224, -1.7633803466881823, 0.8502963901926482, -0.3888653403431525, -1.167971324454726, -0.3128099650381436, -1.1266723887428178, -0.6482793782637212, -1.479130717911857, 0.7627542175970505, -1.9607126284503202, -1.5128935862207682, -1.365889570046869, -2.5806739037180635, -2.251168373432375, -1.1557950596958133, 0.49939532338493775, -0.19392101908706605, 0.41106139784745604, 1.2672748440425143, -0.3710562964332759, 0.6920973086549623, -0.7074915575094938, -0.4084531179190389, -2.5046798317939514, -1.3006117021911887, -1.5269922848105626, -3.328798478675615, 0.8154910658421057, 0.059602508733495395, -1.6860855540386392, -4.1402131863335, -0.3296411404012188, 1.107641072254627, -1.0275319287540383, -0.4029608314997487, 1.4552005469127536, -0.5568909003974132, 0.5605328474326073, -0.4099063202162546, -1.435663937032529, 0.377906404043893, 0.6262986526244958, 1.3876107689100938, 1.2892867617859332, 0.6359887808346718, -1.1880247164474835, -0.07617480163015643, -1.374658765710187, 0.04800500904713304, -0.4071367672371835, 1.1613045332974448, -0.6806940771406179, -0.9867017630208043, 1.4129959597201862, 1.6087426553628517, -0.5266437653811408, -2.0408443321077048, -2.1299695393379947, -2.453986709966445, -1.139209028818521, 1.1182621670909887, 0.48415599268940746, 0.6122614866692991, 1.8327156853735822, 1.4682784657651522, 0.038901754786730414, 0.2744250277434286, 0.2989629039661807, -0.45875387290343145, -2.311303998919435, -1.5607709174801654, -0.8670314757446712, 1.8560268647882279, 0.48046551283697775, -1.368865507938578, -1.2444419805781384, -1.3752954870100904, -0.8955382670692804, -1.7978772829524254, -0.6394070222083359, -2.0309412623180108, 0.6003613349491524, 0.9502620708539167, 1.6442586358632352, 0.6533609601204999, 0.24639464381664483, 0.8393647413106019, 1.7416430907661546, 1.0447074491385364, -1.9649401797540427, 1.1525737806529515, 1.6975887435220391, -0.19975754437042478, -1.3014882868002329, 0.9635682990330839, -0.6052447207156807, -0.8860407378875363, 1.1452709643160868, -1.7441594091028176, 0.13620755543473279, -1.4906004899415903, -1.600195494266539, -1.8076871094719882, -0.6261913839102491, 0.07320778228843826, 1.3854613285491926, -2.5596742584874543, 0.2783969857223942, 1.28660129884722, 1.885180546058519, -0.15114118715853592, -2.303227862345066, -2.858885854665238, 0.25929597839931384, 1.3739860652162645, 0.8463297800852098, 0.632491636793472, 0.1736359811488246, 2.015595062757464, -0.3406786008364065], \"yaxis\": \"y\"}],\n",
       "                        {\"coloraxis\": {\"colorbar\": {\"title\": {\"text\": \"cluster\"}}, \"colorscale\": [[0.0, \"#0d0887\"], [0.1111111111111111, \"#46039f\"], [0.2222222222222222, \"#7201a8\"], [0.3333333333333333, \"#9c179e\"], [0.4444444444444444, \"#bd3786\"], [0.5555555555555556, \"#d8576b\"], [0.6666666666666666, \"#ed7953\"], [0.7777777777777778, \"#fb9f3a\"], [0.8888888888888888, \"#fdca26\"], [1.0, \"#f0f921\"]]}, \"height\": 600, \"legend\": {\"tracegroupgap\": 0}, \"margin\": {\"t\": 60}, \"template\": {\"data\": {\"bar\": [{\"error_x\": {\"color\": \"#2a3f5f\"}, \"error_y\": {\"color\": \"#2a3f5f\"}, \"marker\": {\"line\": {\"color\": \"#E5ECF6\", \"width\": 0.5}}, \"type\": \"bar\"}], \"barpolar\": [{\"marker\": {\"line\": {\"color\": \"#E5ECF6\", \"width\": 0.5}}, \"type\": \"barpolar\"}], \"carpet\": [{\"aaxis\": {\"endlinecolor\": \"#2a3f5f\", \"gridcolor\": \"white\", \"linecolor\": \"white\", \"minorgridcolor\": \"white\", \"startlinecolor\": \"#2a3f5f\"}, \"baxis\": {\"endlinecolor\": \"#2a3f5f\", \"gridcolor\": \"white\", \"linecolor\": \"white\", \"minorgridcolor\": \"white\", \"startlinecolor\": \"#2a3f5f\"}, \"type\": \"carpet\"}], \"choropleth\": [{\"colorbar\": {\"outlinewidth\": 0, \"ticks\": \"\"}, \"type\": \"choropleth\"}], \"contour\": [{\"colorbar\": {\"outlinewidth\": 0, \"ticks\": \"\"}, \"colorscale\": [[0.0, \"#0d0887\"], [0.1111111111111111, \"#46039f\"], [0.2222222222222222, \"#7201a8\"], [0.3333333333333333, \"#9c179e\"], [0.4444444444444444, \"#bd3786\"], [0.5555555555555556, \"#d8576b\"], [0.6666666666666666, \"#ed7953\"], [0.7777777777777778, \"#fb9f3a\"], [0.8888888888888888, \"#fdca26\"], [1.0, \"#f0f921\"]], \"type\": \"contour\"}], \"contourcarpet\": [{\"colorbar\": {\"outlinewidth\": 0, \"ticks\": \"\"}, \"type\": \"contourcarpet\"}], \"heatmap\": [{\"colorbar\": {\"outlinewidth\": 0, \"ticks\": \"\"}, \"colorscale\": [[0.0, \"#0d0887\"], [0.1111111111111111, \"#46039f\"], [0.2222222222222222, \"#7201a8\"], [0.3333333333333333, \"#9c179e\"], [0.4444444444444444, \"#bd3786\"], [0.5555555555555556, \"#d8576b\"], [0.6666666666666666, \"#ed7953\"], [0.7777777777777778, \"#fb9f3a\"], [0.8888888888888888, \"#fdca26\"], [1.0, \"#f0f921\"]], \"type\": \"heatmap\"}], \"heatmapgl\": [{\"colorbar\": {\"outlinewidth\": 0, \"ticks\": \"\"}, \"colorscale\": [[0.0, \"#0d0887\"], [0.1111111111111111, \"#46039f\"], [0.2222222222222222, \"#7201a8\"], [0.3333333333333333, \"#9c179e\"], [0.4444444444444444, \"#bd3786\"], [0.5555555555555556, \"#d8576b\"], [0.6666666666666666, \"#ed7953\"], [0.7777777777777778, \"#fb9f3a\"], [0.8888888888888888, \"#fdca26\"], [1.0, \"#f0f921\"]], \"type\": \"heatmapgl\"}], \"histogram\": [{\"marker\": {\"colorbar\": {\"outlinewidth\": 0, \"ticks\": \"\"}}, \"type\": \"histogram\"}], \"histogram2d\": [{\"colorbar\": {\"outlinewidth\": 0, \"ticks\": \"\"}, \"colorscale\": [[0.0, \"#0d0887\"], [0.1111111111111111, \"#46039f\"], [0.2222222222222222, \"#7201a8\"], [0.3333333333333333, \"#9c179e\"], [0.4444444444444444, \"#bd3786\"], [0.5555555555555556, \"#d8576b\"], [0.6666666666666666, \"#ed7953\"], [0.7777777777777778, \"#fb9f3a\"], [0.8888888888888888, \"#fdca26\"], [1.0, \"#f0f921\"]], \"type\": \"histogram2d\"}], \"histogram2dcontour\": [{\"colorbar\": {\"outlinewidth\": 0, \"ticks\": \"\"}, \"colorscale\": [[0.0, \"#0d0887\"], [0.1111111111111111, \"#46039f\"], [0.2222222222222222, \"#7201a8\"], [0.3333333333333333, \"#9c179e\"], [0.4444444444444444, \"#bd3786\"], [0.5555555555555556, \"#d8576b\"], [0.6666666666666666, \"#ed7953\"], [0.7777777777777778, \"#fb9f3a\"], [0.8888888888888888, \"#fdca26\"], [1.0, \"#f0f921\"]], \"type\": \"histogram2dcontour\"}], \"mesh3d\": [{\"colorbar\": {\"outlinewidth\": 0, \"ticks\": \"\"}, \"type\": \"mesh3d\"}], \"parcoords\": [{\"line\": {\"colorbar\": {\"outlinewidth\": 0, \"ticks\": \"\"}}, \"type\": \"parcoords\"}], \"scatter\": [{\"marker\": {\"colorbar\": {\"outlinewidth\": 0, \"ticks\": \"\"}}, \"type\": \"scatter\"}], \"scatter3d\": [{\"line\": {\"colorbar\": {\"outlinewidth\": 0, \"ticks\": \"\"}}, \"marker\": {\"colorbar\": {\"outlinewidth\": 0, \"ticks\": \"\"}}, \"type\": \"scatter3d\"}], \"scattercarpet\": [{\"marker\": {\"colorbar\": {\"outlinewidth\": 0, \"ticks\": \"\"}}, \"type\": \"scattercarpet\"}], \"scattergeo\": [{\"marker\": {\"colorbar\": {\"outlinewidth\": 0, \"ticks\": \"\"}}, \"type\": \"scattergeo\"}], \"scattergl\": [{\"marker\": {\"colorbar\": {\"outlinewidth\": 0, \"ticks\": \"\"}}, \"type\": \"scattergl\"}], \"scattermapbox\": [{\"marker\": {\"colorbar\": {\"outlinewidth\": 0, \"ticks\": \"\"}}, \"type\": \"scattermapbox\"}], \"scatterpolar\": [{\"marker\": {\"colorbar\": {\"outlinewidth\": 0, \"ticks\": \"\"}}, \"type\": \"scatterpolar\"}], \"scatterpolargl\": [{\"marker\": {\"colorbar\": {\"outlinewidth\": 0, \"ticks\": \"\"}}, \"type\": \"scatterpolargl\"}], \"scatterternary\": [{\"marker\": {\"colorbar\": {\"outlinewidth\": 0, \"ticks\": \"\"}}, \"type\": \"scatterternary\"}], \"surface\": [{\"colorbar\": {\"outlinewidth\": 0, \"ticks\": \"\"}, \"colorscale\": [[0.0, \"#0d0887\"], [0.1111111111111111, \"#46039f\"], [0.2222222222222222, \"#7201a8\"], [0.3333333333333333, \"#9c179e\"], [0.4444444444444444, \"#bd3786\"], [0.5555555555555556, \"#d8576b\"], [0.6666666666666666, \"#ed7953\"], [0.7777777777777778, \"#fb9f3a\"], [0.8888888888888888, \"#fdca26\"], [1.0, \"#f0f921\"]], \"type\": \"surface\"}], \"table\": [{\"cells\": {\"fill\": {\"color\": \"#EBF0F8\"}, \"line\": {\"color\": \"white\"}}, \"header\": {\"fill\": {\"color\": \"#C8D4E3\"}, \"line\": {\"color\": \"white\"}}, \"type\": \"table\"}]}, \"layout\": {\"annotationdefaults\": {\"arrowcolor\": \"#2a3f5f\", \"arrowhead\": 0, \"arrowwidth\": 1}, \"colorscale\": {\"diverging\": [[0, \"#8e0152\"], [0.1, \"#c51b7d\"], [0.2, \"#de77ae\"], [0.3, \"#f1b6da\"], [0.4, \"#fde0ef\"], [0.5, \"#f7f7f7\"], [0.6, \"#e6f5d0\"], [0.7, \"#b8e186\"], [0.8, \"#7fbc41\"], [0.9, \"#4d9221\"], [1, \"#276419\"]], \"sequential\": [[0.0, \"#0d0887\"], [0.1111111111111111, \"#46039f\"], [0.2222222222222222, \"#7201a8\"], [0.3333333333333333, \"#9c179e\"], [0.4444444444444444, \"#bd3786\"], [0.5555555555555556, \"#d8576b\"], [0.6666666666666666, \"#ed7953\"], [0.7777777777777778, \"#fb9f3a\"], [0.8888888888888888, \"#fdca26\"], [1.0, \"#f0f921\"]], \"sequentialminus\": [[0.0, \"#0d0887\"], [0.1111111111111111, \"#46039f\"], [0.2222222222222222, \"#7201a8\"], [0.3333333333333333, \"#9c179e\"], [0.4444444444444444, \"#bd3786\"], [0.5555555555555556, \"#d8576b\"], [0.6666666666666666, \"#ed7953\"], [0.7777777777777778, \"#fb9f3a\"], [0.8888888888888888, \"#fdca26\"], [1.0, \"#f0f921\"]]}, \"colorway\": [\"#636efa\", \"#EF553B\", \"#00cc96\", \"#ab63fa\", \"#FFA15A\", \"#19d3f3\", \"#FF6692\", \"#B6E880\", \"#FF97FF\", \"#FECB52\"], \"font\": {\"color\": \"#2a3f5f\"}, \"geo\": {\"bgcolor\": \"white\", \"lakecolor\": \"white\", \"landcolor\": \"#E5ECF6\", \"showlakes\": true, \"showland\": true, \"subunitcolor\": \"white\"}, \"hoverlabel\": {\"align\": \"left\"}, \"hovermode\": \"closest\", \"mapbox\": {\"style\": \"light\"}, \"paper_bgcolor\": \"white\", \"plot_bgcolor\": \"#E5ECF6\", \"polar\": {\"angularaxis\": {\"gridcolor\": \"white\", \"linecolor\": \"white\", \"ticks\": \"\"}, \"bgcolor\": \"#E5ECF6\", \"radialaxis\": {\"gridcolor\": \"white\", \"linecolor\": \"white\", \"ticks\": \"\"}}, \"scene\": {\"xaxis\": {\"backgroundcolor\": \"#E5ECF6\", \"gridcolor\": \"white\", \"gridwidth\": 2, \"linecolor\": \"white\", \"showbackground\": true, \"ticks\": \"\", \"zerolinecolor\": \"white\"}, \"yaxis\": {\"backgroundcolor\": \"#E5ECF6\", \"gridcolor\": \"white\", \"gridwidth\": 2, \"linecolor\": \"white\", \"showbackground\": true, \"ticks\": \"\", \"zerolinecolor\": \"white\"}, \"zaxis\": {\"backgroundcolor\": \"#E5ECF6\", \"gridcolor\": \"white\", \"gridwidth\": 2, \"linecolor\": \"white\", \"showbackground\": true, \"ticks\": \"\", \"zerolinecolor\": \"white\"}}, \"shapedefaults\": {\"line\": {\"color\": \"#2a3f5f\"}}, \"ternary\": {\"aaxis\": {\"gridcolor\": \"white\", \"linecolor\": \"white\", \"ticks\": \"\"}, \"baxis\": {\"gridcolor\": \"white\", \"linecolor\": \"white\", \"ticks\": \"\"}, \"bgcolor\": \"#E5ECF6\", \"caxis\": {\"gridcolor\": \"white\", \"linecolor\": \"white\", \"ticks\": \"\"}}, \"title\": {\"x\": 0.05}, \"xaxis\": {\"automargin\": true, \"gridcolor\": \"white\", \"linecolor\": \"white\", \"ticks\": \"\", \"zerolinecolor\": \"white\", \"zerolinewidth\": 2}, \"yaxis\": {\"automargin\": true, \"gridcolor\": \"white\", \"linecolor\": \"white\", \"ticks\": \"\", \"zerolinecolor\": \"white\", \"zerolinewidth\": 2}}}, \"xaxis\": {\"anchor\": \"y\", \"domain\": [0.0, 0.98], \"title\": {\"text\": \"x\"}}, \"yaxis\": {\"anchor\": \"x\", \"domain\": [0.0, 1.0], \"title\": {\"text\": \"y\"}}},\n",
       "                        {\"responsive\": true}\n",
       "                    ).then(function(){\n",
       "                            \n",
       "var gd = document.getElementById('2640fdfd-e9da-4c9e-a427-2700fa573487');\n",
       "var x = new MutationObserver(function (mutations, observer) {{\n",
       "        var display = window.getComputedStyle(gd).display;\n",
       "        if (!display || display === 'none') {{\n",
       "            console.log([gd, 'removed!']);\n",
       "            Plotly.purge(gd);\n",
       "            observer.disconnect();\n",
       "        }}\n",
       "}});\n",
       "\n",
       "// Listen for the removal of the full notebook cells\n",
       "var notebookContainer = gd.closest('#notebook-container');\n",
       "if (notebookContainer) {{\n",
       "    x.observe(notebookContainer, {childList: true});\n",
       "}}\n",
       "\n",
       "// Listen for the clearing of the current output cell\n",
       "var outputEl = gd.closest('.output');\n",
       "if (outputEl) {{\n",
       "    x.observe(outputEl, {childList: true});\n",
       "}}\n",
       "\n",
       "                        })\n",
       "                };\n",
       "                });\n",
       "            </script>\n",
       "        </div>"
      ]
     },
     "metadata": {},
     "output_type": "display_data"
    }
   ],
   "source": [
    "fig = px.scatter(projection, x='x', y='y', color='cluster', hover_data=['x', 'y', 'title'])\n",
    "fig.show()"
   ]
  },
  {
   "cell_type": "code",
   "execution_count": null,
   "metadata": {},
   "outputs": [],
   "source": []
  }
 ],
 "metadata": {
  "kernelspec": {
   "display_name": "Python 3",
   "language": "python",
   "name": "python3"
  },
  "language_info": {
   "codemirror_mode": {
    "name": "ipython",
    "version": 3
   },
   "file_extension": ".py",
   "mimetype": "text/x-python",
   "name": "python",
   "nbconvert_exporter": "python",
   "pygments_lexer": "ipython3",
   "version": "3.6.9"
  }
 },
 "nbformat": 4,
 "nbformat_minor": 2
}
